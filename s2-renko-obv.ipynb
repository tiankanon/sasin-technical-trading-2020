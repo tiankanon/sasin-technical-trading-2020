{
 "cells": [
  {
   "cell_type": "code",
   "execution_count": 1,
   "metadata": {},
   "outputs": [],
   "source": [
    "import numpy as np\n",
    "import pandas as pd\n",
    "import copy\n",
    "import time\n",
    "import yfinance as yf\n",
    "import datetime as dt\n",
    "import plotly.express as px\n",
    "from plotly.offline import plot\n",
    "import plotly.graph_objects as go\n",
    "from plotly.subplots import make_subplots\n",
    "import statsmodels.api as sm # linear regression\n",
    "from stocktrends import Renko # 3rd-party library renko implementation"
   ]
  },
  {
   "cell_type": "code",
   "execution_count": 2,
   "metadata": {},
   "outputs": [],
   "source": [
    "# atr function\n",
    "def atr(df, n):\n",
    "    df = df.copy()\n",
    "    df['high-low'] = abs(df['High'] - df['Low'])\n",
    "    df['high-pc'] = abs(df['High'] - df['Adj Close'].shift(1))\n",
    "    df['low-pc'] = abs(df['Low'] - df['Adj Close'].shift(1))\n",
    "    df['true-range'] = df[['high-low', 'high-pc', 'low-pc']].max(axis=1, skipna=False)\n",
    "    df['atr'] = df['true-range'].rolling(n).mean()\n",
    "    df.dropna(inplace=True)\n",
    "    return df"
   ]
  },
  {
   "cell_type": "code",
   "execution_count": 3,
   "metadata": {},
   "outputs": [],
   "source": [
    "# ordinary least square method => linear regression\n",
    "def slope(ser, n):\n",
    "    slopes = [i*0 for i in range(n-1)]\n",
    "    for i in range(n,len(ser)+1):\n",
    "        y = ser[i-n:i]\n",
    "        x = np.array(range(n))\n",
    "        y_scaled = (y - y.min())/(y.max() - y.min())\n",
    "        x_scaled = (x - x.min())/(x.max() - x.min())\n",
    "        x_scaled = sm.add_constant(x_scaled)\n",
    "        model = sm.OLS(y_scaled,x_scaled)\n",
    "        results = model.fit()\n",
    "        slopes.append(results.params[-1])\n",
    "    slope_angle = (np.rad2deg(np.arctan(np.array(slopes))))\n",
    "    return np.array(slope_angle)"
   ]
  },
  {
   "cell_type": "code",
   "execution_count": 4,
   "metadata": {},
   "outputs": [],
   "source": [
    "# renko function\n",
    "def renko(df_original): # need original for atr function inside\n",
    "    df = df_original.copy()\n",
    "    df.reset_index(inplace=True) # convert index to column\n",
    "    df = df.drop(['Close'], axis=1) # drop Close column\n",
    "    df.columns  = ['date', 'open', 'high', 'low', 'close', 'volume'] # change column names\n",
    "    renko_df = Renko(df)\n",
    "    renko_df.brick_size = int(round(atr(df_original, 14)['atr'][-1], 0))\n",
    "    renko_ohlc_df = renko_df.get_ohlc_data()\n",
    "    renko_ohlc_df['bar-number'] = np.where(renko_ohlc_df['uptrend'] == True, 1, np.where(renko_ohlc_df['uptrend'] == False, -1, 0))\n",
    "    for i in range(1, len(renko_ohlc_df['bar-number'])):\n",
    "        if (renko_ohlc_df['bar-number'][i] > 0 and renko_ohlc_df['bar-number'][i-1] > 0):\n",
    "            renko_ohlc_df['bar-number'][i] += renko_ohlc_df['bar-number'][i-1]\n",
    "        elif (renko_ohlc_df['bar-number'][i] < 0 and renko_ohlc_df['bar-number'][i-1] < 0):\n",
    "            renko_ohlc_df['bar-number'][i] += renko_ohlc_df['bar-number'][i-1]\n",
    "    renko_ohlc_df.drop_duplicates(subset='date', keep='last', inplace=True) # if there is spike\n",
    "    return renko_ohlc_df"
   ]
  },
  {
   "cell_type": "code",
   "execution_count": 5,
   "metadata": {},
   "outputs": [],
   "source": [
    "# obv function\n",
    "def obv(df):\n",
    "    df = df.copy()\n",
    "    df['daily-return'] = df['Adj Close'].pct_change()\n",
    "    df['direction'] = np.where(df['daily-return'] > 0, 1, -1)\n",
    "    df['direction'][0] = 0\n",
    "    df['volume-direction'] = df['Volume'] * df['direction']\n",
    "    df['obv'] = df['volume-direction'].cumsum()\n",
    "    return df['obv']"
   ]
  },
  {
   "cell_type": "code",
   "execution_count": 6,
   "metadata": {},
   "outputs": [],
   "source": [
    "# kpis\n",
    "def cagr(df):\n",
    "    df = df.copy()\n",
    "    df['cumulative-return'] = (1 + df['return']).cumprod()\n",
    "    n = len(df) / (252) # number of trading days per 1 year\n",
    "    cagr = (df['cumulative-return'].tolist()[-1])**(1/n) - 1\n",
    "    return cagr\n",
    "\n",
    "def volatility(df):\n",
    "    df = df.copy()\n",
    "    annual_volatility = df['return'].std() * np.sqrt(252)\n",
    "    return annual_volatility\n",
    "\n",
    "def sharpe(df, rf):\n",
    "    df = df.copy()\n",
    "    sr = (cagr(df) - rf) / volatility(df)\n",
    "    return sr\n",
    "\n",
    "def maximum_drawdown(df):\n",
    "    df = df.copy()\n",
    "    df['cumulative-return'] = (1 + df['return']).cumprod() # value today\n",
    "    df['cumulative-rolling-max'] = df['cumulative-return'].cummax()\n",
    "    df['drawdown'] = df['cumulative-rolling-max'] - df['cumulative-return']\n",
    "    df['drawdown-percent'] = df['drawdown'] / df['cumulative-rolling-max']\n",
    "    m_dd = df['drawdown-percent'].max()\n",
    "    return m_dd\n",
    "\n",
    "def calmar_ratio(df):\n",
    "    df = df.copy()\n",
    "    c_r = cagr(df) / maximum_drawdown(df)\n",
    "    return c_r"
   ]
  },
  {
   "cell_type": "code",
   "execution_count": 7,
   "metadata": {},
   "outputs": [],
   "source": [
    "# time horizon set-up\n",
    "start = dt.datetime.today() - dt.timedelta(365)\n",
    "end = dt.datetime.today()"
   ]
  },
  {
   "cell_type": "code",
   "execution_count": 8,
   "metadata": {},
   "outputs": [],
   "source": [
    "# NASDAQ most active by dollars stocks\n",
    "# original_tickers = ['TSLA', 'AAPL', 'AMZN', 'QCOM', 'FB', 'NVDA'] # positive return stock only\n",
    "original_tickers = ['TSLA', 'AAPL', 'AMZN', 'MSFT', 'QCOM', 'FB', 'AMD', 'NVDA', 'NFLX', 'ADBE']\n",
    "original_ohlcvs = {}"
   ]
  },
  {
   "cell_type": "code",
   "execution_count": 9,
   "metadata": {},
   "outputs": [
    {
     "name": "stdout",
     "output_type": "stream",
     "text": [
      "[*********************100%***********************]  1 of 1 completed\n",
      "[*********************100%***********************]  1 of 1 completed\n",
      "[*********************100%***********************]  1 of 1 completed\n",
      "[*********************100%***********************]  1 of 1 completed\n",
      "[*********************100%***********************]  1 of 1 completed\n",
      "[*********************100%***********************]  1 of 1 completed\n",
      "[*********************100%***********************]  1 of 1 completed\n",
      "[*********************100%***********************]  1 of 1 completed\n",
      "[*********************100%***********************]  1 of 1 completed\n",
      "[*********************100%***********************]  1 of 1 completed\n"
     ]
    }
   ],
   "source": [
    "# downloading data for all tickers\n",
    "for ticker in original_tickers:\n",
    "    original_ohlcvs[ticker] = yf.download(ticker, start, end, interval='1d')\n",
    "\n",
    "# assigning new tickers\n",
    "tickers = original_ohlcvs.keys()"
   ]
  },
  {
   "cell_type": "code",
   "execution_count": 10,
   "metadata": {},
   "outputs": [],
   "source": [
    "# basic data structure to implement back-testing\n",
    "ohlcvs = copy.deepcopy(original_ohlcvs)\n",
    "tickers_signal = {} # { 'MSFT': 'buy', 'AAPL': '', 'INTC': 'sell' }\n",
    "tickers_signal_track = {}\n",
    "tickers_return = {}\n",
    "\n",
    "ohlc_renko = {}"
   ]
  },
  {
   "cell_type": "code",
   "execution_count": 11,
   "metadata": {},
   "outputs": [
    {
     "name": "stdout",
     "output_type": "stream",
     "text": [
      "Merging for TSLA\n"
     ]
    },
    {
     "name": "stderr",
     "output_type": "stream",
     "text": [
      "C:\\Users\\chond\\anaconda3\\envs\\investment\\lib\\site-packages\\stocktrends\\indicators.py:58: FutureWarning:\n",
      "\n",
      "Slicing a positional slice with .loc is not supported, and will raise TypeError in a future version.  Use .loc with labels or .iloc with positions instead.\n",
      "\n",
      "<ipython-input-4-2f1a69976945>:13: SettingWithCopyWarning:\n",
      "\n",
      "\n",
      "A value is trying to be set on a copy of a slice from a DataFrame\n",
      "\n",
      "See the caveats in the documentation: https://pandas.pydata.org/pandas-docs/stable/user_guide/indexing.html#returning-a-view-versus-a-copy\n",
      "\n",
      "<ipython-input-4-2f1a69976945>:15: SettingWithCopyWarning:\n",
      "\n",
      "\n",
      "A value is trying to be set on a copy of a slice from a DataFrame\n",
      "\n",
      "See the caveats in the documentation: https://pandas.pydata.org/pandas-docs/stable/user_guide/indexing.html#returning-a-view-versus-a-copy\n",
      "\n",
      "<ipython-input-5-e0ba58c6ba07>:6: SettingWithCopyWarning:\n",
      "\n",
      "\n",
      "A value is trying to be set on a copy of a slice from a DataFrame\n",
      "\n",
      "See the caveats in the documentation: https://pandas.pydata.org/pandas-docs/stable/user_guide/indexing.html#returning-a-view-versus-a-copy\n",
      "\n"
     ]
    },
    {
     "name": "stdout",
     "output_type": "stream",
     "text": [
      "Merging for AAPL\n"
     ]
    },
    {
     "name": "stderr",
     "output_type": "stream",
     "text": [
      "C:\\Users\\chond\\anaconda3\\envs\\investment\\lib\\site-packages\\stocktrends\\indicators.py:58: FutureWarning:\n",
      "\n",
      "Slicing a positional slice with .loc is not supported, and will raise TypeError in a future version.  Use .loc with labels or .iloc with positions instead.\n",
      "\n",
      "<ipython-input-4-2f1a69976945>:13: SettingWithCopyWarning:\n",
      "\n",
      "\n",
      "A value is trying to be set on a copy of a slice from a DataFrame\n",
      "\n",
      "See the caveats in the documentation: https://pandas.pydata.org/pandas-docs/stable/user_guide/indexing.html#returning-a-view-versus-a-copy\n",
      "\n",
      "<ipython-input-4-2f1a69976945>:15: SettingWithCopyWarning:\n",
      "\n",
      "\n",
      "A value is trying to be set on a copy of a slice from a DataFrame\n",
      "\n",
      "See the caveats in the documentation: https://pandas.pydata.org/pandas-docs/stable/user_guide/indexing.html#returning-a-view-versus-a-copy\n",
      "\n",
      "<ipython-input-5-e0ba58c6ba07>:6: SettingWithCopyWarning:\n",
      "\n",
      "\n",
      "A value is trying to be set on a copy of a slice from a DataFrame\n",
      "\n",
      "See the caveats in the documentation: https://pandas.pydata.org/pandas-docs/stable/user_guide/indexing.html#returning-a-view-versus-a-copy\n",
      "\n"
     ]
    },
    {
     "name": "stdout",
     "output_type": "stream",
     "text": [
      "Merging for AMZN\n"
     ]
    },
    {
     "name": "stderr",
     "output_type": "stream",
     "text": [
      "C:\\Users\\chond\\anaconda3\\envs\\investment\\lib\\site-packages\\stocktrends\\indicators.py:58: FutureWarning:\n",
      "\n",
      "Slicing a positional slice with .loc is not supported, and will raise TypeError in a future version.  Use .loc with labels or .iloc with positions instead.\n",
      "\n",
      "<ipython-input-4-2f1a69976945>:13: SettingWithCopyWarning:\n",
      "\n",
      "\n",
      "A value is trying to be set on a copy of a slice from a DataFrame\n",
      "\n",
      "See the caveats in the documentation: https://pandas.pydata.org/pandas-docs/stable/user_guide/indexing.html#returning-a-view-versus-a-copy\n",
      "\n",
      "<ipython-input-4-2f1a69976945>:15: SettingWithCopyWarning:\n",
      "\n",
      "\n",
      "A value is trying to be set on a copy of a slice from a DataFrame\n",
      "\n",
      "See the caveats in the documentation: https://pandas.pydata.org/pandas-docs/stable/user_guide/indexing.html#returning-a-view-versus-a-copy\n",
      "\n",
      "<ipython-input-5-e0ba58c6ba07>:6: SettingWithCopyWarning:\n",
      "\n",
      "\n",
      "A value is trying to be set on a copy of a slice from a DataFrame\n",
      "\n",
      "See the caveats in the documentation: https://pandas.pydata.org/pandas-docs/stable/user_guide/indexing.html#returning-a-view-versus-a-copy\n",
      "\n"
     ]
    },
    {
     "name": "stdout",
     "output_type": "stream",
     "text": [
      "Merging for MSFT\n"
     ]
    },
    {
     "name": "stderr",
     "output_type": "stream",
     "text": [
      "C:\\Users\\chond\\anaconda3\\envs\\investment\\lib\\site-packages\\stocktrends\\indicators.py:58: FutureWarning:\n",
      "\n",
      "Slicing a positional slice with .loc is not supported, and will raise TypeError in a future version.  Use .loc with labels or .iloc with positions instead.\n",
      "\n",
      "<ipython-input-4-2f1a69976945>:13: SettingWithCopyWarning:\n",
      "\n",
      "\n",
      "A value is trying to be set on a copy of a slice from a DataFrame\n",
      "\n",
      "See the caveats in the documentation: https://pandas.pydata.org/pandas-docs/stable/user_guide/indexing.html#returning-a-view-versus-a-copy\n",
      "\n",
      "<ipython-input-4-2f1a69976945>:15: SettingWithCopyWarning:\n",
      "\n",
      "\n",
      "A value is trying to be set on a copy of a slice from a DataFrame\n",
      "\n",
      "See the caveats in the documentation: https://pandas.pydata.org/pandas-docs/stable/user_guide/indexing.html#returning-a-view-versus-a-copy\n",
      "\n",
      "<ipython-input-5-e0ba58c6ba07>:6: SettingWithCopyWarning:\n",
      "\n",
      "\n",
      "A value is trying to be set on a copy of a slice from a DataFrame\n",
      "\n",
      "See the caveats in the documentation: https://pandas.pydata.org/pandas-docs/stable/user_guide/indexing.html#returning-a-view-versus-a-copy\n",
      "\n"
     ]
    },
    {
     "name": "stdout",
     "output_type": "stream",
     "text": [
      "Merging for QCOM\n"
     ]
    },
    {
     "name": "stderr",
     "output_type": "stream",
     "text": [
      "C:\\Users\\chond\\anaconda3\\envs\\investment\\lib\\site-packages\\stocktrends\\indicators.py:58: FutureWarning:\n",
      "\n",
      "Slicing a positional slice with .loc is not supported, and will raise TypeError in a future version.  Use .loc with labels or .iloc with positions instead.\n",
      "\n",
      "<ipython-input-4-2f1a69976945>:13: SettingWithCopyWarning:\n",
      "\n",
      "\n",
      "A value is trying to be set on a copy of a slice from a DataFrame\n",
      "\n",
      "See the caveats in the documentation: https://pandas.pydata.org/pandas-docs/stable/user_guide/indexing.html#returning-a-view-versus-a-copy\n",
      "\n",
      "<ipython-input-4-2f1a69976945>:15: SettingWithCopyWarning:\n",
      "\n",
      "\n",
      "A value is trying to be set on a copy of a slice from a DataFrame\n",
      "\n",
      "See the caveats in the documentation: https://pandas.pydata.org/pandas-docs/stable/user_guide/indexing.html#returning-a-view-versus-a-copy\n",
      "\n",
      "<ipython-input-5-e0ba58c6ba07>:6: SettingWithCopyWarning:\n",
      "\n",
      "\n",
      "A value is trying to be set on a copy of a slice from a DataFrame\n",
      "\n",
      "See the caveats in the documentation: https://pandas.pydata.org/pandas-docs/stable/user_guide/indexing.html#returning-a-view-versus-a-copy\n",
      "\n"
     ]
    },
    {
     "name": "stdout",
     "output_type": "stream",
     "text": [
      "Merging for FB\n"
     ]
    },
    {
     "name": "stderr",
     "output_type": "stream",
     "text": [
      "C:\\Users\\chond\\anaconda3\\envs\\investment\\lib\\site-packages\\stocktrends\\indicators.py:58: FutureWarning:\n",
      "\n",
      "Slicing a positional slice with .loc is not supported, and will raise TypeError in a future version.  Use .loc with labels or .iloc with positions instead.\n",
      "\n",
      "<ipython-input-4-2f1a69976945>:13: SettingWithCopyWarning:\n",
      "\n",
      "\n",
      "A value is trying to be set on a copy of a slice from a DataFrame\n",
      "\n",
      "See the caveats in the documentation: https://pandas.pydata.org/pandas-docs/stable/user_guide/indexing.html#returning-a-view-versus-a-copy\n",
      "\n",
      "<ipython-input-4-2f1a69976945>:15: SettingWithCopyWarning:\n",
      "\n",
      "\n",
      "A value is trying to be set on a copy of a slice from a DataFrame\n",
      "\n",
      "See the caveats in the documentation: https://pandas.pydata.org/pandas-docs/stable/user_guide/indexing.html#returning-a-view-versus-a-copy\n",
      "\n",
      "<ipython-input-5-e0ba58c6ba07>:6: SettingWithCopyWarning:\n",
      "\n",
      "\n",
      "A value is trying to be set on a copy of a slice from a DataFrame\n",
      "\n",
      "See the caveats in the documentation: https://pandas.pydata.org/pandas-docs/stable/user_guide/indexing.html#returning-a-view-versus-a-copy\n",
      "\n"
     ]
    },
    {
     "name": "stdout",
     "output_type": "stream",
     "text": [
      "Merging for AMD\n"
     ]
    },
    {
     "name": "stderr",
     "output_type": "stream",
     "text": [
      "C:\\Users\\chond\\anaconda3\\envs\\investment\\lib\\site-packages\\stocktrends\\indicators.py:58: FutureWarning:\n",
      "\n",
      "Slicing a positional slice with .loc is not supported, and will raise TypeError in a future version.  Use .loc with labels or .iloc with positions instead.\n",
      "\n",
      "<ipython-input-4-2f1a69976945>:13: SettingWithCopyWarning:\n",
      "\n",
      "\n",
      "A value is trying to be set on a copy of a slice from a DataFrame\n",
      "\n",
      "See the caveats in the documentation: https://pandas.pydata.org/pandas-docs/stable/user_guide/indexing.html#returning-a-view-versus-a-copy\n",
      "\n",
      "<ipython-input-4-2f1a69976945>:15: SettingWithCopyWarning:\n",
      "\n",
      "\n",
      "A value is trying to be set on a copy of a slice from a DataFrame\n",
      "\n",
      "See the caveats in the documentation: https://pandas.pydata.org/pandas-docs/stable/user_guide/indexing.html#returning-a-view-versus-a-copy\n",
      "\n",
      "<ipython-input-5-e0ba58c6ba07>:6: SettingWithCopyWarning:\n",
      "\n",
      "\n",
      "A value is trying to be set on a copy of a slice from a DataFrame\n",
      "\n",
      "See the caveats in the documentation: https://pandas.pydata.org/pandas-docs/stable/user_guide/indexing.html#returning-a-view-versus-a-copy\n",
      "\n"
     ]
    },
    {
     "name": "stdout",
     "output_type": "stream",
     "text": [
      "Merging for NVDA\n"
     ]
    },
    {
     "name": "stderr",
     "output_type": "stream",
     "text": [
      "C:\\Users\\chond\\anaconda3\\envs\\investment\\lib\\site-packages\\stocktrends\\indicators.py:58: FutureWarning:\n",
      "\n",
      "Slicing a positional slice with .loc is not supported, and will raise TypeError in a future version.  Use .loc with labels or .iloc with positions instead.\n",
      "\n",
      "<ipython-input-4-2f1a69976945>:13: SettingWithCopyWarning:\n",
      "\n",
      "\n",
      "A value is trying to be set on a copy of a slice from a DataFrame\n",
      "\n",
      "See the caveats in the documentation: https://pandas.pydata.org/pandas-docs/stable/user_guide/indexing.html#returning-a-view-versus-a-copy\n",
      "\n",
      "<ipython-input-4-2f1a69976945>:15: SettingWithCopyWarning:\n",
      "\n",
      "\n",
      "A value is trying to be set on a copy of a slice from a DataFrame\n",
      "\n",
      "See the caveats in the documentation: https://pandas.pydata.org/pandas-docs/stable/user_guide/indexing.html#returning-a-view-versus-a-copy\n",
      "\n",
      "<ipython-input-5-e0ba58c6ba07>:6: SettingWithCopyWarning:\n",
      "\n",
      "\n",
      "A value is trying to be set on a copy of a slice from a DataFrame\n",
      "\n",
      "See the caveats in the documentation: https://pandas.pydata.org/pandas-docs/stable/user_guide/indexing.html#returning-a-view-versus-a-copy\n",
      "\n"
     ]
    },
    {
     "name": "stdout",
     "output_type": "stream",
     "text": [
      "Merging for NFLX\n"
     ]
    },
    {
     "name": "stderr",
     "output_type": "stream",
     "text": [
      "C:\\Users\\chond\\anaconda3\\envs\\investment\\lib\\site-packages\\stocktrends\\indicators.py:58: FutureWarning:\n",
      "\n",
      "Slicing a positional slice with .loc is not supported, and will raise TypeError in a future version.  Use .loc with labels or .iloc with positions instead.\n",
      "\n",
      "<ipython-input-4-2f1a69976945>:13: SettingWithCopyWarning:\n",
      "\n",
      "\n",
      "A value is trying to be set on a copy of a slice from a DataFrame\n",
      "\n",
      "See the caveats in the documentation: https://pandas.pydata.org/pandas-docs/stable/user_guide/indexing.html#returning-a-view-versus-a-copy\n",
      "\n",
      "<ipython-input-4-2f1a69976945>:15: SettingWithCopyWarning:\n",
      "\n",
      "\n",
      "A value is trying to be set on a copy of a slice from a DataFrame\n",
      "\n",
      "See the caveats in the documentation: https://pandas.pydata.org/pandas-docs/stable/user_guide/indexing.html#returning-a-view-versus-a-copy\n",
      "\n",
      "<ipython-input-5-e0ba58c6ba07>:6: SettingWithCopyWarning:\n",
      "\n",
      "\n",
      "A value is trying to be set on a copy of a slice from a DataFrame\n",
      "\n",
      "See the caveats in the documentation: https://pandas.pydata.org/pandas-docs/stable/user_guide/indexing.html#returning-a-view-versus-a-copy\n",
      "\n"
     ]
    },
    {
     "name": "stdout",
     "output_type": "stream",
     "text": [
      "Merging for ADBE\n"
     ]
    },
    {
     "name": "stderr",
     "output_type": "stream",
     "text": [
      "C:\\Users\\chond\\anaconda3\\envs\\investment\\lib\\site-packages\\stocktrends\\indicators.py:58: FutureWarning:\n",
      "\n",
      "Slicing a positional slice with .loc is not supported, and will raise TypeError in a future version.  Use .loc with labels or .iloc with positions instead.\n",
      "\n",
      "<ipython-input-4-2f1a69976945>:13: SettingWithCopyWarning:\n",
      "\n",
      "\n",
      "A value is trying to be set on a copy of a slice from a DataFrame\n",
      "\n",
      "See the caveats in the documentation: https://pandas.pydata.org/pandas-docs/stable/user_guide/indexing.html#returning-a-view-versus-a-copy\n",
      "\n",
      "<ipython-input-4-2f1a69976945>:15: SettingWithCopyWarning:\n",
      "\n",
      "\n",
      "A value is trying to be set on a copy of a slice from a DataFrame\n",
      "\n",
      "See the caveats in the documentation: https://pandas.pydata.org/pandas-docs/stable/user_guide/indexing.html#returning-a-view-versus-a-copy\n",
      "\n",
      "<ipython-input-5-e0ba58c6ba07>:6: SettingWithCopyWarning:\n",
      "\n",
      "\n",
      "A value is trying to be set on a copy of a slice from a DataFrame\n",
      "\n",
      "See the caveats in the documentation: https://pandas.pydata.org/pandas-docs/stable/user_guide/indexing.html#returning-a-view-versus-a-copy\n",
      "\n"
     ]
    }
   ],
   "source": [
    "# merging renko df with original ohlc df\n",
    "for ticker in tickers:\n",
    "    print(f'Merging for {ticker}')\n",
    "    renko_df = renko(ohlcvs[ticker])\n",
    "    renko_df.columns = ['date', 'open', 'high', 'low', 'close', 'uptrend', 'bar-number']\n",
    "    ohlcvs[ticker]['date'] = ohlcvs[ticker].index\n",
    "    ohlc_renko[ticker] = ohlcvs[ticker].merge(renko_df.loc[:, ['date', 'bar-number']], how = 'outer', on = 'date')\n",
    "    ohlc_renko[ticker]['bar-number'].fillna(method = 'ffill', inplace=True)\n",
    "    ohlc_renko[ticker]['obv']= obv(ohlc_renko[ticker])\n",
    "    ohlc_renko[ticker]['obv_slope']= slope(ohlc_renko[ticker]['obv'], 5)\n",
    "    tickers_signal[ticker] = ''\n",
    "    tickers_return[ticker] = []\n",
    "    tickers_signal_track[ticker] = []"
   ]
  },
  {
   "cell_type": "code",
   "execution_count": 12,
   "metadata": {},
   "outputs": [
    {
     "name": "stdout",
     "output_type": "stream",
     "text": [
      "Calculating returns for TSLA\n",
      "Calculating returns for AAPL\n",
      "Calculating returns for AMZN\n",
      "Calculating returns for MSFT\n",
      "Calculating returns for QCOM\n",
      "Calculating returns for FB\n",
      "Calculating returns for AMD\n",
      "Calculating returns for NVDA\n",
      "Calculating returns for NFLX\n",
      "Calculating returns for ADBE\n"
     ]
    }
   ],
   "source": [
    "# identifying signals and calculating return and incorporate stop-loss accordingly\n",
    "obv_slope_threshold = 15\n",
    "for ticker in tickers:\n",
    "    print(f'Calculating returns for {ticker}')\n",
    "    for i in range(len(ohlc_renko[ticker])):\n",
    "        \n",
    "        if (tickers_signal[ticker] == ''): \n",
    "            tickers_return[ticker].append(0) # no signal equals no return for that candle   \n",
    "            \n",
    "            if (ohlc_renko[ticker]['bar-number'][i] >= 2 and ohlc_renko[ticker]['obv_slope'][i] > obv_slope_threshold):\n",
    "                tickers_signal[ticker] = 'Buy'\n",
    "                tickers_signal_track[ticker].append('Start Buy')\n",
    "            elif (ohlc_renko[ticker]['bar-number'][i] <= -2 and ohlc_renko[ticker]['obv_slope'][i] < -obv_slope_threshold):\n",
    "                tickers_signal[ticker] = 'Sell'\n",
    "                tickers_signal_track[ticker].append('Start Sell')\n",
    "            else:\n",
    "                tickers_signal_track[ticker].append('dnt')\n",
    "        \n",
    "        elif (tickers_signal[ticker] == 'Buy'):\n",
    "            tickers_return[ticker].append((ohlc_renko[ticker]['Adj Close'][i] / ohlc_renko[ticker]['Adj Close'][i-1]) - 1)\n",
    "            tickers_signal_track[ticker].append('Continue')\n",
    "            if (ohlc_renko[ticker]['bar-number'][i] <= -2 and ohlc_renko[ticker]['obv_slope'][i] < -obv_slope_threshold):\n",
    "                tickers_signal[ticker] = 'Sell'\n",
    "                tickers_signal_track[ticker].pop()\n",
    "                tickers_signal_track[ticker].append('Start Sell Reversal')\n",
    "            elif (ohlc_renko[ticker]['bar-number'][i] < 2):\n",
    "                tickers_signal[ticker] = '' # change from buy signal to nth to close off\n",
    "                tickers_signal_track[ticker].pop()\n",
    "                tickers_signal_track[ticker].append('Close Buy')\n",
    "                \n",
    "        elif (tickers_signal[ticker] == 'Sell'):\n",
    "            tickers_return[ticker].append((ohlc_renko[ticker]['Adj Close'][i-1] / ohlc_renko[ticker]['Adj Close'][i]) - 1)\n",
    "            tickers_signal_track[ticker].append('Continue')\n",
    "            if (ohlc_renko[ticker]['bar-number'][i] >= 2 and ohlc_renko[ticker]['obv_slope'][i] > obv_slope_threshold):\n",
    "                tickers_signal[ticker] = 'Buy'\n",
    "                tickers_signal_track[ticker].pop()\n",
    "                tickers_signal_track[ticker].append('Start Buy Reversal')\n",
    "            elif (ohlc_renko[ticker]['bar-number'][i] >- 2):\n",
    "                tickers_signal[ticker] = '' # change from sell to nth to close off\n",
    "                tickers_signal_track[ticker].pop()\n",
    "                tickers_signal_track[ticker].append('Close Sell')\n",
    "                \n",
    "    ohlc_renko[ticker]['return'] = np.array(tickers_return[ticker])\n",
    "    ohlc_renko[ticker]['signal'] = np.array(tickers_signal_track[ticker])"
   ]
  },
  {
   "cell_type": "code",
   "execution_count": 13,
   "metadata": {},
   "outputs": [
    {
     "data": {
      "text/html": [
       "<div>\n",
       "<style scoped>\n",
       "    .dataframe tbody tr th:only-of-type {\n",
       "        vertical-align: middle;\n",
       "    }\n",
       "\n",
       "    .dataframe tbody tr th {\n",
       "        vertical-align: top;\n",
       "    }\n",
       "\n",
       "    .dataframe thead th {\n",
       "        text-align: right;\n",
       "    }\n",
       "</style>\n",
       "<table border=\"1\" class=\"dataframe\">\n",
       "  <thead>\n",
       "    <tr style=\"text-align: right;\">\n",
       "      <th></th>\n",
       "      <th>Open</th>\n",
       "      <th>High</th>\n",
       "      <th>Low</th>\n",
       "      <th>Close</th>\n",
       "      <th>Adj Close</th>\n",
       "      <th>Volume</th>\n",
       "      <th>date</th>\n",
       "      <th>bar-number</th>\n",
       "      <th>obv</th>\n",
       "      <th>obv_slope</th>\n",
       "      <th>return</th>\n",
       "      <th>signal</th>\n",
       "    </tr>\n",
       "  </thead>\n",
       "  <tbody>\n",
       "    <tr>\n",
       "      <th>0</th>\n",
       "      <td>72.510002</td>\n",
       "      <td>76.722000</td>\n",
       "      <td>72.500000</td>\n",
       "      <td>76.300003</td>\n",
       "      <td>76.300003</td>\n",
       "      <td>90871000</td>\n",
       "      <td>2019-12-16</td>\n",
       "      <td>1.0</td>\n",
       "      <td>0</td>\n",
       "      <td>0.000000</td>\n",
       "      <td>0.000000</td>\n",
       "      <td>dnt</td>\n",
       "    </tr>\n",
       "    <tr>\n",
       "      <th>1</th>\n",
       "      <td>75.797997</td>\n",
       "      <td>77.099998</td>\n",
       "      <td>75.180000</td>\n",
       "      <td>75.797997</td>\n",
       "      <td>75.797997</td>\n",
       "      <td>42484000</td>\n",
       "      <td>2019-12-17</td>\n",
       "      <td>1.0</td>\n",
       "      <td>-42484000</td>\n",
       "      <td>0.000000</td>\n",
       "      <td>0.000000</td>\n",
       "      <td>dnt</td>\n",
       "    </tr>\n",
       "    <tr>\n",
       "      <th>2</th>\n",
       "      <td>76.125999</td>\n",
       "      <td>79.043999</td>\n",
       "      <td>76.115997</td>\n",
       "      <td>78.629997</td>\n",
       "      <td>78.629997</td>\n",
       "      <td>70605000</td>\n",
       "      <td>2019-12-18</td>\n",
       "      <td>2.0</td>\n",
       "      <td>28121000</td>\n",
       "      <td>0.000000</td>\n",
       "      <td>0.000000</td>\n",
       "      <td>dnt</td>\n",
       "    </tr>\n",
       "    <tr>\n",
       "      <th>3</th>\n",
       "      <td>79.463997</td>\n",
       "      <td>81.370003</td>\n",
       "      <td>79.300003</td>\n",
       "      <td>80.807999</td>\n",
       "      <td>80.807999</td>\n",
       "      <td>90535500</td>\n",
       "      <td>2019-12-19</td>\n",
       "      <td>2.0</td>\n",
       "      <td>118656500</td>\n",
       "      <td>0.000000</td>\n",
       "      <td>0.000000</td>\n",
       "      <td>dnt</td>\n",
       "    </tr>\n",
       "    <tr>\n",
       "      <th>4</th>\n",
       "      <td>82.057999</td>\n",
       "      <td>82.599998</td>\n",
       "      <td>80.038002</td>\n",
       "      <td>81.117996</td>\n",
       "      <td>81.117996</td>\n",
       "      <td>73763500</td>\n",
       "      <td>2019-12-20</td>\n",
       "      <td>2.0</td>\n",
       "      <td>192420000</td>\n",
       "      <td>42.913862</td>\n",
       "      <td>0.000000</td>\n",
       "      <td>Start Buy</td>\n",
       "    </tr>\n",
       "    <tr>\n",
       "      <th>...</th>\n",
       "      <td>...</td>\n",
       "      <td>...</td>\n",
       "      <td>...</td>\n",
       "      <td>...</td>\n",
       "      <td>...</td>\n",
       "      <td>...</td>\n",
       "      <td>...</td>\n",
       "      <td>...</td>\n",
       "      <td>...</td>\n",
       "      <td>...</td>\n",
       "      <td>...</td>\n",
       "      <td>...</td>\n",
       "    </tr>\n",
       "    <tr>\n",
       "      <th>246</th>\n",
       "      <td>604.919983</td>\n",
       "      <td>648.789978</td>\n",
       "      <td>603.049988</td>\n",
       "      <td>641.760010</td>\n",
       "      <td>641.760010</td>\n",
       "      <td>56309700</td>\n",
       "      <td>2020-12-07</td>\n",
       "      <td>6.0</td>\n",
       "      <td>2885807000</td>\n",
       "      <td>35.994923</td>\n",
       "      <td>0.071314</td>\n",
       "      <td>Continue</td>\n",
       "    </tr>\n",
       "    <tr>\n",
       "      <th>247</th>\n",
       "      <td>625.510010</td>\n",
       "      <td>651.280029</td>\n",
       "      <td>618.500000</td>\n",
       "      <td>649.880005</td>\n",
       "      <td>649.880005</td>\n",
       "      <td>64265000</td>\n",
       "      <td>2020-12-08</td>\n",
       "      <td>6.0</td>\n",
       "      <td>2950072000</td>\n",
       "      <td>44.364956</td>\n",
       "      <td>0.012653</td>\n",
       "      <td>Continue</td>\n",
       "    </tr>\n",
       "    <tr>\n",
       "      <th>248</th>\n",
       "      <td>653.690002</td>\n",
       "      <td>654.320007</td>\n",
       "      <td>588.000000</td>\n",
       "      <td>604.479980</td>\n",
       "      <td>604.479980</td>\n",
       "      <td>71291200</td>\n",
       "      <td>2020-12-09</td>\n",
       "      <td>6.0</td>\n",
       "      <td>2878780800</td>\n",
       "      <td>36.549666</td>\n",
       "      <td>-0.069859</td>\n",
       "      <td>Continue</td>\n",
       "    </tr>\n",
       "    <tr>\n",
       "      <th>249</th>\n",
       "      <td>574.369995</td>\n",
       "      <td>627.750000</td>\n",
       "      <td>566.340027</td>\n",
       "      <td>627.070007</td>\n",
       "      <td>627.070007</td>\n",
       "      <td>67083200</td>\n",
       "      <td>2020-12-10</td>\n",
       "      <td>6.0</td>\n",
       "      <td>2945864000</td>\n",
       "      <td>36.824817</td>\n",
       "      <td>0.037371</td>\n",
       "      <td>Continue</td>\n",
       "    </tr>\n",
       "    <tr>\n",
       "      <th>250</th>\n",
       "      <td>615.010010</td>\n",
       "      <td>624.000000</td>\n",
       "      <td>596.799988</td>\n",
       "      <td>609.989990</td>\n",
       "      <td>609.989990</td>\n",
       "      <td>46359600</td>\n",
       "      <td>2020-12-11</td>\n",
       "      <td>6.0</td>\n",
       "      <td>2899504400</td>\n",
       "      <td>7.412337</td>\n",
       "      <td>-0.027238</td>\n",
       "      <td>Continue</td>\n",
       "    </tr>\n",
       "  </tbody>\n",
       "</table>\n",
       "<p>251 rows × 12 columns</p>\n",
       "</div>"
      ],
      "text/plain": [
       "           Open        High         Low       Close   Adj Close    Volume  \\\n",
       "0     72.510002   76.722000   72.500000   76.300003   76.300003  90871000   \n",
       "1     75.797997   77.099998   75.180000   75.797997   75.797997  42484000   \n",
       "2     76.125999   79.043999   76.115997   78.629997   78.629997  70605000   \n",
       "3     79.463997   81.370003   79.300003   80.807999   80.807999  90535500   \n",
       "4     82.057999   82.599998   80.038002   81.117996   81.117996  73763500   \n",
       "..          ...         ...         ...         ...         ...       ...   \n",
       "246  604.919983  648.789978  603.049988  641.760010  641.760010  56309700   \n",
       "247  625.510010  651.280029  618.500000  649.880005  649.880005  64265000   \n",
       "248  653.690002  654.320007  588.000000  604.479980  604.479980  71291200   \n",
       "249  574.369995  627.750000  566.340027  627.070007  627.070007  67083200   \n",
       "250  615.010010  624.000000  596.799988  609.989990  609.989990  46359600   \n",
       "\n",
       "          date  bar-number         obv  obv_slope    return     signal  \n",
       "0   2019-12-16         1.0           0   0.000000  0.000000        dnt  \n",
       "1   2019-12-17         1.0   -42484000   0.000000  0.000000        dnt  \n",
       "2   2019-12-18         2.0    28121000   0.000000  0.000000        dnt  \n",
       "3   2019-12-19         2.0   118656500   0.000000  0.000000        dnt  \n",
       "4   2019-12-20         2.0   192420000  42.913862  0.000000  Start Buy  \n",
       "..         ...         ...         ...        ...       ...        ...  \n",
       "246 2020-12-07         6.0  2885807000  35.994923  0.071314   Continue  \n",
       "247 2020-12-08         6.0  2950072000  44.364956  0.012653   Continue  \n",
       "248 2020-12-09         6.0  2878780800  36.549666 -0.069859   Continue  \n",
       "249 2020-12-10         6.0  2945864000  36.824817  0.037371   Continue  \n",
       "250 2020-12-11         6.0  2899504400   7.412337 -0.027238   Continue  \n",
       "\n",
       "[251 rows x 12 columns]"
      ]
     },
     "execution_count": 13,
     "metadata": {},
     "output_type": "execute_result"
    }
   ],
   "source": [
    "ohlc_renko['TSLA']"
   ]
  },
  {
   "cell_type": "code",
   "execution_count": 23,
   "metadata": {
    "scrolled": false
   },
   "outputs": [
    {
     "data": {
      "application/vnd.plotly.v1+json": {
       "config": {
        "plotlyServerURL": "https://plot.ly"
       },
       "data": [
        {
         "name": "Price",
         "type": "scatter",
         "x": [
          0,
          1,
          2,
          3,
          4,
          5,
          6,
          7,
          8,
          9,
          10,
          11,
          12,
          13,
          14,
          15,
          16,
          17,
          18,
          19,
          20,
          21,
          22,
          23,
          24,
          25,
          26,
          27,
          28,
          29,
          30,
          31,
          32,
          33,
          34,
          35,
          36,
          37,
          38,
          39,
          40,
          41,
          42,
          43,
          44,
          45,
          46,
          47,
          48,
          49,
          50,
          51,
          52,
          53,
          54,
          55,
          56,
          57,
          58,
          59,
          60,
          61,
          62,
          63,
          64,
          65,
          66,
          67,
          68,
          69,
          70,
          71,
          72,
          73,
          74,
          75,
          76,
          77,
          78,
          79,
          80,
          81,
          82,
          83,
          84,
          85,
          86,
          87,
          88,
          89,
          90,
          91,
          92,
          93,
          94,
          95,
          96,
          97,
          98,
          99,
          100,
          101,
          102,
          103,
          104,
          105,
          106,
          107,
          108,
          109,
          110,
          111,
          112,
          113,
          114,
          115,
          116,
          117,
          118,
          119,
          120,
          121,
          122,
          123,
          124,
          125,
          126,
          127,
          128,
          129,
          130,
          131,
          132,
          133,
          134,
          135,
          136,
          137,
          138,
          139,
          140,
          141,
          142,
          143,
          144,
          145,
          146,
          147,
          148,
          149,
          150,
          151,
          152,
          153,
          154,
          155,
          156,
          157,
          158,
          159,
          160,
          161,
          162,
          163,
          164,
          165,
          166,
          167,
          168,
          169,
          170,
          171,
          172,
          173,
          174,
          175,
          176,
          177,
          178,
          179,
          180,
          181,
          182,
          183,
          184,
          185,
          186,
          187,
          188,
          189,
          190,
          191,
          192,
          193,
          194,
          195,
          196,
          197,
          198,
          199,
          200,
          201,
          202,
          203,
          204,
          205,
          206,
          207,
          208,
          209,
          210,
          211,
          212,
          213,
          214,
          215,
          216,
          217,
          218,
          219,
          220,
          221,
          222,
          223,
          224,
          225,
          226,
          227,
          228,
          229,
          230,
          231,
          232,
          233,
          234,
          235,
          236,
          237,
          238,
          239,
          240,
          241,
          242,
          243,
          244,
          245,
          246,
          247,
          248,
          249,
          250
         ],
         "y": [
          224.77908325195312,
          227.9138946533203,
          229.13189697265625,
          235.07211303710938,
          238.9756622314453,
          238.4265899658203,
          238.22691345214844,
          238.7959747314453,
          236.47976684570312,
          231.93727111816406,
          234.91238403320312,
          239.5147705078125,
          235.68112182617188,
          236.6694793701172,
          239.53472900390625,
          239.9840087890625,
          242.61965942382812,
          243.91751098632812,
          251.56488037109375,
          246.8726348876953,
          245.16543579101562,
          248.51991271972656,
          248.86935424804688,
          247.53155517578125,
          249.69798278808594,
          252.44345092773438,
          250.06735229492188,
          239.80430603027344,
          247.56149291992188,
          245.135498046875,
          245.40505981445312,
          236.04049682617188,
          239.93409729003906,
          246.72288513183594,
          250.34689331054688,
          253.83116149902344,
          251.175537109375,
          262.53680419921875,
          267.44866943359375,
          272.0910339355469,
          270.33392333984375,
          289.3125915527344,
          296.0814514160156,
          314.1816101074219,
          308.19146728515625,
          293.5855712890625,
          272.829833984375,
          261.6183166503906,
          267.2090759277344,
          252.33473205566406,
          269.7863464355469,
          276.1396789550781,
          265.61077880859375,
          284.21124267578125,
          273.00299072265625,
          265.7606201171875,
          245.18223571777344,
          260.8057861328125,
          246.21115112304688,
          216.0828094482422,
          240.58705139160156,
          196.19371032714844,
          217.0418243408203,
          202.60699462890625,
          212.74632263183594,
          205.53392028808594,
          212.4666290283203,
          248.91830444335938,
          245.36203002929688,
          256.9698181152344,
          252.46456909179688,
          265.3110656738281,
          263.32318115234375,
          242.81472778320312,
          255.20169067382812,
          243.6538543701172,
          268.1180725097656,
          258.7579345703125,
          266.6696472167969,
          262.6738586425781,
          269.56658935546875,
          283.65179443359375,
          280.5450439453125,
          294.3905029296875,
          292.01300048828125,
          286.74853515625,
          269.22698974609375,
          285.8494873046875,
          283.71173095703125,
          289.285888671875,
          296.7679748535156,
          291.053955078125,
          298.14654541015625,
          291.9730529785156,
          282.4830017089844,
          290.98406982421875,
          293.4314880371094,
          297.47723388671875,
          304.5498046875,
          312.1717834472656,
          322.2811584472656,
          311.772216796875,
          310.8731994628906,
          320.8826599121094,
          339.2733154296875,
          349.6424255371094,
          351.85009765625,
          358.42315673828125,
          350.6413879394531,
          360.6707763671875,
          348.34375,
          340.65185546875,
          339.12347412109375,
          354.64715576171875,
          351.88006591796875,
          352.6392517089844,
          350.4115905761719,
          350.4515686035156,
          356.5879211425781,
          351.9906921386719,
          361.62493896484375,
          374.44732666015625,
          351.6408996582031,
          357.0876159667969,
          366.73193359375,
          362.5244140625,
          369.2204284667969,
          368.5008544921875,
          370.2298278808594,
          380.843505859375,
          377.77532958984375,
          369.200439453125,
          379.3743896484375,
          365.98236083984375,
          367.7812805175781,
          379.6842041015625,
          380.97344970703125,
          384.261474609375,
          393.3360900878906,
          394.63531494140625,
          408.3971252441406,
          420.1101379394531,
          418.9208984375,
          401.85101318359375,
          414.8332824707031,
          408.84686279296875,
          405.1490783691406,
          407.8174743652344,
          420.1800842285156,
          412.89447021484375,
          417.30181884765625,
          404.9491882324219,
          407.5376281738281,
          416.6122131347656,
          408.37713623046875,
          418.3711853027344,
          424.3076477050781,
          424.337646484375,
          440.14825439453125,
          448.8430480957031,
          451.20166015625,
          453.1505126953125,
          447.7137451171875,
          446.3345642089844,
          433.7420349121094,
          457.3380126953125,
          457.4479675292969,
          462.28509521484375,
          493.1867370605469,
          490.13848876953125,
          485.25140380859375,
          485.35137939453125,
          507.0384826660156,
          508.507568359375,
          509.6968994140625,
          510.6163635253906,
          504.82977294921875,
          525.597412109375,
          534.6619873046875,
          552.6767578125,
          573.6904907226562,
          520.4662475585938,
          504.7508850097656,
          476.3792419433594,
          508.4497985839844,
          492.3245544433594,
          486.436279296875,
          514.7379760742188,
          519.486572265625,
          500.4321594238281,
          498.39276123046875,
          487.4259948730469,
          500.5421142578125,
          505.3607177734375,
          484.8067932128906,
          493.7741394042969,
          514.7979125976562,
          521.2460327148438,
          528.873779296875,
          541.0601196289062,
          544.419189453125,
          522.335693359375,
          545.538818359375,
          549.2977294921875,
          558.39501953125,
          553.386474609375,
          550.347412109375,
          568.8718872070312,
          569.7616577148438,
          563.6434936523438,
          558.6349487304688,
          552.296875,
          539.75048828125,
          545.6588134765625,
          540.8302001953125,
          534.2821655273438,
          543.449462890625,
          525.4947509765625,
          535.7117309570312,
          504.9308166503906,
          520.80615234375,
          501.2119140625,
          503.0813903808594,
          520.626220703125,
          551.6070556640625,
          566.2327270507812,
          582.3079223632812,
          545.0689697265625,
          510.6491394042969,
          536.5614624023438,
          538.1110229492188,
          531.722900390625,
          540.4503173828125,
          536.7314453125,
          536.9913940429688,
          537.4512329101562,
          523.3554077148438,
          525.4447631835938,
          518.1569213867188,
          529.233642578125,
          530.2933349609375,
          535.9016723632812,
          535.4417724609375,
          541.6199951171875,
          535.8400268554688,
          542.3300170898438,
          544.27001953125,
          534,
          517.22998046875,
          518.8900146484375,
          520.530029296875
         ]
        },
        {
         "marker": {
          "color": "rgba(0, 255, 0, 1)"
         },
         "name": "Start Buy",
         "type": "scatter",
         "x": [
          4,
          4
         ],
         "xaxis": "x",
         "y": [
          0,
          1
         ],
         "yaxis": "y2"
        },
        {
         "marker": {
          "color": "rgba(255, 255, 0, 1)"
         },
         "name": "Start Sell Reversal",
         "type": "scatter",
         "x": [
          46,
          46
         ],
         "xaxis": "x",
         "y": [
          0,
          1
         ],
         "yaxis": "y2"
        },
        {
         "marker": {
          "color": "rgba(0, 255, 255, 1)"
         },
         "name": "Start Buy Reversal",
         "type": "scatter",
         "x": [
          67,
          67
         ],
         "xaxis": "x",
         "y": [
          0,
          1
         ],
         "yaxis": "y2"
        },
        {
         "marker": {
          "color": "rgba(0, 255, 0, 0.1)"
         },
         "name": "Close Buy",
         "type": "scatter",
         "x": [
          181,
          181
         ],
         "xaxis": "x",
         "y": [
          0,
          1
         ],
         "yaxis": "y2"
        },
        {
         "marker": {
          "color": "rgba(255, 0, 0, 1)"
         },
         "name": "Start Sell",
         "type": "scatter",
         "x": [
          182,
          182
         ],
         "xaxis": "x",
         "y": [
          0,
          1
         ],
         "yaxis": "y2"
        },
        {
         "marker": {
          "color": "rgba(255, 0, 0, 0.1)"
         },
         "name": "Close Sell",
         "type": "scatter",
         "x": [
          184,
          184
         ],
         "xaxis": "x",
         "y": [
          0,
          1
         ],
         "yaxis": "y2"
        },
        {
         "marker": {
          "color": "rgba(0, 255, 0, 1)"
         },
         "name": "Start Buy",
         "type": "scatter",
         "x": [
          197,
          197
         ],
         "xaxis": "x",
         "y": [
          0,
          1
         ],
         "yaxis": "y2"
        },
        {
         "marker": {
          "color": "rgba(0, 255, 0, 0.1)"
         },
         "name": "Close Buy",
         "type": "scatter",
         "x": [
          217,
          217
         ],
         "xaxis": "x",
         "y": [
          0,
          1
         ],
         "yaxis": "y2"
        },
        {
         "marker": {
          "color": "rgba(255, 0, 0, 1)"
         },
         "name": "Start Sell",
         "type": "scatter",
         "x": [
          219,
          219
         ],
         "xaxis": "x",
         "y": [
          0,
          1
         ],
         "yaxis": "y2"
        },
        {
         "marker": {
          "color": "rgba(0, 255, 255, 1)"
         },
         "name": "Start Buy Reversal",
         "type": "scatter",
         "x": [
          224,
          224
         ],
         "xaxis": "x",
         "y": [
          0,
          1
         ],
         "yaxis": "y2"
        },
        {
         "marker": {
          "color": "rgba(0, 255, 0, 0.1)"
         },
         "name": "Close Buy",
         "type": "scatter",
         "x": [
          227,
          227
         ],
         "xaxis": "x",
         "y": [
          0,
          1
         ],
         "yaxis": "y2"
        },
        {
         "marker": {
          "color": "rgba(255, 0, 0, 1)"
         },
         "name": "Start Sell",
         "type": "scatter",
         "x": [
          228,
          228
         ],
         "xaxis": "x",
         "y": [
          0,
          1
         ],
         "yaxis": "y2"
        }
       ],
       "layout": {
        "template": {
         "data": {
          "bar": [
           {
            "error_x": {
             "color": "#2a3f5f"
            },
            "error_y": {
             "color": "#2a3f5f"
            },
            "marker": {
             "line": {
              "color": "#E5ECF6",
              "width": 0.5
             }
            },
            "type": "bar"
           }
          ],
          "barpolar": [
           {
            "marker": {
             "line": {
              "color": "#E5ECF6",
              "width": 0.5
             }
            },
            "type": "barpolar"
           }
          ],
          "carpet": [
           {
            "aaxis": {
             "endlinecolor": "#2a3f5f",
             "gridcolor": "white",
             "linecolor": "white",
             "minorgridcolor": "white",
             "startlinecolor": "#2a3f5f"
            },
            "baxis": {
             "endlinecolor": "#2a3f5f",
             "gridcolor": "white",
             "linecolor": "white",
             "minorgridcolor": "white",
             "startlinecolor": "#2a3f5f"
            },
            "type": "carpet"
           }
          ],
          "choropleth": [
           {
            "colorbar": {
             "outlinewidth": 0,
             "ticks": ""
            },
            "type": "choropleth"
           }
          ],
          "contour": [
           {
            "colorbar": {
             "outlinewidth": 0,
             "ticks": ""
            },
            "colorscale": [
             [
              0,
              "#0d0887"
             ],
             [
              0.1111111111111111,
              "#46039f"
             ],
             [
              0.2222222222222222,
              "#7201a8"
             ],
             [
              0.3333333333333333,
              "#9c179e"
             ],
             [
              0.4444444444444444,
              "#bd3786"
             ],
             [
              0.5555555555555556,
              "#d8576b"
             ],
             [
              0.6666666666666666,
              "#ed7953"
             ],
             [
              0.7777777777777778,
              "#fb9f3a"
             ],
             [
              0.8888888888888888,
              "#fdca26"
             ],
             [
              1,
              "#f0f921"
             ]
            ],
            "type": "contour"
           }
          ],
          "contourcarpet": [
           {
            "colorbar": {
             "outlinewidth": 0,
             "ticks": ""
            },
            "type": "contourcarpet"
           }
          ],
          "heatmap": [
           {
            "colorbar": {
             "outlinewidth": 0,
             "ticks": ""
            },
            "colorscale": [
             [
              0,
              "#0d0887"
             ],
             [
              0.1111111111111111,
              "#46039f"
             ],
             [
              0.2222222222222222,
              "#7201a8"
             ],
             [
              0.3333333333333333,
              "#9c179e"
             ],
             [
              0.4444444444444444,
              "#bd3786"
             ],
             [
              0.5555555555555556,
              "#d8576b"
             ],
             [
              0.6666666666666666,
              "#ed7953"
             ],
             [
              0.7777777777777778,
              "#fb9f3a"
             ],
             [
              0.8888888888888888,
              "#fdca26"
             ],
             [
              1,
              "#f0f921"
             ]
            ],
            "type": "heatmap"
           }
          ],
          "heatmapgl": [
           {
            "colorbar": {
             "outlinewidth": 0,
             "ticks": ""
            },
            "colorscale": [
             [
              0,
              "#0d0887"
             ],
             [
              0.1111111111111111,
              "#46039f"
             ],
             [
              0.2222222222222222,
              "#7201a8"
             ],
             [
              0.3333333333333333,
              "#9c179e"
             ],
             [
              0.4444444444444444,
              "#bd3786"
             ],
             [
              0.5555555555555556,
              "#d8576b"
             ],
             [
              0.6666666666666666,
              "#ed7953"
             ],
             [
              0.7777777777777778,
              "#fb9f3a"
             ],
             [
              0.8888888888888888,
              "#fdca26"
             ],
             [
              1,
              "#f0f921"
             ]
            ],
            "type": "heatmapgl"
           }
          ],
          "histogram": [
           {
            "marker": {
             "colorbar": {
              "outlinewidth": 0,
              "ticks": ""
             }
            },
            "type": "histogram"
           }
          ],
          "histogram2d": [
           {
            "colorbar": {
             "outlinewidth": 0,
             "ticks": ""
            },
            "colorscale": [
             [
              0,
              "#0d0887"
             ],
             [
              0.1111111111111111,
              "#46039f"
             ],
             [
              0.2222222222222222,
              "#7201a8"
             ],
             [
              0.3333333333333333,
              "#9c179e"
             ],
             [
              0.4444444444444444,
              "#bd3786"
             ],
             [
              0.5555555555555556,
              "#d8576b"
             ],
             [
              0.6666666666666666,
              "#ed7953"
             ],
             [
              0.7777777777777778,
              "#fb9f3a"
             ],
             [
              0.8888888888888888,
              "#fdca26"
             ],
             [
              1,
              "#f0f921"
             ]
            ],
            "type": "histogram2d"
           }
          ],
          "histogram2dcontour": [
           {
            "colorbar": {
             "outlinewidth": 0,
             "ticks": ""
            },
            "colorscale": [
             [
              0,
              "#0d0887"
             ],
             [
              0.1111111111111111,
              "#46039f"
             ],
             [
              0.2222222222222222,
              "#7201a8"
             ],
             [
              0.3333333333333333,
              "#9c179e"
             ],
             [
              0.4444444444444444,
              "#bd3786"
             ],
             [
              0.5555555555555556,
              "#d8576b"
             ],
             [
              0.6666666666666666,
              "#ed7953"
             ],
             [
              0.7777777777777778,
              "#fb9f3a"
             ],
             [
              0.8888888888888888,
              "#fdca26"
             ],
             [
              1,
              "#f0f921"
             ]
            ],
            "type": "histogram2dcontour"
           }
          ],
          "mesh3d": [
           {
            "colorbar": {
             "outlinewidth": 0,
             "ticks": ""
            },
            "type": "mesh3d"
           }
          ],
          "parcoords": [
           {
            "line": {
             "colorbar": {
              "outlinewidth": 0,
              "ticks": ""
             }
            },
            "type": "parcoords"
           }
          ],
          "pie": [
           {
            "automargin": true,
            "type": "pie"
           }
          ],
          "scatter": [
           {
            "marker": {
             "colorbar": {
              "outlinewidth": 0,
              "ticks": ""
             }
            },
            "type": "scatter"
           }
          ],
          "scatter3d": [
           {
            "line": {
             "colorbar": {
              "outlinewidth": 0,
              "ticks": ""
             }
            },
            "marker": {
             "colorbar": {
              "outlinewidth": 0,
              "ticks": ""
             }
            },
            "type": "scatter3d"
           }
          ],
          "scattercarpet": [
           {
            "marker": {
             "colorbar": {
              "outlinewidth": 0,
              "ticks": ""
             }
            },
            "type": "scattercarpet"
           }
          ],
          "scattergeo": [
           {
            "marker": {
             "colorbar": {
              "outlinewidth": 0,
              "ticks": ""
             }
            },
            "type": "scattergeo"
           }
          ],
          "scattergl": [
           {
            "marker": {
             "colorbar": {
              "outlinewidth": 0,
              "ticks": ""
             }
            },
            "type": "scattergl"
           }
          ],
          "scattermapbox": [
           {
            "marker": {
             "colorbar": {
              "outlinewidth": 0,
              "ticks": ""
             }
            },
            "type": "scattermapbox"
           }
          ],
          "scatterpolar": [
           {
            "marker": {
             "colorbar": {
              "outlinewidth": 0,
              "ticks": ""
             }
            },
            "type": "scatterpolar"
           }
          ],
          "scatterpolargl": [
           {
            "marker": {
             "colorbar": {
              "outlinewidth": 0,
              "ticks": ""
             }
            },
            "type": "scatterpolargl"
           }
          ],
          "scatterternary": [
           {
            "marker": {
             "colorbar": {
              "outlinewidth": 0,
              "ticks": ""
             }
            },
            "type": "scatterternary"
           }
          ],
          "surface": [
           {
            "colorbar": {
             "outlinewidth": 0,
             "ticks": ""
            },
            "colorscale": [
             [
              0,
              "#0d0887"
             ],
             [
              0.1111111111111111,
              "#46039f"
             ],
             [
              0.2222222222222222,
              "#7201a8"
             ],
             [
              0.3333333333333333,
              "#9c179e"
             ],
             [
              0.4444444444444444,
              "#bd3786"
             ],
             [
              0.5555555555555556,
              "#d8576b"
             ],
             [
              0.6666666666666666,
              "#ed7953"
             ],
             [
              0.7777777777777778,
              "#fb9f3a"
             ],
             [
              0.8888888888888888,
              "#fdca26"
             ],
             [
              1,
              "#f0f921"
             ]
            ],
            "type": "surface"
           }
          ],
          "table": [
           {
            "cells": {
             "fill": {
              "color": "#EBF0F8"
             },
             "line": {
              "color": "white"
             }
            },
            "header": {
             "fill": {
              "color": "#C8D4E3"
             },
             "line": {
              "color": "white"
             }
            },
            "type": "table"
           }
          ]
         },
         "layout": {
          "annotationdefaults": {
           "arrowcolor": "#2a3f5f",
           "arrowhead": 0,
           "arrowwidth": 1
          },
          "coloraxis": {
           "colorbar": {
            "outlinewidth": 0,
            "ticks": ""
           }
          },
          "colorscale": {
           "diverging": [
            [
             0,
             "#8e0152"
            ],
            [
             0.1,
             "#c51b7d"
            ],
            [
             0.2,
             "#de77ae"
            ],
            [
             0.3,
             "#f1b6da"
            ],
            [
             0.4,
             "#fde0ef"
            ],
            [
             0.5,
             "#f7f7f7"
            ],
            [
             0.6,
             "#e6f5d0"
            ],
            [
             0.7,
             "#b8e186"
            ],
            [
             0.8,
             "#7fbc41"
            ],
            [
             0.9,
             "#4d9221"
            ],
            [
             1,
             "#276419"
            ]
           ],
           "sequential": [
            [
             0,
             "#0d0887"
            ],
            [
             0.1111111111111111,
             "#46039f"
            ],
            [
             0.2222222222222222,
             "#7201a8"
            ],
            [
             0.3333333333333333,
             "#9c179e"
            ],
            [
             0.4444444444444444,
             "#bd3786"
            ],
            [
             0.5555555555555556,
             "#d8576b"
            ],
            [
             0.6666666666666666,
             "#ed7953"
            ],
            [
             0.7777777777777778,
             "#fb9f3a"
            ],
            [
             0.8888888888888888,
             "#fdca26"
            ],
            [
             1,
             "#f0f921"
            ]
           ],
           "sequentialminus": [
            [
             0,
             "#0d0887"
            ],
            [
             0.1111111111111111,
             "#46039f"
            ],
            [
             0.2222222222222222,
             "#7201a8"
            ],
            [
             0.3333333333333333,
             "#9c179e"
            ],
            [
             0.4444444444444444,
             "#bd3786"
            ],
            [
             0.5555555555555556,
             "#d8576b"
            ],
            [
             0.6666666666666666,
             "#ed7953"
            ],
            [
             0.7777777777777778,
             "#fb9f3a"
            ],
            [
             0.8888888888888888,
             "#fdca26"
            ],
            [
             1,
             "#f0f921"
            ]
           ]
          },
          "colorway": [
           "#636efa",
           "#EF553B",
           "#00cc96",
           "#ab63fa",
           "#FFA15A",
           "#19d3f3",
           "#FF6692",
           "#B6E880",
           "#FF97FF",
           "#FECB52"
          ],
          "font": {
           "color": "#2a3f5f"
          },
          "geo": {
           "bgcolor": "white",
           "lakecolor": "white",
           "landcolor": "#E5ECF6",
           "showlakes": true,
           "showland": true,
           "subunitcolor": "white"
          },
          "hoverlabel": {
           "align": "left"
          },
          "hovermode": "closest",
          "mapbox": {
           "style": "light"
          },
          "paper_bgcolor": "white",
          "plot_bgcolor": "#E5ECF6",
          "polar": {
           "angularaxis": {
            "gridcolor": "white",
            "linecolor": "white",
            "ticks": ""
           },
           "bgcolor": "#E5ECF6",
           "radialaxis": {
            "gridcolor": "white",
            "linecolor": "white",
            "ticks": ""
           }
          },
          "scene": {
           "xaxis": {
            "backgroundcolor": "#E5ECF6",
            "gridcolor": "white",
            "gridwidth": 2,
            "linecolor": "white",
            "showbackground": true,
            "ticks": "",
            "zerolinecolor": "white"
           },
           "yaxis": {
            "backgroundcolor": "#E5ECF6",
            "gridcolor": "white",
            "gridwidth": 2,
            "linecolor": "white",
            "showbackground": true,
            "ticks": "",
            "zerolinecolor": "white"
           },
           "zaxis": {
            "backgroundcolor": "#E5ECF6",
            "gridcolor": "white",
            "gridwidth": 2,
            "linecolor": "white",
            "showbackground": true,
            "ticks": "",
            "zerolinecolor": "white"
           }
          },
          "shapedefaults": {
           "line": {
            "color": "#2a3f5f"
           }
          },
          "ternary": {
           "aaxis": {
            "gridcolor": "white",
            "linecolor": "white",
            "ticks": ""
           },
           "baxis": {
            "gridcolor": "white",
            "linecolor": "white",
            "ticks": ""
           },
           "bgcolor": "#E5ECF6",
           "caxis": {
            "gridcolor": "white",
            "linecolor": "white",
            "ticks": ""
           }
          },
          "title": {
           "x": 0.05
          },
          "xaxis": {
           "automargin": true,
           "gridcolor": "white",
           "linecolor": "white",
           "ticks": "",
           "title": {
            "standoff": 15
           },
           "zerolinecolor": "white",
           "zerolinewidth": 2
          },
          "yaxis": {
           "automargin": true,
           "gridcolor": "white",
           "linecolor": "white",
           "ticks": "",
           "title": {
            "standoff": 15
           },
           "zerolinecolor": "white",
           "zerolinewidth": 2
          }
         }
        },
        "title": {
         "text": "S2 Signals Backtested 2020-12-13 23:14:29.302071 Price of NVDA"
        },
        "xaxis": {
         "anchor": "y",
         "domain": [
          0,
          0.94
         ],
         "title": {
          "text": "Date"
         }
        },
        "yaxis": {
         "anchor": "x",
         "domain": [
          0,
          1
         ],
         "title": {
          "text": "Price"
         }
        },
        "yaxis2": {
         "anchor": "x",
         "overlaying": "y",
         "side": "right",
         "title": {
          "text": "Reference"
         }
        }
       }
      },
      "text/html": [
       "<div>                            <div id=\"a42baa29-533e-43f4-a5f1-122ace6fe932\" class=\"plotly-graph-div\" style=\"height:525px; width:100%;\"></div>            <script type=\"text/javascript\">                require([\"plotly\"], function(Plotly) {                    window.PLOTLYENV=window.PLOTLYENV || {};                                    if (document.getElementById(\"a42baa29-533e-43f4-a5f1-122ace6fe932\")) {                    Plotly.newPlot(                        \"a42baa29-533e-43f4-a5f1-122ace6fe932\",                        [{\"name\": \"Price\", \"type\": \"scatter\", \"x\": [0, 1, 2, 3, 4, 5, 6, 7, 8, 9, 10, 11, 12, 13, 14, 15, 16, 17, 18, 19, 20, 21, 22, 23, 24, 25, 26, 27, 28, 29, 30, 31, 32, 33, 34, 35, 36, 37, 38, 39, 40, 41, 42, 43, 44, 45, 46, 47, 48, 49, 50, 51, 52, 53, 54, 55, 56, 57, 58, 59, 60, 61, 62, 63, 64, 65, 66, 67, 68, 69, 70, 71, 72, 73, 74, 75, 76, 77, 78, 79, 80, 81, 82, 83, 84, 85, 86, 87, 88, 89, 90, 91, 92, 93, 94, 95, 96, 97, 98, 99, 100, 101, 102, 103, 104, 105, 106, 107, 108, 109, 110, 111, 112, 113, 114, 115, 116, 117, 118, 119, 120, 121, 122, 123, 124, 125, 126, 127, 128, 129, 130, 131, 132, 133, 134, 135, 136, 137, 138, 139, 140, 141, 142, 143, 144, 145, 146, 147, 148, 149, 150, 151, 152, 153, 154, 155, 156, 157, 158, 159, 160, 161, 162, 163, 164, 165, 166, 167, 168, 169, 170, 171, 172, 173, 174, 175, 176, 177, 178, 179, 180, 181, 182, 183, 184, 185, 186, 187, 188, 189, 190, 191, 192, 193, 194, 195, 196, 197, 198, 199, 200, 201, 202, 203, 204, 205, 206, 207, 208, 209, 210, 211, 212, 213, 214, 215, 216, 217, 218, 219, 220, 221, 222, 223, 224, 225, 226, 227, 228, 229, 230, 231, 232, 233, 234, 235, 236, 237, 238, 239, 240, 241, 242, 243, 244, 245, 246, 247, 248, 249, 250], \"y\": [224.77908325195312, 227.9138946533203, 229.13189697265625, 235.07211303710938, 238.9756622314453, 238.4265899658203, 238.22691345214844, 238.7959747314453, 236.47976684570312, 231.93727111816406, 234.91238403320312, 239.5147705078125, 235.68112182617188, 236.6694793701172, 239.53472900390625, 239.9840087890625, 242.61965942382812, 243.91751098632812, 251.56488037109375, 246.8726348876953, 245.16543579101562, 248.51991271972656, 248.86935424804688, 247.53155517578125, 249.69798278808594, 252.44345092773438, 250.06735229492188, 239.80430603027344, 247.56149291992188, 245.135498046875, 245.40505981445312, 236.04049682617188, 239.93409729003906, 246.72288513183594, 250.34689331054688, 253.83116149902344, 251.175537109375, 262.53680419921875, 267.44866943359375, 272.0910339355469, 270.33392333984375, 289.3125915527344, 296.0814514160156, 314.1816101074219, 308.19146728515625, 293.5855712890625, 272.829833984375, 261.6183166503906, 267.2090759277344, 252.33473205566406, 269.7863464355469, 276.1396789550781, 265.61077880859375, 284.21124267578125, 273.00299072265625, 265.7606201171875, 245.18223571777344, 260.8057861328125, 246.21115112304688, 216.0828094482422, 240.58705139160156, 196.19371032714844, 217.0418243408203, 202.60699462890625, 212.74632263183594, 205.53392028808594, 212.4666290283203, 248.91830444335938, 245.36203002929688, 256.9698181152344, 252.46456909179688, 265.3110656738281, 263.32318115234375, 242.81472778320312, 255.20169067382812, 243.6538543701172, 268.1180725097656, 258.7579345703125, 266.6696472167969, 262.6738586425781, 269.56658935546875, 283.65179443359375, 280.5450439453125, 294.3905029296875, 292.01300048828125, 286.74853515625, 269.22698974609375, 285.8494873046875, 283.71173095703125, 289.285888671875, 296.7679748535156, 291.053955078125, 298.14654541015625, 291.9730529785156, 282.4830017089844, 290.98406982421875, 293.4314880371094, 297.47723388671875, 304.5498046875, 312.1717834472656, 322.2811584472656, 311.772216796875, 310.8731994628906, 320.8826599121094, 339.2733154296875, 349.6424255371094, 351.85009765625, 358.42315673828125, 350.6413879394531, 360.6707763671875, 348.34375, 340.65185546875, 339.12347412109375, 354.64715576171875, 351.88006591796875, 352.6392517089844, 350.4115905761719, 350.4515686035156, 356.5879211425781, 351.9906921386719, 361.62493896484375, 374.44732666015625, 351.6408996582031, 357.0876159667969, 366.73193359375, 362.5244140625, 369.2204284667969, 368.5008544921875, 370.2298278808594, 380.843505859375, 377.77532958984375, 369.200439453125, 379.3743896484375, 365.98236083984375, 367.7812805175781, 379.6842041015625, 380.97344970703125, 384.261474609375, 393.3360900878906, 394.63531494140625, 408.3971252441406, 420.1101379394531, 418.9208984375, 401.85101318359375, 414.8332824707031, 408.84686279296875, 405.1490783691406, 407.8174743652344, 420.1800842285156, 412.89447021484375, 417.30181884765625, 404.9491882324219, 407.5376281738281, 416.6122131347656, 408.37713623046875, 418.3711853027344, 424.3076477050781, 424.337646484375, 440.14825439453125, 448.8430480957031, 451.20166015625, 453.1505126953125, 447.7137451171875, 446.3345642089844, 433.7420349121094, 457.3380126953125, 457.4479675292969, 462.28509521484375, 493.1867370605469, 490.13848876953125, 485.25140380859375, 485.35137939453125, 507.0384826660156, 508.507568359375, 509.6968994140625, 510.6163635253906, 504.82977294921875, 525.597412109375, 534.6619873046875, 552.6767578125, 573.6904907226562, 520.4662475585938, 504.7508850097656, 476.3792419433594, 508.4497985839844, 492.3245544433594, 486.436279296875, 514.7379760742188, 519.486572265625, 500.4321594238281, 498.39276123046875, 487.4259948730469, 500.5421142578125, 505.3607177734375, 484.8067932128906, 493.7741394042969, 514.7979125976562, 521.2460327148438, 528.873779296875, 541.0601196289062, 544.419189453125, 522.335693359375, 545.538818359375, 549.2977294921875, 558.39501953125, 553.386474609375, 550.347412109375, 568.8718872070312, 569.7616577148438, 563.6434936523438, 558.6349487304688, 552.296875, 539.75048828125, 545.6588134765625, 540.8302001953125, 534.2821655273438, 543.449462890625, 525.4947509765625, 535.7117309570312, 504.9308166503906, 520.80615234375, 501.2119140625, 503.0813903808594, 520.626220703125, 551.6070556640625, 566.2327270507812, 582.3079223632812, 545.0689697265625, 510.6491394042969, 536.5614624023438, 538.1110229492188, 531.722900390625, 540.4503173828125, 536.7314453125, 536.9913940429688, 537.4512329101562, 523.3554077148438, 525.4447631835938, 518.1569213867188, 529.233642578125, 530.2933349609375, 535.9016723632812, 535.4417724609375, 541.6199951171875, 535.8400268554688, 542.3300170898438, 544.27001953125, 534.0, 517.22998046875, 518.8900146484375, 520.530029296875]}, {\"marker\": {\"color\": \"rgba(0, 255, 0, 1)\"}, \"name\": \"Start Buy\", \"type\": \"scatter\", \"x\": [4, 4], \"xaxis\": \"x\", \"y\": [0, 1], \"yaxis\": \"y2\"}, {\"marker\": {\"color\": \"rgba(255, 255, 0, 1)\"}, \"name\": \"Start Sell Reversal\", \"type\": \"scatter\", \"x\": [46, 46], \"xaxis\": \"x\", \"y\": [0, 1], \"yaxis\": \"y2\"}, {\"marker\": {\"color\": \"rgba(0, 255, 255, 1)\"}, \"name\": \"Start Buy Reversal\", \"type\": \"scatter\", \"x\": [67, 67], \"xaxis\": \"x\", \"y\": [0, 1], \"yaxis\": \"y2\"}, {\"marker\": {\"color\": \"rgba(0, 255, 0, 0.1)\"}, \"name\": \"Close Buy\", \"type\": \"scatter\", \"x\": [181, 181], \"xaxis\": \"x\", \"y\": [0, 1], \"yaxis\": \"y2\"}, {\"marker\": {\"color\": \"rgba(255, 0, 0, 1)\"}, \"name\": \"Start Sell\", \"type\": \"scatter\", \"x\": [182, 182], \"xaxis\": \"x\", \"y\": [0, 1], \"yaxis\": \"y2\"}, {\"marker\": {\"color\": \"rgba(255, 0, 0, 0.1)\"}, \"name\": \"Close Sell\", \"type\": \"scatter\", \"x\": [184, 184], \"xaxis\": \"x\", \"y\": [0, 1], \"yaxis\": \"y2\"}, {\"marker\": {\"color\": \"rgba(0, 255, 0, 1)\"}, \"name\": \"Start Buy\", \"type\": \"scatter\", \"x\": [197, 197], \"xaxis\": \"x\", \"y\": [0, 1], \"yaxis\": \"y2\"}, {\"marker\": {\"color\": \"rgba(0, 255, 0, 0.1)\"}, \"name\": \"Close Buy\", \"type\": \"scatter\", \"x\": [217, 217], \"xaxis\": \"x\", \"y\": [0, 1], \"yaxis\": \"y2\"}, {\"marker\": {\"color\": \"rgba(255, 0, 0, 1)\"}, \"name\": \"Start Sell\", \"type\": \"scatter\", \"x\": [219, 219], \"xaxis\": \"x\", \"y\": [0, 1], \"yaxis\": \"y2\"}, {\"marker\": {\"color\": \"rgba(0, 255, 255, 1)\"}, \"name\": \"Start Buy Reversal\", \"type\": \"scatter\", \"x\": [224, 224], \"xaxis\": \"x\", \"y\": [0, 1], \"yaxis\": \"y2\"}, {\"marker\": {\"color\": \"rgba(0, 255, 0, 0.1)\"}, \"name\": \"Close Buy\", \"type\": \"scatter\", \"x\": [227, 227], \"xaxis\": \"x\", \"y\": [0, 1], \"yaxis\": \"y2\"}, {\"marker\": {\"color\": \"rgba(255, 0, 0, 1)\"}, \"name\": \"Start Sell\", \"type\": \"scatter\", \"x\": [228, 228], \"xaxis\": \"x\", \"y\": [0, 1], \"yaxis\": \"y2\"}],                        {\"template\": {\"data\": {\"bar\": [{\"error_x\": {\"color\": \"#2a3f5f\"}, \"error_y\": {\"color\": \"#2a3f5f\"}, \"marker\": {\"line\": {\"color\": \"#E5ECF6\", \"width\": 0.5}}, \"type\": \"bar\"}], \"barpolar\": [{\"marker\": {\"line\": {\"color\": \"#E5ECF6\", \"width\": 0.5}}, \"type\": \"barpolar\"}], \"carpet\": [{\"aaxis\": {\"endlinecolor\": \"#2a3f5f\", \"gridcolor\": \"white\", \"linecolor\": \"white\", \"minorgridcolor\": \"white\", \"startlinecolor\": \"#2a3f5f\"}, \"baxis\": {\"endlinecolor\": \"#2a3f5f\", \"gridcolor\": \"white\", \"linecolor\": \"white\", \"minorgridcolor\": \"white\", \"startlinecolor\": \"#2a3f5f\"}, \"type\": \"carpet\"}], \"choropleth\": [{\"colorbar\": {\"outlinewidth\": 0, \"ticks\": \"\"}, \"type\": \"choropleth\"}], \"contour\": [{\"colorbar\": {\"outlinewidth\": 0, \"ticks\": \"\"}, \"colorscale\": [[0.0, \"#0d0887\"], [0.1111111111111111, \"#46039f\"], [0.2222222222222222, \"#7201a8\"], [0.3333333333333333, \"#9c179e\"], [0.4444444444444444, \"#bd3786\"], [0.5555555555555556, \"#d8576b\"], [0.6666666666666666, \"#ed7953\"], [0.7777777777777778, \"#fb9f3a\"], [0.8888888888888888, \"#fdca26\"], [1.0, \"#f0f921\"]], \"type\": \"contour\"}], \"contourcarpet\": [{\"colorbar\": {\"outlinewidth\": 0, \"ticks\": \"\"}, \"type\": \"contourcarpet\"}], \"heatmap\": [{\"colorbar\": {\"outlinewidth\": 0, \"ticks\": \"\"}, \"colorscale\": [[0.0, \"#0d0887\"], [0.1111111111111111, \"#46039f\"], [0.2222222222222222, \"#7201a8\"], [0.3333333333333333, \"#9c179e\"], [0.4444444444444444, \"#bd3786\"], [0.5555555555555556, \"#d8576b\"], [0.6666666666666666, \"#ed7953\"], [0.7777777777777778, \"#fb9f3a\"], [0.8888888888888888, \"#fdca26\"], [1.0, \"#f0f921\"]], \"type\": \"heatmap\"}], \"heatmapgl\": [{\"colorbar\": {\"outlinewidth\": 0, \"ticks\": \"\"}, \"colorscale\": [[0.0, \"#0d0887\"], [0.1111111111111111, \"#46039f\"], [0.2222222222222222, \"#7201a8\"], [0.3333333333333333, \"#9c179e\"], [0.4444444444444444, \"#bd3786\"], [0.5555555555555556, \"#d8576b\"], [0.6666666666666666, \"#ed7953\"], [0.7777777777777778, \"#fb9f3a\"], [0.8888888888888888, \"#fdca26\"], [1.0, \"#f0f921\"]], \"type\": \"heatmapgl\"}], \"histogram\": [{\"marker\": {\"colorbar\": {\"outlinewidth\": 0, \"ticks\": \"\"}}, \"type\": \"histogram\"}], \"histogram2d\": [{\"colorbar\": {\"outlinewidth\": 0, \"ticks\": \"\"}, \"colorscale\": [[0.0, \"#0d0887\"], [0.1111111111111111, \"#46039f\"], [0.2222222222222222, \"#7201a8\"], [0.3333333333333333, \"#9c179e\"], [0.4444444444444444, \"#bd3786\"], [0.5555555555555556, \"#d8576b\"], [0.6666666666666666, \"#ed7953\"], [0.7777777777777778, \"#fb9f3a\"], [0.8888888888888888, \"#fdca26\"], [1.0, \"#f0f921\"]], \"type\": \"histogram2d\"}], \"histogram2dcontour\": [{\"colorbar\": {\"outlinewidth\": 0, \"ticks\": \"\"}, \"colorscale\": [[0.0, \"#0d0887\"], [0.1111111111111111, \"#46039f\"], [0.2222222222222222, \"#7201a8\"], [0.3333333333333333, \"#9c179e\"], [0.4444444444444444, \"#bd3786\"], [0.5555555555555556, \"#d8576b\"], [0.6666666666666666, \"#ed7953\"], [0.7777777777777778, \"#fb9f3a\"], [0.8888888888888888, \"#fdca26\"], [1.0, \"#f0f921\"]], \"type\": \"histogram2dcontour\"}], \"mesh3d\": [{\"colorbar\": {\"outlinewidth\": 0, \"ticks\": \"\"}, \"type\": \"mesh3d\"}], \"parcoords\": [{\"line\": {\"colorbar\": {\"outlinewidth\": 0, \"ticks\": \"\"}}, \"type\": \"parcoords\"}], \"pie\": [{\"automargin\": true, \"type\": \"pie\"}], \"scatter\": [{\"marker\": {\"colorbar\": {\"outlinewidth\": 0, \"ticks\": \"\"}}, \"type\": \"scatter\"}], \"scatter3d\": [{\"line\": {\"colorbar\": {\"outlinewidth\": 0, \"ticks\": \"\"}}, \"marker\": {\"colorbar\": {\"outlinewidth\": 0, \"ticks\": \"\"}}, \"type\": \"scatter3d\"}], \"scattercarpet\": [{\"marker\": {\"colorbar\": {\"outlinewidth\": 0, \"ticks\": \"\"}}, \"type\": \"scattercarpet\"}], \"scattergeo\": [{\"marker\": {\"colorbar\": {\"outlinewidth\": 0, \"ticks\": \"\"}}, \"type\": \"scattergeo\"}], \"scattergl\": [{\"marker\": {\"colorbar\": {\"outlinewidth\": 0, \"ticks\": \"\"}}, \"type\": \"scattergl\"}], \"scattermapbox\": [{\"marker\": {\"colorbar\": {\"outlinewidth\": 0, \"ticks\": \"\"}}, \"type\": \"scattermapbox\"}], \"scatterpolar\": [{\"marker\": {\"colorbar\": {\"outlinewidth\": 0, \"ticks\": \"\"}}, \"type\": \"scatterpolar\"}], \"scatterpolargl\": [{\"marker\": {\"colorbar\": {\"outlinewidth\": 0, \"ticks\": \"\"}}, \"type\": \"scatterpolargl\"}], \"scatterternary\": [{\"marker\": {\"colorbar\": {\"outlinewidth\": 0, \"ticks\": \"\"}}, \"type\": \"scatterternary\"}], \"surface\": [{\"colorbar\": {\"outlinewidth\": 0, \"ticks\": \"\"}, \"colorscale\": [[0.0, \"#0d0887\"], [0.1111111111111111, \"#46039f\"], [0.2222222222222222, \"#7201a8\"], [0.3333333333333333, \"#9c179e\"], [0.4444444444444444, \"#bd3786\"], [0.5555555555555556, \"#d8576b\"], [0.6666666666666666, \"#ed7953\"], [0.7777777777777778, \"#fb9f3a\"], [0.8888888888888888, \"#fdca26\"], [1.0, \"#f0f921\"]], \"type\": \"surface\"}], \"table\": [{\"cells\": {\"fill\": {\"color\": \"#EBF0F8\"}, \"line\": {\"color\": \"white\"}}, \"header\": {\"fill\": {\"color\": \"#C8D4E3\"}, \"line\": {\"color\": \"white\"}}, \"type\": \"table\"}]}, \"layout\": {\"annotationdefaults\": {\"arrowcolor\": \"#2a3f5f\", \"arrowhead\": 0, \"arrowwidth\": 1}, \"coloraxis\": {\"colorbar\": {\"outlinewidth\": 0, \"ticks\": \"\"}}, \"colorscale\": {\"diverging\": [[0, \"#8e0152\"], [0.1, \"#c51b7d\"], [0.2, \"#de77ae\"], [0.3, \"#f1b6da\"], [0.4, \"#fde0ef\"], [0.5, \"#f7f7f7\"], [0.6, \"#e6f5d0\"], [0.7, \"#b8e186\"], [0.8, \"#7fbc41\"], [0.9, \"#4d9221\"], [1, \"#276419\"]], \"sequential\": [[0.0, \"#0d0887\"], [0.1111111111111111, \"#46039f\"], [0.2222222222222222, \"#7201a8\"], [0.3333333333333333, \"#9c179e\"], [0.4444444444444444, \"#bd3786\"], [0.5555555555555556, \"#d8576b\"], [0.6666666666666666, \"#ed7953\"], [0.7777777777777778, \"#fb9f3a\"], [0.8888888888888888, \"#fdca26\"], [1.0, \"#f0f921\"]], \"sequentialminus\": [[0.0, \"#0d0887\"], [0.1111111111111111, \"#46039f\"], [0.2222222222222222, \"#7201a8\"], [0.3333333333333333, \"#9c179e\"], [0.4444444444444444, \"#bd3786\"], [0.5555555555555556, \"#d8576b\"], [0.6666666666666666, \"#ed7953\"], [0.7777777777777778, \"#fb9f3a\"], [0.8888888888888888, \"#fdca26\"], [1.0, \"#f0f921\"]]}, \"colorway\": [\"#636efa\", \"#EF553B\", \"#00cc96\", \"#ab63fa\", \"#FFA15A\", \"#19d3f3\", \"#FF6692\", \"#B6E880\", \"#FF97FF\", \"#FECB52\"], \"font\": {\"color\": \"#2a3f5f\"}, \"geo\": {\"bgcolor\": \"white\", \"lakecolor\": \"white\", \"landcolor\": \"#E5ECF6\", \"showlakes\": true, \"showland\": true, \"subunitcolor\": \"white\"}, \"hoverlabel\": {\"align\": \"left\"}, \"hovermode\": \"closest\", \"mapbox\": {\"style\": \"light\"}, \"paper_bgcolor\": \"white\", \"plot_bgcolor\": \"#E5ECF6\", \"polar\": {\"angularaxis\": {\"gridcolor\": \"white\", \"linecolor\": \"white\", \"ticks\": \"\"}, \"bgcolor\": \"#E5ECF6\", \"radialaxis\": {\"gridcolor\": \"white\", \"linecolor\": \"white\", \"ticks\": \"\"}}, \"scene\": {\"xaxis\": {\"backgroundcolor\": \"#E5ECF6\", \"gridcolor\": \"white\", \"gridwidth\": 2, \"linecolor\": \"white\", \"showbackground\": true, \"ticks\": \"\", \"zerolinecolor\": \"white\"}, \"yaxis\": {\"backgroundcolor\": \"#E5ECF6\", \"gridcolor\": \"white\", \"gridwidth\": 2, \"linecolor\": \"white\", \"showbackground\": true, \"ticks\": \"\", \"zerolinecolor\": \"white\"}, \"zaxis\": {\"backgroundcolor\": \"#E5ECF6\", \"gridcolor\": \"white\", \"gridwidth\": 2, \"linecolor\": \"white\", \"showbackground\": true, \"ticks\": \"\", \"zerolinecolor\": \"white\"}}, \"shapedefaults\": {\"line\": {\"color\": \"#2a3f5f\"}}, \"ternary\": {\"aaxis\": {\"gridcolor\": \"white\", \"linecolor\": \"white\", \"ticks\": \"\"}, \"baxis\": {\"gridcolor\": \"white\", \"linecolor\": \"white\", \"ticks\": \"\"}, \"bgcolor\": \"#E5ECF6\", \"caxis\": {\"gridcolor\": \"white\", \"linecolor\": \"white\", \"ticks\": \"\"}}, \"title\": {\"x\": 0.05}, \"xaxis\": {\"automargin\": true, \"gridcolor\": \"white\", \"linecolor\": \"white\", \"ticks\": \"\", \"title\": {\"standoff\": 15}, \"zerolinecolor\": \"white\", \"zerolinewidth\": 2}, \"yaxis\": {\"automargin\": true, \"gridcolor\": \"white\", \"linecolor\": \"white\", \"ticks\": \"\", \"title\": {\"standoff\": 15}, \"zerolinecolor\": \"white\", \"zerolinewidth\": 2}}}, \"title\": {\"text\": \"S2 Signals Backtested 2020-12-13 23:14:29.302071 Price of NVDA\"}, \"xaxis\": {\"anchor\": \"y\", \"domain\": [0.0, 0.94], \"title\": {\"text\": \"Date\"}}, \"yaxis\": {\"anchor\": \"x\", \"domain\": [0.0, 1.0], \"title\": {\"text\": \"Price\"}}, \"yaxis2\": {\"anchor\": \"x\", \"overlaying\": \"y\", \"side\": \"right\", \"title\": {\"text\": \"Reference\"}}},                        {\"responsive\": true}                    ).then(function(){\n",
       "                            \n",
       "var gd = document.getElementById('a42baa29-533e-43f4-a5f1-122ace6fe932');\n",
       "var x = new MutationObserver(function (mutations, observer) {{\n",
       "        var display = window.getComputedStyle(gd).display;\n",
       "        if (!display || display === 'none') {{\n",
       "            console.log([gd, 'removed!']);\n",
       "            Plotly.purge(gd);\n",
       "            observer.disconnect();\n",
       "        }}\n",
       "}});\n",
       "\n",
       "// Listen for the removal of the full notebook cells\n",
       "var notebookContainer = gd.closest('#notebook-container');\n",
       "if (notebookContainer) {{\n",
       "    x.observe(notebookContainer, {childList: true});\n",
       "}}\n",
       "\n",
       "// Listen for the clearing of the current output cell\n",
       "var outputEl = gd.closest('.output');\n",
       "if (outputEl) {{\n",
       "    x.observe(outputEl, {childList: true});\n",
       "}}\n",
       "\n",
       "                        })                };                });            </script>        </div>"
      ]
     },
     "metadata": {},
     "output_type": "display_data"
    }
   ],
   "source": [
    "# create figure\n",
    "signal_ticker = 'NVDA'\n",
    "\n",
    "fig = make_subplots(specs=[[{\"secondary_y\": True}]])\n",
    "fig.add_trace(go.Scatter(x=ohlc_renko[signal_ticker].index, y=ohlc_renko[signal_ticker]['Adj Close'], name='Price'))\n",
    "\n",
    "for i in range(len(ohlc_renko[signal_ticker])):\n",
    "    if (ohlc_renko[signal_ticker]['signal'][i] == 'Start Buy'):\n",
    "        fig.add_trace(go.Scatter(x=[ohlc_renko[signal_ticker].index[i], ohlc_renko[signal_ticker].index[i]], y=[0,1], name='Start Buy', marker_color='rgba(0, 255, 0, 1)'), secondary_y=True)\n",
    "    if (ohlc_renko[signal_ticker]['signal'][i] == 'Close Buy'):\n",
    "        fig.add_trace(go.Scatter(x=[ohlc_renko[signal_ticker].index[i], ohlc_renko[signal_ticker].index[i]], y=[0,1], name='Close Buy', marker_color='rgba(0, 255, 0, 0.1)'), secondary_y=True)\n",
    "    if (ohlc_renko[signal_ticker]['signal'][i] == 'Start Sell Reversal'):\n",
    "        fig.add_trace(go.Scatter(x=[ohlc_renko[signal_ticker].index[i], ohlc_renko[signal_ticker].index[i]], y=[0,1], name='Start Sell Reversal', marker_color='rgba(255, 255, 0, 1)'), secondary_y=True)\n",
    "    if (ohlc_renko[signal_ticker]['signal'][i] == 'Start Sell'):\n",
    "        fig.add_trace(go.Scatter(x=[ohlc_renko[signal_ticker].index[i], ohlc_renko[signal_ticker].index[i]], y=[0,1], name='Start Sell', marker_color='rgba(255, 0, 0, 1)'), secondary_y=True)\n",
    "    if (ohlc_renko[signal_ticker]['signal'][i] == 'Close Sell'):\n",
    "        fig.add_trace(go.Scatter(x=[ohlc_renko[signal_ticker].index[i], ohlc_renko[signal_ticker].index[i]], y=[0,1], name='Close Sell', marker_color='rgba(255, 0, 0, 0.1)'), secondary_y=True)\n",
    "    if (ohlc_renko[signal_ticker]['signal'][i] == 'Start Buy Reversal'):\n",
    "        fig.add_trace(go.Scatter(x=[ohlc_renko[signal_ticker].index[i], ohlc_renko[signal_ticker].index[i]], y=[0,1], name='Start Buy Reversal', marker_color='rgba(0, 255, 255, 1)'), secondary_y=True)\n",
    "\n",
    "# format figure\n",
    "fig.update_layout(title_text=f'S2 Signals Backtested {dt.datetime.today()} Price of {signal_ticker}')\n",
    "fig.update_xaxes(title_text='Date')\n",
    "fig.update_yaxes(title_text='Price')\n",
    "fig.update_yaxes(title_text='Reference', secondary_y=True)"
   ]
  },
  {
   "cell_type": "code",
   "execution_count": 24,
   "metadata": {},
   "outputs": [
    {
     "data": {
      "application/vnd.plotly.v1+json": {
       "config": {
        "plotlyServerURL": "https://plot.ly"
       },
       "data": [
        {
         "name": "Bar Number",
         "type": "scatter",
         "x": [
          0,
          1,
          2,
          3,
          4,
          5,
          6,
          7,
          8,
          9,
          10,
          11,
          12,
          13,
          14,
          15,
          16,
          17,
          18,
          19,
          20,
          21,
          22,
          23,
          24,
          25,
          26,
          27,
          28,
          29,
          30,
          31,
          32,
          33,
          34,
          35,
          36,
          37,
          38,
          39,
          40,
          41,
          42,
          43,
          44,
          45,
          46,
          47,
          48,
          49,
          50,
          51,
          52,
          53,
          54,
          55,
          56,
          57,
          58,
          59,
          60,
          61,
          62,
          63,
          64,
          65,
          66,
          67,
          68,
          69,
          70,
          71,
          72,
          73,
          74,
          75,
          76,
          77,
          78,
          79,
          80,
          81,
          82,
          83,
          84,
          85,
          86,
          87,
          88,
          89,
          90,
          91,
          92,
          93,
          94,
          95,
          96,
          97,
          98,
          99,
          100,
          101,
          102,
          103,
          104,
          105,
          106,
          107,
          108,
          109,
          110,
          111,
          112,
          113,
          114,
          115,
          116,
          117,
          118,
          119,
          120,
          121,
          122,
          123,
          124,
          125,
          126,
          127,
          128,
          129,
          130,
          131,
          132,
          133,
          134,
          135,
          136,
          137,
          138,
          139,
          140,
          141,
          142,
          143,
          144,
          145,
          146,
          147,
          148,
          149,
          150,
          151,
          152,
          153,
          154,
          155,
          156,
          157,
          158,
          159,
          160,
          161,
          162,
          163,
          164,
          165,
          166,
          167,
          168,
          169,
          170,
          171,
          172,
          173,
          174,
          175,
          176,
          177,
          178,
          179,
          180,
          181,
          182,
          183,
          184,
          185,
          186,
          187,
          188,
          189,
          190,
          191,
          192,
          193,
          194,
          195,
          196,
          197,
          198,
          199,
          200,
          201,
          202,
          203,
          204,
          205,
          206,
          207,
          208,
          209,
          210,
          211,
          212,
          213,
          214,
          215,
          216,
          217,
          218,
          219,
          220,
          221,
          222,
          223,
          224,
          225,
          226,
          227,
          228,
          229,
          230,
          231,
          232,
          233,
          234,
          235,
          236,
          237,
          238,
          239,
          240,
          241,
          242,
          243,
          244,
          245,
          246,
          247,
          248,
          249,
          250
         ],
         "y": [
          1,
          1,
          1,
          2,
          2,
          2,
          2,
          2,
          2,
          2,
          2,
          2,
          2,
          2,
          2,
          2,
          2,
          2,
          3,
          3,
          3,
          3,
          3,
          3,
          3,
          3,
          3,
          3,
          3,
          3,
          3,
          3,
          3,
          3,
          3,
          3,
          3,
          4,
          4,
          4,
          4,
          6,
          6,
          8,
          8,
          8,
          -2,
          -2,
          -2,
          -3,
          -3,
          -3,
          -3,
          -3,
          -3,
          -3,
          -4,
          -4,
          -4,
          -6,
          -6,
          -7,
          -7,
          -7,
          -7,
          -7,
          -7,
          2,
          2,
          2,
          2,
          3,
          3,
          3,
          3,
          3,
          3,
          3,
          3,
          3,
          3,
          4,
          4,
          5,
          5,
          5,
          5,
          5,
          5,
          5,
          5,
          5,
          5,
          5,
          5,
          5,
          5,
          5,
          6,
          7,
          7,
          7,
          7,
          7,
          9,
          9,
          10,
          10,
          10,
          10,
          10,
          10,
          10,
          10,
          10,
          10,
          10,
          10,
          10,
          10,
          10,
          11,
          11,
          11,
          11,
          11,
          11,
          11,
          11,
          12,
          12,
          12,
          12,
          12,
          12,
          12,
          12,
          12,
          13,
          13,
          14,
          15,
          15,
          15,
          15,
          15,
          15,
          15,
          15,
          15,
          15,
          15,
          15,
          15,
          15,
          15,
          15,
          15,
          16,
          17,
          17,
          17,
          17,
          17,
          17,
          18,
          18,
          18,
          20,
          20,
          20,
          20,
          22,
          22,
          22,
          22,
          22,
          23,
          24,
          25,
          27,
          -2,
          -4,
          -6,
          1,
          1,
          1,
          1,
          1,
          1,
          1,
          1,
          1,
          1,
          1,
          1,
          1,
          2,
          2,
          3,
          3,
          3,
          3,
          4,
          4,
          4,
          4,
          5,
          5,
          5,
          5,
          5,
          5,
          5,
          5,
          5,
          5,
          -1,
          -1,
          -3,
          -3,
          -3,
          -3,
          -3,
          2,
          3,
          4,
          -1,
          -3,
          -3,
          -3,
          -3,
          -3,
          -3,
          -3,
          -3,
          -3,
          -3,
          -3,
          -3,
          -3,
          -3,
          -3,
          -3,
          -3,
          -3,
          -3,
          -3,
          -3,
          -3,
          -3
         ]
        },
        {
         "marker": {
          "color": "rgba(0, 255, 0, 1)"
         },
         "name": "Start Buy",
         "type": "scatter",
         "x": [
          4,
          4
         ],
         "xaxis": "x",
         "y": [
          0,
          1
         ],
         "yaxis": "y2"
        },
        {
         "marker": {
          "color": "rgba(255, 255, 0, 1)"
         },
         "name": "Start Sell Reversal",
         "type": "scatter",
         "x": [
          46,
          46
         ],
         "xaxis": "x",
         "y": [
          0,
          1
         ],
         "yaxis": "y2"
        },
        {
         "marker": {
          "color": "rgba(0, 255, 255, 1)"
         },
         "name": "Start Buy Reversal",
         "type": "scatter",
         "x": [
          67,
          67
         ],
         "xaxis": "x",
         "y": [
          0,
          1
         ],
         "yaxis": "y2"
        },
        {
         "marker": {
          "color": "rgba(0, 255, 0, 0.1)"
         },
         "name": "Close Buy",
         "type": "scatter",
         "x": [
          181,
          181
         ],
         "xaxis": "x",
         "y": [
          0,
          1
         ],
         "yaxis": "y2"
        },
        {
         "marker": {
          "color": "rgba(255, 0, 0, 1)"
         },
         "name": "Start Sell",
         "type": "scatter",
         "x": [
          182,
          182
         ],
         "xaxis": "x",
         "y": [
          0,
          1
         ],
         "yaxis": "y2"
        },
        {
         "marker": {
          "color": "rgba(255, 0, 0, 0.1)"
         },
         "name": "Close Sell",
         "type": "scatter",
         "x": [
          184,
          184
         ],
         "xaxis": "x",
         "y": [
          0,
          1
         ],
         "yaxis": "y2"
        },
        {
         "marker": {
          "color": "rgba(0, 255, 0, 1)"
         },
         "name": "Start Buy",
         "type": "scatter",
         "x": [
          197,
          197
         ],
         "xaxis": "x",
         "y": [
          0,
          1
         ],
         "yaxis": "y2"
        },
        {
         "marker": {
          "color": "rgba(0, 255, 0, 0.1)"
         },
         "name": "Close Buy",
         "type": "scatter",
         "x": [
          217,
          217
         ],
         "xaxis": "x",
         "y": [
          0,
          1
         ],
         "yaxis": "y2"
        },
        {
         "marker": {
          "color": "rgba(255, 0, 0, 1)"
         },
         "name": "Start Sell",
         "type": "scatter",
         "x": [
          219,
          219
         ],
         "xaxis": "x",
         "y": [
          0,
          1
         ],
         "yaxis": "y2"
        },
        {
         "marker": {
          "color": "rgba(0, 255, 255, 1)"
         },
         "name": "Start Buy Reversal",
         "type": "scatter",
         "x": [
          224,
          224
         ],
         "xaxis": "x",
         "y": [
          0,
          1
         ],
         "yaxis": "y2"
        },
        {
         "marker": {
          "color": "rgba(0, 255, 0, 0.1)"
         },
         "name": "Close Buy",
         "type": "scatter",
         "x": [
          227,
          227
         ],
         "xaxis": "x",
         "y": [
          0,
          1
         ],
         "yaxis": "y2"
        },
        {
         "marker": {
          "color": "rgba(255, 0, 0, 1)"
         },
         "name": "Start Sell",
         "type": "scatter",
         "x": [
          228,
          228
         ],
         "xaxis": "x",
         "y": [
          0,
          1
         ],
         "yaxis": "y2"
        }
       ],
       "layout": {
        "template": {
         "data": {
          "bar": [
           {
            "error_x": {
             "color": "#2a3f5f"
            },
            "error_y": {
             "color": "#2a3f5f"
            },
            "marker": {
             "line": {
              "color": "#E5ECF6",
              "width": 0.5
             }
            },
            "type": "bar"
           }
          ],
          "barpolar": [
           {
            "marker": {
             "line": {
              "color": "#E5ECF6",
              "width": 0.5
             }
            },
            "type": "barpolar"
           }
          ],
          "carpet": [
           {
            "aaxis": {
             "endlinecolor": "#2a3f5f",
             "gridcolor": "white",
             "linecolor": "white",
             "minorgridcolor": "white",
             "startlinecolor": "#2a3f5f"
            },
            "baxis": {
             "endlinecolor": "#2a3f5f",
             "gridcolor": "white",
             "linecolor": "white",
             "minorgridcolor": "white",
             "startlinecolor": "#2a3f5f"
            },
            "type": "carpet"
           }
          ],
          "choropleth": [
           {
            "colorbar": {
             "outlinewidth": 0,
             "ticks": ""
            },
            "type": "choropleth"
           }
          ],
          "contour": [
           {
            "colorbar": {
             "outlinewidth": 0,
             "ticks": ""
            },
            "colorscale": [
             [
              0,
              "#0d0887"
             ],
             [
              0.1111111111111111,
              "#46039f"
             ],
             [
              0.2222222222222222,
              "#7201a8"
             ],
             [
              0.3333333333333333,
              "#9c179e"
             ],
             [
              0.4444444444444444,
              "#bd3786"
             ],
             [
              0.5555555555555556,
              "#d8576b"
             ],
             [
              0.6666666666666666,
              "#ed7953"
             ],
             [
              0.7777777777777778,
              "#fb9f3a"
             ],
             [
              0.8888888888888888,
              "#fdca26"
             ],
             [
              1,
              "#f0f921"
             ]
            ],
            "type": "contour"
           }
          ],
          "contourcarpet": [
           {
            "colorbar": {
             "outlinewidth": 0,
             "ticks": ""
            },
            "type": "contourcarpet"
           }
          ],
          "heatmap": [
           {
            "colorbar": {
             "outlinewidth": 0,
             "ticks": ""
            },
            "colorscale": [
             [
              0,
              "#0d0887"
             ],
             [
              0.1111111111111111,
              "#46039f"
             ],
             [
              0.2222222222222222,
              "#7201a8"
             ],
             [
              0.3333333333333333,
              "#9c179e"
             ],
             [
              0.4444444444444444,
              "#bd3786"
             ],
             [
              0.5555555555555556,
              "#d8576b"
             ],
             [
              0.6666666666666666,
              "#ed7953"
             ],
             [
              0.7777777777777778,
              "#fb9f3a"
             ],
             [
              0.8888888888888888,
              "#fdca26"
             ],
             [
              1,
              "#f0f921"
             ]
            ],
            "type": "heatmap"
           }
          ],
          "heatmapgl": [
           {
            "colorbar": {
             "outlinewidth": 0,
             "ticks": ""
            },
            "colorscale": [
             [
              0,
              "#0d0887"
             ],
             [
              0.1111111111111111,
              "#46039f"
             ],
             [
              0.2222222222222222,
              "#7201a8"
             ],
             [
              0.3333333333333333,
              "#9c179e"
             ],
             [
              0.4444444444444444,
              "#bd3786"
             ],
             [
              0.5555555555555556,
              "#d8576b"
             ],
             [
              0.6666666666666666,
              "#ed7953"
             ],
             [
              0.7777777777777778,
              "#fb9f3a"
             ],
             [
              0.8888888888888888,
              "#fdca26"
             ],
             [
              1,
              "#f0f921"
             ]
            ],
            "type": "heatmapgl"
           }
          ],
          "histogram": [
           {
            "marker": {
             "colorbar": {
              "outlinewidth": 0,
              "ticks": ""
             }
            },
            "type": "histogram"
           }
          ],
          "histogram2d": [
           {
            "colorbar": {
             "outlinewidth": 0,
             "ticks": ""
            },
            "colorscale": [
             [
              0,
              "#0d0887"
             ],
             [
              0.1111111111111111,
              "#46039f"
             ],
             [
              0.2222222222222222,
              "#7201a8"
             ],
             [
              0.3333333333333333,
              "#9c179e"
             ],
             [
              0.4444444444444444,
              "#bd3786"
             ],
             [
              0.5555555555555556,
              "#d8576b"
             ],
             [
              0.6666666666666666,
              "#ed7953"
             ],
             [
              0.7777777777777778,
              "#fb9f3a"
             ],
             [
              0.8888888888888888,
              "#fdca26"
             ],
             [
              1,
              "#f0f921"
             ]
            ],
            "type": "histogram2d"
           }
          ],
          "histogram2dcontour": [
           {
            "colorbar": {
             "outlinewidth": 0,
             "ticks": ""
            },
            "colorscale": [
             [
              0,
              "#0d0887"
             ],
             [
              0.1111111111111111,
              "#46039f"
             ],
             [
              0.2222222222222222,
              "#7201a8"
             ],
             [
              0.3333333333333333,
              "#9c179e"
             ],
             [
              0.4444444444444444,
              "#bd3786"
             ],
             [
              0.5555555555555556,
              "#d8576b"
             ],
             [
              0.6666666666666666,
              "#ed7953"
             ],
             [
              0.7777777777777778,
              "#fb9f3a"
             ],
             [
              0.8888888888888888,
              "#fdca26"
             ],
             [
              1,
              "#f0f921"
             ]
            ],
            "type": "histogram2dcontour"
           }
          ],
          "mesh3d": [
           {
            "colorbar": {
             "outlinewidth": 0,
             "ticks": ""
            },
            "type": "mesh3d"
           }
          ],
          "parcoords": [
           {
            "line": {
             "colorbar": {
              "outlinewidth": 0,
              "ticks": ""
             }
            },
            "type": "parcoords"
           }
          ],
          "pie": [
           {
            "automargin": true,
            "type": "pie"
           }
          ],
          "scatter": [
           {
            "marker": {
             "colorbar": {
              "outlinewidth": 0,
              "ticks": ""
             }
            },
            "type": "scatter"
           }
          ],
          "scatter3d": [
           {
            "line": {
             "colorbar": {
              "outlinewidth": 0,
              "ticks": ""
             }
            },
            "marker": {
             "colorbar": {
              "outlinewidth": 0,
              "ticks": ""
             }
            },
            "type": "scatter3d"
           }
          ],
          "scattercarpet": [
           {
            "marker": {
             "colorbar": {
              "outlinewidth": 0,
              "ticks": ""
             }
            },
            "type": "scattercarpet"
           }
          ],
          "scattergeo": [
           {
            "marker": {
             "colorbar": {
              "outlinewidth": 0,
              "ticks": ""
             }
            },
            "type": "scattergeo"
           }
          ],
          "scattergl": [
           {
            "marker": {
             "colorbar": {
              "outlinewidth": 0,
              "ticks": ""
             }
            },
            "type": "scattergl"
           }
          ],
          "scattermapbox": [
           {
            "marker": {
             "colorbar": {
              "outlinewidth": 0,
              "ticks": ""
             }
            },
            "type": "scattermapbox"
           }
          ],
          "scatterpolar": [
           {
            "marker": {
             "colorbar": {
              "outlinewidth": 0,
              "ticks": ""
             }
            },
            "type": "scatterpolar"
           }
          ],
          "scatterpolargl": [
           {
            "marker": {
             "colorbar": {
              "outlinewidth": 0,
              "ticks": ""
             }
            },
            "type": "scatterpolargl"
           }
          ],
          "scatterternary": [
           {
            "marker": {
             "colorbar": {
              "outlinewidth": 0,
              "ticks": ""
             }
            },
            "type": "scatterternary"
           }
          ],
          "surface": [
           {
            "colorbar": {
             "outlinewidth": 0,
             "ticks": ""
            },
            "colorscale": [
             [
              0,
              "#0d0887"
             ],
             [
              0.1111111111111111,
              "#46039f"
             ],
             [
              0.2222222222222222,
              "#7201a8"
             ],
             [
              0.3333333333333333,
              "#9c179e"
             ],
             [
              0.4444444444444444,
              "#bd3786"
             ],
             [
              0.5555555555555556,
              "#d8576b"
             ],
             [
              0.6666666666666666,
              "#ed7953"
             ],
             [
              0.7777777777777778,
              "#fb9f3a"
             ],
             [
              0.8888888888888888,
              "#fdca26"
             ],
             [
              1,
              "#f0f921"
             ]
            ],
            "type": "surface"
           }
          ],
          "table": [
           {
            "cells": {
             "fill": {
              "color": "#EBF0F8"
             },
             "line": {
              "color": "white"
             }
            },
            "header": {
             "fill": {
              "color": "#C8D4E3"
             },
             "line": {
              "color": "white"
             }
            },
            "type": "table"
           }
          ]
         },
         "layout": {
          "annotationdefaults": {
           "arrowcolor": "#2a3f5f",
           "arrowhead": 0,
           "arrowwidth": 1
          },
          "coloraxis": {
           "colorbar": {
            "outlinewidth": 0,
            "ticks": ""
           }
          },
          "colorscale": {
           "diverging": [
            [
             0,
             "#8e0152"
            ],
            [
             0.1,
             "#c51b7d"
            ],
            [
             0.2,
             "#de77ae"
            ],
            [
             0.3,
             "#f1b6da"
            ],
            [
             0.4,
             "#fde0ef"
            ],
            [
             0.5,
             "#f7f7f7"
            ],
            [
             0.6,
             "#e6f5d0"
            ],
            [
             0.7,
             "#b8e186"
            ],
            [
             0.8,
             "#7fbc41"
            ],
            [
             0.9,
             "#4d9221"
            ],
            [
             1,
             "#276419"
            ]
           ],
           "sequential": [
            [
             0,
             "#0d0887"
            ],
            [
             0.1111111111111111,
             "#46039f"
            ],
            [
             0.2222222222222222,
             "#7201a8"
            ],
            [
             0.3333333333333333,
             "#9c179e"
            ],
            [
             0.4444444444444444,
             "#bd3786"
            ],
            [
             0.5555555555555556,
             "#d8576b"
            ],
            [
             0.6666666666666666,
             "#ed7953"
            ],
            [
             0.7777777777777778,
             "#fb9f3a"
            ],
            [
             0.8888888888888888,
             "#fdca26"
            ],
            [
             1,
             "#f0f921"
            ]
           ],
           "sequentialminus": [
            [
             0,
             "#0d0887"
            ],
            [
             0.1111111111111111,
             "#46039f"
            ],
            [
             0.2222222222222222,
             "#7201a8"
            ],
            [
             0.3333333333333333,
             "#9c179e"
            ],
            [
             0.4444444444444444,
             "#bd3786"
            ],
            [
             0.5555555555555556,
             "#d8576b"
            ],
            [
             0.6666666666666666,
             "#ed7953"
            ],
            [
             0.7777777777777778,
             "#fb9f3a"
            ],
            [
             0.8888888888888888,
             "#fdca26"
            ],
            [
             1,
             "#f0f921"
            ]
           ]
          },
          "colorway": [
           "#636efa",
           "#EF553B",
           "#00cc96",
           "#ab63fa",
           "#FFA15A",
           "#19d3f3",
           "#FF6692",
           "#B6E880",
           "#FF97FF",
           "#FECB52"
          ],
          "font": {
           "color": "#2a3f5f"
          },
          "geo": {
           "bgcolor": "white",
           "lakecolor": "white",
           "landcolor": "#E5ECF6",
           "showlakes": true,
           "showland": true,
           "subunitcolor": "white"
          },
          "hoverlabel": {
           "align": "left"
          },
          "hovermode": "closest",
          "mapbox": {
           "style": "light"
          },
          "paper_bgcolor": "white",
          "plot_bgcolor": "#E5ECF6",
          "polar": {
           "angularaxis": {
            "gridcolor": "white",
            "linecolor": "white",
            "ticks": ""
           },
           "bgcolor": "#E5ECF6",
           "radialaxis": {
            "gridcolor": "white",
            "linecolor": "white",
            "ticks": ""
           }
          },
          "scene": {
           "xaxis": {
            "backgroundcolor": "#E5ECF6",
            "gridcolor": "white",
            "gridwidth": 2,
            "linecolor": "white",
            "showbackground": true,
            "ticks": "",
            "zerolinecolor": "white"
           },
           "yaxis": {
            "backgroundcolor": "#E5ECF6",
            "gridcolor": "white",
            "gridwidth": 2,
            "linecolor": "white",
            "showbackground": true,
            "ticks": "",
            "zerolinecolor": "white"
           },
           "zaxis": {
            "backgroundcolor": "#E5ECF6",
            "gridcolor": "white",
            "gridwidth": 2,
            "linecolor": "white",
            "showbackground": true,
            "ticks": "",
            "zerolinecolor": "white"
           }
          },
          "shapedefaults": {
           "line": {
            "color": "#2a3f5f"
           }
          },
          "ternary": {
           "aaxis": {
            "gridcolor": "white",
            "linecolor": "white",
            "ticks": ""
           },
           "baxis": {
            "gridcolor": "white",
            "linecolor": "white",
            "ticks": ""
           },
           "bgcolor": "#E5ECF6",
           "caxis": {
            "gridcolor": "white",
            "linecolor": "white",
            "ticks": ""
           }
          },
          "title": {
           "x": 0.05
          },
          "xaxis": {
           "automargin": true,
           "gridcolor": "white",
           "linecolor": "white",
           "ticks": "",
           "title": {
            "standoff": 15
           },
           "zerolinecolor": "white",
           "zerolinewidth": 2
          },
          "yaxis": {
           "automargin": true,
           "gridcolor": "white",
           "linecolor": "white",
           "ticks": "",
           "title": {
            "standoff": 15
           },
           "zerolinecolor": "white",
           "zerolinewidth": 2
          }
         }
        },
        "title": {
         "text": "S2 Signals Backtested 2020-12-13 23:14:39.828524 Renko of NVDA"
        },
        "xaxis": {
         "anchor": "y",
         "domain": [
          0,
          0.94
         ],
         "title": {
          "text": "Date"
         }
        },
        "yaxis": {
         "anchor": "x",
         "domain": [
          0,
          1
         ],
         "title": {
          "text": "Renko Blocks"
         }
        },
        "yaxis2": {
         "anchor": "x",
         "overlaying": "y",
         "side": "right",
         "title": {
          "text": "Reference"
         }
        }
       }
      },
      "text/html": [
       "<div>                            <div id=\"7615f55c-ac94-4fbe-9b0e-5d6c2d819197\" class=\"plotly-graph-div\" style=\"height:525px; width:100%;\"></div>            <script type=\"text/javascript\">                require([\"plotly\"], function(Plotly) {                    window.PLOTLYENV=window.PLOTLYENV || {};                                    if (document.getElementById(\"7615f55c-ac94-4fbe-9b0e-5d6c2d819197\")) {                    Plotly.newPlot(                        \"7615f55c-ac94-4fbe-9b0e-5d6c2d819197\",                        [{\"name\": \"Bar Number\", \"type\": \"scatter\", \"x\": [0, 1, 2, 3, 4, 5, 6, 7, 8, 9, 10, 11, 12, 13, 14, 15, 16, 17, 18, 19, 20, 21, 22, 23, 24, 25, 26, 27, 28, 29, 30, 31, 32, 33, 34, 35, 36, 37, 38, 39, 40, 41, 42, 43, 44, 45, 46, 47, 48, 49, 50, 51, 52, 53, 54, 55, 56, 57, 58, 59, 60, 61, 62, 63, 64, 65, 66, 67, 68, 69, 70, 71, 72, 73, 74, 75, 76, 77, 78, 79, 80, 81, 82, 83, 84, 85, 86, 87, 88, 89, 90, 91, 92, 93, 94, 95, 96, 97, 98, 99, 100, 101, 102, 103, 104, 105, 106, 107, 108, 109, 110, 111, 112, 113, 114, 115, 116, 117, 118, 119, 120, 121, 122, 123, 124, 125, 126, 127, 128, 129, 130, 131, 132, 133, 134, 135, 136, 137, 138, 139, 140, 141, 142, 143, 144, 145, 146, 147, 148, 149, 150, 151, 152, 153, 154, 155, 156, 157, 158, 159, 160, 161, 162, 163, 164, 165, 166, 167, 168, 169, 170, 171, 172, 173, 174, 175, 176, 177, 178, 179, 180, 181, 182, 183, 184, 185, 186, 187, 188, 189, 190, 191, 192, 193, 194, 195, 196, 197, 198, 199, 200, 201, 202, 203, 204, 205, 206, 207, 208, 209, 210, 211, 212, 213, 214, 215, 216, 217, 218, 219, 220, 221, 222, 223, 224, 225, 226, 227, 228, 229, 230, 231, 232, 233, 234, 235, 236, 237, 238, 239, 240, 241, 242, 243, 244, 245, 246, 247, 248, 249, 250], \"y\": [1.0, 1.0, 1.0, 2.0, 2.0, 2.0, 2.0, 2.0, 2.0, 2.0, 2.0, 2.0, 2.0, 2.0, 2.0, 2.0, 2.0, 2.0, 3.0, 3.0, 3.0, 3.0, 3.0, 3.0, 3.0, 3.0, 3.0, 3.0, 3.0, 3.0, 3.0, 3.0, 3.0, 3.0, 3.0, 3.0, 3.0, 4.0, 4.0, 4.0, 4.0, 6.0, 6.0, 8.0, 8.0, 8.0, -2.0, -2.0, -2.0, -3.0, -3.0, -3.0, -3.0, -3.0, -3.0, -3.0, -4.0, -4.0, -4.0, -6.0, -6.0, -7.0, -7.0, -7.0, -7.0, -7.0, -7.0, 2.0, 2.0, 2.0, 2.0, 3.0, 3.0, 3.0, 3.0, 3.0, 3.0, 3.0, 3.0, 3.0, 3.0, 4.0, 4.0, 5.0, 5.0, 5.0, 5.0, 5.0, 5.0, 5.0, 5.0, 5.0, 5.0, 5.0, 5.0, 5.0, 5.0, 5.0, 6.0, 7.0, 7.0, 7.0, 7.0, 7.0, 9.0, 9.0, 10.0, 10.0, 10.0, 10.0, 10.0, 10.0, 10.0, 10.0, 10.0, 10.0, 10.0, 10.0, 10.0, 10.0, 10.0, 11.0, 11.0, 11.0, 11.0, 11.0, 11.0, 11.0, 11.0, 12.0, 12.0, 12.0, 12.0, 12.0, 12.0, 12.0, 12.0, 12.0, 13.0, 13.0, 14.0, 15.0, 15.0, 15.0, 15.0, 15.0, 15.0, 15.0, 15.0, 15.0, 15.0, 15.0, 15.0, 15.0, 15.0, 15.0, 15.0, 15.0, 16.0, 17.0, 17.0, 17.0, 17.0, 17.0, 17.0, 18.0, 18.0, 18.0, 20.0, 20.0, 20.0, 20.0, 22.0, 22.0, 22.0, 22.0, 22.0, 23.0, 24.0, 25.0, 27.0, -2.0, -4.0, -6.0, 1.0, 1.0, 1.0, 1.0, 1.0, 1.0, 1.0, 1.0, 1.0, 1.0, 1.0, 1.0, 1.0, 2.0, 2.0, 3.0, 3.0, 3.0, 3.0, 4.0, 4.0, 4.0, 4.0, 5.0, 5.0, 5.0, 5.0, 5.0, 5.0, 5.0, 5.0, 5.0, 5.0, -1.0, -1.0, -3.0, -3.0, -3.0, -3.0, -3.0, 2.0, 3.0, 4.0, -1.0, -3.0, -3.0, -3.0, -3.0, -3.0, -3.0, -3.0, -3.0, -3.0, -3.0, -3.0, -3.0, -3.0, -3.0, -3.0, -3.0, -3.0, -3.0, -3.0, -3.0, -3.0, -3.0, -3.0]}, {\"marker\": {\"color\": \"rgba(0, 255, 0, 1)\"}, \"name\": \"Start Buy\", \"type\": \"scatter\", \"x\": [4, 4], \"xaxis\": \"x\", \"y\": [0, 1], \"yaxis\": \"y2\"}, {\"marker\": {\"color\": \"rgba(255, 255, 0, 1)\"}, \"name\": \"Start Sell Reversal\", \"type\": \"scatter\", \"x\": [46, 46], \"xaxis\": \"x\", \"y\": [0, 1], \"yaxis\": \"y2\"}, {\"marker\": {\"color\": \"rgba(0, 255, 255, 1)\"}, \"name\": \"Start Buy Reversal\", \"type\": \"scatter\", \"x\": [67, 67], \"xaxis\": \"x\", \"y\": [0, 1], \"yaxis\": \"y2\"}, {\"marker\": {\"color\": \"rgba(0, 255, 0, 0.1)\"}, \"name\": \"Close Buy\", \"type\": \"scatter\", \"x\": [181, 181], \"xaxis\": \"x\", \"y\": [0, 1], \"yaxis\": \"y2\"}, {\"marker\": {\"color\": \"rgba(255, 0, 0, 1)\"}, \"name\": \"Start Sell\", \"type\": \"scatter\", \"x\": [182, 182], \"xaxis\": \"x\", \"y\": [0, 1], \"yaxis\": \"y2\"}, {\"marker\": {\"color\": \"rgba(255, 0, 0, 0.1)\"}, \"name\": \"Close Sell\", \"type\": \"scatter\", \"x\": [184, 184], \"xaxis\": \"x\", \"y\": [0, 1], \"yaxis\": \"y2\"}, {\"marker\": {\"color\": \"rgba(0, 255, 0, 1)\"}, \"name\": \"Start Buy\", \"type\": \"scatter\", \"x\": [197, 197], \"xaxis\": \"x\", \"y\": [0, 1], \"yaxis\": \"y2\"}, {\"marker\": {\"color\": \"rgba(0, 255, 0, 0.1)\"}, \"name\": \"Close Buy\", \"type\": \"scatter\", \"x\": [217, 217], \"xaxis\": \"x\", \"y\": [0, 1], \"yaxis\": \"y2\"}, {\"marker\": {\"color\": \"rgba(255, 0, 0, 1)\"}, \"name\": \"Start Sell\", \"type\": \"scatter\", \"x\": [219, 219], \"xaxis\": \"x\", \"y\": [0, 1], \"yaxis\": \"y2\"}, {\"marker\": {\"color\": \"rgba(0, 255, 255, 1)\"}, \"name\": \"Start Buy Reversal\", \"type\": \"scatter\", \"x\": [224, 224], \"xaxis\": \"x\", \"y\": [0, 1], \"yaxis\": \"y2\"}, {\"marker\": {\"color\": \"rgba(0, 255, 0, 0.1)\"}, \"name\": \"Close Buy\", \"type\": \"scatter\", \"x\": [227, 227], \"xaxis\": \"x\", \"y\": [0, 1], \"yaxis\": \"y2\"}, {\"marker\": {\"color\": \"rgba(255, 0, 0, 1)\"}, \"name\": \"Start Sell\", \"type\": \"scatter\", \"x\": [228, 228], \"xaxis\": \"x\", \"y\": [0, 1], \"yaxis\": \"y2\"}],                        {\"template\": {\"data\": {\"bar\": [{\"error_x\": {\"color\": \"#2a3f5f\"}, \"error_y\": {\"color\": \"#2a3f5f\"}, \"marker\": {\"line\": {\"color\": \"#E5ECF6\", \"width\": 0.5}}, \"type\": \"bar\"}], \"barpolar\": [{\"marker\": {\"line\": {\"color\": \"#E5ECF6\", \"width\": 0.5}}, \"type\": \"barpolar\"}], \"carpet\": [{\"aaxis\": {\"endlinecolor\": \"#2a3f5f\", \"gridcolor\": \"white\", \"linecolor\": \"white\", \"minorgridcolor\": \"white\", \"startlinecolor\": \"#2a3f5f\"}, \"baxis\": {\"endlinecolor\": \"#2a3f5f\", \"gridcolor\": \"white\", \"linecolor\": \"white\", \"minorgridcolor\": \"white\", \"startlinecolor\": \"#2a3f5f\"}, \"type\": \"carpet\"}], \"choropleth\": [{\"colorbar\": {\"outlinewidth\": 0, \"ticks\": \"\"}, \"type\": \"choropleth\"}], \"contour\": [{\"colorbar\": {\"outlinewidth\": 0, \"ticks\": \"\"}, \"colorscale\": [[0.0, \"#0d0887\"], [0.1111111111111111, \"#46039f\"], [0.2222222222222222, \"#7201a8\"], [0.3333333333333333, \"#9c179e\"], [0.4444444444444444, \"#bd3786\"], [0.5555555555555556, \"#d8576b\"], [0.6666666666666666, \"#ed7953\"], [0.7777777777777778, \"#fb9f3a\"], [0.8888888888888888, \"#fdca26\"], [1.0, \"#f0f921\"]], \"type\": \"contour\"}], \"contourcarpet\": [{\"colorbar\": {\"outlinewidth\": 0, \"ticks\": \"\"}, \"type\": \"contourcarpet\"}], \"heatmap\": [{\"colorbar\": {\"outlinewidth\": 0, \"ticks\": \"\"}, \"colorscale\": [[0.0, \"#0d0887\"], [0.1111111111111111, \"#46039f\"], [0.2222222222222222, \"#7201a8\"], [0.3333333333333333, \"#9c179e\"], [0.4444444444444444, \"#bd3786\"], [0.5555555555555556, \"#d8576b\"], [0.6666666666666666, \"#ed7953\"], [0.7777777777777778, \"#fb9f3a\"], [0.8888888888888888, \"#fdca26\"], [1.0, \"#f0f921\"]], \"type\": \"heatmap\"}], \"heatmapgl\": [{\"colorbar\": {\"outlinewidth\": 0, \"ticks\": \"\"}, \"colorscale\": [[0.0, \"#0d0887\"], [0.1111111111111111, \"#46039f\"], [0.2222222222222222, \"#7201a8\"], [0.3333333333333333, \"#9c179e\"], [0.4444444444444444, \"#bd3786\"], [0.5555555555555556, \"#d8576b\"], [0.6666666666666666, \"#ed7953\"], [0.7777777777777778, \"#fb9f3a\"], [0.8888888888888888, \"#fdca26\"], [1.0, \"#f0f921\"]], \"type\": \"heatmapgl\"}], \"histogram\": [{\"marker\": {\"colorbar\": {\"outlinewidth\": 0, \"ticks\": \"\"}}, \"type\": \"histogram\"}], \"histogram2d\": [{\"colorbar\": {\"outlinewidth\": 0, \"ticks\": \"\"}, \"colorscale\": [[0.0, \"#0d0887\"], [0.1111111111111111, \"#46039f\"], [0.2222222222222222, \"#7201a8\"], [0.3333333333333333, \"#9c179e\"], [0.4444444444444444, \"#bd3786\"], [0.5555555555555556, \"#d8576b\"], [0.6666666666666666, \"#ed7953\"], [0.7777777777777778, \"#fb9f3a\"], [0.8888888888888888, \"#fdca26\"], [1.0, \"#f0f921\"]], \"type\": \"histogram2d\"}], \"histogram2dcontour\": [{\"colorbar\": {\"outlinewidth\": 0, \"ticks\": \"\"}, \"colorscale\": [[0.0, \"#0d0887\"], [0.1111111111111111, \"#46039f\"], [0.2222222222222222, \"#7201a8\"], [0.3333333333333333, \"#9c179e\"], [0.4444444444444444, \"#bd3786\"], [0.5555555555555556, \"#d8576b\"], [0.6666666666666666, \"#ed7953\"], [0.7777777777777778, \"#fb9f3a\"], [0.8888888888888888, \"#fdca26\"], [1.0, \"#f0f921\"]], \"type\": \"histogram2dcontour\"}], \"mesh3d\": [{\"colorbar\": {\"outlinewidth\": 0, \"ticks\": \"\"}, \"type\": \"mesh3d\"}], \"parcoords\": [{\"line\": {\"colorbar\": {\"outlinewidth\": 0, \"ticks\": \"\"}}, \"type\": \"parcoords\"}], \"pie\": [{\"automargin\": true, \"type\": \"pie\"}], \"scatter\": [{\"marker\": {\"colorbar\": {\"outlinewidth\": 0, \"ticks\": \"\"}}, \"type\": \"scatter\"}], \"scatter3d\": [{\"line\": {\"colorbar\": {\"outlinewidth\": 0, \"ticks\": \"\"}}, \"marker\": {\"colorbar\": {\"outlinewidth\": 0, \"ticks\": \"\"}}, \"type\": \"scatter3d\"}], \"scattercarpet\": [{\"marker\": {\"colorbar\": {\"outlinewidth\": 0, \"ticks\": \"\"}}, \"type\": \"scattercarpet\"}], \"scattergeo\": [{\"marker\": {\"colorbar\": {\"outlinewidth\": 0, \"ticks\": \"\"}}, \"type\": \"scattergeo\"}], \"scattergl\": [{\"marker\": {\"colorbar\": {\"outlinewidth\": 0, \"ticks\": \"\"}}, \"type\": \"scattergl\"}], \"scattermapbox\": [{\"marker\": {\"colorbar\": {\"outlinewidth\": 0, \"ticks\": \"\"}}, \"type\": \"scattermapbox\"}], \"scatterpolar\": [{\"marker\": {\"colorbar\": {\"outlinewidth\": 0, \"ticks\": \"\"}}, \"type\": \"scatterpolar\"}], \"scatterpolargl\": [{\"marker\": {\"colorbar\": {\"outlinewidth\": 0, \"ticks\": \"\"}}, \"type\": \"scatterpolargl\"}], \"scatterternary\": [{\"marker\": {\"colorbar\": {\"outlinewidth\": 0, \"ticks\": \"\"}}, \"type\": \"scatterternary\"}], \"surface\": [{\"colorbar\": {\"outlinewidth\": 0, \"ticks\": \"\"}, \"colorscale\": [[0.0, \"#0d0887\"], [0.1111111111111111, \"#46039f\"], [0.2222222222222222, \"#7201a8\"], [0.3333333333333333, \"#9c179e\"], [0.4444444444444444, \"#bd3786\"], [0.5555555555555556, \"#d8576b\"], [0.6666666666666666, \"#ed7953\"], [0.7777777777777778, \"#fb9f3a\"], [0.8888888888888888, \"#fdca26\"], [1.0, \"#f0f921\"]], \"type\": \"surface\"}], \"table\": [{\"cells\": {\"fill\": {\"color\": \"#EBF0F8\"}, \"line\": {\"color\": \"white\"}}, \"header\": {\"fill\": {\"color\": \"#C8D4E3\"}, \"line\": {\"color\": \"white\"}}, \"type\": \"table\"}]}, \"layout\": {\"annotationdefaults\": {\"arrowcolor\": \"#2a3f5f\", \"arrowhead\": 0, \"arrowwidth\": 1}, \"coloraxis\": {\"colorbar\": {\"outlinewidth\": 0, \"ticks\": \"\"}}, \"colorscale\": {\"diverging\": [[0, \"#8e0152\"], [0.1, \"#c51b7d\"], [0.2, \"#de77ae\"], [0.3, \"#f1b6da\"], [0.4, \"#fde0ef\"], [0.5, \"#f7f7f7\"], [0.6, \"#e6f5d0\"], [0.7, \"#b8e186\"], [0.8, \"#7fbc41\"], [0.9, \"#4d9221\"], [1, \"#276419\"]], \"sequential\": [[0.0, \"#0d0887\"], [0.1111111111111111, \"#46039f\"], [0.2222222222222222, \"#7201a8\"], [0.3333333333333333, \"#9c179e\"], [0.4444444444444444, \"#bd3786\"], [0.5555555555555556, \"#d8576b\"], [0.6666666666666666, \"#ed7953\"], [0.7777777777777778, \"#fb9f3a\"], [0.8888888888888888, \"#fdca26\"], [1.0, \"#f0f921\"]], \"sequentialminus\": [[0.0, \"#0d0887\"], [0.1111111111111111, \"#46039f\"], [0.2222222222222222, \"#7201a8\"], [0.3333333333333333, \"#9c179e\"], [0.4444444444444444, \"#bd3786\"], [0.5555555555555556, \"#d8576b\"], [0.6666666666666666, \"#ed7953\"], [0.7777777777777778, \"#fb9f3a\"], [0.8888888888888888, \"#fdca26\"], [1.0, \"#f0f921\"]]}, \"colorway\": [\"#636efa\", \"#EF553B\", \"#00cc96\", \"#ab63fa\", \"#FFA15A\", \"#19d3f3\", \"#FF6692\", \"#B6E880\", \"#FF97FF\", \"#FECB52\"], \"font\": {\"color\": \"#2a3f5f\"}, \"geo\": {\"bgcolor\": \"white\", \"lakecolor\": \"white\", \"landcolor\": \"#E5ECF6\", \"showlakes\": true, \"showland\": true, \"subunitcolor\": \"white\"}, \"hoverlabel\": {\"align\": \"left\"}, \"hovermode\": \"closest\", \"mapbox\": {\"style\": \"light\"}, \"paper_bgcolor\": \"white\", \"plot_bgcolor\": \"#E5ECF6\", \"polar\": {\"angularaxis\": {\"gridcolor\": \"white\", \"linecolor\": \"white\", \"ticks\": \"\"}, \"bgcolor\": \"#E5ECF6\", \"radialaxis\": {\"gridcolor\": \"white\", \"linecolor\": \"white\", \"ticks\": \"\"}}, \"scene\": {\"xaxis\": {\"backgroundcolor\": \"#E5ECF6\", \"gridcolor\": \"white\", \"gridwidth\": 2, \"linecolor\": \"white\", \"showbackground\": true, \"ticks\": \"\", \"zerolinecolor\": \"white\"}, \"yaxis\": {\"backgroundcolor\": \"#E5ECF6\", \"gridcolor\": \"white\", \"gridwidth\": 2, \"linecolor\": \"white\", \"showbackground\": true, \"ticks\": \"\", \"zerolinecolor\": \"white\"}, \"zaxis\": {\"backgroundcolor\": \"#E5ECF6\", \"gridcolor\": \"white\", \"gridwidth\": 2, \"linecolor\": \"white\", \"showbackground\": true, \"ticks\": \"\", \"zerolinecolor\": \"white\"}}, \"shapedefaults\": {\"line\": {\"color\": \"#2a3f5f\"}}, \"ternary\": {\"aaxis\": {\"gridcolor\": \"white\", \"linecolor\": \"white\", \"ticks\": \"\"}, \"baxis\": {\"gridcolor\": \"white\", \"linecolor\": \"white\", \"ticks\": \"\"}, \"bgcolor\": \"#E5ECF6\", \"caxis\": {\"gridcolor\": \"white\", \"linecolor\": \"white\", \"ticks\": \"\"}}, \"title\": {\"x\": 0.05}, \"xaxis\": {\"automargin\": true, \"gridcolor\": \"white\", \"linecolor\": \"white\", \"ticks\": \"\", \"title\": {\"standoff\": 15}, \"zerolinecolor\": \"white\", \"zerolinewidth\": 2}, \"yaxis\": {\"automargin\": true, \"gridcolor\": \"white\", \"linecolor\": \"white\", \"ticks\": \"\", \"title\": {\"standoff\": 15}, \"zerolinecolor\": \"white\", \"zerolinewidth\": 2}}}, \"title\": {\"text\": \"S2 Signals Backtested 2020-12-13 23:14:39.828524 Renko of NVDA\"}, \"xaxis\": {\"anchor\": \"y\", \"domain\": [0.0, 0.94], \"title\": {\"text\": \"Date\"}}, \"yaxis\": {\"anchor\": \"x\", \"domain\": [0.0, 1.0], \"title\": {\"text\": \"Renko Blocks\"}}, \"yaxis2\": {\"anchor\": \"x\", \"overlaying\": \"y\", \"side\": \"right\", \"title\": {\"text\": \"Reference\"}}},                        {\"responsive\": true}                    ).then(function(){\n",
       "                            \n",
       "var gd = document.getElementById('7615f55c-ac94-4fbe-9b0e-5d6c2d819197');\n",
       "var x = new MutationObserver(function (mutations, observer) {{\n",
       "        var display = window.getComputedStyle(gd).display;\n",
       "        if (!display || display === 'none') {{\n",
       "            console.log([gd, 'removed!']);\n",
       "            Plotly.purge(gd);\n",
       "            observer.disconnect();\n",
       "        }}\n",
       "}});\n",
       "\n",
       "// Listen for the removal of the full notebook cells\n",
       "var notebookContainer = gd.closest('#notebook-container');\n",
       "if (notebookContainer) {{\n",
       "    x.observe(notebookContainer, {childList: true});\n",
       "}}\n",
       "\n",
       "// Listen for the clearing of the current output cell\n",
       "var outputEl = gd.closest('.output');\n",
       "if (outputEl) {{\n",
       "    x.observe(outputEl, {childList: true});\n",
       "}}\n",
       "\n",
       "                        })                };                });            </script>        </div>"
      ]
     },
     "metadata": {},
     "output_type": "display_data"
    }
   ],
   "source": [
    "fig = make_subplots(specs=[[{\"secondary_y\": True}]])\n",
    "fig.add_trace(go.Scatter(x=ohlc_renko[signal_ticker].index, y=ohlc_renko[signal_ticker]['bar-number'], name='Bar Number'))\n",
    "\n",
    "for i in range(len(ohlc_renko[signal_ticker])):\n",
    "    if (ohlc_renko[signal_ticker]['signal'][i] == 'Start Buy'):\n",
    "        fig.add_trace(go.Scatter(x=[ohlc_renko[signal_ticker].index[i], ohlc_renko[signal_ticker].index[i]], y=[0,1], name='Start Buy', marker_color='rgba(0, 255, 0, 1)'), secondary_y=True)\n",
    "    if (ohlc_renko[signal_ticker]['signal'][i] == 'Close Buy'):\n",
    "        fig.add_trace(go.Scatter(x=[ohlc_renko[signal_ticker].index[i], ohlc_renko[signal_ticker].index[i]], y=[0,1], name='Close Buy', marker_color='rgba(0, 255, 0, 0.1)'), secondary_y=True)\n",
    "    if (ohlc_renko[signal_ticker]['signal'][i] == 'Start Sell Reversal'):\n",
    "        fig.add_trace(go.Scatter(x=[ohlc_renko[signal_ticker].index[i], ohlc_renko[signal_ticker].index[i]], y=[0,1], name='Start Sell Reversal', marker_color='rgba(255, 255, 0, 1)'), secondary_y=True)\n",
    "    if (ohlc_renko[signal_ticker]['signal'][i] == 'Start Sell'):\n",
    "        fig.add_trace(go.Scatter(x=[ohlc_renko[signal_ticker].index[i], ohlc_renko[signal_ticker].index[i]], y=[0,1], name='Start Sell', marker_color='rgba(255, 0, 0, 1)'), secondary_y=True)\n",
    "    if (ohlc_renko[signal_ticker]['signal'][i] == 'Close Sell'):\n",
    "        fig.add_trace(go.Scatter(x=[ohlc_renko[signal_ticker].index[i], ohlc_renko[signal_ticker].index[i]], y=[0,1], name='Close Sell', marker_color='rgba(255, 0, 0, 0.1)'), secondary_y=True)\n",
    "    if (ohlc_renko[signal_ticker]['signal'][i] == 'Start Buy Reversal'):\n",
    "        fig.add_trace(go.Scatter(x=[ohlc_renko[signal_ticker].index[i], ohlc_renko[signal_ticker].index[i]], y=[0,1], name='Start Buy Reversal', marker_color='rgba(0, 255, 255, 1)'), secondary_y=True)\n",
    "\n",
    "# format figure\n",
    "fig.update_layout(title_text=f'S2 Signals Backtested {dt.datetime.today()} Renko of {signal_ticker}')\n",
    "fig.update_xaxes(title_text='Date')\n",
    "fig.update_yaxes(title_text='Renko Blocks')\n",
    "fig.update_yaxes(title_text='Reference', secondary_y=True)"
   ]
  },
  {
   "cell_type": "code",
   "execution_count": 25,
   "metadata": {},
   "outputs": [
    {
     "data": {
      "application/vnd.plotly.v1+json": {
       "config": {
        "plotlyServerURL": "https://plot.ly"
       },
       "data": [
        {
         "name": "Bar Number",
         "type": "scatter",
         "x": [
          0,
          1,
          2,
          3,
          4,
          5,
          6,
          7,
          8,
          9,
          10,
          11,
          12,
          13,
          14,
          15,
          16,
          17,
          18,
          19,
          20,
          21,
          22,
          23,
          24,
          25,
          26,
          27,
          28,
          29,
          30,
          31,
          32,
          33,
          34,
          35,
          36,
          37,
          38,
          39,
          40,
          41,
          42,
          43,
          44,
          45,
          46,
          47,
          48,
          49,
          50,
          51,
          52,
          53,
          54,
          55,
          56,
          57,
          58,
          59,
          60,
          61,
          62,
          63,
          64,
          65,
          66,
          67,
          68,
          69,
          70,
          71,
          72,
          73,
          74,
          75,
          76,
          77,
          78,
          79,
          80,
          81,
          82,
          83,
          84,
          85,
          86,
          87,
          88,
          89,
          90,
          91,
          92,
          93,
          94,
          95,
          96,
          97,
          98,
          99,
          100,
          101,
          102,
          103,
          104,
          105,
          106,
          107,
          108,
          109,
          110,
          111,
          112,
          113,
          114,
          115,
          116,
          117,
          118,
          119,
          120,
          121,
          122,
          123,
          124,
          125,
          126,
          127,
          128,
          129,
          130,
          131,
          132,
          133,
          134,
          135,
          136,
          137,
          138,
          139,
          140,
          141,
          142,
          143,
          144,
          145,
          146,
          147,
          148,
          149,
          150,
          151,
          152,
          153,
          154,
          155,
          156,
          157,
          158,
          159,
          160,
          161,
          162,
          163,
          164,
          165,
          166,
          167,
          168,
          169,
          170,
          171,
          172,
          173,
          174,
          175,
          176,
          177,
          178,
          179,
          180,
          181,
          182,
          183,
          184,
          185,
          186,
          187,
          188,
          189,
          190,
          191,
          192,
          193,
          194,
          195,
          196,
          197,
          198,
          199,
          200,
          201,
          202,
          203,
          204,
          205,
          206,
          207,
          208,
          209,
          210,
          211,
          212,
          213,
          214,
          215,
          216,
          217,
          218,
          219,
          220,
          221,
          222,
          223,
          224,
          225,
          226,
          227,
          228,
          229,
          230,
          231,
          232,
          233,
          234,
          235,
          236,
          237,
          238,
          239,
          240,
          241,
          242,
          243,
          244,
          245,
          246,
          247,
          248,
          249,
          250
         ],
         "y": [
          0,
          0,
          0,
          0,
          44.54379141859753,
          41.89881644917395,
          27.371415033914193,
          3.417096884944827,
          -37.556592506892315,
          -38.215958640818386,
          -28.996661583967892,
          -5.143407516847668,
          22.230222455168875,
          39.50421204709271,
          39.94833645106418,
          41.284298710034314,
          45.38063495859997,
          44.50859547032362,
          44.87447852485237,
          37.35013932073166,
          -0.40926404755180834,
          -22.945355597253695,
          -5.410654807244631,
          25.859809215367065,
          39.54503675138159,
          39.2287052874101,
          12.513396844674585,
          -21.930783332690705,
          -33.96015774553697,
          -39.56382180171849,
          -9.823211129268229,
          -1.4796289262586113,
          -14.852907176951735,
          30.624292087223612,
          34.371760338257076,
          45.03332590196983,
          39.588442825992686,
          39.17632317388738,
          42.41476341958791,
          45.12788209499342,
          38.269733784873765,
          37.22854348321877,
          40.35975716074761,
          42.07816724509962,
          36.80101981448486,
          -9.258678437221228,
          -39.731279843129016,
          -44.60258845530983,
          -40.76848046999763,
          -40.67707616222901,
          -5.9748577994459175,
          38.03969979933371,
          30.29109418382872,
          39.526638748299284,
          13.501416190749646,
          -37.93468435132343,
          -37.47689122373127,
          -38.393339696296046,
          -37.04273427741926,
          -37.81482114721541,
          -24.767977719290144,
          -40.41761602681863,
          -6.086293707620544,
          -4.157717379385273,
          -1.174969298880294,
          -6.7007115772706465,
          -14.208176140817313,
          36.69456166559195,
          25.05983298796623,
          39.55752754056529,
          12.957006593553203,
          -6.058199441799937,
          -14.054761253477437,
          -41.496902842666444,
          -29.411034401797178,
          -38.27548786403951,
          5.541715078980223,
          -0.6863596796064247,
          -11.847775482641735,
          -9.350657061606407,
          -20.25190867901215,
          36.719972346798066,
          23.355439205885602,
          40.3766977372908,
          26.242879083151713,
          -22.26089767454302,
          -34.346138187613505,
          -40.36170738396908,
          -40.153016522413495,
          -17.6088304780469,
          37.52251835694163,
          20.118625154396693,
          37.09838529804891,
          0.7511074267726192,
          -38.60177191180171,
          -22.963720773422512,
          -2.7958090256360886,
          38.69106705594228,
          45.00443872409767,
          44.95265726801866,
          44.69834131254136,
          36.50460887895554,
          -12.962755471964071,
          -23.460369174530687,
          13.012248746242811,
          40.60249100386975,
          45.81397799501824,
          44.84748979983424,
          37.17088430457652,
          37.09433671642968,
          10.18594014598331,
          -32.2442869876769,
          -37.97134985796987,
          -40.77753945349851,
          -32.96846567207863,
          11.524959392465442,
          22.273776836460044,
          7.41422155199327,
          39.531347894916415,
          28.145199031820407,
          39.966662599690636,
          39.59201390789486,
          26.28774869178569,
          38.93118909585729,
          38.4736291373211,
          15.478692175452855,
          32.551617720379156,
          -3.9875567099261944,
          14.448165772732946,
          41.996792174251574,
          33.190865998973656,
          5.439905336580433,
          -24.15419321326114,
          -39.63083979327904,
          -27.400766552660603,
          22.58385495545616,
          31.679428804590824,
          44.95184375265402,
          45.028831626460885,
          44.98109668575927,
          44.77107121699016,
          44.67253556272982,
          37.07295617902556,
          -4.612692664245819,
          -18.309150437717804,
          -32.940224092158175,
          -32.394804828112534,
          -18.56706023220494,
          -14.214998481746564,
          16.500351637495413,
          38.81614446575269,
          0.8492837713292611,
          12.30730986674308,
          38.161531933528046,
          25.912239019891803,
          39.02593486912193,
          38.95163259578192,
          39.36758641002541,
          44.991522040458875,
          45.71722335104691,
          45.36118613805967,
          44.543825499625406,
          35.21439218755437,
          -18.611972145220932,
          -41.99001609252006,
          -36.778294442277584,
          6.1096633296557705,
          40.13924497375077,
          43.89632499915758,
          38.46270829999211,
          -3.2289516675530505,
          -5.938649948841612,
          21.470303579312404,
          42.36843828244756,
          45.5877996392851,
          43.48447415694294,
          38.34248436995115,
          38.72105108533648,
          41.48670443253342,
          42.110891216067586,
          44.044173135681184,
          34.730876951310734,
          -19.358347332540113,
          -41.42780621242851,
          -41.93135955708399,
          -38.56378673491109,
          -38.282048289405815,
          -2.245839317286332,
          19.965089185145995,
          35.190856617177495,
          15.437926878485149,
          -37.92743850261491,
          -38.991923386115,
          -3.4446916308767133,
          22.434960848972402,
          38.65441717833656,
          39.529395994989656,
          38.84558682752573,
          44.56175296906667,
          44.8116250384833,
          45.497320226373624,
          39.47493097173145,
          36.61288249334256,
          37.220628482806404,
          39.95842332960755,
          42.168257875440894,
          18.27220831133654,
          -14.572891116793823,
          5.714290829572664,
          29.246068233592716,
          15.461139857532308,
          -35.98199430210932,
          -44.6539400856844,
          -40.05134127707561,
          -39.92014067895535,
          -38.42693849266131,
          -25.37547636511621,
          -39.93478746804766,
          -21.61377125611266,
          -25.226106700429092,
          -19.580548839770398,
          -22.987796504425123,
          -20.567709138124137,
          30.24103399665677,
          34.750395738524695,
          45.28225191092483,
          45.300330093603364,
          32.34757581511923,
          -22.15348092296349,
          -34.45733004241941,
          -20.587908288550157,
          9.746927787444557,
          38.98351146712674,
          15.968727047010383,
          22.500810058966643,
          40.941703832023805,
          35.58724866549027,
          41.42151620368433,
          18.907322232056742,
          -7.294575704538415,
          35.81617353443159,
          33.06887488070444,
          35.79429452810889,
          37.438292244787256,
          10.078640273396855,
          4.67718834213258,
          38.73446947834624,
          17.41149380972965,
          -17.91632631443578,
          -34.52116874599785,
          -22.76153814161118
         ]
        },
        {
         "marker": {
          "color": "rgba(0, 255, 0, 1)"
         },
         "name": "Start Buy",
         "type": "scatter",
         "x": [
          4,
          4
         ],
         "xaxis": "x",
         "y": [
          0,
          1
         ],
         "yaxis": "y2"
        },
        {
         "marker": {
          "color": "rgba(255, 255, 0, 1)"
         },
         "name": "Start Sell Reversal",
         "type": "scatter",
         "x": [
          46,
          46
         ],
         "xaxis": "x",
         "y": [
          0,
          1
         ],
         "yaxis": "y2"
        },
        {
         "marker": {
          "color": "rgba(0, 255, 255, 1)"
         },
         "name": "Start Buy Reversal",
         "type": "scatter",
         "x": [
          67,
          67
         ],
         "xaxis": "x",
         "y": [
          0,
          1
         ],
         "yaxis": "y2"
        },
        {
         "marker": {
          "color": "rgba(0, 255, 0, 0.1)"
         },
         "name": "Close Buy",
         "type": "scatter",
         "x": [
          181,
          181
         ],
         "xaxis": "x",
         "y": [
          0,
          1
         ],
         "yaxis": "y2"
        },
        {
         "marker": {
          "color": "rgba(255, 0, 0, 1)"
         },
         "name": "Start Sell",
         "type": "scatter",
         "x": [
          182,
          182
         ],
         "xaxis": "x",
         "y": [
          0,
          1
         ],
         "yaxis": "y2"
        },
        {
         "marker": {
          "color": "rgba(255, 0, 0, 0.1)"
         },
         "name": "Close Sell",
         "type": "scatter",
         "x": [
          184,
          184
         ],
         "xaxis": "x",
         "y": [
          0,
          1
         ],
         "yaxis": "y2"
        },
        {
         "marker": {
          "color": "rgba(0, 255, 0, 1)"
         },
         "name": "Start Buy",
         "type": "scatter",
         "x": [
          197,
          197
         ],
         "xaxis": "x",
         "y": [
          0,
          1
         ],
         "yaxis": "y2"
        },
        {
         "marker": {
          "color": "rgba(0, 255, 0, 0.1)"
         },
         "name": "Close Buy",
         "type": "scatter",
         "x": [
          217,
          217
         ],
         "xaxis": "x",
         "y": [
          0,
          1
         ],
         "yaxis": "y2"
        },
        {
         "marker": {
          "color": "rgba(255, 0, 0, 1)"
         },
         "name": "Start Sell",
         "type": "scatter",
         "x": [
          219,
          219
         ],
         "xaxis": "x",
         "y": [
          0,
          1
         ],
         "yaxis": "y2"
        },
        {
         "marker": {
          "color": "rgba(0, 255, 255, 1)"
         },
         "name": "Start Buy Reversal",
         "type": "scatter",
         "x": [
          224,
          224
         ],
         "xaxis": "x",
         "y": [
          0,
          1
         ],
         "yaxis": "y2"
        },
        {
         "marker": {
          "color": "rgba(0, 255, 0, 0.1)"
         },
         "name": "Close Buy",
         "type": "scatter",
         "x": [
          227,
          227
         ],
         "xaxis": "x",
         "y": [
          0,
          1
         ],
         "yaxis": "y2"
        },
        {
         "marker": {
          "color": "rgba(255, 0, 0, 1)"
         },
         "name": "Start Sell",
         "type": "scatter",
         "x": [
          228,
          228
         ],
         "xaxis": "x",
         "y": [
          0,
          1
         ],
         "yaxis": "y2"
        }
       ],
       "layout": {
        "template": {
         "data": {
          "bar": [
           {
            "error_x": {
             "color": "#2a3f5f"
            },
            "error_y": {
             "color": "#2a3f5f"
            },
            "marker": {
             "line": {
              "color": "#E5ECF6",
              "width": 0.5
             }
            },
            "type": "bar"
           }
          ],
          "barpolar": [
           {
            "marker": {
             "line": {
              "color": "#E5ECF6",
              "width": 0.5
             }
            },
            "type": "barpolar"
           }
          ],
          "carpet": [
           {
            "aaxis": {
             "endlinecolor": "#2a3f5f",
             "gridcolor": "white",
             "linecolor": "white",
             "minorgridcolor": "white",
             "startlinecolor": "#2a3f5f"
            },
            "baxis": {
             "endlinecolor": "#2a3f5f",
             "gridcolor": "white",
             "linecolor": "white",
             "minorgridcolor": "white",
             "startlinecolor": "#2a3f5f"
            },
            "type": "carpet"
           }
          ],
          "choropleth": [
           {
            "colorbar": {
             "outlinewidth": 0,
             "ticks": ""
            },
            "type": "choropleth"
           }
          ],
          "contour": [
           {
            "colorbar": {
             "outlinewidth": 0,
             "ticks": ""
            },
            "colorscale": [
             [
              0,
              "#0d0887"
             ],
             [
              0.1111111111111111,
              "#46039f"
             ],
             [
              0.2222222222222222,
              "#7201a8"
             ],
             [
              0.3333333333333333,
              "#9c179e"
             ],
             [
              0.4444444444444444,
              "#bd3786"
             ],
             [
              0.5555555555555556,
              "#d8576b"
             ],
             [
              0.6666666666666666,
              "#ed7953"
             ],
             [
              0.7777777777777778,
              "#fb9f3a"
             ],
             [
              0.8888888888888888,
              "#fdca26"
             ],
             [
              1,
              "#f0f921"
             ]
            ],
            "type": "contour"
           }
          ],
          "contourcarpet": [
           {
            "colorbar": {
             "outlinewidth": 0,
             "ticks": ""
            },
            "type": "contourcarpet"
           }
          ],
          "heatmap": [
           {
            "colorbar": {
             "outlinewidth": 0,
             "ticks": ""
            },
            "colorscale": [
             [
              0,
              "#0d0887"
             ],
             [
              0.1111111111111111,
              "#46039f"
             ],
             [
              0.2222222222222222,
              "#7201a8"
             ],
             [
              0.3333333333333333,
              "#9c179e"
             ],
             [
              0.4444444444444444,
              "#bd3786"
             ],
             [
              0.5555555555555556,
              "#d8576b"
             ],
             [
              0.6666666666666666,
              "#ed7953"
             ],
             [
              0.7777777777777778,
              "#fb9f3a"
             ],
             [
              0.8888888888888888,
              "#fdca26"
             ],
             [
              1,
              "#f0f921"
             ]
            ],
            "type": "heatmap"
           }
          ],
          "heatmapgl": [
           {
            "colorbar": {
             "outlinewidth": 0,
             "ticks": ""
            },
            "colorscale": [
             [
              0,
              "#0d0887"
             ],
             [
              0.1111111111111111,
              "#46039f"
             ],
             [
              0.2222222222222222,
              "#7201a8"
             ],
             [
              0.3333333333333333,
              "#9c179e"
             ],
             [
              0.4444444444444444,
              "#bd3786"
             ],
             [
              0.5555555555555556,
              "#d8576b"
             ],
             [
              0.6666666666666666,
              "#ed7953"
             ],
             [
              0.7777777777777778,
              "#fb9f3a"
             ],
             [
              0.8888888888888888,
              "#fdca26"
             ],
             [
              1,
              "#f0f921"
             ]
            ],
            "type": "heatmapgl"
           }
          ],
          "histogram": [
           {
            "marker": {
             "colorbar": {
              "outlinewidth": 0,
              "ticks": ""
             }
            },
            "type": "histogram"
           }
          ],
          "histogram2d": [
           {
            "colorbar": {
             "outlinewidth": 0,
             "ticks": ""
            },
            "colorscale": [
             [
              0,
              "#0d0887"
             ],
             [
              0.1111111111111111,
              "#46039f"
             ],
             [
              0.2222222222222222,
              "#7201a8"
             ],
             [
              0.3333333333333333,
              "#9c179e"
             ],
             [
              0.4444444444444444,
              "#bd3786"
             ],
             [
              0.5555555555555556,
              "#d8576b"
             ],
             [
              0.6666666666666666,
              "#ed7953"
             ],
             [
              0.7777777777777778,
              "#fb9f3a"
             ],
             [
              0.8888888888888888,
              "#fdca26"
             ],
             [
              1,
              "#f0f921"
             ]
            ],
            "type": "histogram2d"
           }
          ],
          "histogram2dcontour": [
           {
            "colorbar": {
             "outlinewidth": 0,
             "ticks": ""
            },
            "colorscale": [
             [
              0,
              "#0d0887"
             ],
             [
              0.1111111111111111,
              "#46039f"
             ],
             [
              0.2222222222222222,
              "#7201a8"
             ],
             [
              0.3333333333333333,
              "#9c179e"
             ],
             [
              0.4444444444444444,
              "#bd3786"
             ],
             [
              0.5555555555555556,
              "#d8576b"
             ],
             [
              0.6666666666666666,
              "#ed7953"
             ],
             [
              0.7777777777777778,
              "#fb9f3a"
             ],
             [
              0.8888888888888888,
              "#fdca26"
             ],
             [
              1,
              "#f0f921"
             ]
            ],
            "type": "histogram2dcontour"
           }
          ],
          "mesh3d": [
           {
            "colorbar": {
             "outlinewidth": 0,
             "ticks": ""
            },
            "type": "mesh3d"
           }
          ],
          "parcoords": [
           {
            "line": {
             "colorbar": {
              "outlinewidth": 0,
              "ticks": ""
             }
            },
            "type": "parcoords"
           }
          ],
          "pie": [
           {
            "automargin": true,
            "type": "pie"
           }
          ],
          "scatter": [
           {
            "marker": {
             "colorbar": {
              "outlinewidth": 0,
              "ticks": ""
             }
            },
            "type": "scatter"
           }
          ],
          "scatter3d": [
           {
            "line": {
             "colorbar": {
              "outlinewidth": 0,
              "ticks": ""
             }
            },
            "marker": {
             "colorbar": {
              "outlinewidth": 0,
              "ticks": ""
             }
            },
            "type": "scatter3d"
           }
          ],
          "scattercarpet": [
           {
            "marker": {
             "colorbar": {
              "outlinewidth": 0,
              "ticks": ""
             }
            },
            "type": "scattercarpet"
           }
          ],
          "scattergeo": [
           {
            "marker": {
             "colorbar": {
              "outlinewidth": 0,
              "ticks": ""
             }
            },
            "type": "scattergeo"
           }
          ],
          "scattergl": [
           {
            "marker": {
             "colorbar": {
              "outlinewidth": 0,
              "ticks": ""
             }
            },
            "type": "scattergl"
           }
          ],
          "scattermapbox": [
           {
            "marker": {
             "colorbar": {
              "outlinewidth": 0,
              "ticks": ""
             }
            },
            "type": "scattermapbox"
           }
          ],
          "scatterpolar": [
           {
            "marker": {
             "colorbar": {
              "outlinewidth": 0,
              "ticks": ""
             }
            },
            "type": "scatterpolar"
           }
          ],
          "scatterpolargl": [
           {
            "marker": {
             "colorbar": {
              "outlinewidth": 0,
              "ticks": ""
             }
            },
            "type": "scatterpolargl"
           }
          ],
          "scatterternary": [
           {
            "marker": {
             "colorbar": {
              "outlinewidth": 0,
              "ticks": ""
             }
            },
            "type": "scatterternary"
           }
          ],
          "surface": [
           {
            "colorbar": {
             "outlinewidth": 0,
             "ticks": ""
            },
            "colorscale": [
             [
              0,
              "#0d0887"
             ],
             [
              0.1111111111111111,
              "#46039f"
             ],
             [
              0.2222222222222222,
              "#7201a8"
             ],
             [
              0.3333333333333333,
              "#9c179e"
             ],
             [
              0.4444444444444444,
              "#bd3786"
             ],
             [
              0.5555555555555556,
              "#d8576b"
             ],
             [
              0.6666666666666666,
              "#ed7953"
             ],
             [
              0.7777777777777778,
              "#fb9f3a"
             ],
             [
              0.8888888888888888,
              "#fdca26"
             ],
             [
              1,
              "#f0f921"
             ]
            ],
            "type": "surface"
           }
          ],
          "table": [
           {
            "cells": {
             "fill": {
              "color": "#EBF0F8"
             },
             "line": {
              "color": "white"
             }
            },
            "header": {
             "fill": {
              "color": "#C8D4E3"
             },
             "line": {
              "color": "white"
             }
            },
            "type": "table"
           }
          ]
         },
         "layout": {
          "annotationdefaults": {
           "arrowcolor": "#2a3f5f",
           "arrowhead": 0,
           "arrowwidth": 1
          },
          "coloraxis": {
           "colorbar": {
            "outlinewidth": 0,
            "ticks": ""
           }
          },
          "colorscale": {
           "diverging": [
            [
             0,
             "#8e0152"
            ],
            [
             0.1,
             "#c51b7d"
            ],
            [
             0.2,
             "#de77ae"
            ],
            [
             0.3,
             "#f1b6da"
            ],
            [
             0.4,
             "#fde0ef"
            ],
            [
             0.5,
             "#f7f7f7"
            ],
            [
             0.6,
             "#e6f5d0"
            ],
            [
             0.7,
             "#b8e186"
            ],
            [
             0.8,
             "#7fbc41"
            ],
            [
             0.9,
             "#4d9221"
            ],
            [
             1,
             "#276419"
            ]
           ],
           "sequential": [
            [
             0,
             "#0d0887"
            ],
            [
             0.1111111111111111,
             "#46039f"
            ],
            [
             0.2222222222222222,
             "#7201a8"
            ],
            [
             0.3333333333333333,
             "#9c179e"
            ],
            [
             0.4444444444444444,
             "#bd3786"
            ],
            [
             0.5555555555555556,
             "#d8576b"
            ],
            [
             0.6666666666666666,
             "#ed7953"
            ],
            [
             0.7777777777777778,
             "#fb9f3a"
            ],
            [
             0.8888888888888888,
             "#fdca26"
            ],
            [
             1,
             "#f0f921"
            ]
           ],
           "sequentialminus": [
            [
             0,
             "#0d0887"
            ],
            [
             0.1111111111111111,
             "#46039f"
            ],
            [
             0.2222222222222222,
             "#7201a8"
            ],
            [
             0.3333333333333333,
             "#9c179e"
            ],
            [
             0.4444444444444444,
             "#bd3786"
            ],
            [
             0.5555555555555556,
             "#d8576b"
            ],
            [
             0.6666666666666666,
             "#ed7953"
            ],
            [
             0.7777777777777778,
             "#fb9f3a"
            ],
            [
             0.8888888888888888,
             "#fdca26"
            ],
            [
             1,
             "#f0f921"
            ]
           ]
          },
          "colorway": [
           "#636efa",
           "#EF553B",
           "#00cc96",
           "#ab63fa",
           "#FFA15A",
           "#19d3f3",
           "#FF6692",
           "#B6E880",
           "#FF97FF",
           "#FECB52"
          ],
          "font": {
           "color": "#2a3f5f"
          },
          "geo": {
           "bgcolor": "white",
           "lakecolor": "white",
           "landcolor": "#E5ECF6",
           "showlakes": true,
           "showland": true,
           "subunitcolor": "white"
          },
          "hoverlabel": {
           "align": "left"
          },
          "hovermode": "closest",
          "mapbox": {
           "style": "light"
          },
          "paper_bgcolor": "white",
          "plot_bgcolor": "#E5ECF6",
          "polar": {
           "angularaxis": {
            "gridcolor": "white",
            "linecolor": "white",
            "ticks": ""
           },
           "bgcolor": "#E5ECF6",
           "radialaxis": {
            "gridcolor": "white",
            "linecolor": "white",
            "ticks": ""
           }
          },
          "scene": {
           "xaxis": {
            "backgroundcolor": "#E5ECF6",
            "gridcolor": "white",
            "gridwidth": 2,
            "linecolor": "white",
            "showbackground": true,
            "ticks": "",
            "zerolinecolor": "white"
           },
           "yaxis": {
            "backgroundcolor": "#E5ECF6",
            "gridcolor": "white",
            "gridwidth": 2,
            "linecolor": "white",
            "showbackground": true,
            "ticks": "",
            "zerolinecolor": "white"
           },
           "zaxis": {
            "backgroundcolor": "#E5ECF6",
            "gridcolor": "white",
            "gridwidth": 2,
            "linecolor": "white",
            "showbackground": true,
            "ticks": "",
            "zerolinecolor": "white"
           }
          },
          "shapedefaults": {
           "line": {
            "color": "#2a3f5f"
           }
          },
          "ternary": {
           "aaxis": {
            "gridcolor": "white",
            "linecolor": "white",
            "ticks": ""
           },
           "baxis": {
            "gridcolor": "white",
            "linecolor": "white",
            "ticks": ""
           },
           "bgcolor": "#E5ECF6",
           "caxis": {
            "gridcolor": "white",
            "linecolor": "white",
            "ticks": ""
           }
          },
          "title": {
           "x": 0.05
          },
          "xaxis": {
           "automargin": true,
           "gridcolor": "white",
           "linecolor": "white",
           "ticks": "",
           "title": {
            "standoff": 15
           },
           "zerolinecolor": "white",
           "zerolinewidth": 2
          },
          "yaxis": {
           "automargin": true,
           "gridcolor": "white",
           "linecolor": "white",
           "ticks": "",
           "title": {
            "standoff": 15
           },
           "zerolinecolor": "white",
           "zerolinewidth": 2
          }
         }
        },
        "title": {
         "text": "S2 Signals Backtested 2020-12-13 23:15:45.833886 OBV Slope of NVDA"
        },
        "xaxis": {
         "anchor": "y",
         "domain": [
          0,
          0.94
         ],
         "title": {
          "text": "Date"
         }
        },
        "yaxis": {
         "anchor": "x",
         "domain": [
          0,
          1
         ],
         "title": {
          "text": "OBV Slope"
         }
        },
        "yaxis2": {
         "anchor": "x",
         "overlaying": "y",
         "side": "right",
         "title": {
          "text": "Reference"
         }
        }
       }
      },
      "text/html": [
       "<div>                            <div id=\"ff730836-df1b-4d36-ba67-6c9d42d98a9a\" class=\"plotly-graph-div\" style=\"height:525px; width:100%;\"></div>            <script type=\"text/javascript\">                require([\"plotly\"], function(Plotly) {                    window.PLOTLYENV=window.PLOTLYENV || {};                                    if (document.getElementById(\"ff730836-df1b-4d36-ba67-6c9d42d98a9a\")) {                    Plotly.newPlot(                        \"ff730836-df1b-4d36-ba67-6c9d42d98a9a\",                        [{\"name\": \"Bar Number\", \"type\": \"scatter\", \"x\": [0, 1, 2, 3, 4, 5, 6, 7, 8, 9, 10, 11, 12, 13, 14, 15, 16, 17, 18, 19, 20, 21, 22, 23, 24, 25, 26, 27, 28, 29, 30, 31, 32, 33, 34, 35, 36, 37, 38, 39, 40, 41, 42, 43, 44, 45, 46, 47, 48, 49, 50, 51, 52, 53, 54, 55, 56, 57, 58, 59, 60, 61, 62, 63, 64, 65, 66, 67, 68, 69, 70, 71, 72, 73, 74, 75, 76, 77, 78, 79, 80, 81, 82, 83, 84, 85, 86, 87, 88, 89, 90, 91, 92, 93, 94, 95, 96, 97, 98, 99, 100, 101, 102, 103, 104, 105, 106, 107, 108, 109, 110, 111, 112, 113, 114, 115, 116, 117, 118, 119, 120, 121, 122, 123, 124, 125, 126, 127, 128, 129, 130, 131, 132, 133, 134, 135, 136, 137, 138, 139, 140, 141, 142, 143, 144, 145, 146, 147, 148, 149, 150, 151, 152, 153, 154, 155, 156, 157, 158, 159, 160, 161, 162, 163, 164, 165, 166, 167, 168, 169, 170, 171, 172, 173, 174, 175, 176, 177, 178, 179, 180, 181, 182, 183, 184, 185, 186, 187, 188, 189, 190, 191, 192, 193, 194, 195, 196, 197, 198, 199, 200, 201, 202, 203, 204, 205, 206, 207, 208, 209, 210, 211, 212, 213, 214, 215, 216, 217, 218, 219, 220, 221, 222, 223, 224, 225, 226, 227, 228, 229, 230, 231, 232, 233, 234, 235, 236, 237, 238, 239, 240, 241, 242, 243, 244, 245, 246, 247, 248, 249, 250], \"y\": [0.0, 0.0, 0.0, 0.0, 44.54379141859753, 41.89881644917395, 27.371415033914193, 3.417096884944827, -37.556592506892315, -38.215958640818386, -28.996661583967892, -5.143407516847668, 22.230222455168875, 39.50421204709271, 39.94833645106418, 41.284298710034314, 45.38063495859997, 44.50859547032362, 44.87447852485237, 37.35013932073166, -0.40926404755180834, -22.945355597253695, -5.410654807244631, 25.859809215367065, 39.54503675138159, 39.2287052874101, 12.513396844674585, -21.930783332690705, -33.96015774553697, -39.56382180171849, -9.823211129268229, -1.4796289262586113, -14.852907176951735, 30.624292087223612, 34.371760338257076, 45.03332590196983, 39.588442825992686, 39.17632317388738, 42.41476341958791, 45.12788209499342, 38.269733784873765, 37.22854348321877, 40.35975716074761, 42.07816724509962, 36.80101981448486, -9.258678437221228, -39.731279843129016, -44.60258845530983, -40.76848046999763, -40.67707616222901, -5.9748577994459175, 38.03969979933371, 30.29109418382872, 39.526638748299284, 13.501416190749646, -37.93468435132343, -37.47689122373127, -38.393339696296046, -37.04273427741926, -37.81482114721541, -24.767977719290144, -40.41761602681863, -6.086293707620544, -4.157717379385273, -1.174969298880294, -6.7007115772706465, -14.208176140817313, 36.69456166559195, 25.05983298796623, 39.55752754056529, 12.957006593553203, -6.058199441799937, -14.054761253477437, -41.496902842666444, -29.411034401797178, -38.27548786403951, 5.541715078980223, -0.6863596796064247, -11.847775482641735, -9.350657061606407, -20.25190867901215, 36.719972346798066, 23.355439205885602, 40.3766977372908, 26.242879083151713, -22.26089767454302, -34.346138187613505, -40.36170738396908, -40.153016522413495, -17.6088304780469, 37.52251835694163, 20.118625154396693, 37.09838529804891, 0.7511074267726192, -38.60177191180171, -22.963720773422512, -2.7958090256360886, 38.69106705594228, 45.00443872409767, 44.95265726801866, 44.69834131254136, 36.50460887895554, -12.962755471964071, -23.460369174530687, 13.012248746242811, 40.60249100386975, 45.81397799501824, 44.84748979983424, 37.17088430457652, 37.09433671642968, 10.18594014598331, -32.2442869876769, -37.97134985796987, -40.77753945349851, -32.96846567207863, 11.524959392465442, 22.273776836460044, 7.41422155199327, 39.531347894916415, 28.145199031820407, 39.966662599690636, 39.59201390789486, 26.28774869178569, 38.93118909585729, 38.4736291373211, 15.478692175452855, 32.551617720379156, -3.9875567099261944, 14.448165772732946, 41.996792174251574, 33.190865998973656, 5.439905336580433, -24.15419321326114, -39.63083979327904, -27.400766552660603, 22.58385495545616, 31.679428804590824, 44.95184375265402, 45.028831626460885, 44.98109668575927, 44.77107121699016, 44.67253556272982, 37.07295617902556, -4.612692664245819, -18.309150437717804, -32.940224092158175, -32.394804828112534, -18.56706023220494, -14.214998481746564, 16.500351637495413, 38.81614446575269, 0.8492837713292611, 12.30730986674308, 38.161531933528046, 25.912239019891803, 39.02593486912193, 38.95163259578192, 39.36758641002541, 44.991522040458875, 45.71722335104691, 45.36118613805967, 44.543825499625406, 35.21439218755437, -18.611972145220932, -41.99001609252006, -36.778294442277584, 6.1096633296557705, 40.13924497375077, 43.89632499915758, 38.46270829999211, -3.2289516675530505, -5.938649948841612, 21.470303579312404, 42.36843828244756, 45.5877996392851, 43.48447415694294, 38.34248436995115, 38.72105108533648, 41.48670443253342, 42.110891216067586, 44.044173135681184, 34.730876951310734, -19.358347332540113, -41.42780621242851, -41.93135955708399, -38.56378673491109, -38.282048289405815, -2.245839317286332, 19.965089185145995, 35.190856617177495, 15.437926878485149, -37.92743850261491, -38.991923386115, -3.4446916308767133, 22.434960848972402, 38.65441717833656, 39.529395994989656, 38.84558682752573, 44.56175296906667, 44.8116250384833, 45.497320226373624, 39.47493097173145, 36.61288249334256, 37.220628482806404, 39.95842332960755, 42.168257875440894, 18.27220831133654, -14.572891116793823, 5.714290829572664, 29.246068233592716, 15.461139857532308, -35.98199430210932, -44.6539400856844, -40.05134127707561, -39.92014067895535, -38.42693849266131, -25.37547636511621, -39.93478746804766, -21.61377125611266, -25.226106700429092, -19.580548839770398, -22.987796504425123, -20.567709138124137, 30.24103399665677, 34.750395738524695, 45.28225191092483, 45.300330093603364, 32.34757581511923, -22.15348092296349, -34.45733004241941, -20.587908288550157, 9.746927787444557, 38.98351146712674, 15.968727047010383, 22.500810058966643, 40.941703832023805, 35.58724866549027, 41.42151620368433, 18.907322232056742, -7.294575704538415, 35.81617353443159, 33.06887488070444, 35.79429452810889, 37.438292244787256, 10.078640273396855, 4.67718834213258, 38.73446947834624, 17.41149380972965, -17.91632631443578, -34.52116874599785, -22.76153814161118]}, {\"marker\": {\"color\": \"rgba(0, 255, 0, 1)\"}, \"name\": \"Start Buy\", \"type\": \"scatter\", \"x\": [4, 4], \"xaxis\": \"x\", \"y\": [0, 1], \"yaxis\": \"y2\"}, {\"marker\": {\"color\": \"rgba(255, 255, 0, 1)\"}, \"name\": \"Start Sell Reversal\", \"type\": \"scatter\", \"x\": [46, 46], \"xaxis\": \"x\", \"y\": [0, 1], \"yaxis\": \"y2\"}, {\"marker\": {\"color\": \"rgba(0, 255, 255, 1)\"}, \"name\": \"Start Buy Reversal\", \"type\": \"scatter\", \"x\": [67, 67], \"xaxis\": \"x\", \"y\": [0, 1], \"yaxis\": \"y2\"}, {\"marker\": {\"color\": \"rgba(0, 255, 0, 0.1)\"}, \"name\": \"Close Buy\", \"type\": \"scatter\", \"x\": [181, 181], \"xaxis\": \"x\", \"y\": [0, 1], \"yaxis\": \"y2\"}, {\"marker\": {\"color\": \"rgba(255, 0, 0, 1)\"}, \"name\": \"Start Sell\", \"type\": \"scatter\", \"x\": [182, 182], \"xaxis\": \"x\", \"y\": [0, 1], \"yaxis\": \"y2\"}, {\"marker\": {\"color\": \"rgba(255, 0, 0, 0.1)\"}, \"name\": \"Close Sell\", \"type\": \"scatter\", \"x\": [184, 184], \"xaxis\": \"x\", \"y\": [0, 1], \"yaxis\": \"y2\"}, {\"marker\": {\"color\": \"rgba(0, 255, 0, 1)\"}, \"name\": \"Start Buy\", \"type\": \"scatter\", \"x\": [197, 197], \"xaxis\": \"x\", \"y\": [0, 1], \"yaxis\": \"y2\"}, {\"marker\": {\"color\": \"rgba(0, 255, 0, 0.1)\"}, \"name\": \"Close Buy\", \"type\": \"scatter\", \"x\": [217, 217], \"xaxis\": \"x\", \"y\": [0, 1], \"yaxis\": \"y2\"}, {\"marker\": {\"color\": \"rgba(255, 0, 0, 1)\"}, \"name\": \"Start Sell\", \"type\": \"scatter\", \"x\": [219, 219], \"xaxis\": \"x\", \"y\": [0, 1], \"yaxis\": \"y2\"}, {\"marker\": {\"color\": \"rgba(0, 255, 255, 1)\"}, \"name\": \"Start Buy Reversal\", \"type\": \"scatter\", \"x\": [224, 224], \"xaxis\": \"x\", \"y\": [0, 1], \"yaxis\": \"y2\"}, {\"marker\": {\"color\": \"rgba(0, 255, 0, 0.1)\"}, \"name\": \"Close Buy\", \"type\": \"scatter\", \"x\": [227, 227], \"xaxis\": \"x\", \"y\": [0, 1], \"yaxis\": \"y2\"}, {\"marker\": {\"color\": \"rgba(255, 0, 0, 1)\"}, \"name\": \"Start Sell\", \"type\": \"scatter\", \"x\": [228, 228], \"xaxis\": \"x\", \"y\": [0, 1], \"yaxis\": \"y2\"}],                        {\"template\": {\"data\": {\"bar\": [{\"error_x\": {\"color\": \"#2a3f5f\"}, \"error_y\": {\"color\": \"#2a3f5f\"}, \"marker\": {\"line\": {\"color\": \"#E5ECF6\", \"width\": 0.5}}, \"type\": \"bar\"}], \"barpolar\": [{\"marker\": {\"line\": {\"color\": \"#E5ECF6\", \"width\": 0.5}}, \"type\": \"barpolar\"}], \"carpet\": [{\"aaxis\": {\"endlinecolor\": \"#2a3f5f\", \"gridcolor\": \"white\", \"linecolor\": \"white\", \"minorgridcolor\": \"white\", \"startlinecolor\": \"#2a3f5f\"}, \"baxis\": {\"endlinecolor\": \"#2a3f5f\", \"gridcolor\": \"white\", \"linecolor\": \"white\", \"minorgridcolor\": \"white\", \"startlinecolor\": \"#2a3f5f\"}, \"type\": \"carpet\"}], \"choropleth\": [{\"colorbar\": {\"outlinewidth\": 0, \"ticks\": \"\"}, \"type\": \"choropleth\"}], \"contour\": [{\"colorbar\": {\"outlinewidth\": 0, \"ticks\": \"\"}, \"colorscale\": [[0.0, \"#0d0887\"], [0.1111111111111111, \"#46039f\"], [0.2222222222222222, \"#7201a8\"], [0.3333333333333333, \"#9c179e\"], [0.4444444444444444, \"#bd3786\"], [0.5555555555555556, \"#d8576b\"], [0.6666666666666666, \"#ed7953\"], [0.7777777777777778, \"#fb9f3a\"], [0.8888888888888888, \"#fdca26\"], [1.0, \"#f0f921\"]], \"type\": \"contour\"}], \"contourcarpet\": [{\"colorbar\": {\"outlinewidth\": 0, \"ticks\": \"\"}, \"type\": \"contourcarpet\"}], \"heatmap\": [{\"colorbar\": {\"outlinewidth\": 0, \"ticks\": \"\"}, \"colorscale\": [[0.0, \"#0d0887\"], [0.1111111111111111, \"#46039f\"], [0.2222222222222222, \"#7201a8\"], [0.3333333333333333, \"#9c179e\"], [0.4444444444444444, \"#bd3786\"], [0.5555555555555556, \"#d8576b\"], [0.6666666666666666, \"#ed7953\"], [0.7777777777777778, \"#fb9f3a\"], [0.8888888888888888, \"#fdca26\"], [1.0, \"#f0f921\"]], \"type\": \"heatmap\"}], \"heatmapgl\": [{\"colorbar\": {\"outlinewidth\": 0, \"ticks\": \"\"}, \"colorscale\": [[0.0, \"#0d0887\"], [0.1111111111111111, \"#46039f\"], [0.2222222222222222, \"#7201a8\"], [0.3333333333333333, \"#9c179e\"], [0.4444444444444444, \"#bd3786\"], [0.5555555555555556, \"#d8576b\"], [0.6666666666666666, \"#ed7953\"], [0.7777777777777778, \"#fb9f3a\"], [0.8888888888888888, \"#fdca26\"], [1.0, \"#f0f921\"]], \"type\": \"heatmapgl\"}], \"histogram\": [{\"marker\": {\"colorbar\": {\"outlinewidth\": 0, \"ticks\": \"\"}}, \"type\": \"histogram\"}], \"histogram2d\": [{\"colorbar\": {\"outlinewidth\": 0, \"ticks\": \"\"}, \"colorscale\": [[0.0, \"#0d0887\"], [0.1111111111111111, \"#46039f\"], [0.2222222222222222, \"#7201a8\"], [0.3333333333333333, \"#9c179e\"], [0.4444444444444444, \"#bd3786\"], [0.5555555555555556, \"#d8576b\"], [0.6666666666666666, \"#ed7953\"], [0.7777777777777778, \"#fb9f3a\"], [0.8888888888888888, \"#fdca26\"], [1.0, \"#f0f921\"]], \"type\": \"histogram2d\"}], \"histogram2dcontour\": [{\"colorbar\": {\"outlinewidth\": 0, \"ticks\": \"\"}, \"colorscale\": [[0.0, \"#0d0887\"], [0.1111111111111111, \"#46039f\"], [0.2222222222222222, \"#7201a8\"], [0.3333333333333333, \"#9c179e\"], [0.4444444444444444, \"#bd3786\"], [0.5555555555555556, \"#d8576b\"], [0.6666666666666666, \"#ed7953\"], [0.7777777777777778, \"#fb9f3a\"], [0.8888888888888888, \"#fdca26\"], [1.0, \"#f0f921\"]], \"type\": \"histogram2dcontour\"}], \"mesh3d\": [{\"colorbar\": {\"outlinewidth\": 0, \"ticks\": \"\"}, \"type\": \"mesh3d\"}], \"parcoords\": [{\"line\": {\"colorbar\": {\"outlinewidth\": 0, \"ticks\": \"\"}}, \"type\": \"parcoords\"}], \"pie\": [{\"automargin\": true, \"type\": \"pie\"}], \"scatter\": [{\"marker\": {\"colorbar\": {\"outlinewidth\": 0, \"ticks\": \"\"}}, \"type\": \"scatter\"}], \"scatter3d\": [{\"line\": {\"colorbar\": {\"outlinewidth\": 0, \"ticks\": \"\"}}, \"marker\": {\"colorbar\": {\"outlinewidth\": 0, \"ticks\": \"\"}}, \"type\": \"scatter3d\"}], \"scattercarpet\": [{\"marker\": {\"colorbar\": {\"outlinewidth\": 0, \"ticks\": \"\"}}, \"type\": \"scattercarpet\"}], \"scattergeo\": [{\"marker\": {\"colorbar\": {\"outlinewidth\": 0, \"ticks\": \"\"}}, \"type\": \"scattergeo\"}], \"scattergl\": [{\"marker\": {\"colorbar\": {\"outlinewidth\": 0, \"ticks\": \"\"}}, \"type\": \"scattergl\"}], \"scattermapbox\": [{\"marker\": {\"colorbar\": {\"outlinewidth\": 0, \"ticks\": \"\"}}, \"type\": \"scattermapbox\"}], \"scatterpolar\": [{\"marker\": {\"colorbar\": {\"outlinewidth\": 0, \"ticks\": \"\"}}, \"type\": \"scatterpolar\"}], \"scatterpolargl\": [{\"marker\": {\"colorbar\": {\"outlinewidth\": 0, \"ticks\": \"\"}}, \"type\": \"scatterpolargl\"}], \"scatterternary\": [{\"marker\": {\"colorbar\": {\"outlinewidth\": 0, \"ticks\": \"\"}}, \"type\": \"scatterternary\"}], \"surface\": [{\"colorbar\": {\"outlinewidth\": 0, \"ticks\": \"\"}, \"colorscale\": [[0.0, \"#0d0887\"], [0.1111111111111111, \"#46039f\"], [0.2222222222222222, \"#7201a8\"], [0.3333333333333333, \"#9c179e\"], [0.4444444444444444, \"#bd3786\"], [0.5555555555555556, \"#d8576b\"], [0.6666666666666666, \"#ed7953\"], [0.7777777777777778, \"#fb9f3a\"], [0.8888888888888888, \"#fdca26\"], [1.0, \"#f0f921\"]], \"type\": \"surface\"}], \"table\": [{\"cells\": {\"fill\": {\"color\": \"#EBF0F8\"}, \"line\": {\"color\": \"white\"}}, \"header\": {\"fill\": {\"color\": \"#C8D4E3\"}, \"line\": {\"color\": \"white\"}}, \"type\": \"table\"}]}, \"layout\": {\"annotationdefaults\": {\"arrowcolor\": \"#2a3f5f\", \"arrowhead\": 0, \"arrowwidth\": 1}, \"coloraxis\": {\"colorbar\": {\"outlinewidth\": 0, \"ticks\": \"\"}}, \"colorscale\": {\"diverging\": [[0, \"#8e0152\"], [0.1, \"#c51b7d\"], [0.2, \"#de77ae\"], [0.3, \"#f1b6da\"], [0.4, \"#fde0ef\"], [0.5, \"#f7f7f7\"], [0.6, \"#e6f5d0\"], [0.7, \"#b8e186\"], [0.8, \"#7fbc41\"], [0.9, \"#4d9221\"], [1, \"#276419\"]], \"sequential\": [[0.0, \"#0d0887\"], [0.1111111111111111, \"#46039f\"], [0.2222222222222222, \"#7201a8\"], [0.3333333333333333, \"#9c179e\"], [0.4444444444444444, \"#bd3786\"], [0.5555555555555556, \"#d8576b\"], [0.6666666666666666, \"#ed7953\"], [0.7777777777777778, \"#fb9f3a\"], [0.8888888888888888, \"#fdca26\"], [1.0, \"#f0f921\"]], \"sequentialminus\": [[0.0, \"#0d0887\"], [0.1111111111111111, \"#46039f\"], [0.2222222222222222, \"#7201a8\"], [0.3333333333333333, \"#9c179e\"], [0.4444444444444444, \"#bd3786\"], [0.5555555555555556, \"#d8576b\"], [0.6666666666666666, \"#ed7953\"], [0.7777777777777778, \"#fb9f3a\"], [0.8888888888888888, \"#fdca26\"], [1.0, \"#f0f921\"]]}, \"colorway\": [\"#636efa\", \"#EF553B\", \"#00cc96\", \"#ab63fa\", \"#FFA15A\", \"#19d3f3\", \"#FF6692\", \"#B6E880\", \"#FF97FF\", \"#FECB52\"], \"font\": {\"color\": \"#2a3f5f\"}, \"geo\": {\"bgcolor\": \"white\", \"lakecolor\": \"white\", \"landcolor\": \"#E5ECF6\", \"showlakes\": true, \"showland\": true, \"subunitcolor\": \"white\"}, \"hoverlabel\": {\"align\": \"left\"}, \"hovermode\": \"closest\", \"mapbox\": {\"style\": \"light\"}, \"paper_bgcolor\": \"white\", \"plot_bgcolor\": \"#E5ECF6\", \"polar\": {\"angularaxis\": {\"gridcolor\": \"white\", \"linecolor\": \"white\", \"ticks\": \"\"}, \"bgcolor\": \"#E5ECF6\", \"radialaxis\": {\"gridcolor\": \"white\", \"linecolor\": \"white\", \"ticks\": \"\"}}, \"scene\": {\"xaxis\": {\"backgroundcolor\": \"#E5ECF6\", \"gridcolor\": \"white\", \"gridwidth\": 2, \"linecolor\": \"white\", \"showbackground\": true, \"ticks\": \"\", \"zerolinecolor\": \"white\"}, \"yaxis\": {\"backgroundcolor\": \"#E5ECF6\", \"gridcolor\": \"white\", \"gridwidth\": 2, \"linecolor\": \"white\", \"showbackground\": true, \"ticks\": \"\", \"zerolinecolor\": \"white\"}, \"zaxis\": {\"backgroundcolor\": \"#E5ECF6\", \"gridcolor\": \"white\", \"gridwidth\": 2, \"linecolor\": \"white\", \"showbackground\": true, \"ticks\": \"\", \"zerolinecolor\": \"white\"}}, \"shapedefaults\": {\"line\": {\"color\": \"#2a3f5f\"}}, \"ternary\": {\"aaxis\": {\"gridcolor\": \"white\", \"linecolor\": \"white\", \"ticks\": \"\"}, \"baxis\": {\"gridcolor\": \"white\", \"linecolor\": \"white\", \"ticks\": \"\"}, \"bgcolor\": \"#E5ECF6\", \"caxis\": {\"gridcolor\": \"white\", \"linecolor\": \"white\", \"ticks\": \"\"}}, \"title\": {\"x\": 0.05}, \"xaxis\": {\"automargin\": true, \"gridcolor\": \"white\", \"linecolor\": \"white\", \"ticks\": \"\", \"title\": {\"standoff\": 15}, \"zerolinecolor\": \"white\", \"zerolinewidth\": 2}, \"yaxis\": {\"automargin\": true, \"gridcolor\": \"white\", \"linecolor\": \"white\", \"ticks\": \"\", \"title\": {\"standoff\": 15}, \"zerolinecolor\": \"white\", \"zerolinewidth\": 2}}}, \"title\": {\"text\": \"S2 Signals Backtested 2020-12-13 23:15:45.833886 OBV Slope of NVDA\"}, \"xaxis\": {\"anchor\": \"y\", \"domain\": [0.0, 0.94], \"title\": {\"text\": \"Date\"}}, \"yaxis\": {\"anchor\": \"x\", \"domain\": [0.0, 1.0], \"title\": {\"text\": \"OBV Slope\"}}, \"yaxis2\": {\"anchor\": \"x\", \"overlaying\": \"y\", \"side\": \"right\", \"title\": {\"text\": \"Reference\"}}},                        {\"responsive\": true}                    ).then(function(){\n",
       "                            \n",
       "var gd = document.getElementById('ff730836-df1b-4d36-ba67-6c9d42d98a9a');\n",
       "var x = new MutationObserver(function (mutations, observer) {{\n",
       "        var display = window.getComputedStyle(gd).display;\n",
       "        if (!display || display === 'none') {{\n",
       "            console.log([gd, 'removed!']);\n",
       "            Plotly.purge(gd);\n",
       "            observer.disconnect();\n",
       "        }}\n",
       "}});\n",
       "\n",
       "// Listen for the removal of the full notebook cells\n",
       "var notebookContainer = gd.closest('#notebook-container');\n",
       "if (notebookContainer) {{\n",
       "    x.observe(notebookContainer, {childList: true});\n",
       "}}\n",
       "\n",
       "// Listen for the clearing of the current output cell\n",
       "var outputEl = gd.closest('.output');\n",
       "if (outputEl) {{\n",
       "    x.observe(outputEl, {childList: true});\n",
       "}}\n",
       "\n",
       "                        })                };                });            </script>        </div>"
      ]
     },
     "metadata": {},
     "output_type": "display_data"
    }
   ],
   "source": [
    "fig = make_subplots(specs=[[{\"secondary_y\": True}]])\n",
    "fig.add_trace(go.Scatter(x=ohlc_renko[signal_ticker].index, y=ohlc_renko[signal_ticker]['obv_slope'], name='Bar Number'))\n",
    "\n",
    "for i in range(len(ohlc_renko[signal_ticker])):\n",
    "    if (ohlc_renko[signal_ticker]['signal'][i] == 'Start Buy'):\n",
    "        fig.add_trace(go.Scatter(x=[ohlc_renko[signal_ticker].index[i], ohlc_renko[signal_ticker].index[i]], y=[0,1], name='Start Buy', marker_color='rgba(0, 255, 0, 1)'), secondary_y=True)\n",
    "    if (ohlc_renko[signal_ticker]['signal'][i] == 'Close Buy'):\n",
    "        fig.add_trace(go.Scatter(x=[ohlc_renko[signal_ticker].index[i], ohlc_renko[signal_ticker].index[i]], y=[0,1], name='Close Buy', marker_color='rgba(0, 255, 0, 0.1)'), secondary_y=True)\n",
    "    if (ohlc_renko[signal_ticker]['signal'][i] == 'Start Sell Reversal'):\n",
    "        fig.add_trace(go.Scatter(x=[ohlc_renko[signal_ticker].index[i], ohlc_renko[signal_ticker].index[i]], y=[0,1], name='Start Sell Reversal', marker_color='rgba(255, 255, 0, 1)'), secondary_y=True)\n",
    "    if (ohlc_renko[signal_ticker]['signal'][i] == 'Start Sell'):\n",
    "        fig.add_trace(go.Scatter(x=[ohlc_renko[signal_ticker].index[i], ohlc_renko[signal_ticker].index[i]], y=[0,1], name='Start Sell', marker_color='rgba(255, 0, 0, 1)'), secondary_y=True)\n",
    "    if (ohlc_renko[signal_ticker]['signal'][i] == 'Close Sell'):\n",
    "        fig.add_trace(go.Scatter(x=[ohlc_renko[signal_ticker].index[i], ohlc_renko[signal_ticker].index[i]], y=[0,1], name='Close Sell', marker_color='rgba(255, 0, 0, 0.1)'), secondary_y=True)\n",
    "    if (ohlc_renko[signal_ticker]['signal'][i] == 'Start Buy Reversal'):\n",
    "        fig.add_trace(go.Scatter(x=[ohlc_renko[signal_ticker].index[i], ohlc_renko[signal_ticker].index[i]], y=[0,1], name='Start Buy Reversal', marker_color='rgba(0, 255, 255, 1)'), secondary_y=True)\n",
    "\n",
    "# format figure\n",
    "fig.update_layout(title_text=f'S2 Signals Backtested {dt.datetime.today()} OBV Slope of {signal_ticker}')\n",
    "fig.update_xaxes(title_text='Date')\n",
    "fig.update_yaxes(title_text='OBV Slope')\n",
    "fig.update_yaxes(title_text='Reference', secondary_y=True)"
   ]
  },
  {
   "cell_type": "code",
   "execution_count": 17,
   "metadata": {},
   "outputs": [],
   "source": [
    "# calculating overall strategy's KPIs\n",
    "strategy = pd.DataFrame()\n",
    "for ticker in tickers:\n",
    "    strategy[ticker] = ohlc_renko[ticker]['return']\n",
    "strategy['return'] = strategy.mean(axis=1) # assume equal capital allocation\n",
    "strategy['cumulative-return'] = (1 + strategy['return']).cumprod()\n",
    "strategy_cagr = cagr(strategy)\n",
    "strategy_volatility = volatility(strategy)\n",
    "strategy_sharpe = sharpe(strategy, 0.01)\n",
    "strategy_max_dd = maximum_drawdown(strategy)\n",
    "strategy_calmar_ratio = calmar_ratio(strategy)"
   ]
  },
  {
   "cell_type": "code",
   "execution_count": 18,
   "metadata": {},
   "outputs": [
    {
     "data": {
      "text/html": [
       "<div>\n",
       "<style scoped>\n",
       "    .dataframe tbody tr th:only-of-type {\n",
       "        vertical-align: middle;\n",
       "    }\n",
       "\n",
       "    .dataframe tbody tr th {\n",
       "        vertical-align: top;\n",
       "    }\n",
       "\n",
       "    .dataframe thead th {\n",
       "        text-align: right;\n",
       "    }\n",
       "</style>\n",
       "<table border=\"1\" class=\"dataframe\">\n",
       "  <thead>\n",
       "    <tr style=\"text-align: right;\">\n",
       "      <th></th>\n",
       "      <th>TSLA</th>\n",
       "      <th>AAPL</th>\n",
       "      <th>AMZN</th>\n",
       "      <th>MSFT</th>\n",
       "      <th>QCOM</th>\n",
       "      <th>FB</th>\n",
       "      <th>AMD</th>\n",
       "      <th>NVDA</th>\n",
       "      <th>NFLX</th>\n",
       "      <th>ADBE</th>\n",
       "      <th>return</th>\n",
       "      <th>cumulative-return</th>\n",
       "    </tr>\n",
       "  </thead>\n",
       "  <tbody>\n",
       "    <tr>\n",
       "      <th>0</th>\n",
       "      <td>0.000000</td>\n",
       "      <td>0.000000</td>\n",
       "      <td>0.0</td>\n",
       "      <td>0.0</td>\n",
       "      <td>0.000000</td>\n",
       "      <td>0.0</td>\n",
       "      <td>0.000000</td>\n",
       "      <td>0.000000</td>\n",
       "      <td>0.0</td>\n",
       "      <td>0.000000</td>\n",
       "      <td>0.000000</td>\n",
       "      <td>1.000000</td>\n",
       "    </tr>\n",
       "    <tr>\n",
       "      <th>1</th>\n",
       "      <td>0.000000</td>\n",
       "      <td>0.000000</td>\n",
       "      <td>0.0</td>\n",
       "      <td>0.0</td>\n",
       "      <td>0.000000</td>\n",
       "      <td>0.0</td>\n",
       "      <td>0.000000</td>\n",
       "      <td>0.000000</td>\n",
       "      <td>0.0</td>\n",
       "      <td>0.000000</td>\n",
       "      <td>0.000000</td>\n",
       "      <td>1.000000</td>\n",
       "    </tr>\n",
       "    <tr>\n",
       "      <th>2</th>\n",
       "      <td>0.000000</td>\n",
       "      <td>0.000000</td>\n",
       "      <td>0.0</td>\n",
       "      <td>0.0</td>\n",
       "      <td>0.000000</td>\n",
       "      <td>0.0</td>\n",
       "      <td>0.000000</td>\n",
       "      <td>0.000000</td>\n",
       "      <td>0.0</td>\n",
       "      <td>0.000000</td>\n",
       "      <td>0.000000</td>\n",
       "      <td>1.000000</td>\n",
       "    </tr>\n",
       "    <tr>\n",
       "      <th>3</th>\n",
       "      <td>0.000000</td>\n",
       "      <td>0.000000</td>\n",
       "      <td>0.0</td>\n",
       "      <td>0.0</td>\n",
       "      <td>0.000000</td>\n",
       "      <td>0.0</td>\n",
       "      <td>0.000000</td>\n",
       "      <td>0.000000</td>\n",
       "      <td>0.0</td>\n",
       "      <td>0.000000</td>\n",
       "      <td>0.000000</td>\n",
       "      <td>1.000000</td>\n",
       "    </tr>\n",
       "    <tr>\n",
       "      <th>4</th>\n",
       "      <td>0.000000</td>\n",
       "      <td>0.000000</td>\n",
       "      <td>0.0</td>\n",
       "      <td>0.0</td>\n",
       "      <td>0.000000</td>\n",
       "      <td>0.0</td>\n",
       "      <td>0.000000</td>\n",
       "      <td>0.000000</td>\n",
       "      <td>0.0</td>\n",
       "      <td>0.000000</td>\n",
       "      <td>0.000000</td>\n",
       "      <td>1.000000</td>\n",
       "    </tr>\n",
       "    <tr>\n",
       "      <th>...</th>\n",
       "      <td>...</td>\n",
       "      <td>...</td>\n",
       "      <td>...</td>\n",
       "      <td>...</td>\n",
       "      <td>...</td>\n",
       "      <td>...</td>\n",
       "      <td>...</td>\n",
       "      <td>...</td>\n",
       "      <td>...</td>\n",
       "      <td>...</td>\n",
       "      <td>...</td>\n",
       "      <td>...</td>\n",
       "    </tr>\n",
       "    <tr>\n",
       "      <th>246</th>\n",
       "      <td>0.071314</td>\n",
       "      <td>0.012270</td>\n",
       "      <td>0.0</td>\n",
       "      <td>0.0</td>\n",
       "      <td>0.002538</td>\n",
       "      <td>0.0</td>\n",
       "      <td>0.000319</td>\n",
       "      <td>-0.003564</td>\n",
       "      <td>0.0</td>\n",
       "      <td>0.000000</td>\n",
       "      <td>0.008288</td>\n",
       "      <td>1.297272</td>\n",
       "    </tr>\n",
       "    <tr>\n",
       "      <th>247</th>\n",
       "      <td>0.012653</td>\n",
       "      <td>0.005091</td>\n",
       "      <td>0.0</td>\n",
       "      <td>0.0</td>\n",
       "      <td>0.004936</td>\n",
       "      <td>0.0</td>\n",
       "      <td>-0.012225</td>\n",
       "      <td>0.019232</td>\n",
       "      <td>0.0</td>\n",
       "      <td>0.000000</td>\n",
       "      <td>0.002969</td>\n",
       "      <td>1.301123</td>\n",
       "    </tr>\n",
       "    <tr>\n",
       "      <th>248</th>\n",
       "      <td>-0.069859</td>\n",
       "      <td>-0.020904</td>\n",
       "      <td>0.0</td>\n",
       "      <td>0.0</td>\n",
       "      <td>-0.017506</td>\n",
       "      <td>0.0</td>\n",
       "      <td>-0.033254</td>\n",
       "      <td>0.032423</td>\n",
       "      <td>0.0</td>\n",
       "      <td>-0.023300</td>\n",
       "      <td>-0.013240</td>\n",
       "      <td>1.283896</td>\n",
       "    </tr>\n",
       "    <tr>\n",
       "      <th>249</th>\n",
       "      <td>0.037371</td>\n",
       "      <td>0.011989</td>\n",
       "      <td>0.0</td>\n",
       "      <td>0.0</td>\n",
       "      <td>-0.001731</td>\n",
       "      <td>0.0</td>\n",
       "      <td>0.020372</td>\n",
       "      <td>-0.003199</td>\n",
       "      <td>0.0</td>\n",
       "      <td>-0.014202</td>\n",
       "      <td>0.005060</td>\n",
       "      <td>1.290393</td>\n",
       "    </tr>\n",
       "    <tr>\n",
       "      <th>250</th>\n",
       "      <td>-0.027238</td>\n",
       "      <td>-0.006735</td>\n",
       "      <td>0.0</td>\n",
       "      <td>0.0</td>\n",
       "      <td>-0.073644</td>\n",
       "      <td>0.0</td>\n",
       "      <td>-0.000109</td>\n",
       "      <td>-0.003151</td>\n",
       "      <td>0.0</td>\n",
       "      <td>-0.002013</td>\n",
       "      <td>-0.011289</td>\n",
       "      <td>1.275826</td>\n",
       "    </tr>\n",
       "  </tbody>\n",
       "</table>\n",
       "<p>251 rows × 12 columns</p>\n",
       "</div>"
      ],
      "text/plain": [
       "         TSLA      AAPL  AMZN  MSFT      QCOM   FB       AMD      NVDA  NFLX  \\\n",
       "0    0.000000  0.000000   0.0   0.0  0.000000  0.0  0.000000  0.000000   0.0   \n",
       "1    0.000000  0.000000   0.0   0.0  0.000000  0.0  0.000000  0.000000   0.0   \n",
       "2    0.000000  0.000000   0.0   0.0  0.000000  0.0  0.000000  0.000000   0.0   \n",
       "3    0.000000  0.000000   0.0   0.0  0.000000  0.0  0.000000  0.000000   0.0   \n",
       "4    0.000000  0.000000   0.0   0.0  0.000000  0.0  0.000000  0.000000   0.0   \n",
       "..        ...       ...   ...   ...       ...  ...       ...       ...   ...   \n",
       "246  0.071314  0.012270   0.0   0.0  0.002538  0.0  0.000319 -0.003564   0.0   \n",
       "247  0.012653  0.005091   0.0   0.0  0.004936  0.0 -0.012225  0.019232   0.0   \n",
       "248 -0.069859 -0.020904   0.0   0.0 -0.017506  0.0 -0.033254  0.032423   0.0   \n",
       "249  0.037371  0.011989   0.0   0.0 -0.001731  0.0  0.020372 -0.003199   0.0   \n",
       "250 -0.027238 -0.006735   0.0   0.0 -0.073644  0.0 -0.000109 -0.003151   0.0   \n",
       "\n",
       "         ADBE    return  cumulative-return  \n",
       "0    0.000000  0.000000           1.000000  \n",
       "1    0.000000  0.000000           1.000000  \n",
       "2    0.000000  0.000000           1.000000  \n",
       "3    0.000000  0.000000           1.000000  \n",
       "4    0.000000  0.000000           1.000000  \n",
       "..        ...       ...                ...  \n",
       "246  0.000000  0.008288           1.297272  \n",
       "247  0.000000  0.002969           1.301123  \n",
       "248 -0.023300 -0.013240           1.283896  \n",
       "249 -0.014202  0.005060           1.290393  \n",
       "250 -0.002013 -0.011289           1.275826  \n",
       "\n",
       "[251 rows x 12 columns]"
      ]
     },
     "execution_count": 18,
     "metadata": {},
     "output_type": "execute_result"
    }
   ],
   "source": [
    "strategy"
   ]
  },
  {
   "cell_type": "code",
   "execution_count": 19,
   "metadata": {},
   "outputs": [
    {
     "name": "stdout",
     "output_type": "stream",
     "text": [
      "Strategy CAGR: 0.27706443939039116\n",
      "Strategy Volatility: 0.28733371669071023\n",
      "Strategy Sharpe: 0.9294573656939217\n",
      "Strategy Maximum Drawdown: 0.212263586922808\n",
      "Strategy Calmar Ratio: 1.3052848272612518\n"
     ]
    }
   ],
   "source": [
    "print(f'Strategy CAGR: {strategy_cagr}')\n",
    "print(f'Strategy Volatility: {strategy_volatility}')\n",
    "print(f'Strategy Sharpe: {strategy_sharpe}')\n",
    "print(f'Strategy Maximum Drawdown: {strategy_max_dd}')\n",
    "print(f'Strategy Calmar Ratio: {strategy_calmar_ratio}')"
   ]
  },
  {
   "cell_type": "code",
   "execution_count": 20,
   "metadata": {},
   "outputs": [
    {
     "name": "stdout",
     "output_type": "stream",
     "text": [
      "Calculating KPIs for TSLA\n",
      "Calculating KPIs for AAPL\n",
      "Calculating KPIs for AMZN\n",
      "Calculating KPIs for MSFT\n",
      "Calculating KPIs for QCOM\n",
      "Calculating KPIs for FB\n",
      "Calculating KPIs for AMD\n",
      "Calculating KPIs for NVDA\n",
      "Calculating KPIs for NFLX\n",
      "Calculating KPIs for ADBE\n"
     ]
    }
   ],
   "source": [
    "# KPIs for each stocks\n",
    "individual_cagr = {}\n",
    "individual_volatility = {}\n",
    "individual_sharpe = {}\n",
    "individual_max_dd = {}\n",
    "individual_calmar_ratio = {}\n",
    "\n",
    "for ticker in tickers:\n",
    "    print(f'Calculating KPIs for {ticker}')\n",
    "    individual_cagr[ticker] = cagr(ohlc_renko[ticker])\n",
    "    individual_volatility[ticker] = volatility(ohlc_renko[ticker])\n",
    "    individual_sharpe[ticker] = sharpe(ohlc_renko[ticker], 0.01)\n",
    "    individual_max_dd[ticker] = maximum_drawdown(ohlc_renko[ticker])\n",
    "    individual_calmar_ratio[ticker] = calmar_ratio(ohlc_renko[ticker])"
   ]
  },
  {
   "cell_type": "code",
   "execution_count": 21,
   "metadata": {},
   "outputs": [
    {
     "data": {
      "text/plain": [
       "{'TSLA': 0.3216139179371156,\n",
       " 'AAPL': 0.6303310569299432,\n",
       " 'AMZN': 0.501563314498267,\n",
       " 'MSFT': -0.06827617275680709,\n",
       " 'QCOM': 0.42313793620816864,\n",
       " 'FB': 0.1659663488464178,\n",
       " 'AMD': -0.033962453484648325,\n",
       " 'NVDA': 1.3314329101243692,\n",
       " 'NFLX': -0.1533521779214262,\n",
       " 'ADBE': -0.4220211335122527}"
      ]
     },
     "execution_count": 21,
     "metadata": {},
     "output_type": "execute_result"
    }
   ],
   "source": [
    "individual_cagr"
   ]
  },
  {
   "cell_type": "code",
   "execution_count": 22,
   "metadata": {},
   "outputs": [
    {
     "data": {
      "application/vnd.plotly.v1+json": {
       "config": {
        "plotlyServerURL": "https://plot.ly"
       },
       "data": [
        {
         "name": "Cumulative Return",
         "type": "scatter",
         "x": [
          0,
          1,
          2,
          3,
          4,
          5,
          6,
          7,
          8,
          9,
          10,
          11,
          12,
          13,
          14,
          15,
          16,
          17,
          18,
          19,
          20,
          21,
          22,
          23,
          24,
          25,
          26,
          27,
          28,
          29,
          30,
          31,
          32,
          33,
          34,
          35,
          36,
          37,
          38,
          39,
          40,
          41,
          42,
          43,
          44,
          45,
          46,
          47,
          48,
          49,
          50,
          51,
          52,
          53,
          54,
          55,
          56,
          57,
          58,
          59,
          60,
          61,
          62,
          63,
          64,
          65,
          66,
          67,
          68,
          69,
          70,
          71,
          72,
          73,
          74,
          75,
          76,
          77,
          78,
          79,
          80,
          81,
          82,
          83,
          84,
          85,
          86,
          87,
          88,
          89,
          90,
          91,
          92,
          93,
          94,
          95,
          96,
          97,
          98,
          99,
          100,
          101,
          102,
          103,
          104,
          105,
          106,
          107,
          108,
          109,
          110,
          111,
          112,
          113,
          114,
          115,
          116,
          117,
          118,
          119,
          120,
          121,
          122,
          123,
          124,
          125,
          126,
          127,
          128,
          129,
          130,
          131,
          132,
          133,
          134,
          135,
          136,
          137,
          138,
          139,
          140,
          141,
          142,
          143,
          144,
          145,
          146,
          147,
          148,
          149,
          150,
          151,
          152,
          153,
          154,
          155,
          156,
          157,
          158,
          159,
          160,
          161,
          162,
          163,
          164,
          165,
          166,
          167,
          168,
          169,
          170,
          171,
          172,
          173,
          174,
          175,
          176,
          177,
          178,
          179,
          180,
          181,
          182,
          183,
          184,
          185,
          186,
          187,
          188,
          189,
          190,
          191,
          192,
          193,
          194,
          195,
          196,
          197,
          198,
          199,
          200,
          201,
          202,
          203,
          204,
          205,
          206,
          207,
          208,
          209,
          210,
          211,
          212,
          213,
          214,
          215,
          216,
          217,
          218,
          219,
          220,
          221,
          222,
          223,
          224,
          225,
          226,
          227,
          228,
          229,
          230,
          231,
          232,
          233,
          234,
          235,
          236,
          237,
          238,
          239,
          240,
          241,
          242,
          243,
          244,
          245,
          246,
          247,
          248,
          249,
          250
         ],
         "y": [
          1,
          1,
          1,
          1,
          1,
          1.0019446824801128,
          1.0051972640484426,
          1.0081132393380823,
          1.0052240714828882,
          0.9924002707468953,
          0.9970605078480637,
          1.0212498476197407,
          1.0155461975114817,
          1.0256605561707952,
          1.0279542350855118,
          1.0398668578179633,
          1.0463910725097814,
          1.0409431833097744,
          1.0662976179269592,
          1.0606072197728251,
          1.0572149475383539,
          1.0653702917349912,
          1.0702615441815904,
          1.075810667350358,
          1.0758784051719033,
          1.0855922005896612,
          1.0748999142641091,
          1.0508583629812651,
          1.0731363574307329,
          1.0715568179844506,
          1.0850258882895878,
          1.0706439562555767,
          1.1068833624028027,
          1.150612644581607,
          1.1362428421010649,
          1.142888958362878,
          1.139031640294104,
          1.1645065503032648,
          1.1674024631214757,
          1.1797985528631787,
          1.1838135644641612,
          1.1947204872893804,
          1.211819079329597,
          1.239007561312814,
          1.22203700579743,
          1.1884218533680564,
          1.1272700442514738,
          1.1135175614399007,
          1.112984395406958,
          1.120309864938756,
          1.0968404079412948,
          1.0756974019085603,
          1.0969945137111736,
          1.0657301048625276,
          1.081704638970349,
          1.0869060660387444,
          1.1180770176114343,
          1.0697316913367894,
          1.0976943246668045,
          1.175699719056806,
          1.0637511343928618,
          1.1537700077566333,
          1.081831870176282,
          1.1043853124602119,
          1.0769689521131265,
          1.1027348425875303,
          1.0902295115946965,
          1.040200227071758,
          1.040526528640483,
          1.0315041251711647,
          1.0331172088558946,
          1.0364952953064936,
          1.0378223579615162,
          1.0317843288042872,
          1.0370541002797282,
          1.036501358843554,
          1.0415951517002182,
          1.03201125036862,
          1.0374912688483955,
          1.0349471283822753,
          1.0590502282723524,
          1.0935495812852696,
          1.0894103739815182,
          1.1148361389972417,
          1.1084324013927085,
          1.104260270167604,
          1.0643696558099913,
          1.0924918972319624,
          1.0942246726584108,
          1.1092083563971067,
          1.110081665254537,
          1.0881833452624823,
          1.1128712352286496,
          1.124212950052543,
          1.0948101041632643,
          1.112286087465881,
          1.1192899585648397,
          1.1290015232514912,
          1.1364253115141276,
          1.149359342399934,
          1.16455166172558,
          1.1437039040337453,
          1.1332275727284515,
          1.1467357860573317,
          1.1563922746527464,
          1.1726543086268733,
          1.1740606226949521,
          1.1957462220349422,
          1.1804653837259265,
          1.1877109966339658,
          1.1682467600807902,
          1.1652514251787858,
          1.160149521904659,
          1.1771410836149847,
          1.1798592487595823,
          1.1896975984780067,
          1.1868076577188937,
          1.1834854602111178,
          1.2007279899903378,
          1.2059830180774798,
          1.2269326865263517,
          1.247182438132856,
          1.1843936773883652,
          1.1941905914396282,
          1.212821165485031,
          1.2272214033654012,
          1.2334142970007476,
          1.2377777069802038,
          1.2401419658632442,
          1.2563323355251248,
          1.2623245701470935,
          1.2350191078470092,
          1.24898825968708,
          1.2071101358975056,
          1.2190965785451549,
          1.2475844109977932,
          1.2662467552772874,
          1.2804540014759325,
          1.3230992424148147,
          1.3186580420062093,
          1.3375155146309807,
          1.3518990225339547,
          1.3780682893151677,
          1.3445744471962333,
          1.3516275248003018,
          1.349547204185853,
          1.3391295608916447,
          1.3306381639416038,
          1.3422626984713342,
          1.334117405208584,
          1.3384506632041866,
          1.316120747336722,
          1.3280665269854333,
          1.3464585439053207,
          1.3335631453506973,
          1.36156552004299,
          1.3882196059954055,
          1.393180338875398,
          1.4091848248571608,
          1.4239813866661197,
          1.4256683540881203,
          1.4428612806219727,
          1.4221567393474137,
          1.4078507428244333,
          1.3801454975940672,
          1.4187265687654438,
          1.4234422675734268,
          1.4274128726428394,
          1.4506693625488132,
          1.4527013114484761,
          1.4518315096275654,
          1.4654090729825442,
          1.482869466617225,
          1.4907274189032589,
          1.5000645327472248,
          1.5423688624944,
          1.530075603433432,
          1.5402916234858497,
          1.5691717355926622,
          1.5942628993255656,
          1.5957921773292358,
          1.4926150488955743,
          1.4844594214007814,
          1.4836212290913913,
          1.4299292611230923,
          1.456214552771871,
          1.468271362048138,
          1.441917550372121,
          1.4129305447862794,
          1.435877371948249,
          1.4523117781210768,
          1.4660721088035376,
          1.4516198453674112,
          1.4336990636820635,
          1.4601183292187687,
          1.4536059894753128,
          1.434972341609586,
          1.4245634491226298,
          1.4178279239459204,
          1.4193516862776456,
          1.413590425048521,
          1.395621058006786,
          1.4149522678676199,
          1.4080551361790241,
          1.426726881278238,
          1.4211048203064256,
          1.420676666233391,
          1.4322038702992206,
          1.4369022668612965,
          1.4262541443766423,
          1.4180031346341093,
          1.4097279951932598,
          1.39462899526264,
          1.3935646925248724,
          1.3808137538215248,
          1.3774178772289851,
          1.3835179211010609,
          1.3687572797425172,
          1.3624234717073065,
          1.3520184281418512,
          1.3505383975016234,
          1.3655995795223417,
          1.365713483448523,
          1.3490427574147368,
          1.3059795195875437,
          1.317340173181662,
          1.3194938784295684,
          1.2819579445479448,
          1.264551031528119,
          1.2587811982239572,
          1.2570636057859745,
          1.2571790772533509,
          1.262451014900428,
          1.2582254891418416,
          1.2574611471974306,
          1.2593400322035686,
          1.2593002848957613,
          1.2621131483541916,
          1.272483000065565,
          1.2677978970666193,
          1.2676674435563065,
          1.2740182468133492,
          1.2792389681651515,
          1.2747296386689138,
          1.278664562717658,
          1.2866090573776512,
          1.2972720219625435,
          1.3011232271243838,
          1.2838962726094807,
          1.2903927949597795,
          1.2758256595086093
         ]
        }
       ],
       "layout": {
        "template": {
         "data": {
          "bar": [
           {
            "error_x": {
             "color": "#2a3f5f"
            },
            "error_y": {
             "color": "#2a3f5f"
            },
            "marker": {
             "line": {
              "color": "#E5ECF6",
              "width": 0.5
             }
            },
            "type": "bar"
           }
          ],
          "barpolar": [
           {
            "marker": {
             "line": {
              "color": "#E5ECF6",
              "width": 0.5
             }
            },
            "type": "barpolar"
           }
          ],
          "carpet": [
           {
            "aaxis": {
             "endlinecolor": "#2a3f5f",
             "gridcolor": "white",
             "linecolor": "white",
             "minorgridcolor": "white",
             "startlinecolor": "#2a3f5f"
            },
            "baxis": {
             "endlinecolor": "#2a3f5f",
             "gridcolor": "white",
             "linecolor": "white",
             "minorgridcolor": "white",
             "startlinecolor": "#2a3f5f"
            },
            "type": "carpet"
           }
          ],
          "choropleth": [
           {
            "colorbar": {
             "outlinewidth": 0,
             "ticks": ""
            },
            "type": "choropleth"
           }
          ],
          "contour": [
           {
            "colorbar": {
             "outlinewidth": 0,
             "ticks": ""
            },
            "colorscale": [
             [
              0,
              "#0d0887"
             ],
             [
              0.1111111111111111,
              "#46039f"
             ],
             [
              0.2222222222222222,
              "#7201a8"
             ],
             [
              0.3333333333333333,
              "#9c179e"
             ],
             [
              0.4444444444444444,
              "#bd3786"
             ],
             [
              0.5555555555555556,
              "#d8576b"
             ],
             [
              0.6666666666666666,
              "#ed7953"
             ],
             [
              0.7777777777777778,
              "#fb9f3a"
             ],
             [
              0.8888888888888888,
              "#fdca26"
             ],
             [
              1,
              "#f0f921"
             ]
            ],
            "type": "contour"
           }
          ],
          "contourcarpet": [
           {
            "colorbar": {
             "outlinewidth": 0,
             "ticks": ""
            },
            "type": "contourcarpet"
           }
          ],
          "heatmap": [
           {
            "colorbar": {
             "outlinewidth": 0,
             "ticks": ""
            },
            "colorscale": [
             [
              0,
              "#0d0887"
             ],
             [
              0.1111111111111111,
              "#46039f"
             ],
             [
              0.2222222222222222,
              "#7201a8"
             ],
             [
              0.3333333333333333,
              "#9c179e"
             ],
             [
              0.4444444444444444,
              "#bd3786"
             ],
             [
              0.5555555555555556,
              "#d8576b"
             ],
             [
              0.6666666666666666,
              "#ed7953"
             ],
             [
              0.7777777777777778,
              "#fb9f3a"
             ],
             [
              0.8888888888888888,
              "#fdca26"
             ],
             [
              1,
              "#f0f921"
             ]
            ],
            "type": "heatmap"
           }
          ],
          "heatmapgl": [
           {
            "colorbar": {
             "outlinewidth": 0,
             "ticks": ""
            },
            "colorscale": [
             [
              0,
              "#0d0887"
             ],
             [
              0.1111111111111111,
              "#46039f"
             ],
             [
              0.2222222222222222,
              "#7201a8"
             ],
             [
              0.3333333333333333,
              "#9c179e"
             ],
             [
              0.4444444444444444,
              "#bd3786"
             ],
             [
              0.5555555555555556,
              "#d8576b"
             ],
             [
              0.6666666666666666,
              "#ed7953"
             ],
             [
              0.7777777777777778,
              "#fb9f3a"
             ],
             [
              0.8888888888888888,
              "#fdca26"
             ],
             [
              1,
              "#f0f921"
             ]
            ],
            "type": "heatmapgl"
           }
          ],
          "histogram": [
           {
            "marker": {
             "colorbar": {
              "outlinewidth": 0,
              "ticks": ""
             }
            },
            "type": "histogram"
           }
          ],
          "histogram2d": [
           {
            "colorbar": {
             "outlinewidth": 0,
             "ticks": ""
            },
            "colorscale": [
             [
              0,
              "#0d0887"
             ],
             [
              0.1111111111111111,
              "#46039f"
             ],
             [
              0.2222222222222222,
              "#7201a8"
             ],
             [
              0.3333333333333333,
              "#9c179e"
             ],
             [
              0.4444444444444444,
              "#bd3786"
             ],
             [
              0.5555555555555556,
              "#d8576b"
             ],
             [
              0.6666666666666666,
              "#ed7953"
             ],
             [
              0.7777777777777778,
              "#fb9f3a"
             ],
             [
              0.8888888888888888,
              "#fdca26"
             ],
             [
              1,
              "#f0f921"
             ]
            ],
            "type": "histogram2d"
           }
          ],
          "histogram2dcontour": [
           {
            "colorbar": {
             "outlinewidth": 0,
             "ticks": ""
            },
            "colorscale": [
             [
              0,
              "#0d0887"
             ],
             [
              0.1111111111111111,
              "#46039f"
             ],
             [
              0.2222222222222222,
              "#7201a8"
             ],
             [
              0.3333333333333333,
              "#9c179e"
             ],
             [
              0.4444444444444444,
              "#bd3786"
             ],
             [
              0.5555555555555556,
              "#d8576b"
             ],
             [
              0.6666666666666666,
              "#ed7953"
             ],
             [
              0.7777777777777778,
              "#fb9f3a"
             ],
             [
              0.8888888888888888,
              "#fdca26"
             ],
             [
              1,
              "#f0f921"
             ]
            ],
            "type": "histogram2dcontour"
           }
          ],
          "mesh3d": [
           {
            "colorbar": {
             "outlinewidth": 0,
             "ticks": ""
            },
            "type": "mesh3d"
           }
          ],
          "parcoords": [
           {
            "line": {
             "colorbar": {
              "outlinewidth": 0,
              "ticks": ""
             }
            },
            "type": "parcoords"
           }
          ],
          "pie": [
           {
            "automargin": true,
            "type": "pie"
           }
          ],
          "scatter": [
           {
            "marker": {
             "colorbar": {
              "outlinewidth": 0,
              "ticks": ""
             }
            },
            "type": "scatter"
           }
          ],
          "scatter3d": [
           {
            "line": {
             "colorbar": {
              "outlinewidth": 0,
              "ticks": ""
             }
            },
            "marker": {
             "colorbar": {
              "outlinewidth": 0,
              "ticks": ""
             }
            },
            "type": "scatter3d"
           }
          ],
          "scattercarpet": [
           {
            "marker": {
             "colorbar": {
              "outlinewidth": 0,
              "ticks": ""
             }
            },
            "type": "scattercarpet"
           }
          ],
          "scattergeo": [
           {
            "marker": {
             "colorbar": {
              "outlinewidth": 0,
              "ticks": ""
             }
            },
            "type": "scattergeo"
           }
          ],
          "scattergl": [
           {
            "marker": {
             "colorbar": {
              "outlinewidth": 0,
              "ticks": ""
             }
            },
            "type": "scattergl"
           }
          ],
          "scattermapbox": [
           {
            "marker": {
             "colorbar": {
              "outlinewidth": 0,
              "ticks": ""
             }
            },
            "type": "scattermapbox"
           }
          ],
          "scatterpolar": [
           {
            "marker": {
             "colorbar": {
              "outlinewidth": 0,
              "ticks": ""
             }
            },
            "type": "scatterpolar"
           }
          ],
          "scatterpolargl": [
           {
            "marker": {
             "colorbar": {
              "outlinewidth": 0,
              "ticks": ""
             }
            },
            "type": "scatterpolargl"
           }
          ],
          "scatterternary": [
           {
            "marker": {
             "colorbar": {
              "outlinewidth": 0,
              "ticks": ""
             }
            },
            "type": "scatterternary"
           }
          ],
          "surface": [
           {
            "colorbar": {
             "outlinewidth": 0,
             "ticks": ""
            },
            "colorscale": [
             [
              0,
              "#0d0887"
             ],
             [
              0.1111111111111111,
              "#46039f"
             ],
             [
              0.2222222222222222,
              "#7201a8"
             ],
             [
              0.3333333333333333,
              "#9c179e"
             ],
             [
              0.4444444444444444,
              "#bd3786"
             ],
             [
              0.5555555555555556,
              "#d8576b"
             ],
             [
              0.6666666666666666,
              "#ed7953"
             ],
             [
              0.7777777777777778,
              "#fb9f3a"
             ],
             [
              0.8888888888888888,
              "#fdca26"
             ],
             [
              1,
              "#f0f921"
             ]
            ],
            "type": "surface"
           }
          ],
          "table": [
           {
            "cells": {
             "fill": {
              "color": "#EBF0F8"
             },
             "line": {
              "color": "white"
             }
            },
            "header": {
             "fill": {
              "color": "#C8D4E3"
             },
             "line": {
              "color": "white"
             }
            },
            "type": "table"
           }
          ]
         },
         "layout": {
          "annotationdefaults": {
           "arrowcolor": "#2a3f5f",
           "arrowhead": 0,
           "arrowwidth": 1
          },
          "coloraxis": {
           "colorbar": {
            "outlinewidth": 0,
            "ticks": ""
           }
          },
          "colorscale": {
           "diverging": [
            [
             0,
             "#8e0152"
            ],
            [
             0.1,
             "#c51b7d"
            ],
            [
             0.2,
             "#de77ae"
            ],
            [
             0.3,
             "#f1b6da"
            ],
            [
             0.4,
             "#fde0ef"
            ],
            [
             0.5,
             "#f7f7f7"
            ],
            [
             0.6,
             "#e6f5d0"
            ],
            [
             0.7,
             "#b8e186"
            ],
            [
             0.8,
             "#7fbc41"
            ],
            [
             0.9,
             "#4d9221"
            ],
            [
             1,
             "#276419"
            ]
           ],
           "sequential": [
            [
             0,
             "#0d0887"
            ],
            [
             0.1111111111111111,
             "#46039f"
            ],
            [
             0.2222222222222222,
             "#7201a8"
            ],
            [
             0.3333333333333333,
             "#9c179e"
            ],
            [
             0.4444444444444444,
             "#bd3786"
            ],
            [
             0.5555555555555556,
             "#d8576b"
            ],
            [
             0.6666666666666666,
             "#ed7953"
            ],
            [
             0.7777777777777778,
             "#fb9f3a"
            ],
            [
             0.8888888888888888,
             "#fdca26"
            ],
            [
             1,
             "#f0f921"
            ]
           ],
           "sequentialminus": [
            [
             0,
             "#0d0887"
            ],
            [
             0.1111111111111111,
             "#46039f"
            ],
            [
             0.2222222222222222,
             "#7201a8"
            ],
            [
             0.3333333333333333,
             "#9c179e"
            ],
            [
             0.4444444444444444,
             "#bd3786"
            ],
            [
             0.5555555555555556,
             "#d8576b"
            ],
            [
             0.6666666666666666,
             "#ed7953"
            ],
            [
             0.7777777777777778,
             "#fb9f3a"
            ],
            [
             0.8888888888888888,
             "#fdca26"
            ],
            [
             1,
             "#f0f921"
            ]
           ]
          },
          "colorway": [
           "#636efa",
           "#EF553B",
           "#00cc96",
           "#ab63fa",
           "#FFA15A",
           "#19d3f3",
           "#FF6692",
           "#B6E880",
           "#FF97FF",
           "#FECB52"
          ],
          "font": {
           "color": "#2a3f5f"
          },
          "geo": {
           "bgcolor": "white",
           "lakecolor": "white",
           "landcolor": "#E5ECF6",
           "showlakes": true,
           "showland": true,
           "subunitcolor": "white"
          },
          "hoverlabel": {
           "align": "left"
          },
          "hovermode": "closest",
          "mapbox": {
           "style": "light"
          },
          "paper_bgcolor": "white",
          "plot_bgcolor": "#E5ECF6",
          "polar": {
           "angularaxis": {
            "gridcolor": "white",
            "linecolor": "white",
            "ticks": ""
           },
           "bgcolor": "#E5ECF6",
           "radialaxis": {
            "gridcolor": "white",
            "linecolor": "white",
            "ticks": ""
           }
          },
          "scene": {
           "xaxis": {
            "backgroundcolor": "#E5ECF6",
            "gridcolor": "white",
            "gridwidth": 2,
            "linecolor": "white",
            "showbackground": true,
            "ticks": "",
            "zerolinecolor": "white"
           },
           "yaxis": {
            "backgroundcolor": "#E5ECF6",
            "gridcolor": "white",
            "gridwidth": 2,
            "linecolor": "white",
            "showbackground": true,
            "ticks": "",
            "zerolinecolor": "white"
           },
           "zaxis": {
            "backgroundcolor": "#E5ECF6",
            "gridcolor": "white",
            "gridwidth": 2,
            "linecolor": "white",
            "showbackground": true,
            "ticks": "",
            "zerolinecolor": "white"
           }
          },
          "shapedefaults": {
           "line": {
            "color": "#2a3f5f"
           }
          },
          "ternary": {
           "aaxis": {
            "gridcolor": "white",
            "linecolor": "white",
            "ticks": ""
           },
           "baxis": {
            "gridcolor": "white",
            "linecolor": "white",
            "ticks": ""
           },
           "bgcolor": "#E5ECF6",
           "caxis": {
            "gridcolor": "white",
            "linecolor": "white",
            "ticks": ""
           }
          },
          "title": {
           "x": 0.05
          },
          "xaxis": {
           "automargin": true,
           "gridcolor": "white",
           "linecolor": "white",
           "ticks": "",
           "title": {
            "standoff": 15
           },
           "zerolinecolor": "white",
           "zerolinewidth": 2
          },
          "yaxis": {
           "automargin": true,
           "gridcolor": "white",
           "linecolor": "white",
           "ticks": "",
           "title": {
            "standoff": 15
           },
           "zerolinecolor": "white",
           "zerolinewidth": 2
          }
         }
        },
        "title": {
         "text": "Cumulative Return of Portfolio of S2 - Renko OBV Backtested 2020-12-13 21:39:03.462863"
        },
        "xaxis": {
         "anchor": "y",
         "domain": [
          0,
          0.94
         ],
         "title": {
          "text": "Period"
         }
        },
        "yaxis": {
         "anchor": "x",
         "domain": [
          0,
          1
         ],
         "title": {
          "text": "Return"
         }
        },
        "yaxis2": {
         "anchor": "x",
         "overlaying": "y",
         "side": "right",
         "title": {
          "text": "Return"
         }
        }
       }
      },
      "text/html": [
       "<div>                            <div id=\"dbed8503-0e3c-47a5-802b-37441bafdf64\" class=\"plotly-graph-div\" style=\"height:525px; width:100%;\"></div>            <script type=\"text/javascript\">                require([\"plotly\"], function(Plotly) {                    window.PLOTLYENV=window.PLOTLYENV || {};                                    if (document.getElementById(\"dbed8503-0e3c-47a5-802b-37441bafdf64\")) {                    Plotly.newPlot(                        \"dbed8503-0e3c-47a5-802b-37441bafdf64\",                        [{\"name\": \"Cumulative Return\", \"type\": \"scatter\", \"x\": [0, 1, 2, 3, 4, 5, 6, 7, 8, 9, 10, 11, 12, 13, 14, 15, 16, 17, 18, 19, 20, 21, 22, 23, 24, 25, 26, 27, 28, 29, 30, 31, 32, 33, 34, 35, 36, 37, 38, 39, 40, 41, 42, 43, 44, 45, 46, 47, 48, 49, 50, 51, 52, 53, 54, 55, 56, 57, 58, 59, 60, 61, 62, 63, 64, 65, 66, 67, 68, 69, 70, 71, 72, 73, 74, 75, 76, 77, 78, 79, 80, 81, 82, 83, 84, 85, 86, 87, 88, 89, 90, 91, 92, 93, 94, 95, 96, 97, 98, 99, 100, 101, 102, 103, 104, 105, 106, 107, 108, 109, 110, 111, 112, 113, 114, 115, 116, 117, 118, 119, 120, 121, 122, 123, 124, 125, 126, 127, 128, 129, 130, 131, 132, 133, 134, 135, 136, 137, 138, 139, 140, 141, 142, 143, 144, 145, 146, 147, 148, 149, 150, 151, 152, 153, 154, 155, 156, 157, 158, 159, 160, 161, 162, 163, 164, 165, 166, 167, 168, 169, 170, 171, 172, 173, 174, 175, 176, 177, 178, 179, 180, 181, 182, 183, 184, 185, 186, 187, 188, 189, 190, 191, 192, 193, 194, 195, 196, 197, 198, 199, 200, 201, 202, 203, 204, 205, 206, 207, 208, 209, 210, 211, 212, 213, 214, 215, 216, 217, 218, 219, 220, 221, 222, 223, 224, 225, 226, 227, 228, 229, 230, 231, 232, 233, 234, 235, 236, 237, 238, 239, 240, 241, 242, 243, 244, 245, 246, 247, 248, 249, 250], \"y\": [1.0, 1.0, 1.0, 1.0, 1.0, 1.0019446824801128, 1.0051972640484426, 1.0081132393380823, 1.0052240714828882, 0.9924002707468953, 0.9970605078480637, 1.0212498476197407, 1.0155461975114817, 1.0256605561707952, 1.0279542350855118, 1.0398668578179633, 1.0463910725097814, 1.0409431833097744, 1.0662976179269592, 1.0606072197728251, 1.0572149475383539, 1.0653702917349912, 1.0702615441815904, 1.075810667350358, 1.0758784051719033, 1.0855922005896612, 1.0748999142641091, 1.0508583629812651, 1.0731363574307329, 1.0715568179844506, 1.0850258882895878, 1.0706439562555767, 1.1068833624028027, 1.150612644581607, 1.1362428421010649, 1.142888958362878, 1.139031640294104, 1.1645065503032648, 1.1674024631214757, 1.1797985528631787, 1.1838135644641612, 1.1947204872893804, 1.211819079329597, 1.239007561312814, 1.22203700579743, 1.1884218533680564, 1.1272700442514738, 1.1135175614399007, 1.112984395406958, 1.120309864938756, 1.0968404079412948, 1.0756974019085603, 1.0969945137111736, 1.0657301048625276, 1.081704638970349, 1.0869060660387444, 1.1180770176114343, 1.0697316913367894, 1.0976943246668045, 1.175699719056806, 1.0637511343928618, 1.1537700077566333, 1.081831870176282, 1.1043853124602119, 1.0769689521131265, 1.1027348425875303, 1.0902295115946965, 1.040200227071758, 1.040526528640483, 1.0315041251711647, 1.0331172088558946, 1.0364952953064936, 1.0378223579615162, 1.0317843288042872, 1.0370541002797282, 1.036501358843554, 1.0415951517002182, 1.03201125036862, 1.0374912688483955, 1.0349471283822753, 1.0590502282723524, 1.0935495812852696, 1.0894103739815182, 1.1148361389972417, 1.1084324013927085, 1.104260270167604, 1.0643696558099913, 1.0924918972319624, 1.0942246726584108, 1.1092083563971067, 1.110081665254537, 1.0881833452624823, 1.1128712352286496, 1.124212950052543, 1.0948101041632643, 1.112286087465881, 1.1192899585648397, 1.1290015232514912, 1.1364253115141276, 1.149359342399934, 1.16455166172558, 1.1437039040337453, 1.1332275727284515, 1.1467357860573317, 1.1563922746527464, 1.1726543086268733, 1.1740606226949521, 1.1957462220349422, 1.1804653837259265, 1.1877109966339658, 1.1682467600807902, 1.1652514251787858, 1.160149521904659, 1.1771410836149847, 1.1798592487595823, 1.1896975984780067, 1.1868076577188937, 1.1834854602111178, 1.2007279899903378, 1.2059830180774798, 1.2269326865263517, 1.247182438132856, 1.1843936773883652, 1.1941905914396282, 1.212821165485031, 1.2272214033654012, 1.2334142970007476, 1.2377777069802038, 1.2401419658632442, 1.2563323355251248, 1.2623245701470935, 1.2350191078470092, 1.24898825968708, 1.2071101358975056, 1.2190965785451549, 1.2475844109977932, 1.2662467552772874, 1.2804540014759325, 1.3230992424148147, 1.3186580420062093, 1.3375155146309807, 1.3518990225339547, 1.3780682893151677, 1.3445744471962333, 1.3516275248003018, 1.349547204185853, 1.3391295608916447, 1.3306381639416038, 1.3422626984713342, 1.334117405208584, 1.3384506632041866, 1.316120747336722, 1.3280665269854333, 1.3464585439053207, 1.3335631453506973, 1.36156552004299, 1.3882196059954055, 1.393180338875398, 1.4091848248571608, 1.4239813866661197, 1.4256683540881203, 1.4428612806219727, 1.4221567393474137, 1.4078507428244333, 1.3801454975940672, 1.4187265687654438, 1.4234422675734268, 1.4274128726428394, 1.4506693625488132, 1.4527013114484761, 1.4518315096275654, 1.4654090729825442, 1.482869466617225, 1.4907274189032589, 1.5000645327472248, 1.5423688624944, 1.530075603433432, 1.5402916234858497, 1.5691717355926622, 1.5942628993255656, 1.5957921773292358, 1.4926150488955743, 1.4844594214007814, 1.4836212290913913, 1.4299292611230923, 1.456214552771871, 1.468271362048138, 1.441917550372121, 1.4129305447862794, 1.435877371948249, 1.4523117781210768, 1.4660721088035376, 1.4516198453674112, 1.4336990636820635, 1.4601183292187687, 1.4536059894753128, 1.434972341609586, 1.4245634491226298, 1.4178279239459204, 1.4193516862776456, 1.413590425048521, 1.395621058006786, 1.4149522678676199, 1.4080551361790241, 1.426726881278238, 1.4211048203064256, 1.420676666233391, 1.4322038702992206, 1.4369022668612965, 1.4262541443766423, 1.4180031346341093, 1.4097279951932598, 1.39462899526264, 1.3935646925248724, 1.3808137538215248, 1.3774178772289851, 1.3835179211010609, 1.3687572797425172, 1.3624234717073065, 1.3520184281418512, 1.3505383975016234, 1.3655995795223417, 1.365713483448523, 1.3490427574147368, 1.3059795195875437, 1.317340173181662, 1.3194938784295684, 1.2819579445479448, 1.264551031528119, 1.2587811982239572, 1.2570636057859745, 1.2571790772533509, 1.262451014900428, 1.2582254891418416, 1.2574611471974306, 1.2593400322035686, 1.2593002848957613, 1.2621131483541916, 1.272483000065565, 1.2677978970666193, 1.2676674435563065, 1.2740182468133492, 1.2792389681651515, 1.2747296386689138, 1.278664562717658, 1.2866090573776512, 1.2972720219625435, 1.3011232271243838, 1.2838962726094807, 1.2903927949597795, 1.2758256595086093]}],                        {\"template\": {\"data\": {\"bar\": [{\"error_x\": {\"color\": \"#2a3f5f\"}, \"error_y\": {\"color\": \"#2a3f5f\"}, \"marker\": {\"line\": {\"color\": \"#E5ECF6\", \"width\": 0.5}}, \"type\": \"bar\"}], \"barpolar\": [{\"marker\": {\"line\": {\"color\": \"#E5ECF6\", \"width\": 0.5}}, \"type\": \"barpolar\"}], \"carpet\": [{\"aaxis\": {\"endlinecolor\": \"#2a3f5f\", \"gridcolor\": \"white\", \"linecolor\": \"white\", \"minorgridcolor\": \"white\", \"startlinecolor\": \"#2a3f5f\"}, \"baxis\": {\"endlinecolor\": \"#2a3f5f\", \"gridcolor\": \"white\", \"linecolor\": \"white\", \"minorgridcolor\": \"white\", \"startlinecolor\": \"#2a3f5f\"}, \"type\": \"carpet\"}], \"choropleth\": [{\"colorbar\": {\"outlinewidth\": 0, \"ticks\": \"\"}, \"type\": \"choropleth\"}], \"contour\": [{\"colorbar\": {\"outlinewidth\": 0, \"ticks\": \"\"}, \"colorscale\": [[0.0, \"#0d0887\"], [0.1111111111111111, \"#46039f\"], [0.2222222222222222, \"#7201a8\"], [0.3333333333333333, \"#9c179e\"], [0.4444444444444444, \"#bd3786\"], [0.5555555555555556, \"#d8576b\"], [0.6666666666666666, \"#ed7953\"], [0.7777777777777778, \"#fb9f3a\"], [0.8888888888888888, \"#fdca26\"], [1.0, \"#f0f921\"]], \"type\": \"contour\"}], \"contourcarpet\": [{\"colorbar\": {\"outlinewidth\": 0, \"ticks\": \"\"}, \"type\": \"contourcarpet\"}], \"heatmap\": [{\"colorbar\": {\"outlinewidth\": 0, \"ticks\": \"\"}, \"colorscale\": [[0.0, \"#0d0887\"], [0.1111111111111111, \"#46039f\"], [0.2222222222222222, \"#7201a8\"], [0.3333333333333333, \"#9c179e\"], [0.4444444444444444, \"#bd3786\"], [0.5555555555555556, \"#d8576b\"], [0.6666666666666666, \"#ed7953\"], [0.7777777777777778, \"#fb9f3a\"], [0.8888888888888888, \"#fdca26\"], [1.0, \"#f0f921\"]], \"type\": \"heatmap\"}], \"heatmapgl\": [{\"colorbar\": {\"outlinewidth\": 0, \"ticks\": \"\"}, \"colorscale\": [[0.0, \"#0d0887\"], [0.1111111111111111, \"#46039f\"], [0.2222222222222222, \"#7201a8\"], [0.3333333333333333, \"#9c179e\"], [0.4444444444444444, \"#bd3786\"], [0.5555555555555556, \"#d8576b\"], [0.6666666666666666, \"#ed7953\"], [0.7777777777777778, \"#fb9f3a\"], [0.8888888888888888, \"#fdca26\"], [1.0, \"#f0f921\"]], \"type\": \"heatmapgl\"}], \"histogram\": [{\"marker\": {\"colorbar\": {\"outlinewidth\": 0, \"ticks\": \"\"}}, \"type\": \"histogram\"}], \"histogram2d\": [{\"colorbar\": {\"outlinewidth\": 0, \"ticks\": \"\"}, \"colorscale\": [[0.0, \"#0d0887\"], [0.1111111111111111, \"#46039f\"], [0.2222222222222222, \"#7201a8\"], [0.3333333333333333, \"#9c179e\"], [0.4444444444444444, \"#bd3786\"], [0.5555555555555556, \"#d8576b\"], [0.6666666666666666, \"#ed7953\"], [0.7777777777777778, \"#fb9f3a\"], [0.8888888888888888, \"#fdca26\"], [1.0, \"#f0f921\"]], \"type\": \"histogram2d\"}], \"histogram2dcontour\": [{\"colorbar\": {\"outlinewidth\": 0, \"ticks\": \"\"}, \"colorscale\": [[0.0, \"#0d0887\"], [0.1111111111111111, \"#46039f\"], [0.2222222222222222, \"#7201a8\"], [0.3333333333333333, \"#9c179e\"], [0.4444444444444444, \"#bd3786\"], [0.5555555555555556, \"#d8576b\"], [0.6666666666666666, \"#ed7953\"], [0.7777777777777778, \"#fb9f3a\"], [0.8888888888888888, \"#fdca26\"], [1.0, \"#f0f921\"]], \"type\": \"histogram2dcontour\"}], \"mesh3d\": [{\"colorbar\": {\"outlinewidth\": 0, \"ticks\": \"\"}, \"type\": \"mesh3d\"}], \"parcoords\": [{\"line\": {\"colorbar\": {\"outlinewidth\": 0, \"ticks\": \"\"}}, \"type\": \"parcoords\"}], \"pie\": [{\"automargin\": true, \"type\": \"pie\"}], \"scatter\": [{\"marker\": {\"colorbar\": {\"outlinewidth\": 0, \"ticks\": \"\"}}, \"type\": \"scatter\"}], \"scatter3d\": [{\"line\": {\"colorbar\": {\"outlinewidth\": 0, \"ticks\": \"\"}}, \"marker\": {\"colorbar\": {\"outlinewidth\": 0, \"ticks\": \"\"}}, \"type\": \"scatter3d\"}], \"scattercarpet\": [{\"marker\": {\"colorbar\": {\"outlinewidth\": 0, \"ticks\": \"\"}}, \"type\": \"scattercarpet\"}], \"scattergeo\": [{\"marker\": {\"colorbar\": {\"outlinewidth\": 0, \"ticks\": \"\"}}, \"type\": \"scattergeo\"}], \"scattergl\": [{\"marker\": {\"colorbar\": {\"outlinewidth\": 0, \"ticks\": \"\"}}, \"type\": \"scattergl\"}], \"scattermapbox\": [{\"marker\": {\"colorbar\": {\"outlinewidth\": 0, \"ticks\": \"\"}}, \"type\": \"scattermapbox\"}], \"scatterpolar\": [{\"marker\": {\"colorbar\": {\"outlinewidth\": 0, \"ticks\": \"\"}}, \"type\": \"scatterpolar\"}], \"scatterpolargl\": [{\"marker\": {\"colorbar\": {\"outlinewidth\": 0, \"ticks\": \"\"}}, \"type\": \"scatterpolargl\"}], \"scatterternary\": [{\"marker\": {\"colorbar\": {\"outlinewidth\": 0, \"ticks\": \"\"}}, \"type\": \"scatterternary\"}], \"surface\": [{\"colorbar\": {\"outlinewidth\": 0, \"ticks\": \"\"}, \"colorscale\": [[0.0, \"#0d0887\"], [0.1111111111111111, \"#46039f\"], [0.2222222222222222, \"#7201a8\"], [0.3333333333333333, \"#9c179e\"], [0.4444444444444444, \"#bd3786\"], [0.5555555555555556, \"#d8576b\"], [0.6666666666666666, \"#ed7953\"], [0.7777777777777778, \"#fb9f3a\"], [0.8888888888888888, \"#fdca26\"], [1.0, \"#f0f921\"]], \"type\": \"surface\"}], \"table\": [{\"cells\": {\"fill\": {\"color\": \"#EBF0F8\"}, \"line\": {\"color\": \"white\"}}, \"header\": {\"fill\": {\"color\": \"#C8D4E3\"}, \"line\": {\"color\": \"white\"}}, \"type\": \"table\"}]}, \"layout\": {\"annotationdefaults\": {\"arrowcolor\": \"#2a3f5f\", \"arrowhead\": 0, \"arrowwidth\": 1}, \"coloraxis\": {\"colorbar\": {\"outlinewidth\": 0, \"ticks\": \"\"}}, \"colorscale\": {\"diverging\": [[0, \"#8e0152\"], [0.1, \"#c51b7d\"], [0.2, \"#de77ae\"], [0.3, \"#f1b6da\"], [0.4, \"#fde0ef\"], [0.5, \"#f7f7f7\"], [0.6, \"#e6f5d0\"], [0.7, \"#b8e186\"], [0.8, \"#7fbc41\"], [0.9, \"#4d9221\"], [1, \"#276419\"]], \"sequential\": [[0.0, \"#0d0887\"], [0.1111111111111111, \"#46039f\"], [0.2222222222222222, \"#7201a8\"], [0.3333333333333333, \"#9c179e\"], [0.4444444444444444, \"#bd3786\"], [0.5555555555555556, \"#d8576b\"], [0.6666666666666666, \"#ed7953\"], [0.7777777777777778, \"#fb9f3a\"], [0.8888888888888888, \"#fdca26\"], [1.0, \"#f0f921\"]], \"sequentialminus\": [[0.0, \"#0d0887\"], [0.1111111111111111, \"#46039f\"], [0.2222222222222222, \"#7201a8\"], [0.3333333333333333, \"#9c179e\"], [0.4444444444444444, \"#bd3786\"], [0.5555555555555556, \"#d8576b\"], [0.6666666666666666, \"#ed7953\"], [0.7777777777777778, \"#fb9f3a\"], [0.8888888888888888, \"#fdca26\"], [1.0, \"#f0f921\"]]}, \"colorway\": [\"#636efa\", \"#EF553B\", \"#00cc96\", \"#ab63fa\", \"#FFA15A\", \"#19d3f3\", \"#FF6692\", \"#B6E880\", \"#FF97FF\", \"#FECB52\"], \"font\": {\"color\": \"#2a3f5f\"}, \"geo\": {\"bgcolor\": \"white\", \"lakecolor\": \"white\", \"landcolor\": \"#E5ECF6\", \"showlakes\": true, \"showland\": true, \"subunitcolor\": \"white\"}, \"hoverlabel\": {\"align\": \"left\"}, \"hovermode\": \"closest\", \"mapbox\": {\"style\": \"light\"}, \"paper_bgcolor\": \"white\", \"plot_bgcolor\": \"#E5ECF6\", \"polar\": {\"angularaxis\": {\"gridcolor\": \"white\", \"linecolor\": \"white\", \"ticks\": \"\"}, \"bgcolor\": \"#E5ECF6\", \"radialaxis\": {\"gridcolor\": \"white\", \"linecolor\": \"white\", \"ticks\": \"\"}}, \"scene\": {\"xaxis\": {\"backgroundcolor\": \"#E5ECF6\", \"gridcolor\": \"white\", \"gridwidth\": 2, \"linecolor\": \"white\", \"showbackground\": true, \"ticks\": \"\", \"zerolinecolor\": \"white\"}, \"yaxis\": {\"backgroundcolor\": \"#E5ECF6\", \"gridcolor\": \"white\", \"gridwidth\": 2, \"linecolor\": \"white\", \"showbackground\": true, \"ticks\": \"\", \"zerolinecolor\": \"white\"}, \"zaxis\": {\"backgroundcolor\": \"#E5ECF6\", \"gridcolor\": \"white\", \"gridwidth\": 2, \"linecolor\": \"white\", \"showbackground\": true, \"ticks\": \"\", \"zerolinecolor\": \"white\"}}, \"shapedefaults\": {\"line\": {\"color\": \"#2a3f5f\"}}, \"ternary\": {\"aaxis\": {\"gridcolor\": \"white\", \"linecolor\": \"white\", \"ticks\": \"\"}, \"baxis\": {\"gridcolor\": \"white\", \"linecolor\": \"white\", \"ticks\": \"\"}, \"bgcolor\": \"#E5ECF6\", \"caxis\": {\"gridcolor\": \"white\", \"linecolor\": \"white\", \"ticks\": \"\"}}, \"title\": {\"x\": 0.05}, \"xaxis\": {\"automargin\": true, \"gridcolor\": \"white\", \"linecolor\": \"white\", \"ticks\": \"\", \"title\": {\"standoff\": 15}, \"zerolinecolor\": \"white\", \"zerolinewidth\": 2}, \"yaxis\": {\"automargin\": true, \"gridcolor\": \"white\", \"linecolor\": \"white\", \"ticks\": \"\", \"title\": {\"standoff\": 15}, \"zerolinecolor\": \"white\", \"zerolinewidth\": 2}}}, \"title\": {\"text\": \"Cumulative Return of Portfolio of S2 - Renko OBV Backtested 2020-12-13 21:39:03.462863\"}, \"xaxis\": {\"anchor\": \"y\", \"domain\": [0.0, 0.94], \"title\": {\"text\": \"Period\"}}, \"yaxis\": {\"anchor\": \"x\", \"domain\": [0.0, 1.0], \"title\": {\"text\": \"Return\"}}, \"yaxis2\": {\"anchor\": \"x\", \"overlaying\": \"y\", \"side\": \"right\", \"title\": {\"text\": \"Return\"}}},                        {\"responsive\": true}                    ).then(function(){\n",
       "                            \n",
       "var gd = document.getElementById('dbed8503-0e3c-47a5-802b-37441bafdf64');\n",
       "var x = new MutationObserver(function (mutations, observer) {{\n",
       "        var display = window.getComputedStyle(gd).display;\n",
       "        if (!display || display === 'none') {{\n",
       "            console.log([gd, 'removed!']);\n",
       "            Plotly.purge(gd);\n",
       "            observer.disconnect();\n",
       "        }}\n",
       "}});\n",
       "\n",
       "// Listen for the removal of the full notebook cells\n",
       "var notebookContainer = gd.closest('#notebook-container');\n",
       "if (notebookContainer) {{\n",
       "    x.observe(notebookContainer, {childList: true});\n",
       "}}\n",
       "\n",
       "// Listen for the clearing of the current output cell\n",
       "var outputEl = gd.closest('.output');\n",
       "if (outputEl) {{\n",
       "    x.observe(outputEl, {childList: true});\n",
       "}}\n",
       "\n",
       "                        })                };                });            </script>        </div>"
      ]
     },
     "metadata": {},
     "output_type": "display_data"
    }
   ],
   "source": [
    "# create figure\n",
    "fig = make_subplots(specs=[[{\"secondary_y\": True}]])\n",
    "fig.add_trace(go.Scatter(x=strategy.index, y=strategy['cumulative-return'], name='Cumulative Return'))\n",
    "\n",
    "# format figure\n",
    "fig.update_layout(title_text=f'Cumulative Return of Portfolio of S2 - Renko OBV Backtested {dt.datetime.today()}')\n",
    "fig.update_xaxes(title_text='Period')\n",
    "fig.update_yaxes(title_text='Return')"
   ]
  },
  {
   "cell_type": "code",
   "execution_count": null,
   "metadata": {},
   "outputs": [],
   "source": []
  }
 ],
 "metadata": {
  "kernelspec": {
   "display_name": "Python 3",
   "language": "python",
   "name": "python3"
  },
  "language_info": {
   "codemirror_mode": {
    "name": "ipython",
    "version": 3
   },
   "file_extension": ".py",
   "mimetype": "text/x-python",
   "name": "python",
   "nbconvert_exporter": "python",
   "pygments_lexer": "ipython3",
   "version": "3.8.5"
  }
 },
 "nbformat": 4,
 "nbformat_minor": 4
}
