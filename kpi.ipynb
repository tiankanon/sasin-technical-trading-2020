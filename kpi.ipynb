{
 "cells": [
  {
   "cell_type": "code",
   "execution_count": 1,
   "metadata": {},
   "outputs": [],
   "source": [
    "# import all dependencies\n",
    "import datetime as dt\n",
    "import yfinance as yf\n",
    "import numpy as np"
   ]
  },
  {
   "cell_type": "code",
   "execution_count": 2,
   "metadata": {},
   "outputs": [],
   "source": [
    "# time horizon set-up\n",
    "start = dt.datetime.today() - dt.timedelta(365) # 1 year time-horizon\n",
    "end = dt.datetime.today()"
   ]
  },
  {
   "cell_type": "code",
   "execution_count": 5,
   "metadata": {},
   "outputs": [
    {
     "name": "stdout",
     "output_type": "stream",
     "text": [
      "[*********************100%***********************]  1 of 1 completed\n"
     ]
    }
   ],
   "source": [
    "# getting data\n",
    "stock = 'AAPL'\n",
    "ohlcv = yf.download(stock, start, end)"
   ]
  },
  {
   "cell_type": "code",
   "execution_count": 3,
   "metadata": {},
   "outputs": [],
   "source": [
    "# cagr function\n",
    "def cagr(df):\n",
    "    df = df.copy()\n",
    "    df['daily-return'] = df['Adj Close'].pct_change()\n",
    "    df['cumulative-return'] = (1 + df['daily-return']).cumprod()\n",
    "    n = len(df) / 252 # number of trading days per year\n",
    "    cagr = (df['cumulative-return'][-1])**(1/n) - 1\n",
    "    return cagr\n",
    "\n",
    "# volatility function\n",
    "def volatility(df):\n",
    "    df = df.copy()\n",
    "    df['daily-return'] = df['Adj Close'].pct_change()\n",
    "    annual_volatility = df['daily-return'].std() * np.sqrt(252) # number of trading days per year\n",
    "    return annual_volatility\n",
    "\n",
    "# sharpe function\n",
    "def sharpe(df, rf):\n",
    "    df = df.copy()\n",
    "    sr = (cagr(df) - rf) / volatility(df)\n",
    "    return sr\n",
    "\n",
    "# maximum drawdown function\n",
    "def maximum_drawdown(df):\n",
    "    df = df.copy()\n",
    "    df['daily-return'] = df['Adj Close'].pct_change()\n",
    "    df['cumulative-return'] = (1 + df['daily-return']).cumprod() # value today\n",
    "    df['cumulative-rolling-max'] = df['cumulative-return'].cummax()\n",
    "    df['drawdown'] = df['cumulative-rolling-max'] - df['cumulative-return']\n",
    "    df['drawdown-percent'] = df['drawdown'] / df['cumulative-rolling-max']\n",
    "    m_dd = df['drawdown-percent'].max()\n",
    "    return m_dd\n",
    "\n",
    "# calmar ratio function\n",
    "def calmar_ratio(df):\n",
    "    df = df.copy()\n",
    "    c_r = cagr(df) / maximum_drawdown(df)\n",
    "    return c_r"
   ]
  },
  {
   "cell_type": "code",
   "execution_count": 6,
   "metadata": {},
   "outputs": [
    {
     "data": {
      "text/plain": [
       "2.5761139032540656"
      ]
     },
     "execution_count": 6,
     "metadata": {},
     "output_type": "execute_result"
    }
   ],
   "source": [
    "# kpis\n",
    "ca = cagr(ohlcv)\n",
    "vol = volatility(ohlcv)\n",
    "sr = sharpe(ohlcv, 0.015)\n",
    "mdd = maximum_drawdown(ohlcv)\n",
    "calmar_ratio(ohlcv)"
   ]
  },
  {
   "cell_type": "code",
   "execution_count": null,
   "metadata": {},
   "outputs": [],
   "source": []
  }
 ],
 "metadata": {
  "kernelspec": {
   "display_name": "Python 3",
   "language": "python",
   "name": "python3"
  },
  "language_info": {
   "codemirror_mode": {
    "name": "ipython",
    "version": 3
   },
   "file_extension": ".py",
   "mimetype": "text/x-python",
   "name": "python",
   "nbconvert_exporter": "python",
   "pygments_lexer": "ipython3",
   "version": "3.8.5"
  }
 },
 "nbformat": 4,
 "nbformat_minor": 4
}
