{
 "cells": [
  {
   "cell_type": "code",
   "execution_count": 1,
   "metadata": {},
   "outputs": [],
   "source": [
    "# import all dependencies\n",
    "import datetime as dt\n",
    "import yfinance as yf\n",
    "from stocktrends import Renko # 3rd-party library renko implementation\n",
    "from plotly.offline import plot\n",
    "import plotly.graph_objects as go\n",
    "from plotly.subplots import make_subplots"
   ]
  },
  {
   "cell_type": "code",
   "execution_count": 2,
   "metadata": {},
   "outputs": [],
   "source": [
    "# time horizon set-up\n",
    "start = dt.datetime.today() - dt.timedelta(365)\n",
    "end = dt.datetime.today()"
   ]
  },
  {
   "cell_type": "code",
   "execution_count": 3,
   "metadata": {},
   "outputs": [
    {
     "name": "stdout",
     "output_type": "stream",
     "text": [
      "[*********************100%***********************]  1 of 1 completed\n"
     ]
    }
   ],
   "source": [
    "# getting data\n",
    "stock = 'AAPL'\n",
    "ohlcv = yf.download(stock, start, end)"
   ]
  },
  {
   "cell_type": "code",
   "execution_count": 4,
   "metadata": {},
   "outputs": [],
   "source": [
    "# atr function to calculate brick size\n",
    "def atr(df, n):\n",
    "    df = df.copy()\n",
    "    df['high-low'] = abs(df['High'] - df['Low'])\n",
    "    df['high-pc'] = abs(df['High'] - df['Adj Close'].shift(1))\n",
    "    df['low-pc'] = abs(df['Low'] - df['Adj Close'].shift(1))\n",
    "    df['true-range'] = df[['high-low', 'high-pc', 'low-pc']].max(axis=1, skipna=False)\n",
    "    df['atr'] = df['true-range'].rolling(n).mean()\n",
    "    df.dropna(inplace=True)\n",
    "    return df"
   ]
  },
  {
   "cell_type": "code",
   "execution_count": 7,
   "metadata": {},
   "outputs": [],
   "source": [
    "def renko(df_original):\n",
    "    df = df_original.copy()\n",
    "    df.reset_index(inplace=True) # convert index to column\n",
    "    df = df.drop(['Close'], axis=1)\n",
    "    df.columns = ['date', 'open', 'high', 'low', 'close', 'volume'] # change column names\n",
    "    renko_df = Renko(df)\n",
    "    renko_df.brick_size = int(round(atr(df_original, 120)['atr'][-1], 0))\n",
    "    return renko_df.get_ohlc_data()"
   ]
  },
  {
   "cell_type": "code",
   "execution_count": 8,
   "metadata": {},
   "outputs": [
    {
     "name": "stderr",
     "output_type": "stream",
     "text": [
      "C:\\Users\\chond\\anaconda3\\envs\\investment\\lib\\site-packages\\stocktrends\\indicators.py:58: FutureWarning:\n",
      "\n",
      "Slicing a positional slice with .loc is not supported, and will raise TypeError in a future version.  Use .loc with labels or .iloc with positions instead.\n",
      "\n"
     ]
    }
   ],
   "source": [
    "df_atr = atr(ohlcv, 14)\n",
    "df_renko = renko(ohlcv)"
   ]
  },
  {
   "cell_type": "code",
   "execution_count": null,
   "metadata": {},
   "outputs": [],
   "source": [
    "df_atr"
   ]
  },
  {
   "cell_type": "code",
   "execution_count": null,
   "metadata": {},
   "outputs": [],
   "source": [
    "df_renko"
   ]
  },
  {
   "cell_type": "code",
   "execution_count": null,
   "metadata": {},
   "outputs": [],
   "source": [
    "# create figure\n",
    "fig = go.Figure(data=go.Ohlc(x=df_renko.index, open=df_renko['open'], high=df_renko['high'], low=df_renko['low'], close=df_renko['close']))\n",
    "\n",
    "# format figure\n",
    "fig.update_layout(title_text=f'Renko of {stock}')\n",
    "fig.update_xaxes(title_text='Renko Block')\n",
    "fig.update_yaxes(title_text='Price')"
   ]
  },
  {
   "cell_type": "code",
   "execution_count": null,
   "metadata": {},
   "outputs": [],
   "source": []
  }
 ],
 "metadata": {
  "kernelspec": {
   "display_name": "Python 3",
   "language": "python",
   "name": "python3"
  },
  "language_info": {
   "codemirror_mode": {
    "name": "ipython",
    "version": 3
   },
   "file_extension": ".py",
   "mimetype": "text/x-python",
   "name": "python",
   "nbconvert_exporter": "python",
   "pygments_lexer": "ipython3",
   "version": "3.8.5"
  }
 },
 "nbformat": 4,
 "nbformat_minor": 4
}
