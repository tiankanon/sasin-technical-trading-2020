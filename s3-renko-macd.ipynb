{
 "cells": [
  {
   "cell_type": "code",
   "execution_count": 1,
   "metadata": {},
   "outputs": [],
   "source": [
    "import numpy as np\n",
    "import pandas as pd\n",
    "import copy\n",
    "import time\n",
    "import yfinance as yf\n",
    "import datetime as dt\n",
    "import plotly.express as px\n",
    "from plotly.offline import plot\n",
    "import plotly.graph_objects as go\n",
    "from plotly.subplots import make_subplots\n",
    "import statsmodels.api as sm # linear regression\n",
    "from stocktrends import Renko # 3rd-party library renko implementation"
   ]
  },
  {
   "cell_type": "code",
   "execution_count": 2,
   "metadata": {},
   "outputs": [],
   "source": [
    "# atr function\n",
    "def atr(df, n):\n",
    "    df = df.copy()\n",
    "    df['high-low'] = abs(df['High'] - df['Low'])\n",
    "    df['high-pc'] = abs(df['High'] - df['Adj Close'].shift(1))\n",
    "    df['low-pc'] = abs(df['Low'] - df['Adj Close'].shift(1))\n",
    "    df['true-range'] = df[['high-low', 'high-pc', 'low-pc']].max(axis=1, skipna=False)\n",
    "    df['atr'] = df['true-range'].rolling(n).mean()\n",
    "    df.dropna(inplace=True)\n",
    "    return df"
   ]
  },
  {
   "cell_type": "code",
   "execution_count": 3,
   "metadata": {},
   "outputs": [],
   "source": [
    "# macd function\n",
    "def macd(df, fast_periods, slow_periods, signal_periods):\n",
    "    df = df.copy()\n",
    "    df['ma_fast'] = df['Adj Close'].ewm(span=fast_periods, min_periods=fast_periods).mean()\n",
    "    df['ma_slow'] = df['Adj Close'].ewm(span=slow_periods, min_periods=slow_periods).mean()\n",
    "    df['macd'] = df['ma_fast'] - df['ma_slow']\n",
    "    df['signal'] = df['macd'].ewm(span=signal_periods, min_periods=signal_periods).mean()\n",
    "    df.dropna(inplace=True)\n",
    "    return df"
   ]
  },
  {
   "cell_type": "code",
   "execution_count": 4,
   "metadata": {},
   "outputs": [],
   "source": [
    "# ordinary least square method => linear regression\n",
    "def slope(ser, n):\n",
    "    slopes = [i*0 for i in range(n-1)]\n",
    "    for i in range(n,len(ser)+1):\n",
    "        y = ser[i-n:i]\n",
    "        x = np.array(range(n))\n",
    "        y_scaled = (y - y.min())/(y.max() - y.min())\n",
    "        x_scaled = (x - x.min())/(x.max() - x.min())\n",
    "        x_scaled = sm.add_constant(x_scaled)\n",
    "        model = sm.OLS(y_scaled,x_scaled)\n",
    "        results = model.fit()\n",
    "        slopes.append(results.params[-1])\n",
    "    slope_angle = (np.rad2deg(np.arctan(np.array(slopes))))\n",
    "    return np.array(slope_angle)"
   ]
  },
  {
   "cell_type": "code",
   "execution_count": 5,
   "metadata": {},
   "outputs": [],
   "source": [
    "# renko function\n",
    "def renko(df_original): # need original for atr function inside\n",
    "    df = df_original.copy()\n",
    "    df.reset_index(inplace=True) # convert index to column\n",
    "    df = df.drop(['Close'], axis=1) # drop Close column\n",
    "    df.columns  = ['date', 'open', 'high', 'low', 'close', 'volume'] # change column names\n",
    "    renko_df = Renko(df)\n",
    "    renko_df.brick_size = int(round(atr(df_original, 14)['atr'][-1], 0))\n",
    "    renko_ohlc_df = renko_df.get_ohlc_data()\n",
    "    renko_ohlc_df['bar-number'] = np.where(renko_ohlc_df['uptrend'] == True, 1, np.where(renko_ohlc_df['uptrend'] == False, -1, 0))\n",
    "    for i in range(1, len(renko_ohlc_df['bar-number'])):\n",
    "        if (renko_ohlc_df['bar-number'][i] > 0 and renko_ohlc_df['bar-number'][i-1] > 0):\n",
    "            renko_ohlc_df['bar-number'][i] += renko_ohlc_df['bar-number'][i-1]\n",
    "        elif (renko_ohlc_df['bar-number'][i] < 0 and renko_ohlc_df['bar-number'][i-1] < 0):\n",
    "            renko_ohlc_df['bar-number'][i] += renko_ohlc_df['bar-number'][i-1]\n",
    "    renko_ohlc_df.drop_duplicates(subset='date', keep='last', inplace=True) # if there is spike\n",
    "    return renko_ohlc_df"
   ]
  },
  {
   "cell_type": "code",
   "execution_count": 6,
   "metadata": {},
   "outputs": [],
   "source": [
    "# kpis\n",
    "def cagr(df):\n",
    "    df = df.copy()\n",
    "    df['cumulative-return'] = (1 + df['return']).cumprod()\n",
    "    n = len(df) / (252) # number of trading days per 1 year\n",
    "    cagr = (df['cumulative-return'].tolist()[-1])**(1/n) - 1\n",
    "    return cagr\n",
    "\n",
    "def volatility(df):\n",
    "    df = df.copy()\n",
    "    annual_volatility = df['return'].std() * np.sqrt(252)\n",
    "    return annual_volatility\n",
    "\n",
    "def sharpe(df, rf):\n",
    "    df = df.copy()\n",
    "    sr = (cagr(df) - rf) / volatility(df)\n",
    "    return sr\n",
    "\n",
    "def maximum_drawdown(df):\n",
    "    df = df.copy()\n",
    "    df['cumulative-return'] = (1 + df['return']).cumprod() # value today\n",
    "    df['cumulative-rolling-max'] = df['cumulative-return'].cummax()\n",
    "    df['drawdown'] = df['cumulative-rolling-max'] - df['cumulative-return']\n",
    "    df['drawdown-percent'] = df['drawdown'] / df['cumulative-rolling-max']\n",
    "    m_dd = df['drawdown-percent'].max()\n",
    "    return m_dd\n",
    "\n",
    "def calmar_ratio(df):\n",
    "    df = df.copy()\n",
    "    c_r = cagr(df) / maximum_drawdown(df)\n",
    "    return c_r"
   ]
  },
  {
   "cell_type": "code",
   "execution_count": 7,
   "metadata": {},
   "outputs": [],
   "source": [
    "# time horizon set-up\n",
    "start = dt.datetime.today() - dt.timedelta(365)\n",
    "end = dt.datetime.today()"
   ]
  },
  {
   "cell_type": "code",
   "execution_count": 8,
   "metadata": {},
   "outputs": [],
   "source": [
    "# NASDAQ most active by dollars stocks\n",
    "# original_tickers = ['TSLA', 'AAPL', 'AMZN', 'MSFT', 'QCOM', 'FB', 'AMD', 'NVDA', 'NFLX', 'ADBE']\n",
    "original_tickers = ['TSLA', 'AAPL', 'AMZN', 'MSFT', 'QCOM', 'FB', 'AMD', 'NVDA']\n",
    "original_ohlcvs = {}"
   ]
  },
  {
   "cell_type": "code",
   "execution_count": 9,
   "metadata": {
    "scrolled": true
   },
   "outputs": [
    {
     "name": "stdout",
     "output_type": "stream",
     "text": [
      "[*********************100%***********************]  1 of 1 completed\n",
      "[*********************100%***********************]  1 of 1 completed\n",
      "[*********************100%***********************]  1 of 1 completed\n",
      "[*********************100%***********************]  1 of 1 completed\n",
      "[*********************100%***********************]  1 of 1 completed\n",
      "[*********************100%***********************]  1 of 1 completed\n",
      "[*********************100%***********************]  1 of 1 completed\n",
      "[*********************100%***********************]  1 of 1 completed\n"
     ]
    }
   ],
   "source": [
    "# downloading data for all tickers\n",
    "for ticker in original_tickers:\n",
    "    original_ohlcvs[ticker] = yf.download(ticker, start, end, interval='1d')\n",
    "\n",
    "# assigning new tickers\n",
    "tickers = original_ohlcvs.keys()"
   ]
  },
  {
   "cell_type": "code",
   "execution_count": 10,
   "metadata": {},
   "outputs": [],
   "source": [
    "# basic data structure to implement back-testing\n",
    "ohlcvs = copy.deepcopy(original_ohlcvs)\n",
    "tickers_signal = {} # { 'MSFT': 'buy', 'AAPL': '', 'INTC': 'sell' }\n",
    "tickers_signal_track = {}\n",
    "tickers_return = {}\n",
    "\n",
    "ohlc_renko = {}"
   ]
  },
  {
   "cell_type": "code",
   "execution_count": 11,
   "metadata": {
    "scrolled": true
   },
   "outputs": [
    {
     "name": "stdout",
     "output_type": "stream",
     "text": [
      "Merging for TSLA\n"
     ]
    },
    {
     "name": "stderr",
     "output_type": "stream",
     "text": [
      "C:\\Users\\chond\\anaconda3\\envs\\investment\\lib\\site-packages\\stocktrends\\indicators.py:58: FutureWarning:\n",
      "\n",
      "Slicing a positional slice with .loc is not supported, and will raise TypeError in a future version.  Use .loc with labels or .iloc with positions instead.\n",
      "\n",
      "<ipython-input-5-2f1a69976945>:13: SettingWithCopyWarning:\n",
      "\n",
      "\n",
      "A value is trying to be set on a copy of a slice from a DataFrame\n",
      "\n",
      "See the caveats in the documentation: https://pandas.pydata.org/pandas-docs/stable/user_guide/indexing.html#returning-a-view-versus-a-copy\n",
      "\n",
      "<ipython-input-5-2f1a69976945>:15: SettingWithCopyWarning:\n",
      "\n",
      "\n",
      "A value is trying to be set on a copy of a slice from a DataFrame\n",
      "\n",
      "See the caveats in the documentation: https://pandas.pydata.org/pandas-docs/stable/user_guide/indexing.html#returning-a-view-versus-a-copy\n",
      "\n"
     ]
    },
    {
     "name": "stdout",
     "output_type": "stream",
     "text": [
      "Merging for AAPL\n"
     ]
    },
    {
     "name": "stderr",
     "output_type": "stream",
     "text": [
      "C:\\Users\\chond\\anaconda3\\envs\\investment\\lib\\site-packages\\stocktrends\\indicators.py:58: FutureWarning:\n",
      "\n",
      "Slicing a positional slice with .loc is not supported, and will raise TypeError in a future version.  Use .loc with labels or .iloc with positions instead.\n",
      "\n",
      "<ipython-input-5-2f1a69976945>:13: SettingWithCopyWarning:\n",
      "\n",
      "\n",
      "A value is trying to be set on a copy of a slice from a DataFrame\n",
      "\n",
      "See the caveats in the documentation: https://pandas.pydata.org/pandas-docs/stable/user_guide/indexing.html#returning-a-view-versus-a-copy\n",
      "\n",
      "<ipython-input-5-2f1a69976945>:15: SettingWithCopyWarning:\n",
      "\n",
      "\n",
      "A value is trying to be set on a copy of a slice from a DataFrame\n",
      "\n",
      "See the caveats in the documentation: https://pandas.pydata.org/pandas-docs/stable/user_guide/indexing.html#returning-a-view-versus-a-copy\n",
      "\n"
     ]
    },
    {
     "name": "stdout",
     "output_type": "stream",
     "text": [
      "Merging for AMZN\n"
     ]
    },
    {
     "name": "stderr",
     "output_type": "stream",
     "text": [
      "C:\\Users\\chond\\anaconda3\\envs\\investment\\lib\\site-packages\\stocktrends\\indicators.py:58: FutureWarning:\n",
      "\n",
      "Slicing a positional slice with .loc is not supported, and will raise TypeError in a future version.  Use .loc with labels or .iloc with positions instead.\n",
      "\n",
      "<ipython-input-5-2f1a69976945>:13: SettingWithCopyWarning:\n",
      "\n",
      "\n",
      "A value is trying to be set on a copy of a slice from a DataFrame\n",
      "\n",
      "See the caveats in the documentation: https://pandas.pydata.org/pandas-docs/stable/user_guide/indexing.html#returning-a-view-versus-a-copy\n",
      "\n",
      "<ipython-input-5-2f1a69976945>:15: SettingWithCopyWarning:\n",
      "\n",
      "\n",
      "A value is trying to be set on a copy of a slice from a DataFrame\n",
      "\n",
      "See the caveats in the documentation: https://pandas.pydata.org/pandas-docs/stable/user_guide/indexing.html#returning-a-view-versus-a-copy\n",
      "\n"
     ]
    },
    {
     "name": "stdout",
     "output_type": "stream",
     "text": [
      "Merging for MSFT\n"
     ]
    },
    {
     "name": "stderr",
     "output_type": "stream",
     "text": [
      "C:\\Users\\chond\\anaconda3\\envs\\investment\\lib\\site-packages\\stocktrends\\indicators.py:58: FutureWarning:\n",
      "\n",
      "Slicing a positional slice with .loc is not supported, and will raise TypeError in a future version.  Use .loc with labels or .iloc with positions instead.\n",
      "\n",
      "<ipython-input-5-2f1a69976945>:13: SettingWithCopyWarning:\n",
      "\n",
      "\n",
      "A value is trying to be set on a copy of a slice from a DataFrame\n",
      "\n",
      "See the caveats in the documentation: https://pandas.pydata.org/pandas-docs/stable/user_guide/indexing.html#returning-a-view-versus-a-copy\n",
      "\n",
      "<ipython-input-5-2f1a69976945>:15: SettingWithCopyWarning:\n",
      "\n",
      "\n",
      "A value is trying to be set on a copy of a slice from a DataFrame\n",
      "\n",
      "See the caveats in the documentation: https://pandas.pydata.org/pandas-docs/stable/user_guide/indexing.html#returning-a-view-versus-a-copy\n",
      "\n"
     ]
    },
    {
     "name": "stdout",
     "output_type": "stream",
     "text": [
      "Merging for QCOM\n"
     ]
    },
    {
     "name": "stderr",
     "output_type": "stream",
     "text": [
      "C:\\Users\\chond\\anaconda3\\envs\\investment\\lib\\site-packages\\stocktrends\\indicators.py:58: FutureWarning:\n",
      "\n",
      "Slicing a positional slice with .loc is not supported, and will raise TypeError in a future version.  Use .loc with labels or .iloc with positions instead.\n",
      "\n",
      "<ipython-input-5-2f1a69976945>:13: SettingWithCopyWarning:\n",
      "\n",
      "\n",
      "A value is trying to be set on a copy of a slice from a DataFrame\n",
      "\n",
      "See the caveats in the documentation: https://pandas.pydata.org/pandas-docs/stable/user_guide/indexing.html#returning-a-view-versus-a-copy\n",
      "\n",
      "<ipython-input-5-2f1a69976945>:15: SettingWithCopyWarning:\n",
      "\n",
      "\n",
      "A value is trying to be set on a copy of a slice from a DataFrame\n",
      "\n",
      "See the caveats in the documentation: https://pandas.pydata.org/pandas-docs/stable/user_guide/indexing.html#returning-a-view-versus-a-copy\n",
      "\n"
     ]
    },
    {
     "name": "stdout",
     "output_type": "stream",
     "text": [
      "Merging for FB\n"
     ]
    },
    {
     "name": "stderr",
     "output_type": "stream",
     "text": [
      "C:\\Users\\chond\\anaconda3\\envs\\investment\\lib\\site-packages\\stocktrends\\indicators.py:58: FutureWarning:\n",
      "\n",
      "Slicing a positional slice with .loc is not supported, and will raise TypeError in a future version.  Use .loc with labels or .iloc with positions instead.\n",
      "\n",
      "<ipython-input-5-2f1a69976945>:13: SettingWithCopyWarning:\n",
      "\n",
      "\n",
      "A value is trying to be set on a copy of a slice from a DataFrame\n",
      "\n",
      "See the caveats in the documentation: https://pandas.pydata.org/pandas-docs/stable/user_guide/indexing.html#returning-a-view-versus-a-copy\n",
      "\n",
      "<ipython-input-5-2f1a69976945>:15: SettingWithCopyWarning:\n",
      "\n",
      "\n",
      "A value is trying to be set on a copy of a slice from a DataFrame\n",
      "\n",
      "See the caveats in the documentation: https://pandas.pydata.org/pandas-docs/stable/user_guide/indexing.html#returning-a-view-versus-a-copy\n",
      "\n"
     ]
    },
    {
     "name": "stdout",
     "output_type": "stream",
     "text": [
      "Merging for AMD\n"
     ]
    },
    {
     "name": "stderr",
     "output_type": "stream",
     "text": [
      "C:\\Users\\chond\\anaconda3\\envs\\investment\\lib\\site-packages\\stocktrends\\indicators.py:58: FutureWarning:\n",
      "\n",
      "Slicing a positional slice with .loc is not supported, and will raise TypeError in a future version.  Use .loc with labels or .iloc with positions instead.\n",
      "\n",
      "<ipython-input-5-2f1a69976945>:13: SettingWithCopyWarning:\n",
      "\n",
      "\n",
      "A value is trying to be set on a copy of a slice from a DataFrame\n",
      "\n",
      "See the caveats in the documentation: https://pandas.pydata.org/pandas-docs/stable/user_guide/indexing.html#returning-a-view-versus-a-copy\n",
      "\n",
      "<ipython-input-5-2f1a69976945>:15: SettingWithCopyWarning:\n",
      "\n",
      "\n",
      "A value is trying to be set on a copy of a slice from a DataFrame\n",
      "\n",
      "See the caveats in the documentation: https://pandas.pydata.org/pandas-docs/stable/user_guide/indexing.html#returning-a-view-versus-a-copy\n",
      "\n"
     ]
    },
    {
     "name": "stdout",
     "output_type": "stream",
     "text": [
      "Merging for NVDA\n"
     ]
    },
    {
     "name": "stderr",
     "output_type": "stream",
     "text": [
      "C:\\Users\\chond\\anaconda3\\envs\\investment\\lib\\site-packages\\stocktrends\\indicators.py:58: FutureWarning:\n",
      "\n",
      "Slicing a positional slice with .loc is not supported, and will raise TypeError in a future version.  Use .loc with labels or .iloc with positions instead.\n",
      "\n",
      "<ipython-input-5-2f1a69976945>:13: SettingWithCopyWarning:\n",
      "\n",
      "\n",
      "A value is trying to be set on a copy of a slice from a DataFrame\n",
      "\n",
      "See the caveats in the documentation: https://pandas.pydata.org/pandas-docs/stable/user_guide/indexing.html#returning-a-view-versus-a-copy\n",
      "\n",
      "<ipython-input-5-2f1a69976945>:15: SettingWithCopyWarning:\n",
      "\n",
      "\n",
      "A value is trying to be set on a copy of a slice from a DataFrame\n",
      "\n",
      "See the caveats in the documentation: https://pandas.pydata.org/pandas-docs/stable/user_guide/indexing.html#returning-a-view-versus-a-copy\n",
      "\n"
     ]
    }
   ],
   "source": [
    "# merging renko df with original ohlc df\n",
    "for ticker in tickers:\n",
    "    print(f'Merging for {ticker}')\n",
    "    renko_df = renko(ohlcvs[ticker])\n",
    "    renko_df.columns = ['date', 'open', 'high', 'low', 'close', 'uptrend', 'bar-number']\n",
    "    ohlcvs[ticker]['date'] = ohlcvs[ticker].index\n",
    "    ohlc_renko[ticker] = ohlcvs[ticker].merge(renko_df.loc[:, ['date', 'bar-number']], how = 'outer', on = 'date')\n",
    "    ohlc_renko[ticker]['bar-number'].fillna(method = 'ffill', inplace=True)\n",
    "    ohlc_renko[ticker]['macd']= macd(ohlc_renko[ticker], 12, 26, 9)['macd']\n",
    "    ohlc_renko[ticker]['macd-signal']= macd(ohlc_renko[ticker], 12, 26, 9)['signal']\n",
    "    ohlc_renko[ticker]['macd-slope'] = slope(ohlc_renko[ticker]['macd'], 5)\n",
    "    ohlc_renko[ticker]['macd-signal-slope'] = slope(ohlc_renko[ticker]['macd-signal'], 5)\n",
    "    tickers_signal[ticker] = ''\n",
    "    tickers_return[ticker] = []\n",
    "    tickers_signal_track[ticker] = []"
   ]
  },
  {
   "cell_type": "code",
   "execution_count": 12,
   "metadata": {},
   "outputs": [
    {
     "name": "stdout",
     "output_type": "stream",
     "text": [
      "Calculating returns for TSLA\n",
      "Calculating returns for AAPL\n",
      "Calculating returns for AMZN\n",
      "Calculating returns for MSFT\n",
      "Calculating returns for QCOM\n",
      "Calculating returns for FB\n",
      "Calculating returns for AMD\n",
      "Calculating returns for NVDA\n"
     ]
    }
   ],
   "source": [
    "# identifying signals and calculating return and incorporate stop-loss accordingly\n",
    "for ticker in tickers:\n",
    "    print(f'Calculating returns for {ticker}')\n",
    "    for i in range(len(ohlc_renko[ticker])):\n",
    "        \n",
    "        if (tickers_signal[ticker] == ''):\n",
    "            tickers_return[ticker].append(0) # initial signal, no return\n",
    "            if (i == 0):\n",
    "                tickers_signal_track[ticker].append('dnt')\n",
    "            if (i > 0):\n",
    "                if (ohlc_renko[ticker]['bar-number'][i] >= 2 and \n",
    "                    ohlc_renko[ticker]['macd'][i] > ohlc_renko[ticker]['macd-signal'][i] and\n",
    "                    ohlc_renko[ticker]['macd-slope'][i] > ohlc_renko[ticker]['macd-signal-slope'][i]):\n",
    "                    tickers_signal[ticker] = 'Buy'\n",
    "                    tickers_signal_track[ticker].append('Start Buy')\n",
    "                elif (ohlc_renko[ticker]['bar-number'][i] <= -2 and\n",
    "                      ohlc_renko[ticker]['macd'][i] < ohlc_renko[ticker]['macd-signal'][i] and\n",
    "                      ohlc_renko[ticker]['macd-slope'][i] < ohlc_renko[ticker]['macd-signal-slope'][i]):\n",
    "                    tickers_signal[ticker] = 'Sell'\n",
    "                    tickers_signal_track[ticker].append('Start Sell')\n",
    "                else:\n",
    "                    tickers_signal_track[ticker].append('dnt')\n",
    "        \n",
    "        elif (tickers_signal[ticker] == 'Buy'):\n",
    "            tickers_return[ticker].append((ohlc_renko[ticker]['Adj Close'][i] / ohlc_renko[ticker]['Adj Close'][i-1]) - 1)\n",
    "            tickers_signal_track[ticker].append('Continue')\n",
    "            if (i > 0):\n",
    "                if (ohlc_renko[ticker]['bar-number'][i] <= -2 and\n",
    "                    ohlc_renko[ticker]['macd'][i] < ohlc_renko[ticker]['macd-signal'][i] and\n",
    "                    ohlc_renko[ticker]['macd-slope'][i] < ohlc_renko[ticker]['macd-signal-slope'][i]):\n",
    "                    tickers_signal[ticker] = 'Sell'\n",
    "                    tickers_signal_track[ticker].pop()\n",
    "                    tickers_signal_track[ticker].append('Start Sell Reversal')\n",
    "                elif (ohlc_renko[ticker]['macd'][i] < ohlc_renko[ticker]['macd-signal'][i] and\n",
    "                      ohlc_renko[ticker]['macd-slope'][i] < ohlc_renko[ticker]['macd-signal-slope'][i]):\n",
    "                    tickers_signal[ticker] = '' # exit\n",
    "                    tickers_signal_track[ticker].pop()\n",
    "                    tickers_signal_track[ticker].append('Close Buy')\n",
    "                \n",
    "        elif (tickers_signal[ticker] == 'Sell'):\n",
    "            tickers_return[ticker].append((ohlc_renko[ticker]['Adj Close'][i-1] / ohlc_renko[ticker]['Adj Close'][i]) - 1)\n",
    "            tickers_signal_track[ticker].append('Continue')\n",
    "            if (i > 0):\n",
    "                if (ohlc_renko[ticker]['bar-number'][i] >= 2 and\n",
    "                    ohlc_renko[ticker]['macd'][i] > ohlc_renko[ticker]['macd-signal'][i] and\n",
    "                    ohlc_renko[ticker]['macd-slope'][i] > ohlc_renko[ticker]['macd-signal-slope'][i]):\n",
    "                    tickers_signal[ticker] = 'Buy'\n",
    "                    tickers_signal_track[ticker].pop()\n",
    "                    tickers_signal_track[ticker].append('Start Buy Reversal')\n",
    "                elif (ohlc_renko[ticker]['macd'][i] > ohlc_renko[ticker]['macd-signal'][i] and\n",
    "                      ohlc_renko[ticker]['macd-slope'][i] > ohlc_renko[ticker]['macd-signal-slope'][i]):\n",
    "                    tickers_signal[ticker] = '' # exit\n",
    "                    tickers_signal_track[ticker].pop()\n",
    "                    tickers_signal_track[ticker].append('Close Sell')\n",
    "                    \n",
    "    ohlc_renko[ticker]['return'] = np.array(tickers_return[ticker])\n",
    "    ohlc_renko[ticker]['signal'] = np.array(tickers_signal_track[ticker])"
   ]
  },
  {
   "cell_type": "code",
   "execution_count": 13,
   "metadata": {},
   "outputs": [
    {
     "data": {
      "text/html": [
       "<div>\n",
       "<style scoped>\n",
       "    .dataframe tbody tr th:only-of-type {\n",
       "        vertical-align: middle;\n",
       "    }\n",
       "\n",
       "    .dataframe tbody tr th {\n",
       "        vertical-align: top;\n",
       "    }\n",
       "\n",
       "    .dataframe thead th {\n",
       "        text-align: right;\n",
       "    }\n",
       "</style>\n",
       "<table border=\"1\" class=\"dataframe\">\n",
       "  <thead>\n",
       "    <tr style=\"text-align: right;\">\n",
       "      <th></th>\n",
       "      <th>Open</th>\n",
       "      <th>High</th>\n",
       "      <th>Low</th>\n",
       "      <th>Close</th>\n",
       "      <th>Adj Close</th>\n",
       "      <th>Volume</th>\n",
       "      <th>date</th>\n",
       "      <th>bar-number</th>\n",
       "      <th>macd</th>\n",
       "      <th>macd-signal</th>\n",
       "      <th>macd-slope</th>\n",
       "      <th>macd-signal-slope</th>\n",
       "      <th>return</th>\n",
       "      <th>signal</th>\n",
       "    </tr>\n",
       "  </thead>\n",
       "  <tbody>\n",
       "    <tr>\n",
       "      <th>0</th>\n",
       "      <td>72.510002</td>\n",
       "      <td>76.722000</td>\n",
       "      <td>72.500000</td>\n",
       "      <td>76.300003</td>\n",
       "      <td>76.300003</td>\n",
       "      <td>90871000</td>\n",
       "      <td>2019-12-16</td>\n",
       "      <td>1.0</td>\n",
       "      <td>NaN</td>\n",
       "      <td>NaN</td>\n",
       "      <td>0.000000</td>\n",
       "      <td>0.000000</td>\n",
       "      <td>0.000000</td>\n",
       "      <td>dnt</td>\n",
       "    </tr>\n",
       "    <tr>\n",
       "      <th>1</th>\n",
       "      <td>75.797997</td>\n",
       "      <td>77.099998</td>\n",
       "      <td>75.180000</td>\n",
       "      <td>75.797997</td>\n",
       "      <td>75.797997</td>\n",
       "      <td>42484000</td>\n",
       "      <td>2019-12-17</td>\n",
       "      <td>1.0</td>\n",
       "      <td>NaN</td>\n",
       "      <td>NaN</td>\n",
       "      <td>0.000000</td>\n",
       "      <td>0.000000</td>\n",
       "      <td>0.000000</td>\n",
       "      <td>dnt</td>\n",
       "    </tr>\n",
       "    <tr>\n",
       "      <th>2</th>\n",
       "      <td>76.125999</td>\n",
       "      <td>79.043999</td>\n",
       "      <td>76.115997</td>\n",
       "      <td>78.629997</td>\n",
       "      <td>78.629997</td>\n",
       "      <td>70605000</td>\n",
       "      <td>2019-12-18</td>\n",
       "      <td>2.0</td>\n",
       "      <td>NaN</td>\n",
       "      <td>NaN</td>\n",
       "      <td>0.000000</td>\n",
       "      <td>0.000000</td>\n",
       "      <td>0.000000</td>\n",
       "      <td>dnt</td>\n",
       "    </tr>\n",
       "    <tr>\n",
       "      <th>3</th>\n",
       "      <td>79.463997</td>\n",
       "      <td>81.370003</td>\n",
       "      <td>79.300003</td>\n",
       "      <td>80.807999</td>\n",
       "      <td>80.807999</td>\n",
       "      <td>90535500</td>\n",
       "      <td>2019-12-19</td>\n",
       "      <td>2.0</td>\n",
       "      <td>NaN</td>\n",
       "      <td>NaN</td>\n",
       "      <td>0.000000</td>\n",
       "      <td>0.000000</td>\n",
       "      <td>0.000000</td>\n",
       "      <td>dnt</td>\n",
       "    </tr>\n",
       "    <tr>\n",
       "      <th>4</th>\n",
       "      <td>82.057999</td>\n",
       "      <td>82.599998</td>\n",
       "      <td>80.038002</td>\n",
       "      <td>81.117996</td>\n",
       "      <td>81.117996</td>\n",
       "      <td>73763500</td>\n",
       "      <td>2019-12-20</td>\n",
       "      <td>2.0</td>\n",
       "      <td>NaN</td>\n",
       "      <td>NaN</td>\n",
       "      <td>NaN</td>\n",
       "      <td>NaN</td>\n",
       "      <td>0.000000</td>\n",
       "      <td>dnt</td>\n",
       "    </tr>\n",
       "    <tr>\n",
       "      <th>...</th>\n",
       "      <td>...</td>\n",
       "      <td>...</td>\n",
       "      <td>...</td>\n",
       "      <td>...</td>\n",
       "      <td>...</td>\n",
       "      <td>...</td>\n",
       "      <td>...</td>\n",
       "      <td>...</td>\n",
       "      <td>...</td>\n",
       "      <td>...</td>\n",
       "      <td>...</td>\n",
       "      <td>...</td>\n",
       "      <td>...</td>\n",
       "      <td>...</td>\n",
       "    </tr>\n",
       "    <tr>\n",
       "      <th>246</th>\n",
       "      <td>604.919983</td>\n",
       "      <td>648.789978</td>\n",
       "      <td>603.049988</td>\n",
       "      <td>641.760010</td>\n",
       "      <td>641.760010</td>\n",
       "      <td>56309700</td>\n",
       "      <td>2020-12-07</td>\n",
       "      <td>6.0</td>\n",
       "      <td>49.031947</td>\n",
       "      <td>37.844653</td>\n",
       "      <td>44.077035</td>\n",
       "      <td>44.722583</td>\n",
       "      <td>0.071314</td>\n",
       "      <td>Continue</td>\n",
       "    </tr>\n",
       "    <tr>\n",
       "      <th>247</th>\n",
       "      <td>625.510010</td>\n",
       "      <td>651.280029</td>\n",
       "      <td>618.500000</td>\n",
       "      <td>649.880005</td>\n",
       "      <td>649.880005</td>\n",
       "      <td>64265000</td>\n",
       "      <td>2020-12-08</td>\n",
       "      <td>6.0</td>\n",
       "      <td>52.236378</td>\n",
       "      <td>40.722998</td>\n",
       "      <td>45.182260</td>\n",
       "      <td>44.810257</td>\n",
       "      <td>0.012653</td>\n",
       "      <td>Continue</td>\n",
       "    </tr>\n",
       "    <tr>\n",
       "      <th>248</th>\n",
       "      <td>653.690002</td>\n",
       "      <td>654.320007</td>\n",
       "      <td>588.000000</td>\n",
       "      <td>604.479980</td>\n",
       "      <td>604.479980</td>\n",
       "      <td>71291200</td>\n",
       "      <td>2020-12-09</td>\n",
       "      <td>6.0</td>\n",
       "      <td>50.530031</td>\n",
       "      <td>42.684404</td>\n",
       "      <td>44.305404</td>\n",
       "      <td>45.676730</td>\n",
       "      <td>-0.069859</td>\n",
       "      <td>Continue</td>\n",
       "    </tr>\n",
       "    <tr>\n",
       "      <th>249</th>\n",
       "      <td>574.369995</td>\n",
       "      <td>627.750000</td>\n",
       "      <td>566.340027</td>\n",
       "      <td>627.070007</td>\n",
       "      <td>627.070007</td>\n",
       "      <td>67083200</td>\n",
       "      <td>2020-12-10</td>\n",
       "      <td>6.0</td>\n",
       "      <td>50.419362</td>\n",
       "      <td>44.231396</td>\n",
       "      <td>34.255652</td>\n",
       "      <td>45.307747</td>\n",
       "      <td>0.037371</td>\n",
       "      <td>Continue</td>\n",
       "    </tr>\n",
       "    <tr>\n",
       "      <th>250</th>\n",
       "      <td>615.010010</td>\n",
       "      <td>624.000000</td>\n",
       "      <td>596.799988</td>\n",
       "      <td>609.989990</td>\n",
       "      <td>609.989990</td>\n",
       "      <td>46359600</td>\n",
       "      <td>2020-12-11</td>\n",
       "      <td>6.0</td>\n",
       "      <td>48.395567</td>\n",
       "      <td>45.064230</td>\n",
       "      <td>-17.837337</td>\n",
       "      <td>44.838617</td>\n",
       "      <td>-0.027238</td>\n",
       "      <td>Continue</td>\n",
       "    </tr>\n",
       "  </tbody>\n",
       "</table>\n",
       "<p>251 rows × 14 columns</p>\n",
       "</div>"
      ],
      "text/plain": [
       "           Open        High         Low       Close   Adj Close    Volume  \\\n",
       "0     72.510002   76.722000   72.500000   76.300003   76.300003  90871000   \n",
       "1     75.797997   77.099998   75.180000   75.797997   75.797997  42484000   \n",
       "2     76.125999   79.043999   76.115997   78.629997   78.629997  70605000   \n",
       "3     79.463997   81.370003   79.300003   80.807999   80.807999  90535500   \n",
       "4     82.057999   82.599998   80.038002   81.117996   81.117996  73763500   \n",
       "..          ...         ...         ...         ...         ...       ...   \n",
       "246  604.919983  648.789978  603.049988  641.760010  641.760010  56309700   \n",
       "247  625.510010  651.280029  618.500000  649.880005  649.880005  64265000   \n",
       "248  653.690002  654.320007  588.000000  604.479980  604.479980  71291200   \n",
       "249  574.369995  627.750000  566.340027  627.070007  627.070007  67083200   \n",
       "250  615.010010  624.000000  596.799988  609.989990  609.989990  46359600   \n",
       "\n",
       "          date  bar-number       macd  macd-signal  macd-slope  \\\n",
       "0   2019-12-16         1.0        NaN          NaN    0.000000   \n",
       "1   2019-12-17         1.0        NaN          NaN    0.000000   \n",
       "2   2019-12-18         2.0        NaN          NaN    0.000000   \n",
       "3   2019-12-19         2.0        NaN          NaN    0.000000   \n",
       "4   2019-12-20         2.0        NaN          NaN         NaN   \n",
       "..         ...         ...        ...          ...         ...   \n",
       "246 2020-12-07         6.0  49.031947    37.844653   44.077035   \n",
       "247 2020-12-08         6.0  52.236378    40.722998   45.182260   \n",
       "248 2020-12-09         6.0  50.530031    42.684404   44.305404   \n",
       "249 2020-12-10         6.0  50.419362    44.231396   34.255652   \n",
       "250 2020-12-11         6.0  48.395567    45.064230  -17.837337   \n",
       "\n",
       "     macd-signal-slope    return    signal  \n",
       "0             0.000000  0.000000       dnt  \n",
       "1             0.000000  0.000000       dnt  \n",
       "2             0.000000  0.000000       dnt  \n",
       "3             0.000000  0.000000       dnt  \n",
       "4                  NaN  0.000000       dnt  \n",
       "..                 ...       ...       ...  \n",
       "246          44.722583  0.071314  Continue  \n",
       "247          44.810257  0.012653  Continue  \n",
       "248          45.676730 -0.069859  Continue  \n",
       "249          45.307747  0.037371  Continue  \n",
       "250          44.838617 -0.027238  Continue  \n",
       "\n",
       "[251 rows x 14 columns]"
      ]
     },
     "execution_count": 13,
     "metadata": {},
     "output_type": "execute_result"
    }
   ],
   "source": [
    "ohlc_renko['TSLA']"
   ]
  },
  {
   "cell_type": "code",
   "execution_count": 23,
   "metadata": {},
   "outputs": [
    {
     "data": {
      "application/vnd.plotly.v1+json": {
       "config": {
        "plotlyServerURL": "https://plot.ly"
       },
       "data": [
        {
         "name": "Price",
         "type": "scatter",
         "x": [
          0,
          1,
          2,
          3,
          4,
          5,
          6,
          7,
          8,
          9,
          10,
          11,
          12,
          13,
          14,
          15,
          16,
          17,
          18,
          19,
          20,
          21,
          22,
          23,
          24,
          25,
          26,
          27,
          28,
          29,
          30,
          31,
          32,
          33,
          34,
          35,
          36,
          37,
          38,
          39,
          40,
          41,
          42,
          43,
          44,
          45,
          46,
          47,
          48,
          49,
          50,
          51,
          52,
          53,
          54,
          55,
          56,
          57,
          58,
          59,
          60,
          61,
          62,
          63,
          64,
          65,
          66,
          67,
          68,
          69,
          70,
          71,
          72,
          73,
          74,
          75,
          76,
          77,
          78,
          79,
          80,
          81,
          82,
          83,
          84,
          85,
          86,
          87,
          88,
          89,
          90,
          91,
          92,
          93,
          94,
          95,
          96,
          97,
          98,
          99,
          100,
          101,
          102,
          103,
          104,
          105,
          106,
          107,
          108,
          109,
          110,
          111,
          112,
          113,
          114,
          115,
          116,
          117,
          118,
          119,
          120,
          121,
          122,
          123,
          124,
          125,
          126,
          127,
          128,
          129,
          130,
          131,
          132,
          133,
          134,
          135,
          136,
          137,
          138,
          139,
          140,
          141,
          142,
          143,
          144,
          145,
          146,
          147,
          148,
          149,
          150,
          151,
          152,
          153,
          154,
          155,
          156,
          157,
          158,
          159,
          160,
          161,
          162,
          163,
          164,
          165,
          166,
          167,
          168,
          169,
          170,
          171,
          172,
          173,
          174,
          175,
          176,
          177,
          178,
          179,
          180,
          181,
          182,
          183,
          184,
          185,
          186,
          187,
          188,
          189,
          190,
          191,
          192,
          193,
          194,
          195,
          196,
          197,
          198,
          199,
          200,
          201,
          202,
          203,
          204,
          205,
          206,
          207,
          208,
          209,
          210,
          211,
          212,
          213,
          214,
          215,
          216,
          217,
          218,
          219,
          220,
          221,
          222,
          223,
          224,
          225,
          226,
          227,
          228,
          229,
          230,
          231,
          232,
          233,
          234,
          235,
          236,
          237,
          238,
          239,
          240,
          241,
          242,
          243,
          244,
          245,
          246,
          247,
          248,
          249,
          250
         ],
         "y": [
          224.77908325195312,
          227.9138946533203,
          229.13189697265625,
          235.07211303710938,
          238.9756622314453,
          238.4265899658203,
          238.22691345214844,
          238.7959747314453,
          236.47976684570312,
          231.93727111816406,
          234.91238403320312,
          239.5147705078125,
          235.68112182617188,
          236.6694793701172,
          239.53472900390625,
          239.9840087890625,
          242.61965942382812,
          243.91751098632812,
          251.56488037109375,
          246.8726348876953,
          245.16543579101562,
          248.51991271972656,
          248.86935424804688,
          247.53155517578125,
          249.69798278808594,
          252.44345092773438,
          250.06735229492188,
          239.80430603027344,
          247.56149291992188,
          245.135498046875,
          245.40505981445312,
          236.04049682617188,
          239.93409729003906,
          246.72288513183594,
          250.34689331054688,
          253.83116149902344,
          251.175537109375,
          262.53680419921875,
          267.44866943359375,
          272.0910339355469,
          270.33392333984375,
          289.3125915527344,
          296.0814514160156,
          314.1816101074219,
          308.19146728515625,
          293.5855712890625,
          272.829833984375,
          261.6183166503906,
          267.2090759277344,
          252.33473205566406,
          269.7863464355469,
          276.1396789550781,
          265.61077880859375,
          284.21124267578125,
          273.00299072265625,
          265.7606201171875,
          245.18223571777344,
          260.8057861328125,
          246.21115112304688,
          216.0828094482422,
          240.58705139160156,
          196.19371032714844,
          217.0418243408203,
          202.60699462890625,
          212.74632263183594,
          205.53392028808594,
          212.4666290283203,
          248.91830444335938,
          245.36203002929688,
          256.9698181152344,
          252.46456909179688,
          265.3110656738281,
          263.32318115234375,
          242.81472778320312,
          255.20169067382812,
          243.6538543701172,
          268.1180725097656,
          258.7579345703125,
          266.6696472167969,
          262.6738586425781,
          269.56658935546875,
          283.65179443359375,
          280.5450439453125,
          294.3905029296875,
          292.01300048828125,
          286.74853515625,
          269.22698974609375,
          285.8494873046875,
          283.71173095703125,
          289.285888671875,
          296.7679748535156,
          291.053955078125,
          298.14654541015625,
          291.9730529785156,
          282.4830017089844,
          290.98406982421875,
          293.4314880371094,
          297.47723388671875,
          304.5498046875,
          312.1717834472656,
          322.2811584472656,
          311.772216796875,
          310.8731994628906,
          320.8826599121094,
          339.2733154296875,
          349.6424255371094,
          351.85009765625,
          358.42315673828125,
          350.6413879394531,
          360.6707763671875,
          348.34375,
          340.65185546875,
          339.12347412109375,
          354.64715576171875,
          351.88006591796875,
          352.6392517089844,
          350.4115905761719,
          350.4515686035156,
          356.5879211425781,
          351.9906921386719,
          361.62493896484375,
          374.44732666015625,
          351.6408996582031,
          357.0876159667969,
          366.73193359375,
          362.5244140625,
          369.2204284667969,
          368.5008544921875,
          370.2298278808594,
          380.843505859375,
          377.77532958984375,
          369.200439453125,
          379.3743896484375,
          365.98236083984375,
          367.7812805175781,
          379.6842041015625,
          380.97344970703125,
          384.261474609375,
          393.3360900878906,
          394.63531494140625,
          408.3971252441406,
          420.1101379394531,
          418.9208984375,
          401.85101318359375,
          414.8332824707031,
          408.84686279296875,
          405.1490783691406,
          407.8174743652344,
          420.1800842285156,
          412.89447021484375,
          417.30181884765625,
          404.9491882324219,
          407.5376281738281,
          416.6122131347656,
          408.37713623046875,
          418.3711853027344,
          424.3076477050781,
          424.337646484375,
          440.14825439453125,
          448.8430480957031,
          451.20166015625,
          453.1505126953125,
          447.7137451171875,
          446.3345642089844,
          433.7420349121094,
          457.3380126953125,
          457.4479675292969,
          462.28509521484375,
          493.1867370605469,
          490.13848876953125,
          485.25140380859375,
          485.35137939453125,
          507.0384826660156,
          508.507568359375,
          509.6968994140625,
          510.6163635253906,
          504.82977294921875,
          525.597412109375,
          534.6619873046875,
          552.6767578125,
          573.6904907226562,
          520.4662475585938,
          504.7508850097656,
          476.3792419433594,
          508.4497985839844,
          492.3245544433594,
          486.436279296875,
          514.7379760742188,
          519.486572265625,
          500.4321594238281,
          498.39276123046875,
          487.4259948730469,
          500.5421142578125,
          505.3607177734375,
          484.8067932128906,
          493.7741394042969,
          514.7979125976562,
          521.2460327148438,
          528.873779296875,
          541.0601196289062,
          544.419189453125,
          522.335693359375,
          545.538818359375,
          549.2977294921875,
          558.39501953125,
          553.386474609375,
          550.347412109375,
          568.8718872070312,
          569.7616577148438,
          563.6434936523438,
          558.6349487304688,
          552.296875,
          539.75048828125,
          545.6588134765625,
          540.8302001953125,
          534.2821655273438,
          543.449462890625,
          525.4947509765625,
          535.7117309570312,
          504.9308166503906,
          520.80615234375,
          501.2119140625,
          503.0813903808594,
          520.626220703125,
          551.6070556640625,
          566.2327270507812,
          582.3079223632812,
          545.0689697265625,
          510.6491394042969,
          536.5614624023438,
          538.1110229492188,
          531.722900390625,
          540.4503173828125,
          536.7314453125,
          536.9913940429688,
          537.4512329101562,
          523.3554077148438,
          525.4447631835938,
          518.1569213867188,
          529.233642578125,
          530.2933349609375,
          535.9016723632812,
          535.4417724609375,
          541.6199951171875,
          535.8400268554688,
          542.3300170898438,
          544.27001953125,
          534,
          517.22998046875,
          518.8900146484375,
          520.530029296875
         ]
        },
        {
         "marker": {
          "color": "rgba(0, 255, 0, 1)"
         },
         "name": "Start Buy",
         "type": "scatter",
         "x": [
          37,
          37
         ],
         "xaxis": "x",
         "y": [
          0,
          1
         ],
         "yaxis": "y2"
        },
        {
         "marker": {
          "color": "rgba(255, 255, 0, 1)"
         },
         "name": "Start Sell Reversal",
         "type": "scatter",
         "x": [
          47,
          47
         ],
         "xaxis": "x",
         "y": [
          0,
          1
         ],
         "yaxis": "y2"
        },
        {
         "marker": {
          "color": "rgba(0, 255, 255, 1)"
         },
         "name": "Start Buy Reversal",
         "type": "scatter",
         "x": [
          68,
          68
         ],
         "xaxis": "x",
         "y": [
          0,
          1
         ],
         "yaxis": "y2"
        },
        {
         "marker": {
          "color": "rgba(0, 255, 0, 0.1)"
         },
         "name": "Close Buy",
         "type": "scatter",
         "x": [
          94,
          94
         ],
         "xaxis": "x",
         "y": [
          0,
          1
         ],
         "yaxis": "y2"
        },
        {
         "marker": {
          "color": "rgba(0, 255, 0, 1)"
         },
         "name": "Start Buy",
         "type": "scatter",
         "x": [
          98,
          98
         ],
         "xaxis": "x",
         "y": [
          0,
          1
         ],
         "yaxis": "y2"
        },
        {
         "marker": {
          "color": "rgba(0, 255, 0, 0.1)"
         },
         "name": "Close Buy",
         "type": "scatter",
         "x": [
          112,
          112
         ],
         "xaxis": "x",
         "y": [
          0,
          1
         ],
         "yaxis": "y2"
        },
        {
         "marker": {
          "color": "rgba(0, 255, 0, 1)"
         },
         "name": "Start Buy",
         "type": "scatter",
         "x": [
          138,
          138
         ],
         "xaxis": "x",
         "y": [
          0,
          1
         ],
         "yaxis": "y2"
        },
        {
         "marker": {
          "color": "rgba(0, 255, 0, 0.1)"
         },
         "name": "Close Buy",
         "type": "scatter",
         "x": [
          147,
          147
         ],
         "xaxis": "x",
         "y": [
          0,
          1
         ],
         "yaxis": "y2"
        },
        {
         "marker": {
          "color": "rgba(0, 255, 0, 1)"
         },
         "name": "Start Buy",
         "type": "scatter",
         "x": [
          158,
          158
         ],
         "xaxis": "x",
         "y": [
          0,
          1
         ],
         "yaxis": "y2"
        },
        {
         "marker": {
          "color": "rgba(255, 255, 0, 1)"
         },
         "name": "Start Sell Reversal",
         "type": "scatter",
         "x": [
          182,
          182
         ],
         "xaxis": "x",
         "y": [
          0,
          1
         ],
         "yaxis": "y2"
        },
        {
         "marker": {
          "color": "rgba(0, 255, 255, 1)"
         },
         "name": "Start Buy Reversal",
         "type": "scatter",
         "x": [
          199,
          199
         ],
         "xaxis": "x",
         "y": [
          0,
          1
         ],
         "yaxis": "y2"
        },
        {
         "marker": {
          "color": "rgba(0, 255, 0, 0.1)"
         },
         "name": "Close Buy",
         "type": "scatter",
         "x": [
          212,
          212
         ],
         "xaxis": "x",
         "y": [
          0,
          1
         ],
         "yaxis": "y2"
        },
        {
         "marker": {
          "color": "rgba(255, 0, 0, 1)"
         },
         "name": "Start Sell",
         "type": "scatter",
         "x": [
          220,
          220
         ],
         "xaxis": "x",
         "y": [
          0,
          1
         ],
         "yaxis": "y2"
        },
        {
         "marker": {
          "color": "rgba(0, 255, 255, 1)"
         },
         "name": "Start Buy Reversal",
         "type": "scatter",
         "x": [
          225,
          225
         ],
         "xaxis": "x",
         "y": [
          0,
          1
         ],
         "yaxis": "y2"
        },
        {
         "marker": {
          "color": "rgba(255, 255, 0, 1)"
         },
         "name": "Start Sell Reversal",
         "type": "scatter",
         "x": [
          228,
          228
         ],
         "xaxis": "x",
         "y": [
          0,
          1
         ],
         "yaxis": "y2"
        },
        {
         "marker": {
          "color": "rgba(255, 0, 0, 0.1)"
         },
         "name": "Close Sell",
         "type": "scatter",
         "x": [
          243,
          243
         ],
         "xaxis": "x",
         "y": [
          0,
          1
         ],
         "yaxis": "y2"
        },
        {
         "marker": {
          "color": "rgba(255, 0, 0, 1)"
         },
         "name": "Start Sell",
         "type": "scatter",
         "x": [
          248,
          248
         ],
         "xaxis": "x",
         "y": [
          0,
          1
         ],
         "yaxis": "y2"
        }
       ],
       "layout": {
        "template": {
         "data": {
          "bar": [
           {
            "error_x": {
             "color": "#2a3f5f"
            },
            "error_y": {
             "color": "#2a3f5f"
            },
            "marker": {
             "line": {
              "color": "#E5ECF6",
              "width": 0.5
             }
            },
            "type": "bar"
           }
          ],
          "barpolar": [
           {
            "marker": {
             "line": {
              "color": "#E5ECF6",
              "width": 0.5
             }
            },
            "type": "barpolar"
           }
          ],
          "carpet": [
           {
            "aaxis": {
             "endlinecolor": "#2a3f5f",
             "gridcolor": "white",
             "linecolor": "white",
             "minorgridcolor": "white",
             "startlinecolor": "#2a3f5f"
            },
            "baxis": {
             "endlinecolor": "#2a3f5f",
             "gridcolor": "white",
             "linecolor": "white",
             "minorgridcolor": "white",
             "startlinecolor": "#2a3f5f"
            },
            "type": "carpet"
           }
          ],
          "choropleth": [
           {
            "colorbar": {
             "outlinewidth": 0,
             "ticks": ""
            },
            "type": "choropleth"
           }
          ],
          "contour": [
           {
            "colorbar": {
             "outlinewidth": 0,
             "ticks": ""
            },
            "colorscale": [
             [
              0,
              "#0d0887"
             ],
             [
              0.1111111111111111,
              "#46039f"
             ],
             [
              0.2222222222222222,
              "#7201a8"
             ],
             [
              0.3333333333333333,
              "#9c179e"
             ],
             [
              0.4444444444444444,
              "#bd3786"
             ],
             [
              0.5555555555555556,
              "#d8576b"
             ],
             [
              0.6666666666666666,
              "#ed7953"
             ],
             [
              0.7777777777777778,
              "#fb9f3a"
             ],
             [
              0.8888888888888888,
              "#fdca26"
             ],
             [
              1,
              "#f0f921"
             ]
            ],
            "type": "contour"
           }
          ],
          "contourcarpet": [
           {
            "colorbar": {
             "outlinewidth": 0,
             "ticks": ""
            },
            "type": "contourcarpet"
           }
          ],
          "heatmap": [
           {
            "colorbar": {
             "outlinewidth": 0,
             "ticks": ""
            },
            "colorscale": [
             [
              0,
              "#0d0887"
             ],
             [
              0.1111111111111111,
              "#46039f"
             ],
             [
              0.2222222222222222,
              "#7201a8"
             ],
             [
              0.3333333333333333,
              "#9c179e"
             ],
             [
              0.4444444444444444,
              "#bd3786"
             ],
             [
              0.5555555555555556,
              "#d8576b"
             ],
             [
              0.6666666666666666,
              "#ed7953"
             ],
             [
              0.7777777777777778,
              "#fb9f3a"
             ],
             [
              0.8888888888888888,
              "#fdca26"
             ],
             [
              1,
              "#f0f921"
             ]
            ],
            "type": "heatmap"
           }
          ],
          "heatmapgl": [
           {
            "colorbar": {
             "outlinewidth": 0,
             "ticks": ""
            },
            "colorscale": [
             [
              0,
              "#0d0887"
             ],
             [
              0.1111111111111111,
              "#46039f"
             ],
             [
              0.2222222222222222,
              "#7201a8"
             ],
             [
              0.3333333333333333,
              "#9c179e"
             ],
             [
              0.4444444444444444,
              "#bd3786"
             ],
             [
              0.5555555555555556,
              "#d8576b"
             ],
             [
              0.6666666666666666,
              "#ed7953"
             ],
             [
              0.7777777777777778,
              "#fb9f3a"
             ],
             [
              0.8888888888888888,
              "#fdca26"
             ],
             [
              1,
              "#f0f921"
             ]
            ],
            "type": "heatmapgl"
           }
          ],
          "histogram": [
           {
            "marker": {
             "colorbar": {
              "outlinewidth": 0,
              "ticks": ""
             }
            },
            "type": "histogram"
           }
          ],
          "histogram2d": [
           {
            "colorbar": {
             "outlinewidth": 0,
             "ticks": ""
            },
            "colorscale": [
             [
              0,
              "#0d0887"
             ],
             [
              0.1111111111111111,
              "#46039f"
             ],
             [
              0.2222222222222222,
              "#7201a8"
             ],
             [
              0.3333333333333333,
              "#9c179e"
             ],
             [
              0.4444444444444444,
              "#bd3786"
             ],
             [
              0.5555555555555556,
              "#d8576b"
             ],
             [
              0.6666666666666666,
              "#ed7953"
             ],
             [
              0.7777777777777778,
              "#fb9f3a"
             ],
             [
              0.8888888888888888,
              "#fdca26"
             ],
             [
              1,
              "#f0f921"
             ]
            ],
            "type": "histogram2d"
           }
          ],
          "histogram2dcontour": [
           {
            "colorbar": {
             "outlinewidth": 0,
             "ticks": ""
            },
            "colorscale": [
             [
              0,
              "#0d0887"
             ],
             [
              0.1111111111111111,
              "#46039f"
             ],
             [
              0.2222222222222222,
              "#7201a8"
             ],
             [
              0.3333333333333333,
              "#9c179e"
             ],
             [
              0.4444444444444444,
              "#bd3786"
             ],
             [
              0.5555555555555556,
              "#d8576b"
             ],
             [
              0.6666666666666666,
              "#ed7953"
             ],
             [
              0.7777777777777778,
              "#fb9f3a"
             ],
             [
              0.8888888888888888,
              "#fdca26"
             ],
             [
              1,
              "#f0f921"
             ]
            ],
            "type": "histogram2dcontour"
           }
          ],
          "mesh3d": [
           {
            "colorbar": {
             "outlinewidth": 0,
             "ticks": ""
            },
            "type": "mesh3d"
           }
          ],
          "parcoords": [
           {
            "line": {
             "colorbar": {
              "outlinewidth": 0,
              "ticks": ""
             }
            },
            "type": "parcoords"
           }
          ],
          "pie": [
           {
            "automargin": true,
            "type": "pie"
           }
          ],
          "scatter": [
           {
            "marker": {
             "colorbar": {
              "outlinewidth": 0,
              "ticks": ""
             }
            },
            "type": "scatter"
           }
          ],
          "scatter3d": [
           {
            "line": {
             "colorbar": {
              "outlinewidth": 0,
              "ticks": ""
             }
            },
            "marker": {
             "colorbar": {
              "outlinewidth": 0,
              "ticks": ""
             }
            },
            "type": "scatter3d"
           }
          ],
          "scattercarpet": [
           {
            "marker": {
             "colorbar": {
              "outlinewidth": 0,
              "ticks": ""
             }
            },
            "type": "scattercarpet"
           }
          ],
          "scattergeo": [
           {
            "marker": {
             "colorbar": {
              "outlinewidth": 0,
              "ticks": ""
             }
            },
            "type": "scattergeo"
           }
          ],
          "scattergl": [
           {
            "marker": {
             "colorbar": {
              "outlinewidth": 0,
              "ticks": ""
             }
            },
            "type": "scattergl"
           }
          ],
          "scattermapbox": [
           {
            "marker": {
             "colorbar": {
              "outlinewidth": 0,
              "ticks": ""
             }
            },
            "type": "scattermapbox"
           }
          ],
          "scatterpolar": [
           {
            "marker": {
             "colorbar": {
              "outlinewidth": 0,
              "ticks": ""
             }
            },
            "type": "scatterpolar"
           }
          ],
          "scatterpolargl": [
           {
            "marker": {
             "colorbar": {
              "outlinewidth": 0,
              "ticks": ""
             }
            },
            "type": "scatterpolargl"
           }
          ],
          "scatterternary": [
           {
            "marker": {
             "colorbar": {
              "outlinewidth": 0,
              "ticks": ""
             }
            },
            "type": "scatterternary"
           }
          ],
          "surface": [
           {
            "colorbar": {
             "outlinewidth": 0,
             "ticks": ""
            },
            "colorscale": [
             [
              0,
              "#0d0887"
             ],
             [
              0.1111111111111111,
              "#46039f"
             ],
             [
              0.2222222222222222,
              "#7201a8"
             ],
             [
              0.3333333333333333,
              "#9c179e"
             ],
             [
              0.4444444444444444,
              "#bd3786"
             ],
             [
              0.5555555555555556,
              "#d8576b"
             ],
             [
              0.6666666666666666,
              "#ed7953"
             ],
             [
              0.7777777777777778,
              "#fb9f3a"
             ],
             [
              0.8888888888888888,
              "#fdca26"
             ],
             [
              1,
              "#f0f921"
             ]
            ],
            "type": "surface"
           }
          ],
          "table": [
           {
            "cells": {
             "fill": {
              "color": "#EBF0F8"
             },
             "line": {
              "color": "white"
             }
            },
            "header": {
             "fill": {
              "color": "#C8D4E3"
             },
             "line": {
              "color": "white"
             }
            },
            "type": "table"
           }
          ]
         },
         "layout": {
          "annotationdefaults": {
           "arrowcolor": "#2a3f5f",
           "arrowhead": 0,
           "arrowwidth": 1
          },
          "coloraxis": {
           "colorbar": {
            "outlinewidth": 0,
            "ticks": ""
           }
          },
          "colorscale": {
           "diverging": [
            [
             0,
             "#8e0152"
            ],
            [
             0.1,
             "#c51b7d"
            ],
            [
             0.2,
             "#de77ae"
            ],
            [
             0.3,
             "#f1b6da"
            ],
            [
             0.4,
             "#fde0ef"
            ],
            [
             0.5,
             "#f7f7f7"
            ],
            [
             0.6,
             "#e6f5d0"
            ],
            [
             0.7,
             "#b8e186"
            ],
            [
             0.8,
             "#7fbc41"
            ],
            [
             0.9,
             "#4d9221"
            ],
            [
             1,
             "#276419"
            ]
           ],
           "sequential": [
            [
             0,
             "#0d0887"
            ],
            [
             0.1111111111111111,
             "#46039f"
            ],
            [
             0.2222222222222222,
             "#7201a8"
            ],
            [
             0.3333333333333333,
             "#9c179e"
            ],
            [
             0.4444444444444444,
             "#bd3786"
            ],
            [
             0.5555555555555556,
             "#d8576b"
            ],
            [
             0.6666666666666666,
             "#ed7953"
            ],
            [
             0.7777777777777778,
             "#fb9f3a"
            ],
            [
             0.8888888888888888,
             "#fdca26"
            ],
            [
             1,
             "#f0f921"
            ]
           ],
           "sequentialminus": [
            [
             0,
             "#0d0887"
            ],
            [
             0.1111111111111111,
             "#46039f"
            ],
            [
             0.2222222222222222,
             "#7201a8"
            ],
            [
             0.3333333333333333,
             "#9c179e"
            ],
            [
             0.4444444444444444,
             "#bd3786"
            ],
            [
             0.5555555555555556,
             "#d8576b"
            ],
            [
             0.6666666666666666,
             "#ed7953"
            ],
            [
             0.7777777777777778,
             "#fb9f3a"
            ],
            [
             0.8888888888888888,
             "#fdca26"
            ],
            [
             1,
             "#f0f921"
            ]
           ]
          },
          "colorway": [
           "#636efa",
           "#EF553B",
           "#00cc96",
           "#ab63fa",
           "#FFA15A",
           "#19d3f3",
           "#FF6692",
           "#B6E880",
           "#FF97FF",
           "#FECB52"
          ],
          "font": {
           "color": "#2a3f5f"
          },
          "geo": {
           "bgcolor": "white",
           "lakecolor": "white",
           "landcolor": "#E5ECF6",
           "showlakes": true,
           "showland": true,
           "subunitcolor": "white"
          },
          "hoverlabel": {
           "align": "left"
          },
          "hovermode": "closest",
          "mapbox": {
           "style": "light"
          },
          "paper_bgcolor": "white",
          "plot_bgcolor": "#E5ECF6",
          "polar": {
           "angularaxis": {
            "gridcolor": "white",
            "linecolor": "white",
            "ticks": ""
           },
           "bgcolor": "#E5ECF6",
           "radialaxis": {
            "gridcolor": "white",
            "linecolor": "white",
            "ticks": ""
           }
          },
          "scene": {
           "xaxis": {
            "backgroundcolor": "#E5ECF6",
            "gridcolor": "white",
            "gridwidth": 2,
            "linecolor": "white",
            "showbackground": true,
            "ticks": "",
            "zerolinecolor": "white"
           },
           "yaxis": {
            "backgroundcolor": "#E5ECF6",
            "gridcolor": "white",
            "gridwidth": 2,
            "linecolor": "white",
            "showbackground": true,
            "ticks": "",
            "zerolinecolor": "white"
           },
           "zaxis": {
            "backgroundcolor": "#E5ECF6",
            "gridcolor": "white",
            "gridwidth": 2,
            "linecolor": "white",
            "showbackground": true,
            "ticks": "",
            "zerolinecolor": "white"
           }
          },
          "shapedefaults": {
           "line": {
            "color": "#2a3f5f"
           }
          },
          "ternary": {
           "aaxis": {
            "gridcolor": "white",
            "linecolor": "white",
            "ticks": ""
           },
           "baxis": {
            "gridcolor": "white",
            "linecolor": "white",
            "ticks": ""
           },
           "bgcolor": "#E5ECF6",
           "caxis": {
            "gridcolor": "white",
            "linecolor": "white",
            "ticks": ""
           }
          },
          "title": {
           "x": 0.05
          },
          "xaxis": {
           "automargin": true,
           "gridcolor": "white",
           "linecolor": "white",
           "ticks": "",
           "title": {
            "standoff": 15
           },
           "zerolinecolor": "white",
           "zerolinewidth": 2
          },
          "yaxis": {
           "automargin": true,
           "gridcolor": "white",
           "linecolor": "white",
           "ticks": "",
           "title": {
            "standoff": 15
           },
           "zerolinecolor": "white",
           "zerolinewidth": 2
          }
         }
        },
        "title": {
         "text": "S3 Signals Backtested 2020-12-13 23:26:54.279024 Price of NVDA"
        },
        "xaxis": {
         "anchor": "y",
         "domain": [
          0,
          0.94
         ],
         "title": {
          "text": "Date"
         }
        },
        "yaxis": {
         "anchor": "x",
         "domain": [
          0,
          1
         ],
         "title": {
          "text": "Price"
         }
        },
        "yaxis2": {
         "anchor": "x",
         "overlaying": "y",
         "side": "right",
         "title": {
          "text": "Reference"
         }
        }
       }
      },
      "text/html": [
       "<div>                            <div id=\"9340c7a1-2993-436c-833f-a2e93c31a4cb\" class=\"plotly-graph-div\" style=\"height:525px; width:100%;\"></div>            <script type=\"text/javascript\">                require([\"plotly\"], function(Plotly) {                    window.PLOTLYENV=window.PLOTLYENV || {};                                    if (document.getElementById(\"9340c7a1-2993-436c-833f-a2e93c31a4cb\")) {                    Plotly.newPlot(                        \"9340c7a1-2993-436c-833f-a2e93c31a4cb\",                        [{\"name\": \"Price\", \"type\": \"scatter\", \"x\": [0, 1, 2, 3, 4, 5, 6, 7, 8, 9, 10, 11, 12, 13, 14, 15, 16, 17, 18, 19, 20, 21, 22, 23, 24, 25, 26, 27, 28, 29, 30, 31, 32, 33, 34, 35, 36, 37, 38, 39, 40, 41, 42, 43, 44, 45, 46, 47, 48, 49, 50, 51, 52, 53, 54, 55, 56, 57, 58, 59, 60, 61, 62, 63, 64, 65, 66, 67, 68, 69, 70, 71, 72, 73, 74, 75, 76, 77, 78, 79, 80, 81, 82, 83, 84, 85, 86, 87, 88, 89, 90, 91, 92, 93, 94, 95, 96, 97, 98, 99, 100, 101, 102, 103, 104, 105, 106, 107, 108, 109, 110, 111, 112, 113, 114, 115, 116, 117, 118, 119, 120, 121, 122, 123, 124, 125, 126, 127, 128, 129, 130, 131, 132, 133, 134, 135, 136, 137, 138, 139, 140, 141, 142, 143, 144, 145, 146, 147, 148, 149, 150, 151, 152, 153, 154, 155, 156, 157, 158, 159, 160, 161, 162, 163, 164, 165, 166, 167, 168, 169, 170, 171, 172, 173, 174, 175, 176, 177, 178, 179, 180, 181, 182, 183, 184, 185, 186, 187, 188, 189, 190, 191, 192, 193, 194, 195, 196, 197, 198, 199, 200, 201, 202, 203, 204, 205, 206, 207, 208, 209, 210, 211, 212, 213, 214, 215, 216, 217, 218, 219, 220, 221, 222, 223, 224, 225, 226, 227, 228, 229, 230, 231, 232, 233, 234, 235, 236, 237, 238, 239, 240, 241, 242, 243, 244, 245, 246, 247, 248, 249, 250], \"y\": [224.77908325195312, 227.9138946533203, 229.13189697265625, 235.07211303710938, 238.9756622314453, 238.4265899658203, 238.22691345214844, 238.7959747314453, 236.47976684570312, 231.93727111816406, 234.91238403320312, 239.5147705078125, 235.68112182617188, 236.6694793701172, 239.53472900390625, 239.9840087890625, 242.61965942382812, 243.91751098632812, 251.56488037109375, 246.8726348876953, 245.16543579101562, 248.51991271972656, 248.86935424804688, 247.53155517578125, 249.69798278808594, 252.44345092773438, 250.06735229492188, 239.80430603027344, 247.56149291992188, 245.135498046875, 245.40505981445312, 236.04049682617188, 239.93409729003906, 246.72288513183594, 250.34689331054688, 253.83116149902344, 251.175537109375, 262.53680419921875, 267.44866943359375, 272.0910339355469, 270.33392333984375, 289.3125915527344, 296.0814514160156, 314.1816101074219, 308.19146728515625, 293.5855712890625, 272.829833984375, 261.6183166503906, 267.2090759277344, 252.33473205566406, 269.7863464355469, 276.1396789550781, 265.61077880859375, 284.21124267578125, 273.00299072265625, 265.7606201171875, 245.18223571777344, 260.8057861328125, 246.21115112304688, 216.0828094482422, 240.58705139160156, 196.19371032714844, 217.0418243408203, 202.60699462890625, 212.74632263183594, 205.53392028808594, 212.4666290283203, 248.91830444335938, 245.36203002929688, 256.9698181152344, 252.46456909179688, 265.3110656738281, 263.32318115234375, 242.81472778320312, 255.20169067382812, 243.6538543701172, 268.1180725097656, 258.7579345703125, 266.6696472167969, 262.6738586425781, 269.56658935546875, 283.65179443359375, 280.5450439453125, 294.3905029296875, 292.01300048828125, 286.74853515625, 269.22698974609375, 285.8494873046875, 283.71173095703125, 289.285888671875, 296.7679748535156, 291.053955078125, 298.14654541015625, 291.9730529785156, 282.4830017089844, 290.98406982421875, 293.4314880371094, 297.47723388671875, 304.5498046875, 312.1717834472656, 322.2811584472656, 311.772216796875, 310.8731994628906, 320.8826599121094, 339.2733154296875, 349.6424255371094, 351.85009765625, 358.42315673828125, 350.6413879394531, 360.6707763671875, 348.34375, 340.65185546875, 339.12347412109375, 354.64715576171875, 351.88006591796875, 352.6392517089844, 350.4115905761719, 350.4515686035156, 356.5879211425781, 351.9906921386719, 361.62493896484375, 374.44732666015625, 351.6408996582031, 357.0876159667969, 366.73193359375, 362.5244140625, 369.2204284667969, 368.5008544921875, 370.2298278808594, 380.843505859375, 377.77532958984375, 369.200439453125, 379.3743896484375, 365.98236083984375, 367.7812805175781, 379.6842041015625, 380.97344970703125, 384.261474609375, 393.3360900878906, 394.63531494140625, 408.3971252441406, 420.1101379394531, 418.9208984375, 401.85101318359375, 414.8332824707031, 408.84686279296875, 405.1490783691406, 407.8174743652344, 420.1800842285156, 412.89447021484375, 417.30181884765625, 404.9491882324219, 407.5376281738281, 416.6122131347656, 408.37713623046875, 418.3711853027344, 424.3076477050781, 424.337646484375, 440.14825439453125, 448.8430480957031, 451.20166015625, 453.1505126953125, 447.7137451171875, 446.3345642089844, 433.7420349121094, 457.3380126953125, 457.4479675292969, 462.28509521484375, 493.1867370605469, 490.13848876953125, 485.25140380859375, 485.35137939453125, 507.0384826660156, 508.507568359375, 509.6968994140625, 510.6163635253906, 504.82977294921875, 525.597412109375, 534.6619873046875, 552.6767578125, 573.6904907226562, 520.4662475585938, 504.7508850097656, 476.3792419433594, 508.4497985839844, 492.3245544433594, 486.436279296875, 514.7379760742188, 519.486572265625, 500.4321594238281, 498.39276123046875, 487.4259948730469, 500.5421142578125, 505.3607177734375, 484.8067932128906, 493.7741394042969, 514.7979125976562, 521.2460327148438, 528.873779296875, 541.0601196289062, 544.419189453125, 522.335693359375, 545.538818359375, 549.2977294921875, 558.39501953125, 553.386474609375, 550.347412109375, 568.8718872070312, 569.7616577148438, 563.6434936523438, 558.6349487304688, 552.296875, 539.75048828125, 545.6588134765625, 540.8302001953125, 534.2821655273438, 543.449462890625, 525.4947509765625, 535.7117309570312, 504.9308166503906, 520.80615234375, 501.2119140625, 503.0813903808594, 520.626220703125, 551.6070556640625, 566.2327270507812, 582.3079223632812, 545.0689697265625, 510.6491394042969, 536.5614624023438, 538.1110229492188, 531.722900390625, 540.4503173828125, 536.7314453125, 536.9913940429688, 537.4512329101562, 523.3554077148438, 525.4447631835938, 518.1569213867188, 529.233642578125, 530.2933349609375, 535.9016723632812, 535.4417724609375, 541.6199951171875, 535.8400268554688, 542.3300170898438, 544.27001953125, 534.0, 517.22998046875, 518.8900146484375, 520.530029296875]}, {\"marker\": {\"color\": \"rgba(0, 255, 0, 1)\"}, \"name\": \"Start Buy\", \"type\": \"scatter\", \"x\": [37, 37], \"xaxis\": \"x\", \"y\": [0, 1], \"yaxis\": \"y2\"}, {\"marker\": {\"color\": \"rgba(255, 255, 0, 1)\"}, \"name\": \"Start Sell Reversal\", \"type\": \"scatter\", \"x\": [47, 47], \"xaxis\": \"x\", \"y\": [0, 1], \"yaxis\": \"y2\"}, {\"marker\": {\"color\": \"rgba(0, 255, 255, 1)\"}, \"name\": \"Start Buy Reversal\", \"type\": \"scatter\", \"x\": [68, 68], \"xaxis\": \"x\", \"y\": [0, 1], \"yaxis\": \"y2\"}, {\"marker\": {\"color\": \"rgba(0, 255, 0, 0.1)\"}, \"name\": \"Close Buy\", \"type\": \"scatter\", \"x\": [94, 94], \"xaxis\": \"x\", \"y\": [0, 1], \"yaxis\": \"y2\"}, {\"marker\": {\"color\": \"rgba(0, 255, 0, 1)\"}, \"name\": \"Start Buy\", \"type\": \"scatter\", \"x\": [98, 98], \"xaxis\": \"x\", \"y\": [0, 1], \"yaxis\": \"y2\"}, {\"marker\": {\"color\": \"rgba(0, 255, 0, 0.1)\"}, \"name\": \"Close Buy\", \"type\": \"scatter\", \"x\": [112, 112], \"xaxis\": \"x\", \"y\": [0, 1], \"yaxis\": \"y2\"}, {\"marker\": {\"color\": \"rgba(0, 255, 0, 1)\"}, \"name\": \"Start Buy\", \"type\": \"scatter\", \"x\": [138, 138], \"xaxis\": \"x\", \"y\": [0, 1], \"yaxis\": \"y2\"}, {\"marker\": {\"color\": \"rgba(0, 255, 0, 0.1)\"}, \"name\": \"Close Buy\", \"type\": \"scatter\", \"x\": [147, 147], \"xaxis\": \"x\", \"y\": [0, 1], \"yaxis\": \"y2\"}, {\"marker\": {\"color\": \"rgba(0, 255, 0, 1)\"}, \"name\": \"Start Buy\", \"type\": \"scatter\", \"x\": [158, 158], \"xaxis\": \"x\", \"y\": [0, 1], \"yaxis\": \"y2\"}, {\"marker\": {\"color\": \"rgba(255, 255, 0, 1)\"}, \"name\": \"Start Sell Reversal\", \"type\": \"scatter\", \"x\": [182, 182], \"xaxis\": \"x\", \"y\": [0, 1], \"yaxis\": \"y2\"}, {\"marker\": {\"color\": \"rgba(0, 255, 255, 1)\"}, \"name\": \"Start Buy Reversal\", \"type\": \"scatter\", \"x\": [199, 199], \"xaxis\": \"x\", \"y\": [0, 1], \"yaxis\": \"y2\"}, {\"marker\": {\"color\": \"rgba(0, 255, 0, 0.1)\"}, \"name\": \"Close Buy\", \"type\": \"scatter\", \"x\": [212, 212], \"xaxis\": \"x\", \"y\": [0, 1], \"yaxis\": \"y2\"}, {\"marker\": {\"color\": \"rgba(255, 0, 0, 1)\"}, \"name\": \"Start Sell\", \"type\": \"scatter\", \"x\": [220, 220], \"xaxis\": \"x\", \"y\": [0, 1], \"yaxis\": \"y2\"}, {\"marker\": {\"color\": \"rgba(0, 255, 255, 1)\"}, \"name\": \"Start Buy Reversal\", \"type\": \"scatter\", \"x\": [225, 225], \"xaxis\": \"x\", \"y\": [0, 1], \"yaxis\": \"y2\"}, {\"marker\": {\"color\": \"rgba(255, 255, 0, 1)\"}, \"name\": \"Start Sell Reversal\", \"type\": \"scatter\", \"x\": [228, 228], \"xaxis\": \"x\", \"y\": [0, 1], \"yaxis\": \"y2\"}, {\"marker\": {\"color\": \"rgba(255, 0, 0, 0.1)\"}, \"name\": \"Close Sell\", \"type\": \"scatter\", \"x\": [243, 243], \"xaxis\": \"x\", \"y\": [0, 1], \"yaxis\": \"y2\"}, {\"marker\": {\"color\": \"rgba(255, 0, 0, 1)\"}, \"name\": \"Start Sell\", \"type\": \"scatter\", \"x\": [248, 248], \"xaxis\": \"x\", \"y\": [0, 1], \"yaxis\": \"y2\"}],                        {\"template\": {\"data\": {\"bar\": [{\"error_x\": {\"color\": \"#2a3f5f\"}, \"error_y\": {\"color\": \"#2a3f5f\"}, \"marker\": {\"line\": {\"color\": \"#E5ECF6\", \"width\": 0.5}}, \"type\": \"bar\"}], \"barpolar\": [{\"marker\": {\"line\": {\"color\": \"#E5ECF6\", \"width\": 0.5}}, \"type\": \"barpolar\"}], \"carpet\": [{\"aaxis\": {\"endlinecolor\": \"#2a3f5f\", \"gridcolor\": \"white\", \"linecolor\": \"white\", \"minorgridcolor\": \"white\", \"startlinecolor\": \"#2a3f5f\"}, \"baxis\": {\"endlinecolor\": \"#2a3f5f\", \"gridcolor\": \"white\", \"linecolor\": \"white\", \"minorgridcolor\": \"white\", \"startlinecolor\": \"#2a3f5f\"}, \"type\": \"carpet\"}], \"choropleth\": [{\"colorbar\": {\"outlinewidth\": 0, \"ticks\": \"\"}, \"type\": \"choropleth\"}], \"contour\": [{\"colorbar\": {\"outlinewidth\": 0, \"ticks\": \"\"}, \"colorscale\": [[0.0, \"#0d0887\"], [0.1111111111111111, \"#46039f\"], [0.2222222222222222, \"#7201a8\"], [0.3333333333333333, \"#9c179e\"], [0.4444444444444444, \"#bd3786\"], [0.5555555555555556, \"#d8576b\"], [0.6666666666666666, \"#ed7953\"], [0.7777777777777778, \"#fb9f3a\"], [0.8888888888888888, \"#fdca26\"], [1.0, \"#f0f921\"]], \"type\": \"contour\"}], \"contourcarpet\": [{\"colorbar\": {\"outlinewidth\": 0, \"ticks\": \"\"}, \"type\": \"contourcarpet\"}], \"heatmap\": [{\"colorbar\": {\"outlinewidth\": 0, \"ticks\": \"\"}, \"colorscale\": [[0.0, \"#0d0887\"], [0.1111111111111111, \"#46039f\"], [0.2222222222222222, \"#7201a8\"], [0.3333333333333333, \"#9c179e\"], [0.4444444444444444, \"#bd3786\"], [0.5555555555555556, \"#d8576b\"], [0.6666666666666666, \"#ed7953\"], [0.7777777777777778, \"#fb9f3a\"], [0.8888888888888888, \"#fdca26\"], [1.0, \"#f0f921\"]], \"type\": \"heatmap\"}], \"heatmapgl\": [{\"colorbar\": {\"outlinewidth\": 0, \"ticks\": \"\"}, \"colorscale\": [[0.0, \"#0d0887\"], [0.1111111111111111, \"#46039f\"], [0.2222222222222222, \"#7201a8\"], [0.3333333333333333, \"#9c179e\"], [0.4444444444444444, \"#bd3786\"], [0.5555555555555556, \"#d8576b\"], [0.6666666666666666, \"#ed7953\"], [0.7777777777777778, \"#fb9f3a\"], [0.8888888888888888, \"#fdca26\"], [1.0, \"#f0f921\"]], \"type\": \"heatmapgl\"}], \"histogram\": [{\"marker\": {\"colorbar\": {\"outlinewidth\": 0, \"ticks\": \"\"}}, \"type\": \"histogram\"}], \"histogram2d\": [{\"colorbar\": {\"outlinewidth\": 0, \"ticks\": \"\"}, \"colorscale\": [[0.0, \"#0d0887\"], [0.1111111111111111, \"#46039f\"], [0.2222222222222222, \"#7201a8\"], [0.3333333333333333, \"#9c179e\"], [0.4444444444444444, \"#bd3786\"], [0.5555555555555556, \"#d8576b\"], [0.6666666666666666, \"#ed7953\"], [0.7777777777777778, \"#fb9f3a\"], [0.8888888888888888, \"#fdca26\"], [1.0, \"#f0f921\"]], \"type\": \"histogram2d\"}], \"histogram2dcontour\": [{\"colorbar\": {\"outlinewidth\": 0, \"ticks\": \"\"}, \"colorscale\": [[0.0, \"#0d0887\"], [0.1111111111111111, \"#46039f\"], [0.2222222222222222, \"#7201a8\"], [0.3333333333333333, \"#9c179e\"], [0.4444444444444444, \"#bd3786\"], [0.5555555555555556, \"#d8576b\"], [0.6666666666666666, \"#ed7953\"], [0.7777777777777778, \"#fb9f3a\"], [0.8888888888888888, \"#fdca26\"], [1.0, \"#f0f921\"]], \"type\": \"histogram2dcontour\"}], \"mesh3d\": [{\"colorbar\": {\"outlinewidth\": 0, \"ticks\": \"\"}, \"type\": \"mesh3d\"}], \"parcoords\": [{\"line\": {\"colorbar\": {\"outlinewidth\": 0, \"ticks\": \"\"}}, \"type\": \"parcoords\"}], \"pie\": [{\"automargin\": true, \"type\": \"pie\"}], \"scatter\": [{\"marker\": {\"colorbar\": {\"outlinewidth\": 0, \"ticks\": \"\"}}, \"type\": \"scatter\"}], \"scatter3d\": [{\"line\": {\"colorbar\": {\"outlinewidth\": 0, \"ticks\": \"\"}}, \"marker\": {\"colorbar\": {\"outlinewidth\": 0, \"ticks\": \"\"}}, \"type\": \"scatter3d\"}], \"scattercarpet\": [{\"marker\": {\"colorbar\": {\"outlinewidth\": 0, \"ticks\": \"\"}}, \"type\": \"scattercarpet\"}], \"scattergeo\": [{\"marker\": {\"colorbar\": {\"outlinewidth\": 0, \"ticks\": \"\"}}, \"type\": \"scattergeo\"}], \"scattergl\": [{\"marker\": {\"colorbar\": {\"outlinewidth\": 0, \"ticks\": \"\"}}, \"type\": \"scattergl\"}], \"scattermapbox\": [{\"marker\": {\"colorbar\": {\"outlinewidth\": 0, \"ticks\": \"\"}}, \"type\": \"scattermapbox\"}], \"scatterpolar\": [{\"marker\": {\"colorbar\": {\"outlinewidth\": 0, \"ticks\": \"\"}}, \"type\": \"scatterpolar\"}], \"scatterpolargl\": [{\"marker\": {\"colorbar\": {\"outlinewidth\": 0, \"ticks\": \"\"}}, \"type\": \"scatterpolargl\"}], \"scatterternary\": [{\"marker\": {\"colorbar\": {\"outlinewidth\": 0, \"ticks\": \"\"}}, \"type\": \"scatterternary\"}], \"surface\": [{\"colorbar\": {\"outlinewidth\": 0, \"ticks\": \"\"}, \"colorscale\": [[0.0, \"#0d0887\"], [0.1111111111111111, \"#46039f\"], [0.2222222222222222, \"#7201a8\"], [0.3333333333333333, \"#9c179e\"], [0.4444444444444444, \"#bd3786\"], [0.5555555555555556, \"#d8576b\"], [0.6666666666666666, \"#ed7953\"], [0.7777777777777778, \"#fb9f3a\"], [0.8888888888888888, \"#fdca26\"], [1.0, \"#f0f921\"]], \"type\": \"surface\"}], \"table\": [{\"cells\": {\"fill\": {\"color\": \"#EBF0F8\"}, \"line\": {\"color\": \"white\"}}, \"header\": {\"fill\": {\"color\": \"#C8D4E3\"}, \"line\": {\"color\": \"white\"}}, \"type\": \"table\"}]}, \"layout\": {\"annotationdefaults\": {\"arrowcolor\": \"#2a3f5f\", \"arrowhead\": 0, \"arrowwidth\": 1}, \"coloraxis\": {\"colorbar\": {\"outlinewidth\": 0, \"ticks\": \"\"}}, \"colorscale\": {\"diverging\": [[0, \"#8e0152\"], [0.1, \"#c51b7d\"], [0.2, \"#de77ae\"], [0.3, \"#f1b6da\"], [0.4, \"#fde0ef\"], [0.5, \"#f7f7f7\"], [0.6, \"#e6f5d0\"], [0.7, \"#b8e186\"], [0.8, \"#7fbc41\"], [0.9, \"#4d9221\"], [1, \"#276419\"]], \"sequential\": [[0.0, \"#0d0887\"], [0.1111111111111111, \"#46039f\"], [0.2222222222222222, \"#7201a8\"], [0.3333333333333333, \"#9c179e\"], [0.4444444444444444, \"#bd3786\"], [0.5555555555555556, \"#d8576b\"], [0.6666666666666666, \"#ed7953\"], [0.7777777777777778, \"#fb9f3a\"], [0.8888888888888888, \"#fdca26\"], [1.0, \"#f0f921\"]], \"sequentialminus\": [[0.0, \"#0d0887\"], [0.1111111111111111, \"#46039f\"], [0.2222222222222222, \"#7201a8\"], [0.3333333333333333, \"#9c179e\"], [0.4444444444444444, \"#bd3786\"], [0.5555555555555556, \"#d8576b\"], [0.6666666666666666, \"#ed7953\"], [0.7777777777777778, \"#fb9f3a\"], [0.8888888888888888, \"#fdca26\"], [1.0, \"#f0f921\"]]}, \"colorway\": [\"#636efa\", \"#EF553B\", \"#00cc96\", \"#ab63fa\", \"#FFA15A\", \"#19d3f3\", \"#FF6692\", \"#B6E880\", \"#FF97FF\", \"#FECB52\"], \"font\": {\"color\": \"#2a3f5f\"}, \"geo\": {\"bgcolor\": \"white\", \"lakecolor\": \"white\", \"landcolor\": \"#E5ECF6\", \"showlakes\": true, \"showland\": true, \"subunitcolor\": \"white\"}, \"hoverlabel\": {\"align\": \"left\"}, \"hovermode\": \"closest\", \"mapbox\": {\"style\": \"light\"}, \"paper_bgcolor\": \"white\", \"plot_bgcolor\": \"#E5ECF6\", \"polar\": {\"angularaxis\": {\"gridcolor\": \"white\", \"linecolor\": \"white\", \"ticks\": \"\"}, \"bgcolor\": \"#E5ECF6\", \"radialaxis\": {\"gridcolor\": \"white\", \"linecolor\": \"white\", \"ticks\": \"\"}}, \"scene\": {\"xaxis\": {\"backgroundcolor\": \"#E5ECF6\", \"gridcolor\": \"white\", \"gridwidth\": 2, \"linecolor\": \"white\", \"showbackground\": true, \"ticks\": \"\", \"zerolinecolor\": \"white\"}, \"yaxis\": {\"backgroundcolor\": \"#E5ECF6\", \"gridcolor\": \"white\", \"gridwidth\": 2, \"linecolor\": \"white\", \"showbackground\": true, \"ticks\": \"\", \"zerolinecolor\": \"white\"}, \"zaxis\": {\"backgroundcolor\": \"#E5ECF6\", \"gridcolor\": \"white\", \"gridwidth\": 2, \"linecolor\": \"white\", \"showbackground\": true, \"ticks\": \"\", \"zerolinecolor\": \"white\"}}, \"shapedefaults\": {\"line\": {\"color\": \"#2a3f5f\"}}, \"ternary\": {\"aaxis\": {\"gridcolor\": \"white\", \"linecolor\": \"white\", \"ticks\": \"\"}, \"baxis\": {\"gridcolor\": \"white\", \"linecolor\": \"white\", \"ticks\": \"\"}, \"bgcolor\": \"#E5ECF6\", \"caxis\": {\"gridcolor\": \"white\", \"linecolor\": \"white\", \"ticks\": \"\"}}, \"title\": {\"x\": 0.05}, \"xaxis\": {\"automargin\": true, \"gridcolor\": \"white\", \"linecolor\": \"white\", \"ticks\": \"\", \"title\": {\"standoff\": 15}, \"zerolinecolor\": \"white\", \"zerolinewidth\": 2}, \"yaxis\": {\"automargin\": true, \"gridcolor\": \"white\", \"linecolor\": \"white\", \"ticks\": \"\", \"title\": {\"standoff\": 15}, \"zerolinecolor\": \"white\", \"zerolinewidth\": 2}}}, \"title\": {\"text\": \"S3 Signals Backtested 2020-12-13 23:26:54.279024 Price of NVDA\"}, \"xaxis\": {\"anchor\": \"y\", \"domain\": [0.0, 0.94], \"title\": {\"text\": \"Date\"}}, \"yaxis\": {\"anchor\": \"x\", \"domain\": [0.0, 1.0], \"title\": {\"text\": \"Price\"}}, \"yaxis2\": {\"anchor\": \"x\", \"overlaying\": \"y\", \"side\": \"right\", \"title\": {\"text\": \"Reference\"}}},                        {\"responsive\": true}                    ).then(function(){\n",
       "                            \n",
       "var gd = document.getElementById('9340c7a1-2993-436c-833f-a2e93c31a4cb');\n",
       "var x = new MutationObserver(function (mutations, observer) {{\n",
       "        var display = window.getComputedStyle(gd).display;\n",
       "        if (!display || display === 'none') {{\n",
       "            console.log([gd, 'removed!']);\n",
       "            Plotly.purge(gd);\n",
       "            observer.disconnect();\n",
       "        }}\n",
       "}});\n",
       "\n",
       "// Listen for the removal of the full notebook cells\n",
       "var notebookContainer = gd.closest('#notebook-container');\n",
       "if (notebookContainer) {{\n",
       "    x.observe(notebookContainer, {childList: true});\n",
       "}}\n",
       "\n",
       "// Listen for the clearing of the current output cell\n",
       "var outputEl = gd.closest('.output');\n",
       "if (outputEl) {{\n",
       "    x.observe(outputEl, {childList: true});\n",
       "}}\n",
       "\n",
       "                        })                };                });            </script>        </div>"
      ]
     },
     "metadata": {},
     "output_type": "display_data"
    }
   ],
   "source": [
    "# create figure\n",
    "signal_ticker = 'NVDA'\n",
    "\n",
    "fig = make_subplots(specs=[[{\"secondary_y\": True}]])\n",
    "fig.add_trace(go.Scatter(x=ohlc_renko[signal_ticker].index, y=ohlc_renko[signal_ticker]['Adj Close'], name='Price'))\n",
    "\n",
    "for i in range(len(ohlc_renko[signal_ticker])):\n",
    "    if (ohlc_renko[signal_ticker]['signal'][i] == 'Start Buy'):\n",
    "        fig.add_trace(go.Scatter(x=[ohlc_renko[signal_ticker].index[i], ohlc_renko[signal_ticker].index[i]], y=[0,1], name='Start Buy', marker_color='rgba(0, 255, 0, 1)'), secondary_y=True)\n",
    "    if (ohlc_renko[signal_ticker]['signal'][i] == 'Close Buy'):\n",
    "        fig.add_trace(go.Scatter(x=[ohlc_renko[signal_ticker].index[i], ohlc_renko[signal_ticker].index[i]], y=[0,1], name='Close Buy', marker_color='rgba(0, 255, 0, 0.1)'), secondary_y=True)\n",
    "    if (ohlc_renko[signal_ticker]['signal'][i] == 'Start Sell Reversal'):\n",
    "        fig.add_trace(go.Scatter(x=[ohlc_renko[signal_ticker].index[i], ohlc_renko[signal_ticker].index[i]], y=[0,1], name='Start Sell Reversal', marker_color='rgba(255, 255, 0, 1)'), secondary_y=True)\n",
    "    if (ohlc_renko[signal_ticker]['signal'][i] == 'Start Sell'):\n",
    "        fig.add_trace(go.Scatter(x=[ohlc_renko[signal_ticker].index[i], ohlc_renko[signal_ticker].index[i]], y=[0,1], name='Start Sell', marker_color='rgba(255, 0, 0, 1)'), secondary_y=True)\n",
    "    if (ohlc_renko[signal_ticker]['signal'][i] == 'Close Sell'):\n",
    "        fig.add_trace(go.Scatter(x=[ohlc_renko[signal_ticker].index[i], ohlc_renko[signal_ticker].index[i]], y=[0,1], name='Close Sell', marker_color='rgba(255, 0, 0, 0.1)'), secondary_y=True)\n",
    "    if (ohlc_renko[signal_ticker]['signal'][i] == 'Start Buy Reversal'):\n",
    "        fig.add_trace(go.Scatter(x=[ohlc_renko[signal_ticker].index[i], ohlc_renko[signal_ticker].index[i]], y=[0,1], name='Start Buy Reversal', marker_color='rgba(0, 255, 255, 1)'), secondary_y=True)\n",
    "\n",
    "# format figure\n",
    "fig.update_layout(title_text=f'S3 Signals Backtested {dt.datetime.today()} Price of {signal_ticker}')\n",
    "fig.update_xaxes(title_text='Date')\n",
    "fig.update_yaxes(title_text='Price')\n",
    "fig.update_yaxes(title_text='Reference', secondary_y=True)"
   ]
  },
  {
   "cell_type": "code",
   "execution_count": 24,
   "metadata": {},
   "outputs": [
    {
     "data": {
      "application/vnd.plotly.v1+json": {
       "config": {
        "plotlyServerURL": "https://plot.ly"
       },
       "data": [
        {
         "name": "Bar Number",
         "type": "scatter",
         "x": [
          0,
          1,
          2,
          3,
          4,
          5,
          6,
          7,
          8,
          9,
          10,
          11,
          12,
          13,
          14,
          15,
          16,
          17,
          18,
          19,
          20,
          21,
          22,
          23,
          24,
          25,
          26,
          27,
          28,
          29,
          30,
          31,
          32,
          33,
          34,
          35,
          36,
          37,
          38,
          39,
          40,
          41,
          42,
          43,
          44,
          45,
          46,
          47,
          48,
          49,
          50,
          51,
          52,
          53,
          54,
          55,
          56,
          57,
          58,
          59,
          60,
          61,
          62,
          63,
          64,
          65,
          66,
          67,
          68,
          69,
          70,
          71,
          72,
          73,
          74,
          75,
          76,
          77,
          78,
          79,
          80,
          81,
          82,
          83,
          84,
          85,
          86,
          87,
          88,
          89,
          90,
          91,
          92,
          93,
          94,
          95,
          96,
          97,
          98,
          99,
          100,
          101,
          102,
          103,
          104,
          105,
          106,
          107,
          108,
          109,
          110,
          111,
          112,
          113,
          114,
          115,
          116,
          117,
          118,
          119,
          120,
          121,
          122,
          123,
          124,
          125,
          126,
          127,
          128,
          129,
          130,
          131,
          132,
          133,
          134,
          135,
          136,
          137,
          138,
          139,
          140,
          141,
          142,
          143,
          144,
          145,
          146,
          147,
          148,
          149,
          150,
          151,
          152,
          153,
          154,
          155,
          156,
          157,
          158,
          159,
          160,
          161,
          162,
          163,
          164,
          165,
          166,
          167,
          168,
          169,
          170,
          171,
          172,
          173,
          174,
          175,
          176,
          177,
          178,
          179,
          180,
          181,
          182,
          183,
          184,
          185,
          186,
          187,
          188,
          189,
          190,
          191,
          192,
          193,
          194,
          195,
          196,
          197,
          198,
          199,
          200,
          201,
          202,
          203,
          204,
          205,
          206,
          207,
          208,
          209,
          210,
          211,
          212,
          213,
          214,
          215,
          216,
          217,
          218,
          219,
          220,
          221,
          222,
          223,
          224,
          225,
          226,
          227,
          228,
          229,
          230,
          231,
          232,
          233,
          234,
          235,
          236,
          237,
          238,
          239,
          240,
          241,
          242,
          243,
          244,
          245,
          246,
          247,
          248,
          249,
          250
         ],
         "y": [
          1,
          1,
          1,
          2,
          2,
          2,
          2,
          2,
          2,
          2,
          2,
          2,
          2,
          2,
          2,
          2,
          2,
          2,
          3,
          3,
          3,
          3,
          3,
          3,
          3,
          3,
          3,
          3,
          3,
          3,
          3,
          3,
          3,
          3,
          3,
          3,
          3,
          4,
          4,
          4,
          4,
          6,
          6,
          8,
          8,
          8,
          -2,
          -2,
          -2,
          -3,
          -3,
          -3,
          -3,
          -3,
          -3,
          -3,
          -4,
          -4,
          -4,
          -6,
          -6,
          -7,
          -7,
          -7,
          -7,
          -7,
          -7,
          2,
          2,
          2,
          2,
          3,
          3,
          3,
          3,
          3,
          3,
          3,
          3,
          3,
          3,
          4,
          4,
          5,
          5,
          5,
          5,
          5,
          5,
          5,
          5,
          5,
          5,
          5,
          5,
          5,
          5,
          5,
          6,
          7,
          7,
          7,
          7,
          7,
          9,
          9,
          10,
          10,
          10,
          10,
          10,
          10,
          10,
          10,
          10,
          10,
          10,
          10,
          10,
          10,
          10,
          11,
          11,
          11,
          11,
          11,
          11,
          11,
          11,
          12,
          12,
          12,
          12,
          12,
          12,
          12,
          12,
          12,
          13,
          13,
          14,
          15,
          15,
          15,
          15,
          15,
          15,
          15,
          15,
          15,
          15,
          15,
          15,
          15,
          15,
          15,
          15,
          15,
          16,
          17,
          17,
          17,
          17,
          17,
          17,
          18,
          18,
          18,
          20,
          20,
          20,
          20,
          22,
          22,
          22,
          22,
          22,
          23,
          24,
          25,
          27,
          -2,
          -4,
          -6,
          1,
          1,
          1,
          1,
          1,
          1,
          1,
          1,
          1,
          1,
          1,
          1,
          1,
          2,
          2,
          3,
          3,
          3,
          3,
          4,
          4,
          4,
          4,
          5,
          5,
          5,
          5,
          5,
          5,
          5,
          5,
          5,
          5,
          -1,
          -1,
          -3,
          -3,
          -3,
          -3,
          -3,
          2,
          3,
          4,
          -1,
          -3,
          -3,
          -3,
          -3,
          -3,
          -3,
          -3,
          -3,
          -3,
          -3,
          -3,
          -3,
          -3,
          -3,
          -3,
          -3,
          -3,
          -3,
          -3,
          -3,
          -3,
          -3,
          -3
         ]
        },
        {
         "marker": {
          "color": "rgba(0, 255, 0, 1)"
         },
         "name": "Start Buy",
         "type": "scatter",
         "x": [
          37,
          37
         ],
         "xaxis": "x",
         "y": [
          0,
          1
         ],
         "yaxis": "y2"
        },
        {
         "marker": {
          "color": "rgba(255, 255, 0, 1)"
         },
         "name": "Start Sell Reversal",
         "type": "scatter",
         "x": [
          47,
          47
         ],
         "xaxis": "x",
         "y": [
          0,
          1
         ],
         "yaxis": "y2"
        },
        {
         "marker": {
          "color": "rgba(0, 255, 255, 1)"
         },
         "name": "Start Buy Reversal",
         "type": "scatter",
         "x": [
          68,
          68
         ],
         "xaxis": "x",
         "y": [
          0,
          1
         ],
         "yaxis": "y2"
        },
        {
         "marker": {
          "color": "rgba(0, 255, 0, 0.1)"
         },
         "name": "Close Buy",
         "type": "scatter",
         "x": [
          94,
          94
         ],
         "xaxis": "x",
         "y": [
          0,
          1
         ],
         "yaxis": "y2"
        },
        {
         "marker": {
          "color": "rgba(0, 255, 0, 1)"
         },
         "name": "Start Buy",
         "type": "scatter",
         "x": [
          98,
          98
         ],
         "xaxis": "x",
         "y": [
          0,
          1
         ],
         "yaxis": "y2"
        },
        {
         "marker": {
          "color": "rgba(0, 255, 0, 0.1)"
         },
         "name": "Close Buy",
         "type": "scatter",
         "x": [
          112,
          112
         ],
         "xaxis": "x",
         "y": [
          0,
          1
         ],
         "yaxis": "y2"
        },
        {
         "marker": {
          "color": "rgba(0, 255, 0, 1)"
         },
         "name": "Start Buy",
         "type": "scatter",
         "x": [
          138,
          138
         ],
         "xaxis": "x",
         "y": [
          0,
          1
         ],
         "yaxis": "y2"
        },
        {
         "marker": {
          "color": "rgba(0, 255, 0, 0.1)"
         },
         "name": "Close Buy",
         "type": "scatter",
         "x": [
          147,
          147
         ],
         "xaxis": "x",
         "y": [
          0,
          1
         ],
         "yaxis": "y2"
        },
        {
         "marker": {
          "color": "rgba(0, 255, 0, 1)"
         },
         "name": "Start Buy",
         "type": "scatter",
         "x": [
          158,
          158
         ],
         "xaxis": "x",
         "y": [
          0,
          1
         ],
         "yaxis": "y2"
        },
        {
         "marker": {
          "color": "rgba(255, 255, 0, 1)"
         },
         "name": "Start Sell Reversal",
         "type": "scatter",
         "x": [
          182,
          182
         ],
         "xaxis": "x",
         "y": [
          0,
          1
         ],
         "yaxis": "y2"
        },
        {
         "marker": {
          "color": "rgba(0, 255, 255, 1)"
         },
         "name": "Start Buy Reversal",
         "type": "scatter",
         "x": [
          199,
          199
         ],
         "xaxis": "x",
         "y": [
          0,
          1
         ],
         "yaxis": "y2"
        },
        {
         "marker": {
          "color": "rgba(0, 255, 0, 0.1)"
         },
         "name": "Close Buy",
         "type": "scatter",
         "x": [
          212,
          212
         ],
         "xaxis": "x",
         "y": [
          0,
          1
         ],
         "yaxis": "y2"
        },
        {
         "marker": {
          "color": "rgba(255, 0, 0, 1)"
         },
         "name": "Start Sell",
         "type": "scatter",
         "x": [
          220,
          220
         ],
         "xaxis": "x",
         "y": [
          0,
          1
         ],
         "yaxis": "y2"
        },
        {
         "marker": {
          "color": "rgba(0, 255, 255, 1)"
         },
         "name": "Start Buy Reversal",
         "type": "scatter",
         "x": [
          225,
          225
         ],
         "xaxis": "x",
         "y": [
          0,
          1
         ],
         "yaxis": "y2"
        },
        {
         "marker": {
          "color": "rgba(255, 255, 0, 1)"
         },
         "name": "Start Sell Reversal",
         "type": "scatter",
         "x": [
          228,
          228
         ],
         "xaxis": "x",
         "y": [
          0,
          1
         ],
         "yaxis": "y2"
        },
        {
         "marker": {
          "color": "rgba(255, 0, 0, 0.1)"
         },
         "name": "Close Sell",
         "type": "scatter",
         "x": [
          243,
          243
         ],
         "xaxis": "x",
         "y": [
          0,
          1
         ],
         "yaxis": "y2"
        },
        {
         "marker": {
          "color": "rgba(255, 0, 0, 1)"
         },
         "name": "Start Sell",
         "type": "scatter",
         "x": [
          248,
          248
         ],
         "xaxis": "x",
         "y": [
          0,
          1
         ],
         "yaxis": "y2"
        }
       ],
       "layout": {
        "template": {
         "data": {
          "bar": [
           {
            "error_x": {
             "color": "#2a3f5f"
            },
            "error_y": {
             "color": "#2a3f5f"
            },
            "marker": {
             "line": {
              "color": "#E5ECF6",
              "width": 0.5
             }
            },
            "type": "bar"
           }
          ],
          "barpolar": [
           {
            "marker": {
             "line": {
              "color": "#E5ECF6",
              "width": 0.5
             }
            },
            "type": "barpolar"
           }
          ],
          "carpet": [
           {
            "aaxis": {
             "endlinecolor": "#2a3f5f",
             "gridcolor": "white",
             "linecolor": "white",
             "minorgridcolor": "white",
             "startlinecolor": "#2a3f5f"
            },
            "baxis": {
             "endlinecolor": "#2a3f5f",
             "gridcolor": "white",
             "linecolor": "white",
             "minorgridcolor": "white",
             "startlinecolor": "#2a3f5f"
            },
            "type": "carpet"
           }
          ],
          "choropleth": [
           {
            "colorbar": {
             "outlinewidth": 0,
             "ticks": ""
            },
            "type": "choropleth"
           }
          ],
          "contour": [
           {
            "colorbar": {
             "outlinewidth": 0,
             "ticks": ""
            },
            "colorscale": [
             [
              0,
              "#0d0887"
             ],
             [
              0.1111111111111111,
              "#46039f"
             ],
             [
              0.2222222222222222,
              "#7201a8"
             ],
             [
              0.3333333333333333,
              "#9c179e"
             ],
             [
              0.4444444444444444,
              "#bd3786"
             ],
             [
              0.5555555555555556,
              "#d8576b"
             ],
             [
              0.6666666666666666,
              "#ed7953"
             ],
             [
              0.7777777777777778,
              "#fb9f3a"
             ],
             [
              0.8888888888888888,
              "#fdca26"
             ],
             [
              1,
              "#f0f921"
             ]
            ],
            "type": "contour"
           }
          ],
          "contourcarpet": [
           {
            "colorbar": {
             "outlinewidth": 0,
             "ticks": ""
            },
            "type": "contourcarpet"
           }
          ],
          "heatmap": [
           {
            "colorbar": {
             "outlinewidth": 0,
             "ticks": ""
            },
            "colorscale": [
             [
              0,
              "#0d0887"
             ],
             [
              0.1111111111111111,
              "#46039f"
             ],
             [
              0.2222222222222222,
              "#7201a8"
             ],
             [
              0.3333333333333333,
              "#9c179e"
             ],
             [
              0.4444444444444444,
              "#bd3786"
             ],
             [
              0.5555555555555556,
              "#d8576b"
             ],
             [
              0.6666666666666666,
              "#ed7953"
             ],
             [
              0.7777777777777778,
              "#fb9f3a"
             ],
             [
              0.8888888888888888,
              "#fdca26"
             ],
             [
              1,
              "#f0f921"
             ]
            ],
            "type": "heatmap"
           }
          ],
          "heatmapgl": [
           {
            "colorbar": {
             "outlinewidth": 0,
             "ticks": ""
            },
            "colorscale": [
             [
              0,
              "#0d0887"
             ],
             [
              0.1111111111111111,
              "#46039f"
             ],
             [
              0.2222222222222222,
              "#7201a8"
             ],
             [
              0.3333333333333333,
              "#9c179e"
             ],
             [
              0.4444444444444444,
              "#bd3786"
             ],
             [
              0.5555555555555556,
              "#d8576b"
             ],
             [
              0.6666666666666666,
              "#ed7953"
             ],
             [
              0.7777777777777778,
              "#fb9f3a"
             ],
             [
              0.8888888888888888,
              "#fdca26"
             ],
             [
              1,
              "#f0f921"
             ]
            ],
            "type": "heatmapgl"
           }
          ],
          "histogram": [
           {
            "marker": {
             "colorbar": {
              "outlinewidth": 0,
              "ticks": ""
             }
            },
            "type": "histogram"
           }
          ],
          "histogram2d": [
           {
            "colorbar": {
             "outlinewidth": 0,
             "ticks": ""
            },
            "colorscale": [
             [
              0,
              "#0d0887"
             ],
             [
              0.1111111111111111,
              "#46039f"
             ],
             [
              0.2222222222222222,
              "#7201a8"
             ],
             [
              0.3333333333333333,
              "#9c179e"
             ],
             [
              0.4444444444444444,
              "#bd3786"
             ],
             [
              0.5555555555555556,
              "#d8576b"
             ],
             [
              0.6666666666666666,
              "#ed7953"
             ],
             [
              0.7777777777777778,
              "#fb9f3a"
             ],
             [
              0.8888888888888888,
              "#fdca26"
             ],
             [
              1,
              "#f0f921"
             ]
            ],
            "type": "histogram2d"
           }
          ],
          "histogram2dcontour": [
           {
            "colorbar": {
             "outlinewidth": 0,
             "ticks": ""
            },
            "colorscale": [
             [
              0,
              "#0d0887"
             ],
             [
              0.1111111111111111,
              "#46039f"
             ],
             [
              0.2222222222222222,
              "#7201a8"
             ],
             [
              0.3333333333333333,
              "#9c179e"
             ],
             [
              0.4444444444444444,
              "#bd3786"
             ],
             [
              0.5555555555555556,
              "#d8576b"
             ],
             [
              0.6666666666666666,
              "#ed7953"
             ],
             [
              0.7777777777777778,
              "#fb9f3a"
             ],
             [
              0.8888888888888888,
              "#fdca26"
             ],
             [
              1,
              "#f0f921"
             ]
            ],
            "type": "histogram2dcontour"
           }
          ],
          "mesh3d": [
           {
            "colorbar": {
             "outlinewidth": 0,
             "ticks": ""
            },
            "type": "mesh3d"
           }
          ],
          "parcoords": [
           {
            "line": {
             "colorbar": {
              "outlinewidth": 0,
              "ticks": ""
             }
            },
            "type": "parcoords"
           }
          ],
          "pie": [
           {
            "automargin": true,
            "type": "pie"
           }
          ],
          "scatter": [
           {
            "marker": {
             "colorbar": {
              "outlinewidth": 0,
              "ticks": ""
             }
            },
            "type": "scatter"
           }
          ],
          "scatter3d": [
           {
            "line": {
             "colorbar": {
              "outlinewidth": 0,
              "ticks": ""
             }
            },
            "marker": {
             "colorbar": {
              "outlinewidth": 0,
              "ticks": ""
             }
            },
            "type": "scatter3d"
           }
          ],
          "scattercarpet": [
           {
            "marker": {
             "colorbar": {
              "outlinewidth": 0,
              "ticks": ""
             }
            },
            "type": "scattercarpet"
           }
          ],
          "scattergeo": [
           {
            "marker": {
             "colorbar": {
              "outlinewidth": 0,
              "ticks": ""
             }
            },
            "type": "scattergeo"
           }
          ],
          "scattergl": [
           {
            "marker": {
             "colorbar": {
              "outlinewidth": 0,
              "ticks": ""
             }
            },
            "type": "scattergl"
           }
          ],
          "scattermapbox": [
           {
            "marker": {
             "colorbar": {
              "outlinewidth": 0,
              "ticks": ""
             }
            },
            "type": "scattermapbox"
           }
          ],
          "scatterpolar": [
           {
            "marker": {
             "colorbar": {
              "outlinewidth": 0,
              "ticks": ""
             }
            },
            "type": "scatterpolar"
           }
          ],
          "scatterpolargl": [
           {
            "marker": {
             "colorbar": {
              "outlinewidth": 0,
              "ticks": ""
             }
            },
            "type": "scatterpolargl"
           }
          ],
          "scatterternary": [
           {
            "marker": {
             "colorbar": {
              "outlinewidth": 0,
              "ticks": ""
             }
            },
            "type": "scatterternary"
           }
          ],
          "surface": [
           {
            "colorbar": {
             "outlinewidth": 0,
             "ticks": ""
            },
            "colorscale": [
             [
              0,
              "#0d0887"
             ],
             [
              0.1111111111111111,
              "#46039f"
             ],
             [
              0.2222222222222222,
              "#7201a8"
             ],
             [
              0.3333333333333333,
              "#9c179e"
             ],
             [
              0.4444444444444444,
              "#bd3786"
             ],
             [
              0.5555555555555556,
              "#d8576b"
             ],
             [
              0.6666666666666666,
              "#ed7953"
             ],
             [
              0.7777777777777778,
              "#fb9f3a"
             ],
             [
              0.8888888888888888,
              "#fdca26"
             ],
             [
              1,
              "#f0f921"
             ]
            ],
            "type": "surface"
           }
          ],
          "table": [
           {
            "cells": {
             "fill": {
              "color": "#EBF0F8"
             },
             "line": {
              "color": "white"
             }
            },
            "header": {
             "fill": {
              "color": "#C8D4E3"
             },
             "line": {
              "color": "white"
             }
            },
            "type": "table"
           }
          ]
         },
         "layout": {
          "annotationdefaults": {
           "arrowcolor": "#2a3f5f",
           "arrowhead": 0,
           "arrowwidth": 1
          },
          "coloraxis": {
           "colorbar": {
            "outlinewidth": 0,
            "ticks": ""
           }
          },
          "colorscale": {
           "diverging": [
            [
             0,
             "#8e0152"
            ],
            [
             0.1,
             "#c51b7d"
            ],
            [
             0.2,
             "#de77ae"
            ],
            [
             0.3,
             "#f1b6da"
            ],
            [
             0.4,
             "#fde0ef"
            ],
            [
             0.5,
             "#f7f7f7"
            ],
            [
             0.6,
             "#e6f5d0"
            ],
            [
             0.7,
             "#b8e186"
            ],
            [
             0.8,
             "#7fbc41"
            ],
            [
             0.9,
             "#4d9221"
            ],
            [
             1,
             "#276419"
            ]
           ],
           "sequential": [
            [
             0,
             "#0d0887"
            ],
            [
             0.1111111111111111,
             "#46039f"
            ],
            [
             0.2222222222222222,
             "#7201a8"
            ],
            [
             0.3333333333333333,
             "#9c179e"
            ],
            [
             0.4444444444444444,
             "#bd3786"
            ],
            [
             0.5555555555555556,
             "#d8576b"
            ],
            [
             0.6666666666666666,
             "#ed7953"
            ],
            [
             0.7777777777777778,
             "#fb9f3a"
            ],
            [
             0.8888888888888888,
             "#fdca26"
            ],
            [
             1,
             "#f0f921"
            ]
           ],
           "sequentialminus": [
            [
             0,
             "#0d0887"
            ],
            [
             0.1111111111111111,
             "#46039f"
            ],
            [
             0.2222222222222222,
             "#7201a8"
            ],
            [
             0.3333333333333333,
             "#9c179e"
            ],
            [
             0.4444444444444444,
             "#bd3786"
            ],
            [
             0.5555555555555556,
             "#d8576b"
            ],
            [
             0.6666666666666666,
             "#ed7953"
            ],
            [
             0.7777777777777778,
             "#fb9f3a"
            ],
            [
             0.8888888888888888,
             "#fdca26"
            ],
            [
             1,
             "#f0f921"
            ]
           ]
          },
          "colorway": [
           "#636efa",
           "#EF553B",
           "#00cc96",
           "#ab63fa",
           "#FFA15A",
           "#19d3f3",
           "#FF6692",
           "#B6E880",
           "#FF97FF",
           "#FECB52"
          ],
          "font": {
           "color": "#2a3f5f"
          },
          "geo": {
           "bgcolor": "white",
           "lakecolor": "white",
           "landcolor": "#E5ECF6",
           "showlakes": true,
           "showland": true,
           "subunitcolor": "white"
          },
          "hoverlabel": {
           "align": "left"
          },
          "hovermode": "closest",
          "mapbox": {
           "style": "light"
          },
          "paper_bgcolor": "white",
          "plot_bgcolor": "#E5ECF6",
          "polar": {
           "angularaxis": {
            "gridcolor": "white",
            "linecolor": "white",
            "ticks": ""
           },
           "bgcolor": "#E5ECF6",
           "radialaxis": {
            "gridcolor": "white",
            "linecolor": "white",
            "ticks": ""
           }
          },
          "scene": {
           "xaxis": {
            "backgroundcolor": "#E5ECF6",
            "gridcolor": "white",
            "gridwidth": 2,
            "linecolor": "white",
            "showbackground": true,
            "ticks": "",
            "zerolinecolor": "white"
           },
           "yaxis": {
            "backgroundcolor": "#E5ECF6",
            "gridcolor": "white",
            "gridwidth": 2,
            "linecolor": "white",
            "showbackground": true,
            "ticks": "",
            "zerolinecolor": "white"
           },
           "zaxis": {
            "backgroundcolor": "#E5ECF6",
            "gridcolor": "white",
            "gridwidth": 2,
            "linecolor": "white",
            "showbackground": true,
            "ticks": "",
            "zerolinecolor": "white"
           }
          },
          "shapedefaults": {
           "line": {
            "color": "#2a3f5f"
           }
          },
          "ternary": {
           "aaxis": {
            "gridcolor": "white",
            "linecolor": "white",
            "ticks": ""
           },
           "baxis": {
            "gridcolor": "white",
            "linecolor": "white",
            "ticks": ""
           },
           "bgcolor": "#E5ECF6",
           "caxis": {
            "gridcolor": "white",
            "linecolor": "white",
            "ticks": ""
           }
          },
          "title": {
           "x": 0.05
          },
          "xaxis": {
           "automargin": true,
           "gridcolor": "white",
           "linecolor": "white",
           "ticks": "",
           "title": {
            "standoff": 15
           },
           "zerolinecolor": "white",
           "zerolinewidth": 2
          },
          "yaxis": {
           "automargin": true,
           "gridcolor": "white",
           "linecolor": "white",
           "ticks": "",
           "title": {
            "standoff": 15
           },
           "zerolinecolor": "white",
           "zerolinewidth": 2
          }
         }
        },
        "title": {
         "text": "S3 Signals Backtested 2020-12-13 23:27:20.667058 Renko of NVDA"
        },
        "xaxis": {
         "anchor": "y",
         "domain": [
          0,
          0.94
         ],
         "title": {
          "text": "Date"
         }
        },
        "yaxis": {
         "anchor": "x",
         "domain": [
          0,
          1
         ],
         "title": {
          "text": "Renko Blocks"
         }
        },
        "yaxis2": {
         "anchor": "x",
         "overlaying": "y",
         "side": "right",
         "title": {
          "text": "Reference"
         }
        }
       }
      },
      "text/html": [
       "<div>                            <div id=\"82dd4db9-6e12-424e-a495-1e7f47b0e01e\" class=\"plotly-graph-div\" style=\"height:525px; width:100%;\"></div>            <script type=\"text/javascript\">                require([\"plotly\"], function(Plotly) {                    window.PLOTLYENV=window.PLOTLYENV || {};                                    if (document.getElementById(\"82dd4db9-6e12-424e-a495-1e7f47b0e01e\")) {                    Plotly.newPlot(                        \"82dd4db9-6e12-424e-a495-1e7f47b0e01e\",                        [{\"name\": \"Bar Number\", \"type\": \"scatter\", \"x\": [0, 1, 2, 3, 4, 5, 6, 7, 8, 9, 10, 11, 12, 13, 14, 15, 16, 17, 18, 19, 20, 21, 22, 23, 24, 25, 26, 27, 28, 29, 30, 31, 32, 33, 34, 35, 36, 37, 38, 39, 40, 41, 42, 43, 44, 45, 46, 47, 48, 49, 50, 51, 52, 53, 54, 55, 56, 57, 58, 59, 60, 61, 62, 63, 64, 65, 66, 67, 68, 69, 70, 71, 72, 73, 74, 75, 76, 77, 78, 79, 80, 81, 82, 83, 84, 85, 86, 87, 88, 89, 90, 91, 92, 93, 94, 95, 96, 97, 98, 99, 100, 101, 102, 103, 104, 105, 106, 107, 108, 109, 110, 111, 112, 113, 114, 115, 116, 117, 118, 119, 120, 121, 122, 123, 124, 125, 126, 127, 128, 129, 130, 131, 132, 133, 134, 135, 136, 137, 138, 139, 140, 141, 142, 143, 144, 145, 146, 147, 148, 149, 150, 151, 152, 153, 154, 155, 156, 157, 158, 159, 160, 161, 162, 163, 164, 165, 166, 167, 168, 169, 170, 171, 172, 173, 174, 175, 176, 177, 178, 179, 180, 181, 182, 183, 184, 185, 186, 187, 188, 189, 190, 191, 192, 193, 194, 195, 196, 197, 198, 199, 200, 201, 202, 203, 204, 205, 206, 207, 208, 209, 210, 211, 212, 213, 214, 215, 216, 217, 218, 219, 220, 221, 222, 223, 224, 225, 226, 227, 228, 229, 230, 231, 232, 233, 234, 235, 236, 237, 238, 239, 240, 241, 242, 243, 244, 245, 246, 247, 248, 249, 250], \"y\": [1.0, 1.0, 1.0, 2.0, 2.0, 2.0, 2.0, 2.0, 2.0, 2.0, 2.0, 2.0, 2.0, 2.0, 2.0, 2.0, 2.0, 2.0, 3.0, 3.0, 3.0, 3.0, 3.0, 3.0, 3.0, 3.0, 3.0, 3.0, 3.0, 3.0, 3.0, 3.0, 3.0, 3.0, 3.0, 3.0, 3.0, 4.0, 4.0, 4.0, 4.0, 6.0, 6.0, 8.0, 8.0, 8.0, -2.0, -2.0, -2.0, -3.0, -3.0, -3.0, -3.0, -3.0, -3.0, -3.0, -4.0, -4.0, -4.0, -6.0, -6.0, -7.0, -7.0, -7.0, -7.0, -7.0, -7.0, 2.0, 2.0, 2.0, 2.0, 3.0, 3.0, 3.0, 3.0, 3.0, 3.0, 3.0, 3.0, 3.0, 3.0, 4.0, 4.0, 5.0, 5.0, 5.0, 5.0, 5.0, 5.0, 5.0, 5.0, 5.0, 5.0, 5.0, 5.0, 5.0, 5.0, 5.0, 6.0, 7.0, 7.0, 7.0, 7.0, 7.0, 9.0, 9.0, 10.0, 10.0, 10.0, 10.0, 10.0, 10.0, 10.0, 10.0, 10.0, 10.0, 10.0, 10.0, 10.0, 10.0, 10.0, 11.0, 11.0, 11.0, 11.0, 11.0, 11.0, 11.0, 11.0, 12.0, 12.0, 12.0, 12.0, 12.0, 12.0, 12.0, 12.0, 12.0, 13.0, 13.0, 14.0, 15.0, 15.0, 15.0, 15.0, 15.0, 15.0, 15.0, 15.0, 15.0, 15.0, 15.0, 15.0, 15.0, 15.0, 15.0, 15.0, 15.0, 16.0, 17.0, 17.0, 17.0, 17.0, 17.0, 17.0, 18.0, 18.0, 18.0, 20.0, 20.0, 20.0, 20.0, 22.0, 22.0, 22.0, 22.0, 22.0, 23.0, 24.0, 25.0, 27.0, -2.0, -4.0, -6.0, 1.0, 1.0, 1.0, 1.0, 1.0, 1.0, 1.0, 1.0, 1.0, 1.0, 1.0, 1.0, 1.0, 2.0, 2.0, 3.0, 3.0, 3.0, 3.0, 4.0, 4.0, 4.0, 4.0, 5.0, 5.0, 5.0, 5.0, 5.0, 5.0, 5.0, 5.0, 5.0, 5.0, -1.0, -1.0, -3.0, -3.0, -3.0, -3.0, -3.0, 2.0, 3.0, 4.0, -1.0, -3.0, -3.0, -3.0, -3.0, -3.0, -3.0, -3.0, -3.0, -3.0, -3.0, -3.0, -3.0, -3.0, -3.0, -3.0, -3.0, -3.0, -3.0, -3.0, -3.0, -3.0, -3.0, -3.0]}, {\"marker\": {\"color\": \"rgba(0, 255, 0, 1)\"}, \"name\": \"Start Buy\", \"type\": \"scatter\", \"x\": [37, 37], \"xaxis\": \"x\", \"y\": [0, 1], \"yaxis\": \"y2\"}, {\"marker\": {\"color\": \"rgba(255, 255, 0, 1)\"}, \"name\": \"Start Sell Reversal\", \"type\": \"scatter\", \"x\": [47, 47], \"xaxis\": \"x\", \"y\": [0, 1], \"yaxis\": \"y2\"}, {\"marker\": {\"color\": \"rgba(0, 255, 255, 1)\"}, \"name\": \"Start Buy Reversal\", \"type\": \"scatter\", \"x\": [68, 68], \"xaxis\": \"x\", \"y\": [0, 1], \"yaxis\": \"y2\"}, {\"marker\": {\"color\": \"rgba(0, 255, 0, 0.1)\"}, \"name\": \"Close Buy\", \"type\": \"scatter\", \"x\": [94, 94], \"xaxis\": \"x\", \"y\": [0, 1], \"yaxis\": \"y2\"}, {\"marker\": {\"color\": \"rgba(0, 255, 0, 1)\"}, \"name\": \"Start Buy\", \"type\": \"scatter\", \"x\": [98, 98], \"xaxis\": \"x\", \"y\": [0, 1], \"yaxis\": \"y2\"}, {\"marker\": {\"color\": \"rgba(0, 255, 0, 0.1)\"}, \"name\": \"Close Buy\", \"type\": \"scatter\", \"x\": [112, 112], \"xaxis\": \"x\", \"y\": [0, 1], \"yaxis\": \"y2\"}, {\"marker\": {\"color\": \"rgba(0, 255, 0, 1)\"}, \"name\": \"Start Buy\", \"type\": \"scatter\", \"x\": [138, 138], \"xaxis\": \"x\", \"y\": [0, 1], \"yaxis\": \"y2\"}, {\"marker\": {\"color\": \"rgba(0, 255, 0, 0.1)\"}, \"name\": \"Close Buy\", \"type\": \"scatter\", \"x\": [147, 147], \"xaxis\": \"x\", \"y\": [0, 1], \"yaxis\": \"y2\"}, {\"marker\": {\"color\": \"rgba(0, 255, 0, 1)\"}, \"name\": \"Start Buy\", \"type\": \"scatter\", \"x\": [158, 158], \"xaxis\": \"x\", \"y\": [0, 1], \"yaxis\": \"y2\"}, {\"marker\": {\"color\": \"rgba(255, 255, 0, 1)\"}, \"name\": \"Start Sell Reversal\", \"type\": \"scatter\", \"x\": [182, 182], \"xaxis\": \"x\", \"y\": [0, 1], \"yaxis\": \"y2\"}, {\"marker\": {\"color\": \"rgba(0, 255, 255, 1)\"}, \"name\": \"Start Buy Reversal\", \"type\": \"scatter\", \"x\": [199, 199], \"xaxis\": \"x\", \"y\": [0, 1], \"yaxis\": \"y2\"}, {\"marker\": {\"color\": \"rgba(0, 255, 0, 0.1)\"}, \"name\": \"Close Buy\", \"type\": \"scatter\", \"x\": [212, 212], \"xaxis\": \"x\", \"y\": [0, 1], \"yaxis\": \"y2\"}, {\"marker\": {\"color\": \"rgba(255, 0, 0, 1)\"}, \"name\": \"Start Sell\", \"type\": \"scatter\", \"x\": [220, 220], \"xaxis\": \"x\", \"y\": [0, 1], \"yaxis\": \"y2\"}, {\"marker\": {\"color\": \"rgba(0, 255, 255, 1)\"}, \"name\": \"Start Buy Reversal\", \"type\": \"scatter\", \"x\": [225, 225], \"xaxis\": \"x\", \"y\": [0, 1], \"yaxis\": \"y2\"}, {\"marker\": {\"color\": \"rgba(255, 255, 0, 1)\"}, \"name\": \"Start Sell Reversal\", \"type\": \"scatter\", \"x\": [228, 228], \"xaxis\": \"x\", \"y\": [0, 1], \"yaxis\": \"y2\"}, {\"marker\": {\"color\": \"rgba(255, 0, 0, 0.1)\"}, \"name\": \"Close Sell\", \"type\": \"scatter\", \"x\": [243, 243], \"xaxis\": \"x\", \"y\": [0, 1], \"yaxis\": \"y2\"}, {\"marker\": {\"color\": \"rgba(255, 0, 0, 1)\"}, \"name\": \"Start Sell\", \"type\": \"scatter\", \"x\": [248, 248], \"xaxis\": \"x\", \"y\": [0, 1], \"yaxis\": \"y2\"}],                        {\"template\": {\"data\": {\"bar\": [{\"error_x\": {\"color\": \"#2a3f5f\"}, \"error_y\": {\"color\": \"#2a3f5f\"}, \"marker\": {\"line\": {\"color\": \"#E5ECF6\", \"width\": 0.5}}, \"type\": \"bar\"}], \"barpolar\": [{\"marker\": {\"line\": {\"color\": \"#E5ECF6\", \"width\": 0.5}}, \"type\": \"barpolar\"}], \"carpet\": [{\"aaxis\": {\"endlinecolor\": \"#2a3f5f\", \"gridcolor\": \"white\", \"linecolor\": \"white\", \"minorgridcolor\": \"white\", \"startlinecolor\": \"#2a3f5f\"}, \"baxis\": {\"endlinecolor\": \"#2a3f5f\", \"gridcolor\": \"white\", \"linecolor\": \"white\", \"minorgridcolor\": \"white\", \"startlinecolor\": \"#2a3f5f\"}, \"type\": \"carpet\"}], \"choropleth\": [{\"colorbar\": {\"outlinewidth\": 0, \"ticks\": \"\"}, \"type\": \"choropleth\"}], \"contour\": [{\"colorbar\": {\"outlinewidth\": 0, \"ticks\": \"\"}, \"colorscale\": [[0.0, \"#0d0887\"], [0.1111111111111111, \"#46039f\"], [0.2222222222222222, \"#7201a8\"], [0.3333333333333333, \"#9c179e\"], [0.4444444444444444, \"#bd3786\"], [0.5555555555555556, \"#d8576b\"], [0.6666666666666666, \"#ed7953\"], [0.7777777777777778, \"#fb9f3a\"], [0.8888888888888888, \"#fdca26\"], [1.0, \"#f0f921\"]], \"type\": \"contour\"}], \"contourcarpet\": [{\"colorbar\": {\"outlinewidth\": 0, \"ticks\": \"\"}, \"type\": \"contourcarpet\"}], \"heatmap\": [{\"colorbar\": {\"outlinewidth\": 0, \"ticks\": \"\"}, \"colorscale\": [[0.0, \"#0d0887\"], [0.1111111111111111, \"#46039f\"], [0.2222222222222222, \"#7201a8\"], [0.3333333333333333, \"#9c179e\"], [0.4444444444444444, \"#bd3786\"], [0.5555555555555556, \"#d8576b\"], [0.6666666666666666, \"#ed7953\"], [0.7777777777777778, \"#fb9f3a\"], [0.8888888888888888, \"#fdca26\"], [1.0, \"#f0f921\"]], \"type\": \"heatmap\"}], \"heatmapgl\": [{\"colorbar\": {\"outlinewidth\": 0, \"ticks\": \"\"}, \"colorscale\": [[0.0, \"#0d0887\"], [0.1111111111111111, \"#46039f\"], [0.2222222222222222, \"#7201a8\"], [0.3333333333333333, \"#9c179e\"], [0.4444444444444444, \"#bd3786\"], [0.5555555555555556, \"#d8576b\"], [0.6666666666666666, \"#ed7953\"], [0.7777777777777778, \"#fb9f3a\"], [0.8888888888888888, \"#fdca26\"], [1.0, \"#f0f921\"]], \"type\": \"heatmapgl\"}], \"histogram\": [{\"marker\": {\"colorbar\": {\"outlinewidth\": 0, \"ticks\": \"\"}}, \"type\": \"histogram\"}], \"histogram2d\": [{\"colorbar\": {\"outlinewidth\": 0, \"ticks\": \"\"}, \"colorscale\": [[0.0, \"#0d0887\"], [0.1111111111111111, \"#46039f\"], [0.2222222222222222, \"#7201a8\"], [0.3333333333333333, \"#9c179e\"], [0.4444444444444444, \"#bd3786\"], [0.5555555555555556, \"#d8576b\"], [0.6666666666666666, \"#ed7953\"], [0.7777777777777778, \"#fb9f3a\"], [0.8888888888888888, \"#fdca26\"], [1.0, \"#f0f921\"]], \"type\": \"histogram2d\"}], \"histogram2dcontour\": [{\"colorbar\": {\"outlinewidth\": 0, \"ticks\": \"\"}, \"colorscale\": [[0.0, \"#0d0887\"], [0.1111111111111111, \"#46039f\"], [0.2222222222222222, \"#7201a8\"], [0.3333333333333333, \"#9c179e\"], [0.4444444444444444, \"#bd3786\"], [0.5555555555555556, \"#d8576b\"], [0.6666666666666666, \"#ed7953\"], [0.7777777777777778, \"#fb9f3a\"], [0.8888888888888888, \"#fdca26\"], [1.0, \"#f0f921\"]], \"type\": \"histogram2dcontour\"}], \"mesh3d\": [{\"colorbar\": {\"outlinewidth\": 0, \"ticks\": \"\"}, \"type\": \"mesh3d\"}], \"parcoords\": [{\"line\": {\"colorbar\": {\"outlinewidth\": 0, \"ticks\": \"\"}}, \"type\": \"parcoords\"}], \"pie\": [{\"automargin\": true, \"type\": \"pie\"}], \"scatter\": [{\"marker\": {\"colorbar\": {\"outlinewidth\": 0, \"ticks\": \"\"}}, \"type\": \"scatter\"}], \"scatter3d\": [{\"line\": {\"colorbar\": {\"outlinewidth\": 0, \"ticks\": \"\"}}, \"marker\": {\"colorbar\": {\"outlinewidth\": 0, \"ticks\": \"\"}}, \"type\": \"scatter3d\"}], \"scattercarpet\": [{\"marker\": {\"colorbar\": {\"outlinewidth\": 0, \"ticks\": \"\"}}, \"type\": \"scattercarpet\"}], \"scattergeo\": [{\"marker\": {\"colorbar\": {\"outlinewidth\": 0, \"ticks\": \"\"}}, \"type\": \"scattergeo\"}], \"scattergl\": [{\"marker\": {\"colorbar\": {\"outlinewidth\": 0, \"ticks\": \"\"}}, \"type\": \"scattergl\"}], \"scattermapbox\": [{\"marker\": {\"colorbar\": {\"outlinewidth\": 0, \"ticks\": \"\"}}, \"type\": \"scattermapbox\"}], \"scatterpolar\": [{\"marker\": {\"colorbar\": {\"outlinewidth\": 0, \"ticks\": \"\"}}, \"type\": \"scatterpolar\"}], \"scatterpolargl\": [{\"marker\": {\"colorbar\": {\"outlinewidth\": 0, \"ticks\": \"\"}}, \"type\": \"scatterpolargl\"}], \"scatterternary\": [{\"marker\": {\"colorbar\": {\"outlinewidth\": 0, \"ticks\": \"\"}}, \"type\": \"scatterternary\"}], \"surface\": [{\"colorbar\": {\"outlinewidth\": 0, \"ticks\": \"\"}, \"colorscale\": [[0.0, \"#0d0887\"], [0.1111111111111111, \"#46039f\"], [0.2222222222222222, \"#7201a8\"], [0.3333333333333333, \"#9c179e\"], [0.4444444444444444, \"#bd3786\"], [0.5555555555555556, \"#d8576b\"], [0.6666666666666666, \"#ed7953\"], [0.7777777777777778, \"#fb9f3a\"], [0.8888888888888888, \"#fdca26\"], [1.0, \"#f0f921\"]], \"type\": \"surface\"}], \"table\": [{\"cells\": {\"fill\": {\"color\": \"#EBF0F8\"}, \"line\": {\"color\": \"white\"}}, \"header\": {\"fill\": {\"color\": \"#C8D4E3\"}, \"line\": {\"color\": \"white\"}}, \"type\": \"table\"}]}, \"layout\": {\"annotationdefaults\": {\"arrowcolor\": \"#2a3f5f\", \"arrowhead\": 0, \"arrowwidth\": 1}, \"coloraxis\": {\"colorbar\": {\"outlinewidth\": 0, \"ticks\": \"\"}}, \"colorscale\": {\"diverging\": [[0, \"#8e0152\"], [0.1, \"#c51b7d\"], [0.2, \"#de77ae\"], [0.3, \"#f1b6da\"], [0.4, \"#fde0ef\"], [0.5, \"#f7f7f7\"], [0.6, \"#e6f5d0\"], [0.7, \"#b8e186\"], [0.8, \"#7fbc41\"], [0.9, \"#4d9221\"], [1, \"#276419\"]], \"sequential\": [[0.0, \"#0d0887\"], [0.1111111111111111, \"#46039f\"], [0.2222222222222222, \"#7201a8\"], [0.3333333333333333, \"#9c179e\"], [0.4444444444444444, \"#bd3786\"], [0.5555555555555556, \"#d8576b\"], [0.6666666666666666, \"#ed7953\"], [0.7777777777777778, \"#fb9f3a\"], [0.8888888888888888, \"#fdca26\"], [1.0, \"#f0f921\"]], \"sequentialminus\": [[0.0, \"#0d0887\"], [0.1111111111111111, \"#46039f\"], [0.2222222222222222, \"#7201a8\"], [0.3333333333333333, \"#9c179e\"], [0.4444444444444444, \"#bd3786\"], [0.5555555555555556, \"#d8576b\"], [0.6666666666666666, \"#ed7953\"], [0.7777777777777778, \"#fb9f3a\"], [0.8888888888888888, \"#fdca26\"], [1.0, \"#f0f921\"]]}, \"colorway\": [\"#636efa\", \"#EF553B\", \"#00cc96\", \"#ab63fa\", \"#FFA15A\", \"#19d3f3\", \"#FF6692\", \"#B6E880\", \"#FF97FF\", \"#FECB52\"], \"font\": {\"color\": \"#2a3f5f\"}, \"geo\": {\"bgcolor\": \"white\", \"lakecolor\": \"white\", \"landcolor\": \"#E5ECF6\", \"showlakes\": true, \"showland\": true, \"subunitcolor\": \"white\"}, \"hoverlabel\": {\"align\": \"left\"}, \"hovermode\": \"closest\", \"mapbox\": {\"style\": \"light\"}, \"paper_bgcolor\": \"white\", \"plot_bgcolor\": \"#E5ECF6\", \"polar\": {\"angularaxis\": {\"gridcolor\": \"white\", \"linecolor\": \"white\", \"ticks\": \"\"}, \"bgcolor\": \"#E5ECF6\", \"radialaxis\": {\"gridcolor\": \"white\", \"linecolor\": \"white\", \"ticks\": \"\"}}, \"scene\": {\"xaxis\": {\"backgroundcolor\": \"#E5ECF6\", \"gridcolor\": \"white\", \"gridwidth\": 2, \"linecolor\": \"white\", \"showbackground\": true, \"ticks\": \"\", \"zerolinecolor\": \"white\"}, \"yaxis\": {\"backgroundcolor\": \"#E5ECF6\", \"gridcolor\": \"white\", \"gridwidth\": 2, \"linecolor\": \"white\", \"showbackground\": true, \"ticks\": \"\", \"zerolinecolor\": \"white\"}, \"zaxis\": {\"backgroundcolor\": \"#E5ECF6\", \"gridcolor\": \"white\", \"gridwidth\": 2, \"linecolor\": \"white\", \"showbackground\": true, \"ticks\": \"\", \"zerolinecolor\": \"white\"}}, \"shapedefaults\": {\"line\": {\"color\": \"#2a3f5f\"}}, \"ternary\": {\"aaxis\": {\"gridcolor\": \"white\", \"linecolor\": \"white\", \"ticks\": \"\"}, \"baxis\": {\"gridcolor\": \"white\", \"linecolor\": \"white\", \"ticks\": \"\"}, \"bgcolor\": \"#E5ECF6\", \"caxis\": {\"gridcolor\": \"white\", \"linecolor\": \"white\", \"ticks\": \"\"}}, \"title\": {\"x\": 0.05}, \"xaxis\": {\"automargin\": true, \"gridcolor\": \"white\", \"linecolor\": \"white\", \"ticks\": \"\", \"title\": {\"standoff\": 15}, \"zerolinecolor\": \"white\", \"zerolinewidth\": 2}, \"yaxis\": {\"automargin\": true, \"gridcolor\": \"white\", \"linecolor\": \"white\", \"ticks\": \"\", \"title\": {\"standoff\": 15}, \"zerolinecolor\": \"white\", \"zerolinewidth\": 2}}}, \"title\": {\"text\": \"S3 Signals Backtested 2020-12-13 23:27:20.667058 Renko of NVDA\"}, \"xaxis\": {\"anchor\": \"y\", \"domain\": [0.0, 0.94], \"title\": {\"text\": \"Date\"}}, \"yaxis\": {\"anchor\": \"x\", \"domain\": [0.0, 1.0], \"title\": {\"text\": \"Renko Blocks\"}}, \"yaxis2\": {\"anchor\": \"x\", \"overlaying\": \"y\", \"side\": \"right\", \"title\": {\"text\": \"Reference\"}}},                        {\"responsive\": true}                    ).then(function(){\n",
       "                            \n",
       "var gd = document.getElementById('82dd4db9-6e12-424e-a495-1e7f47b0e01e');\n",
       "var x = new MutationObserver(function (mutations, observer) {{\n",
       "        var display = window.getComputedStyle(gd).display;\n",
       "        if (!display || display === 'none') {{\n",
       "            console.log([gd, 'removed!']);\n",
       "            Plotly.purge(gd);\n",
       "            observer.disconnect();\n",
       "        }}\n",
       "}});\n",
       "\n",
       "// Listen for the removal of the full notebook cells\n",
       "var notebookContainer = gd.closest('#notebook-container');\n",
       "if (notebookContainer) {{\n",
       "    x.observe(notebookContainer, {childList: true});\n",
       "}}\n",
       "\n",
       "// Listen for the clearing of the current output cell\n",
       "var outputEl = gd.closest('.output');\n",
       "if (outputEl) {{\n",
       "    x.observe(outputEl, {childList: true});\n",
       "}}\n",
       "\n",
       "                        })                };                });            </script>        </div>"
      ]
     },
     "metadata": {},
     "output_type": "display_data"
    }
   ],
   "source": [
    "fig = make_subplots(specs=[[{\"secondary_y\": True}]])\n",
    "fig.add_trace(go.Scatter(x=ohlc_renko[signal_ticker].index, y=ohlc_renko[signal_ticker]['bar-number'], name='Bar Number'))\n",
    "\n",
    "for i in range(len(ohlc_renko[signal_ticker])):\n",
    "    if (ohlc_renko[signal_ticker]['signal'][i] == 'Start Buy'):\n",
    "        fig.add_trace(go.Scatter(x=[ohlc_renko[signal_ticker].index[i], ohlc_renko[signal_ticker].index[i]], y=[0,1], name='Start Buy', marker_color='rgba(0, 255, 0, 1)'), secondary_y=True)\n",
    "    if (ohlc_renko[signal_ticker]['signal'][i] == 'Close Buy'):\n",
    "        fig.add_trace(go.Scatter(x=[ohlc_renko[signal_ticker].index[i], ohlc_renko[signal_ticker].index[i]], y=[0,1], name='Close Buy', marker_color='rgba(0, 255, 0, 0.1)'), secondary_y=True)\n",
    "    if (ohlc_renko[signal_ticker]['signal'][i] == 'Start Sell Reversal'):\n",
    "        fig.add_trace(go.Scatter(x=[ohlc_renko[signal_ticker].index[i], ohlc_renko[signal_ticker].index[i]], y=[0,1], name='Start Sell Reversal', marker_color='rgba(255, 255, 0, 1)'), secondary_y=True)\n",
    "    if (ohlc_renko[signal_ticker]['signal'][i] == 'Start Sell'):\n",
    "        fig.add_trace(go.Scatter(x=[ohlc_renko[signal_ticker].index[i], ohlc_renko[signal_ticker].index[i]], y=[0,1], name='Start Sell', marker_color='rgba(255, 0, 0, 1)'), secondary_y=True)\n",
    "    if (ohlc_renko[signal_ticker]['signal'][i] == 'Close Sell'):\n",
    "        fig.add_trace(go.Scatter(x=[ohlc_renko[signal_ticker].index[i], ohlc_renko[signal_ticker].index[i]], y=[0,1], name='Close Sell', marker_color='rgba(255, 0, 0, 0.1)'), secondary_y=True)\n",
    "    if (ohlc_renko[signal_ticker]['signal'][i] == 'Start Buy Reversal'):\n",
    "        fig.add_trace(go.Scatter(x=[ohlc_renko[signal_ticker].index[i], ohlc_renko[signal_ticker].index[i]], y=[0,1], name='Start Buy Reversal', marker_color='rgba(0, 255, 255, 1)'), secondary_y=True)\n",
    "\n",
    "# format figure\n",
    "fig.update_layout(title_text=f'S3 Signals Backtested {dt.datetime.today()} Renko of {signal_ticker}')\n",
    "fig.update_xaxes(title_text='Date')\n",
    "fig.update_yaxes(title_text='Renko Blocks')\n",
    "fig.update_yaxes(title_text='Reference', secondary_y=True)"
   ]
  },
  {
   "cell_type": "code",
   "execution_count": 25,
   "metadata": {},
   "outputs": [
    {
     "data": {
      "application/vnd.plotly.v1+json": {
       "config": {
        "plotlyServerURL": "https://plot.ly"
       },
       "data": [
        {
         "name": "MACD",
         "type": "scatter",
         "x": [
          0,
          1,
          2,
          3,
          4,
          5,
          6,
          7,
          8,
          9,
          10,
          11,
          12,
          13,
          14,
          15,
          16,
          17,
          18,
          19,
          20,
          21,
          22,
          23,
          24,
          25,
          26,
          27,
          28,
          29,
          30,
          31,
          32,
          33,
          34,
          35,
          36,
          37,
          38,
          39,
          40,
          41,
          42,
          43,
          44,
          45,
          46,
          47,
          48,
          49,
          50,
          51,
          52,
          53,
          54,
          55,
          56,
          57,
          58,
          59,
          60,
          61,
          62,
          63,
          64,
          65,
          66,
          67,
          68,
          69,
          70,
          71,
          72,
          73,
          74,
          75,
          76,
          77,
          78,
          79,
          80,
          81,
          82,
          83,
          84,
          85,
          86,
          87,
          88,
          89,
          90,
          91,
          92,
          93,
          94,
          95,
          96,
          97,
          98,
          99,
          100,
          101,
          102,
          103,
          104,
          105,
          106,
          107,
          108,
          109,
          110,
          111,
          112,
          113,
          114,
          115,
          116,
          117,
          118,
          119,
          120,
          121,
          122,
          123,
          124,
          125,
          126,
          127,
          128,
          129,
          130,
          131,
          132,
          133,
          134,
          135,
          136,
          137,
          138,
          139,
          140,
          141,
          142,
          143,
          144,
          145,
          146,
          147,
          148,
          149,
          150,
          151,
          152,
          153,
          154,
          155,
          156,
          157,
          158,
          159,
          160,
          161,
          162,
          163,
          164,
          165,
          166,
          167,
          168,
          169,
          170,
          171,
          172,
          173,
          174,
          175,
          176,
          177,
          178,
          179,
          180,
          181,
          182,
          183,
          184,
          185,
          186,
          187,
          188,
          189,
          190,
          191,
          192,
          193,
          194,
          195,
          196,
          197,
          198,
          199,
          200,
          201,
          202,
          203,
          204,
          205,
          206,
          207,
          208,
          209,
          210,
          211,
          212,
          213,
          214,
          215,
          216,
          217,
          218,
          219,
          220,
          221,
          222,
          223,
          224,
          225,
          226,
          227,
          228,
          229,
          230,
          231,
          232,
          233,
          234,
          235,
          236,
          237,
          238,
          239,
          240,
          241,
          242,
          243,
          244,
          245,
          246,
          247,
          248,
          249,
          250
         ],
         "y": [
          null,
          null,
          null,
          null,
          null,
          null,
          null,
          null,
          null,
          null,
          null,
          null,
          null,
          null,
          null,
          null,
          null,
          null,
          null,
          null,
          null,
          null,
          null,
          null,
          null,
          null,
          null,
          null,
          null,
          null,
          null,
          null,
          null,
          0.5770168001955653,
          0.9909015115925683,
          1.5652593892943685,
          1.7960304927229913,
          2.8175921383383127,
          3.9586307075480818,
          5.160925912370118,
          5.908208355954571,
          7.884319833353118,
          9.862868061215465,
          12.697797019984591,
          14.308268117939576,
          14.271771411195687,
          12.465348680565228,
          10.034289910695009,
          8.45202855538622,
          5.953053931408363,
          5.2943662193188175,
          5.216161798532596,
          4.268595793826876,
          4.939816461239332,
          4.5271201007369655,
          3.5816194407367448,
          1.1774680876694674,
          0.5137136825401285,
          -1.1648176161860988,
          -4.8477849413851,
          -5.739486059510426,
          -9.886030363660922,
          -11.370641553906097,
          -13.547697264771841,
          -14.294892636063508,
          -15.289220002310259,
          -15.343733237446884,
          -12.318036076410493,
          -10.089531862109254,
          -7.306552913533068,
          -5.40093188695127,
          -2.8253548359822105,
          -0.9333709313644363,
          -1.0713574339995944,
          -0.18197228296992307,
          -0.40183809928751657,
          1.3772106638435275,
          2.010346362270525,
          3.113252967272672,
          3.623716322448871,
          4.531179513880517,
          6.312197447816175,
          7.388156448719826,
          9.249796007854798,
          10.413481969183977,
          10.787054450874336,
          9.56065791814143,
          9.815448276298412,
          9.732827585071448,
          10.001421993300426,
          10.694222701766876,
          10.659659793105504,
          11.07647020195725,
          10.78464453090072,
          9.676522260449872,
          9.37581608483265,
          9.228497367331727,
          9.330479598915758,
          9.86797800964797,
          10.784393749976005,
          12.185603341701608,
          12.306519797622116,
          12.189309162801862,
          12.756789011448575,
          14.522650055624297,
          16.567592578861763,
          18.157005542742354,
          19.719570273597924,
          20.09842957048943,
          20.966115395332963,
          20.42381300005718,
          19.152681217516488,
          17.816609339293905,
          17.80496668611306,
          17.37222782667891,
          16.895764240608628,
          16.15223432705642,
          15.388812026587232,
          15.1047777540291,
          14.34340997889069,
          14.351916974681501,
          15.217814422834124,
          13.903613739362413,
          13.149989726330318,
          13.178984951058624,
          12.715889303403799,
          12.742280427597677,
          12.560345786127016,
          12.412583137889044,
          13.001999486119303,
          13.070875519688855,
          12.291869260898807,
          12.353028083454262,
          11.191891514798442,
          10.298125420732788,
          10.430019379251348,
          10.517337260544707,
          10.728179187694707,
          11.494995574343136,
          12.068419830568416,
          13.477939968030114,
          15.363025264850307,
          16.56999935108945,
          15.965121001639261,
          16.34488337719455,
          15.978607804656122,
          15.214570463034818,
          14.655441338639775,
          15.036544938308964,
          14.58259010418874,
          14.412324371467264,
          13.129294655847502,
          12.18093403425513,
          12.022996031034495,
          11.105315915690767,
          11.057020955877647,
          11.366738447645275,
          11.482252056552113,
          12.703141591997792,
          14.208512565747412,
          15.414164399565834,
          16.338566739647604,
          16.442918141113466,
          16.227271365409024,
          14.86886168864686,
          15.517430126573117,
          15.857502199236308,
          16.32909494933847,
          18.97757292080604,
          20.593157880582453,
          21.23439737855648,
          21.50278073314746,
          23.19802927270598,
          24.379042213472587,
          25.121388621326673,
          25.49006283295995,
          25.026817200664937,
          26.03534556779192,
          27.251903285986998,
          29.331558165244644,
          32.30296235702991,
          30.017055272012044,
          26.630381435869822,
          21.410260872582455,
          19.634764701135794,
          16.733604897620125,
          13.800200385142375,
          13.602365869754124,
          13.671159815638646,
          12.049251990911557,
          10.478526099014687,
          8.253645546207622,
          7.462746653448221,
          7.142440883109998,
          5.170464880855661,
          4.281890432511545,
          5.214027105403375,
          6.3992943361263315,
          7.863477154905979,
          9.893146181604777,
          11.638560237279535,
          11.1117705882358,
          12.423375045145178,
          13.609264562342219,
          15.108998593941578,
          15.712279567211453,
          15.763445970397584,
          17.10162894723271,
          18.026151377820042,
          18.057007454848417,
          17.47586256628483,
          16.315793203722478,
          14.22012069285529,
          12.887478730706675,
          11.311331669654692,
          9.42520423661199,
          8.571353672105602,
          6.3724185453227165,
          5.392015675956031,
          2.1069888472326284,
          0.775647108138287,
          -1.8393392708994725,
          -3.7180246315909926,
          -3.747970902899283,
          -1.257315593289377,
          1.8751011033166378,
          5.590256786482655,
          5.466656030675949,
          2.5617783634163516,
          2.323762860071497,
          2.234413514414996,
          1.6293532498906416,
          1.8329392509019726,
          1.6748936005838004,
          1.5527182048914483,
          1.475984249007297,
          0.2745914400361471,
          -0.5031277498851523,
          -1.6880845435173342,
          -1.7136189862742413,
          -1.6295623176904428,
          -1.0977467073957996,
          -0.7052592929313732,
          0.10313190192641741,
          0.2742314478100525,
          0.9228786696713769,
          1.5753189528551275,
          1.249276948710758,
          -0.35818517018697094,
          -1.4810865523821803,
          -2.2131467344132716
         ]
        },
        {
         "name": "MACD Signal",
         "type": "scatter",
         "x": [
          0,
          1,
          2,
          3,
          4,
          5,
          6,
          7,
          8,
          9,
          10,
          11,
          12,
          13,
          14,
          15,
          16,
          17,
          18,
          19,
          20,
          21,
          22,
          23,
          24,
          25,
          26,
          27,
          28,
          29,
          30,
          31,
          32,
          33,
          34,
          35,
          36,
          37,
          38,
          39,
          40,
          41,
          42,
          43,
          44,
          45,
          46,
          47,
          48,
          49,
          50,
          51,
          52,
          53,
          54,
          55,
          56,
          57,
          58,
          59,
          60,
          61,
          62,
          63,
          64,
          65,
          66,
          67,
          68,
          69,
          70,
          71,
          72,
          73,
          74,
          75,
          76,
          77,
          78,
          79,
          80,
          81,
          82,
          83,
          84,
          85,
          86,
          87,
          88,
          89,
          90,
          91,
          92,
          93,
          94,
          95,
          96,
          97,
          98,
          99,
          100,
          101,
          102,
          103,
          104,
          105,
          106,
          107,
          108,
          109,
          110,
          111,
          112,
          113,
          114,
          115,
          116,
          117,
          118,
          119,
          120,
          121,
          122,
          123,
          124,
          125,
          126,
          127,
          128,
          129,
          130,
          131,
          132,
          133,
          134,
          135,
          136,
          137,
          138,
          139,
          140,
          141,
          142,
          143,
          144,
          145,
          146,
          147,
          148,
          149,
          150,
          151,
          152,
          153,
          154,
          155,
          156,
          157,
          158,
          159,
          160,
          161,
          162,
          163,
          164,
          165,
          166,
          167,
          168,
          169,
          170,
          171,
          172,
          173,
          174,
          175,
          176,
          177,
          178,
          179,
          180,
          181,
          182,
          183,
          184,
          185,
          186,
          187,
          188,
          189,
          190,
          191,
          192,
          193,
          194,
          195,
          196,
          197,
          198,
          199,
          200,
          201,
          202,
          203,
          204,
          205,
          206,
          207,
          208,
          209,
          210,
          211,
          212,
          213,
          214,
          215,
          216,
          217,
          218,
          219,
          220,
          221,
          222,
          223,
          224,
          225,
          226,
          227,
          228,
          229,
          230,
          231,
          232,
          233,
          234,
          235,
          236,
          237,
          238,
          239,
          240,
          241,
          242,
          243,
          244,
          245,
          246,
          247,
          248,
          249,
          250
         ],
         "y": [
          null,
          null,
          null,
          null,
          null,
          null,
          null,
          null,
          null,
          null,
          null,
          null,
          null,
          null,
          null,
          null,
          null,
          null,
          null,
          null,
          null,
          null,
          null,
          null,
          null,
          null,
          null,
          null,
          null,
          null,
          null,
          null,
          null,
          1.2374991035055096,
          1.1822469279464458,
          1.266047865980651,
          1.37986590759175,
          1.6841387289987213,
          2.159964147945529,
          2.7820439894426428,
          3.4253853110980232,
          4.337716078059677,
          5.463018114009976,
          6.931131640909481,
          8.423767860274104,
          9.604256657823557,
          10.180728675079079,
          10.15126701123493,
          9.809806819902407,
          9.03553111127968,
          8.285029882103498,
          7.669768655022866,
          6.988215767771138,
          6.577900975076543,
          6.167236422115803,
          5.649600383938042,
          4.754464725149859,
          3.9057765966201448,
          2.891143273842644,
          1.3427295195570887,
          -0.07417340754499134,
          -2.03705439180659,
          -3.9041596068081876,
          -5.833187653161401,
          -7.52575363034998,
          -9.078612032971018,
          -10.33174287844873,
          -10.729028555903216,
          -10.601122253262918,
          -9.942179684320209,
          -9.033898475865486,
          -7.792155133136471,
          -6.42036770090007,
          -5.350546561273061,
          -4.3168169517304325,
          -3.5338122409085146,
          -2.551598688041133,
          -1.6392030106399194,
          -0.6887062584471629,
          0.17378229142301277,
          1.0452649965184182,
          2.0986546397368193,
          3.156557534707591,
          4.375207563806701,
          5.582864295610713,
          6.623703602728715,
          7.211095041923104,
          7.731966097493241,
          8.132138646201263,
          8.505995503360097,
          8.9436411188588,
          9.286844964009603,
          9.644770103625296,
          9.872745035972105,
          9.833500474409949,
          9.74196358444454,
          9.639270330207115,
          9.577512178745728,
          9.635605348841647,
          9.865363041457028,
          10.329411121523083,
          10.724832870388394,
          11.017728136957043,
          11.365540319536986,
          11.996962277910708,
          12.911088351021885,
          13.960271801229954,
          15.112131506123568,
          16.109391126213914,
          17.080735985661427,
          17.749351391637394,
          18.030017357853175,
          17.987335754014804,
          17.950861940347963,
          17.835135117394604,
          17.647260941752272,
          17.34825561845006,
          16.95636689969684,
          16.58604907027553,
          16.13752125171973,
          15.78040039613448,
          15.667883201429643,
          15.315029308903888,
          14.882021392278917,
          14.541414103965476,
          14.17630914379364,
          13.889503400517057,
          13.623671877611322,
          13.381454129646656,
          13.30556320093612,
          13.258625664684162,
          13.065274383918833,
          12.922825123821049,
          12.576638402007063,
          12.12093580574224,
          11.782752520438143,
          11.529669468455912,
          11.369371412301875,
          11.394496244710353,
          11.529280961882932,
          11.919012763114605,
          12.607815263464904,
          13.400252080992722,
          13.913225865123534,
          14.39955736753888,
          14.715367454962925,
          14.815208056577454,
          14.78325471298988,
          14.833912758053746,
          14.783648227280707,
          14.709383456117973,
          14.393365696063725,
          13.95087936370183,
          13.565302697168239,
          13.07330534087262,
          12.670048463873545,
          12.40938646062785,
          12.22395957981268,
          12.319795982249712,
          12.697539298949282,
          13.240864319072628,
          13.860404803187652,
          14.376907470772835,
          14.746980249700082,
          14.771356537489437,
          14.920571255306173,
          15.107957444092204,
          15.35218494514146,
          16.077262540274383,
          16.980441608336005,
          17.831232762380107,
          18.565542356533584,
          19.492039739768067,
          20.469440234508976,
          21.39982991187252,
          22.217876496090007,
          22.779664637004995,
          23.430800823162382,
          24.195021315727306,
          25.22232868563077,
          26.638455419910603,
          27.31417539033089,
          27.17741659943868,
          26.02398545406744,
          24.746141303481114,
          23.14363402230892,
          21.274947294875613,
          19.740431009851317,
          18.526576771008784,
          17.23111181498934,
          15.880594671794409,
          14.355204846677054,
          12.976713208031287,
          11.80985874304703,
          10.481979970608757,
          9.241962062989314,
          8.436375071472126,
          8.028958924402968,
          7.99586257050357,
          8.375319292723812,
          9.027967481634958,
          9.444728102955127,
          10.040457491393138,
          10.754218905582954,
          11.62517484325468,
          12.442595788046036,
          13.10676582451635,
          13.905738449059623,
          14.729821034811708,
          15.395258318819051,
          15.81137916831221,
          15.912261975394264,
          15.57383371888647,
          15.036562721250514,
          14.29151651093135,
          13.31825405606748,
          12.368873979275104,
          11.169582892484629,
          10.01406944917891,
          8.432653328789653,
          6.9012520846593794,
          5.153133813547608,
          3.378902124519888,
          1.9535275190360533,
          1.311358896570967,
          1.4241073379201012,
          2.2573372276326125,
          2.8992009882412804,
          2.831716463276295,
          2.7301257426353356,
          2.630983296991268,
          2.430657287571143,
          2.311113680237309,
          2.183869664306607,
          2.0576393724235755,
          1.94130834774032,
          1.6079649661994855,
          1.185746422982558,
          0.6109802296825795,
          0.1460603864912152,
          -0.20906415434511655,
          -0.3868006649552532,
          -0.4504923905504773,
          -0.33976753205509835,
          -0.21696773608206818,
          0.011001545068620904,
          0.3238650266259223,
          0.5089474110428895,
          0.3355208947969174,
          -0.027800594638902262,
          -0.4648698225937763
         ]
        },
        {
         "marker": {
          "color": "rgba(0, 255, 0, 1)"
         },
         "name": "Start Buy",
         "type": "scatter",
         "x": [
          37,
          37
         ],
         "xaxis": "x",
         "y": [
          0,
          1
         ],
         "yaxis": "y2"
        },
        {
         "marker": {
          "color": "rgba(255, 255, 0, 1)"
         },
         "name": "Start Sell Reversal",
         "type": "scatter",
         "x": [
          47,
          47
         ],
         "xaxis": "x",
         "y": [
          0,
          1
         ],
         "yaxis": "y2"
        },
        {
         "marker": {
          "color": "rgba(0, 255, 255, 1)"
         },
         "name": "Start Buy Reversal",
         "type": "scatter",
         "x": [
          68,
          68
         ],
         "xaxis": "x",
         "y": [
          0,
          1
         ],
         "yaxis": "y2"
        },
        {
         "marker": {
          "color": "rgba(0, 255, 0, 0.1)"
         },
         "name": "Close Buy",
         "type": "scatter",
         "x": [
          94,
          94
         ],
         "xaxis": "x",
         "y": [
          0,
          1
         ],
         "yaxis": "y2"
        },
        {
         "marker": {
          "color": "rgba(0, 255, 0, 1)"
         },
         "name": "Start Buy",
         "type": "scatter",
         "x": [
          98,
          98
         ],
         "xaxis": "x",
         "y": [
          0,
          1
         ],
         "yaxis": "y2"
        },
        {
         "marker": {
          "color": "rgba(0, 255, 0, 0.1)"
         },
         "name": "Close Buy",
         "type": "scatter",
         "x": [
          112,
          112
         ],
         "xaxis": "x",
         "y": [
          0,
          1
         ],
         "yaxis": "y2"
        },
        {
         "marker": {
          "color": "rgba(0, 255, 0, 1)"
         },
         "name": "Start Buy",
         "type": "scatter",
         "x": [
          138,
          138
         ],
         "xaxis": "x",
         "y": [
          0,
          1
         ],
         "yaxis": "y2"
        },
        {
         "marker": {
          "color": "rgba(0, 255, 0, 0.1)"
         },
         "name": "Close Buy",
         "type": "scatter",
         "x": [
          147,
          147
         ],
         "xaxis": "x",
         "y": [
          0,
          1
         ],
         "yaxis": "y2"
        },
        {
         "marker": {
          "color": "rgba(0, 255, 0, 1)"
         },
         "name": "Start Buy",
         "type": "scatter",
         "x": [
          158,
          158
         ],
         "xaxis": "x",
         "y": [
          0,
          1
         ],
         "yaxis": "y2"
        },
        {
         "marker": {
          "color": "rgba(255, 255, 0, 1)"
         },
         "name": "Start Sell Reversal",
         "type": "scatter",
         "x": [
          182,
          182
         ],
         "xaxis": "x",
         "y": [
          0,
          1
         ],
         "yaxis": "y2"
        },
        {
         "marker": {
          "color": "rgba(0, 255, 255, 1)"
         },
         "name": "Start Buy Reversal",
         "type": "scatter",
         "x": [
          199,
          199
         ],
         "xaxis": "x",
         "y": [
          0,
          1
         ],
         "yaxis": "y2"
        },
        {
         "marker": {
          "color": "rgba(0, 255, 0, 0.1)"
         },
         "name": "Close Buy",
         "type": "scatter",
         "x": [
          212,
          212
         ],
         "xaxis": "x",
         "y": [
          0,
          1
         ],
         "yaxis": "y2"
        },
        {
         "marker": {
          "color": "rgba(255, 0, 0, 1)"
         },
         "name": "Start Sell",
         "type": "scatter",
         "x": [
          220,
          220
         ],
         "xaxis": "x",
         "y": [
          0,
          1
         ],
         "yaxis": "y2"
        },
        {
         "marker": {
          "color": "rgba(0, 255, 255, 1)"
         },
         "name": "Start Buy Reversal",
         "type": "scatter",
         "x": [
          225,
          225
         ],
         "xaxis": "x",
         "y": [
          0,
          1
         ],
         "yaxis": "y2"
        },
        {
         "marker": {
          "color": "rgba(255, 255, 0, 1)"
         },
         "name": "Start Sell Reversal",
         "type": "scatter",
         "x": [
          228,
          228
         ],
         "xaxis": "x",
         "y": [
          0,
          1
         ],
         "yaxis": "y2"
        },
        {
         "marker": {
          "color": "rgba(255, 0, 0, 0.1)"
         },
         "name": "Close Sell",
         "type": "scatter",
         "x": [
          243,
          243
         ],
         "xaxis": "x",
         "y": [
          0,
          1
         ],
         "yaxis": "y2"
        },
        {
         "marker": {
          "color": "rgba(255, 0, 0, 1)"
         },
         "name": "Start Sell",
         "type": "scatter",
         "x": [
          248,
          248
         ],
         "xaxis": "x",
         "y": [
          0,
          1
         ],
         "yaxis": "y2"
        }
       ],
       "layout": {
        "template": {
         "data": {
          "bar": [
           {
            "error_x": {
             "color": "#2a3f5f"
            },
            "error_y": {
             "color": "#2a3f5f"
            },
            "marker": {
             "line": {
              "color": "#E5ECF6",
              "width": 0.5
             }
            },
            "type": "bar"
           }
          ],
          "barpolar": [
           {
            "marker": {
             "line": {
              "color": "#E5ECF6",
              "width": 0.5
             }
            },
            "type": "barpolar"
           }
          ],
          "carpet": [
           {
            "aaxis": {
             "endlinecolor": "#2a3f5f",
             "gridcolor": "white",
             "linecolor": "white",
             "minorgridcolor": "white",
             "startlinecolor": "#2a3f5f"
            },
            "baxis": {
             "endlinecolor": "#2a3f5f",
             "gridcolor": "white",
             "linecolor": "white",
             "minorgridcolor": "white",
             "startlinecolor": "#2a3f5f"
            },
            "type": "carpet"
           }
          ],
          "choropleth": [
           {
            "colorbar": {
             "outlinewidth": 0,
             "ticks": ""
            },
            "type": "choropleth"
           }
          ],
          "contour": [
           {
            "colorbar": {
             "outlinewidth": 0,
             "ticks": ""
            },
            "colorscale": [
             [
              0,
              "#0d0887"
             ],
             [
              0.1111111111111111,
              "#46039f"
             ],
             [
              0.2222222222222222,
              "#7201a8"
             ],
             [
              0.3333333333333333,
              "#9c179e"
             ],
             [
              0.4444444444444444,
              "#bd3786"
             ],
             [
              0.5555555555555556,
              "#d8576b"
             ],
             [
              0.6666666666666666,
              "#ed7953"
             ],
             [
              0.7777777777777778,
              "#fb9f3a"
             ],
             [
              0.8888888888888888,
              "#fdca26"
             ],
             [
              1,
              "#f0f921"
             ]
            ],
            "type": "contour"
           }
          ],
          "contourcarpet": [
           {
            "colorbar": {
             "outlinewidth": 0,
             "ticks": ""
            },
            "type": "contourcarpet"
           }
          ],
          "heatmap": [
           {
            "colorbar": {
             "outlinewidth": 0,
             "ticks": ""
            },
            "colorscale": [
             [
              0,
              "#0d0887"
             ],
             [
              0.1111111111111111,
              "#46039f"
             ],
             [
              0.2222222222222222,
              "#7201a8"
             ],
             [
              0.3333333333333333,
              "#9c179e"
             ],
             [
              0.4444444444444444,
              "#bd3786"
             ],
             [
              0.5555555555555556,
              "#d8576b"
             ],
             [
              0.6666666666666666,
              "#ed7953"
             ],
             [
              0.7777777777777778,
              "#fb9f3a"
             ],
             [
              0.8888888888888888,
              "#fdca26"
             ],
             [
              1,
              "#f0f921"
             ]
            ],
            "type": "heatmap"
           }
          ],
          "heatmapgl": [
           {
            "colorbar": {
             "outlinewidth": 0,
             "ticks": ""
            },
            "colorscale": [
             [
              0,
              "#0d0887"
             ],
             [
              0.1111111111111111,
              "#46039f"
             ],
             [
              0.2222222222222222,
              "#7201a8"
             ],
             [
              0.3333333333333333,
              "#9c179e"
             ],
             [
              0.4444444444444444,
              "#bd3786"
             ],
             [
              0.5555555555555556,
              "#d8576b"
             ],
             [
              0.6666666666666666,
              "#ed7953"
             ],
             [
              0.7777777777777778,
              "#fb9f3a"
             ],
             [
              0.8888888888888888,
              "#fdca26"
             ],
             [
              1,
              "#f0f921"
             ]
            ],
            "type": "heatmapgl"
           }
          ],
          "histogram": [
           {
            "marker": {
             "colorbar": {
              "outlinewidth": 0,
              "ticks": ""
             }
            },
            "type": "histogram"
           }
          ],
          "histogram2d": [
           {
            "colorbar": {
             "outlinewidth": 0,
             "ticks": ""
            },
            "colorscale": [
             [
              0,
              "#0d0887"
             ],
             [
              0.1111111111111111,
              "#46039f"
             ],
             [
              0.2222222222222222,
              "#7201a8"
             ],
             [
              0.3333333333333333,
              "#9c179e"
             ],
             [
              0.4444444444444444,
              "#bd3786"
             ],
             [
              0.5555555555555556,
              "#d8576b"
             ],
             [
              0.6666666666666666,
              "#ed7953"
             ],
             [
              0.7777777777777778,
              "#fb9f3a"
             ],
             [
              0.8888888888888888,
              "#fdca26"
             ],
             [
              1,
              "#f0f921"
             ]
            ],
            "type": "histogram2d"
           }
          ],
          "histogram2dcontour": [
           {
            "colorbar": {
             "outlinewidth": 0,
             "ticks": ""
            },
            "colorscale": [
             [
              0,
              "#0d0887"
             ],
             [
              0.1111111111111111,
              "#46039f"
             ],
             [
              0.2222222222222222,
              "#7201a8"
             ],
             [
              0.3333333333333333,
              "#9c179e"
             ],
             [
              0.4444444444444444,
              "#bd3786"
             ],
             [
              0.5555555555555556,
              "#d8576b"
             ],
             [
              0.6666666666666666,
              "#ed7953"
             ],
             [
              0.7777777777777778,
              "#fb9f3a"
             ],
             [
              0.8888888888888888,
              "#fdca26"
             ],
             [
              1,
              "#f0f921"
             ]
            ],
            "type": "histogram2dcontour"
           }
          ],
          "mesh3d": [
           {
            "colorbar": {
             "outlinewidth": 0,
             "ticks": ""
            },
            "type": "mesh3d"
           }
          ],
          "parcoords": [
           {
            "line": {
             "colorbar": {
              "outlinewidth": 0,
              "ticks": ""
             }
            },
            "type": "parcoords"
           }
          ],
          "pie": [
           {
            "automargin": true,
            "type": "pie"
           }
          ],
          "scatter": [
           {
            "marker": {
             "colorbar": {
              "outlinewidth": 0,
              "ticks": ""
             }
            },
            "type": "scatter"
           }
          ],
          "scatter3d": [
           {
            "line": {
             "colorbar": {
              "outlinewidth": 0,
              "ticks": ""
             }
            },
            "marker": {
             "colorbar": {
              "outlinewidth": 0,
              "ticks": ""
             }
            },
            "type": "scatter3d"
           }
          ],
          "scattercarpet": [
           {
            "marker": {
             "colorbar": {
              "outlinewidth": 0,
              "ticks": ""
             }
            },
            "type": "scattercarpet"
           }
          ],
          "scattergeo": [
           {
            "marker": {
             "colorbar": {
              "outlinewidth": 0,
              "ticks": ""
             }
            },
            "type": "scattergeo"
           }
          ],
          "scattergl": [
           {
            "marker": {
             "colorbar": {
              "outlinewidth": 0,
              "ticks": ""
             }
            },
            "type": "scattergl"
           }
          ],
          "scattermapbox": [
           {
            "marker": {
             "colorbar": {
              "outlinewidth": 0,
              "ticks": ""
             }
            },
            "type": "scattermapbox"
           }
          ],
          "scatterpolar": [
           {
            "marker": {
             "colorbar": {
              "outlinewidth": 0,
              "ticks": ""
             }
            },
            "type": "scatterpolar"
           }
          ],
          "scatterpolargl": [
           {
            "marker": {
             "colorbar": {
              "outlinewidth": 0,
              "ticks": ""
             }
            },
            "type": "scatterpolargl"
           }
          ],
          "scatterternary": [
           {
            "marker": {
             "colorbar": {
              "outlinewidth": 0,
              "ticks": ""
             }
            },
            "type": "scatterternary"
           }
          ],
          "surface": [
           {
            "colorbar": {
             "outlinewidth": 0,
             "ticks": ""
            },
            "colorscale": [
             [
              0,
              "#0d0887"
             ],
             [
              0.1111111111111111,
              "#46039f"
             ],
             [
              0.2222222222222222,
              "#7201a8"
             ],
             [
              0.3333333333333333,
              "#9c179e"
             ],
             [
              0.4444444444444444,
              "#bd3786"
             ],
             [
              0.5555555555555556,
              "#d8576b"
             ],
             [
              0.6666666666666666,
              "#ed7953"
             ],
             [
              0.7777777777777778,
              "#fb9f3a"
             ],
             [
              0.8888888888888888,
              "#fdca26"
             ],
             [
              1,
              "#f0f921"
             ]
            ],
            "type": "surface"
           }
          ],
          "table": [
           {
            "cells": {
             "fill": {
              "color": "#EBF0F8"
             },
             "line": {
              "color": "white"
             }
            },
            "header": {
             "fill": {
              "color": "#C8D4E3"
             },
             "line": {
              "color": "white"
             }
            },
            "type": "table"
           }
          ]
         },
         "layout": {
          "annotationdefaults": {
           "arrowcolor": "#2a3f5f",
           "arrowhead": 0,
           "arrowwidth": 1
          },
          "coloraxis": {
           "colorbar": {
            "outlinewidth": 0,
            "ticks": ""
           }
          },
          "colorscale": {
           "diverging": [
            [
             0,
             "#8e0152"
            ],
            [
             0.1,
             "#c51b7d"
            ],
            [
             0.2,
             "#de77ae"
            ],
            [
             0.3,
             "#f1b6da"
            ],
            [
             0.4,
             "#fde0ef"
            ],
            [
             0.5,
             "#f7f7f7"
            ],
            [
             0.6,
             "#e6f5d0"
            ],
            [
             0.7,
             "#b8e186"
            ],
            [
             0.8,
             "#7fbc41"
            ],
            [
             0.9,
             "#4d9221"
            ],
            [
             1,
             "#276419"
            ]
           ],
           "sequential": [
            [
             0,
             "#0d0887"
            ],
            [
             0.1111111111111111,
             "#46039f"
            ],
            [
             0.2222222222222222,
             "#7201a8"
            ],
            [
             0.3333333333333333,
             "#9c179e"
            ],
            [
             0.4444444444444444,
             "#bd3786"
            ],
            [
             0.5555555555555556,
             "#d8576b"
            ],
            [
             0.6666666666666666,
             "#ed7953"
            ],
            [
             0.7777777777777778,
             "#fb9f3a"
            ],
            [
             0.8888888888888888,
             "#fdca26"
            ],
            [
             1,
             "#f0f921"
            ]
           ],
           "sequentialminus": [
            [
             0,
             "#0d0887"
            ],
            [
             0.1111111111111111,
             "#46039f"
            ],
            [
             0.2222222222222222,
             "#7201a8"
            ],
            [
             0.3333333333333333,
             "#9c179e"
            ],
            [
             0.4444444444444444,
             "#bd3786"
            ],
            [
             0.5555555555555556,
             "#d8576b"
            ],
            [
             0.6666666666666666,
             "#ed7953"
            ],
            [
             0.7777777777777778,
             "#fb9f3a"
            ],
            [
             0.8888888888888888,
             "#fdca26"
            ],
            [
             1,
             "#f0f921"
            ]
           ]
          },
          "colorway": [
           "#636efa",
           "#EF553B",
           "#00cc96",
           "#ab63fa",
           "#FFA15A",
           "#19d3f3",
           "#FF6692",
           "#B6E880",
           "#FF97FF",
           "#FECB52"
          ],
          "font": {
           "color": "#2a3f5f"
          },
          "geo": {
           "bgcolor": "white",
           "lakecolor": "white",
           "landcolor": "#E5ECF6",
           "showlakes": true,
           "showland": true,
           "subunitcolor": "white"
          },
          "hoverlabel": {
           "align": "left"
          },
          "hovermode": "closest",
          "mapbox": {
           "style": "light"
          },
          "paper_bgcolor": "white",
          "plot_bgcolor": "#E5ECF6",
          "polar": {
           "angularaxis": {
            "gridcolor": "white",
            "linecolor": "white",
            "ticks": ""
           },
           "bgcolor": "#E5ECF6",
           "radialaxis": {
            "gridcolor": "white",
            "linecolor": "white",
            "ticks": ""
           }
          },
          "scene": {
           "xaxis": {
            "backgroundcolor": "#E5ECF6",
            "gridcolor": "white",
            "gridwidth": 2,
            "linecolor": "white",
            "showbackground": true,
            "ticks": "",
            "zerolinecolor": "white"
           },
           "yaxis": {
            "backgroundcolor": "#E5ECF6",
            "gridcolor": "white",
            "gridwidth": 2,
            "linecolor": "white",
            "showbackground": true,
            "ticks": "",
            "zerolinecolor": "white"
           },
           "zaxis": {
            "backgroundcolor": "#E5ECF6",
            "gridcolor": "white",
            "gridwidth": 2,
            "linecolor": "white",
            "showbackground": true,
            "ticks": "",
            "zerolinecolor": "white"
           }
          },
          "shapedefaults": {
           "line": {
            "color": "#2a3f5f"
           }
          },
          "ternary": {
           "aaxis": {
            "gridcolor": "white",
            "linecolor": "white",
            "ticks": ""
           },
           "baxis": {
            "gridcolor": "white",
            "linecolor": "white",
            "ticks": ""
           },
           "bgcolor": "#E5ECF6",
           "caxis": {
            "gridcolor": "white",
            "linecolor": "white",
            "ticks": ""
           }
          },
          "title": {
           "x": 0.05
          },
          "xaxis": {
           "automargin": true,
           "gridcolor": "white",
           "linecolor": "white",
           "ticks": "",
           "title": {
            "standoff": 15
           },
           "zerolinecolor": "white",
           "zerolinewidth": 2
          },
          "yaxis": {
           "automargin": true,
           "gridcolor": "white",
           "linecolor": "white",
           "ticks": "",
           "title": {
            "standoff": 15
           },
           "zerolinecolor": "white",
           "zerolinewidth": 2
          }
         }
        },
        "title": {
         "text": "S3 Signals Backtested 2020-12-13 23:27:55.426504 MACD of NVDA"
        },
        "xaxis": {
         "anchor": "y",
         "domain": [
          0,
          0.94
         ],
         "title": {
          "text": "Date"
         }
        },
        "yaxis": {
         "anchor": "x",
         "domain": [
          0,
          1
         ],
         "title": {
          "text": "MACD"
         }
        },
        "yaxis2": {
         "anchor": "x",
         "overlaying": "y",
         "side": "right",
         "title": {
          "text": "Reference"
         }
        }
       }
      },
      "text/html": [
       "<div>                            <div id=\"264ac725-59a6-4a24-b4f8-68cfbf547d73\" class=\"plotly-graph-div\" style=\"height:525px; width:100%;\"></div>            <script type=\"text/javascript\">                require([\"plotly\"], function(Plotly) {                    window.PLOTLYENV=window.PLOTLYENV || {};                                    if (document.getElementById(\"264ac725-59a6-4a24-b4f8-68cfbf547d73\")) {                    Plotly.newPlot(                        \"264ac725-59a6-4a24-b4f8-68cfbf547d73\",                        [{\"name\": \"MACD\", \"type\": \"scatter\", \"x\": [0, 1, 2, 3, 4, 5, 6, 7, 8, 9, 10, 11, 12, 13, 14, 15, 16, 17, 18, 19, 20, 21, 22, 23, 24, 25, 26, 27, 28, 29, 30, 31, 32, 33, 34, 35, 36, 37, 38, 39, 40, 41, 42, 43, 44, 45, 46, 47, 48, 49, 50, 51, 52, 53, 54, 55, 56, 57, 58, 59, 60, 61, 62, 63, 64, 65, 66, 67, 68, 69, 70, 71, 72, 73, 74, 75, 76, 77, 78, 79, 80, 81, 82, 83, 84, 85, 86, 87, 88, 89, 90, 91, 92, 93, 94, 95, 96, 97, 98, 99, 100, 101, 102, 103, 104, 105, 106, 107, 108, 109, 110, 111, 112, 113, 114, 115, 116, 117, 118, 119, 120, 121, 122, 123, 124, 125, 126, 127, 128, 129, 130, 131, 132, 133, 134, 135, 136, 137, 138, 139, 140, 141, 142, 143, 144, 145, 146, 147, 148, 149, 150, 151, 152, 153, 154, 155, 156, 157, 158, 159, 160, 161, 162, 163, 164, 165, 166, 167, 168, 169, 170, 171, 172, 173, 174, 175, 176, 177, 178, 179, 180, 181, 182, 183, 184, 185, 186, 187, 188, 189, 190, 191, 192, 193, 194, 195, 196, 197, 198, 199, 200, 201, 202, 203, 204, 205, 206, 207, 208, 209, 210, 211, 212, 213, 214, 215, 216, 217, 218, 219, 220, 221, 222, 223, 224, 225, 226, 227, 228, 229, 230, 231, 232, 233, 234, 235, 236, 237, 238, 239, 240, 241, 242, 243, 244, 245, 246, 247, 248, 249, 250], \"y\": [null, null, null, null, null, null, null, null, null, null, null, null, null, null, null, null, null, null, null, null, null, null, null, null, null, null, null, null, null, null, null, null, null, 0.5770168001955653, 0.9909015115925683, 1.5652593892943685, 1.7960304927229913, 2.8175921383383127, 3.9586307075480818, 5.160925912370118, 5.908208355954571, 7.884319833353118, 9.862868061215465, 12.697797019984591, 14.308268117939576, 14.271771411195687, 12.465348680565228, 10.034289910695009, 8.45202855538622, 5.953053931408363, 5.2943662193188175, 5.216161798532596, 4.268595793826876, 4.939816461239332, 4.5271201007369655, 3.5816194407367448, 1.1774680876694674, 0.5137136825401285, -1.1648176161860988, -4.8477849413851, -5.739486059510426, -9.886030363660922, -11.370641553906097, -13.547697264771841, -14.294892636063508, -15.289220002310259, -15.343733237446884, -12.318036076410493, -10.089531862109254, -7.306552913533068, -5.40093188695127, -2.8253548359822105, -0.9333709313644363, -1.0713574339995944, -0.18197228296992307, -0.40183809928751657, 1.3772106638435275, 2.010346362270525, 3.113252967272672, 3.623716322448871, 4.531179513880517, 6.312197447816175, 7.388156448719826, 9.249796007854798, 10.413481969183977, 10.787054450874336, 9.56065791814143, 9.815448276298412, 9.732827585071448, 10.001421993300426, 10.694222701766876, 10.659659793105504, 11.07647020195725, 10.78464453090072, 9.676522260449872, 9.37581608483265, 9.228497367331727, 9.330479598915758, 9.86797800964797, 10.784393749976005, 12.185603341701608, 12.306519797622116, 12.189309162801862, 12.756789011448575, 14.522650055624297, 16.567592578861763, 18.157005542742354, 19.719570273597924, 20.09842957048943, 20.966115395332963, 20.42381300005718, 19.152681217516488, 17.816609339293905, 17.80496668611306, 17.37222782667891, 16.895764240608628, 16.15223432705642, 15.388812026587232, 15.1047777540291, 14.34340997889069, 14.351916974681501, 15.217814422834124, 13.903613739362413, 13.149989726330318, 13.178984951058624, 12.715889303403799, 12.742280427597677, 12.560345786127016, 12.412583137889044, 13.001999486119303, 13.070875519688855, 12.291869260898807, 12.353028083454262, 11.191891514798442, 10.298125420732788, 10.430019379251348, 10.517337260544707, 10.728179187694707, 11.494995574343136, 12.068419830568416, 13.477939968030114, 15.363025264850307, 16.56999935108945, 15.965121001639261, 16.34488337719455, 15.978607804656122, 15.214570463034818, 14.655441338639775, 15.036544938308964, 14.58259010418874, 14.412324371467264, 13.129294655847502, 12.18093403425513, 12.022996031034495, 11.105315915690767, 11.057020955877647, 11.366738447645275, 11.482252056552113, 12.703141591997792, 14.208512565747412, 15.414164399565834, 16.338566739647604, 16.442918141113466, 16.227271365409024, 14.86886168864686, 15.517430126573117, 15.857502199236308, 16.32909494933847, 18.97757292080604, 20.593157880582453, 21.23439737855648, 21.50278073314746, 23.19802927270598, 24.379042213472587, 25.121388621326673, 25.49006283295995, 25.026817200664937, 26.03534556779192, 27.251903285986998, 29.331558165244644, 32.30296235702991, 30.017055272012044, 26.630381435869822, 21.410260872582455, 19.634764701135794, 16.733604897620125, 13.800200385142375, 13.602365869754124, 13.671159815638646, 12.049251990911557, 10.478526099014687, 8.253645546207622, 7.462746653448221, 7.142440883109998, 5.170464880855661, 4.281890432511545, 5.214027105403375, 6.3992943361263315, 7.863477154905979, 9.893146181604777, 11.638560237279535, 11.1117705882358, 12.423375045145178, 13.609264562342219, 15.108998593941578, 15.712279567211453, 15.763445970397584, 17.10162894723271, 18.026151377820042, 18.057007454848417, 17.47586256628483, 16.315793203722478, 14.22012069285529, 12.887478730706675, 11.311331669654692, 9.42520423661199, 8.571353672105602, 6.3724185453227165, 5.392015675956031, 2.1069888472326284, 0.775647108138287, -1.8393392708994725, -3.7180246315909926, -3.747970902899283, -1.257315593289377, 1.8751011033166378, 5.590256786482655, 5.466656030675949, 2.5617783634163516, 2.323762860071497, 2.234413514414996, 1.6293532498906416, 1.8329392509019726, 1.6748936005838004, 1.5527182048914483, 1.475984249007297, 0.2745914400361471, -0.5031277498851523, -1.6880845435173342, -1.7136189862742413, -1.6295623176904428, -1.0977467073957996, -0.7052592929313732, 0.10313190192641741, 0.2742314478100525, 0.9228786696713769, 1.5753189528551275, 1.249276948710758, -0.35818517018697094, -1.4810865523821803, -2.2131467344132716]}, {\"name\": \"MACD Signal\", \"type\": \"scatter\", \"x\": [0, 1, 2, 3, 4, 5, 6, 7, 8, 9, 10, 11, 12, 13, 14, 15, 16, 17, 18, 19, 20, 21, 22, 23, 24, 25, 26, 27, 28, 29, 30, 31, 32, 33, 34, 35, 36, 37, 38, 39, 40, 41, 42, 43, 44, 45, 46, 47, 48, 49, 50, 51, 52, 53, 54, 55, 56, 57, 58, 59, 60, 61, 62, 63, 64, 65, 66, 67, 68, 69, 70, 71, 72, 73, 74, 75, 76, 77, 78, 79, 80, 81, 82, 83, 84, 85, 86, 87, 88, 89, 90, 91, 92, 93, 94, 95, 96, 97, 98, 99, 100, 101, 102, 103, 104, 105, 106, 107, 108, 109, 110, 111, 112, 113, 114, 115, 116, 117, 118, 119, 120, 121, 122, 123, 124, 125, 126, 127, 128, 129, 130, 131, 132, 133, 134, 135, 136, 137, 138, 139, 140, 141, 142, 143, 144, 145, 146, 147, 148, 149, 150, 151, 152, 153, 154, 155, 156, 157, 158, 159, 160, 161, 162, 163, 164, 165, 166, 167, 168, 169, 170, 171, 172, 173, 174, 175, 176, 177, 178, 179, 180, 181, 182, 183, 184, 185, 186, 187, 188, 189, 190, 191, 192, 193, 194, 195, 196, 197, 198, 199, 200, 201, 202, 203, 204, 205, 206, 207, 208, 209, 210, 211, 212, 213, 214, 215, 216, 217, 218, 219, 220, 221, 222, 223, 224, 225, 226, 227, 228, 229, 230, 231, 232, 233, 234, 235, 236, 237, 238, 239, 240, 241, 242, 243, 244, 245, 246, 247, 248, 249, 250], \"y\": [null, null, null, null, null, null, null, null, null, null, null, null, null, null, null, null, null, null, null, null, null, null, null, null, null, null, null, null, null, null, null, null, null, 1.2374991035055096, 1.1822469279464458, 1.266047865980651, 1.37986590759175, 1.6841387289987213, 2.159964147945529, 2.7820439894426428, 3.4253853110980232, 4.337716078059677, 5.463018114009976, 6.931131640909481, 8.423767860274104, 9.604256657823557, 10.180728675079079, 10.15126701123493, 9.809806819902407, 9.03553111127968, 8.285029882103498, 7.669768655022866, 6.988215767771138, 6.577900975076543, 6.167236422115803, 5.649600383938042, 4.754464725149859, 3.9057765966201448, 2.891143273842644, 1.3427295195570887, -0.07417340754499134, -2.03705439180659, -3.9041596068081876, -5.833187653161401, -7.52575363034998, -9.078612032971018, -10.33174287844873, -10.729028555903216, -10.601122253262918, -9.942179684320209, -9.033898475865486, -7.792155133136471, -6.42036770090007, -5.350546561273061, -4.3168169517304325, -3.5338122409085146, -2.551598688041133, -1.6392030106399194, -0.6887062584471629, 0.17378229142301277, 1.0452649965184182, 2.0986546397368193, 3.156557534707591, 4.375207563806701, 5.582864295610713, 6.623703602728715, 7.211095041923104, 7.731966097493241, 8.132138646201263, 8.505995503360097, 8.9436411188588, 9.286844964009603, 9.644770103625296, 9.872745035972105, 9.833500474409949, 9.74196358444454, 9.639270330207115, 9.577512178745728, 9.635605348841647, 9.865363041457028, 10.329411121523083, 10.724832870388394, 11.017728136957043, 11.365540319536986, 11.996962277910708, 12.911088351021885, 13.960271801229954, 15.112131506123568, 16.109391126213914, 17.080735985661427, 17.749351391637394, 18.030017357853175, 17.987335754014804, 17.950861940347963, 17.835135117394604, 17.647260941752272, 17.34825561845006, 16.95636689969684, 16.58604907027553, 16.13752125171973, 15.78040039613448, 15.667883201429643, 15.315029308903888, 14.882021392278917, 14.541414103965476, 14.17630914379364, 13.889503400517057, 13.623671877611322, 13.381454129646656, 13.30556320093612, 13.258625664684162, 13.065274383918833, 12.922825123821049, 12.576638402007063, 12.12093580574224, 11.782752520438143, 11.529669468455912, 11.369371412301875, 11.394496244710353, 11.529280961882932, 11.919012763114605, 12.607815263464904, 13.400252080992722, 13.913225865123534, 14.39955736753888, 14.715367454962925, 14.815208056577454, 14.78325471298988, 14.833912758053746, 14.783648227280707, 14.709383456117973, 14.393365696063725, 13.95087936370183, 13.565302697168239, 13.07330534087262, 12.670048463873545, 12.40938646062785, 12.22395957981268, 12.319795982249712, 12.697539298949282, 13.240864319072628, 13.860404803187652, 14.376907470772835, 14.746980249700082, 14.771356537489437, 14.920571255306173, 15.107957444092204, 15.35218494514146, 16.077262540274383, 16.980441608336005, 17.831232762380107, 18.565542356533584, 19.492039739768067, 20.469440234508976, 21.39982991187252, 22.217876496090007, 22.779664637004995, 23.430800823162382, 24.195021315727306, 25.22232868563077, 26.638455419910603, 27.31417539033089, 27.17741659943868, 26.02398545406744, 24.746141303481114, 23.14363402230892, 21.274947294875613, 19.740431009851317, 18.526576771008784, 17.23111181498934, 15.880594671794409, 14.355204846677054, 12.976713208031287, 11.80985874304703, 10.481979970608757, 9.241962062989314, 8.436375071472126, 8.028958924402968, 7.99586257050357, 8.375319292723812, 9.027967481634958, 9.444728102955127, 10.040457491393138, 10.754218905582954, 11.62517484325468, 12.442595788046036, 13.10676582451635, 13.905738449059623, 14.729821034811708, 15.395258318819051, 15.81137916831221, 15.912261975394264, 15.57383371888647, 15.036562721250514, 14.29151651093135, 13.31825405606748, 12.368873979275104, 11.169582892484629, 10.01406944917891, 8.432653328789653, 6.9012520846593794, 5.153133813547608, 3.378902124519888, 1.9535275190360533, 1.311358896570967, 1.4241073379201012, 2.2573372276326125, 2.8992009882412804, 2.831716463276295, 2.7301257426353356, 2.630983296991268, 2.430657287571143, 2.311113680237309, 2.183869664306607, 2.0576393724235755, 1.94130834774032, 1.6079649661994855, 1.185746422982558, 0.6109802296825795, 0.1460603864912152, -0.20906415434511655, -0.3868006649552532, -0.4504923905504773, -0.33976753205509835, -0.21696773608206818, 0.011001545068620904, 0.3238650266259223, 0.5089474110428895, 0.3355208947969174, -0.027800594638902262, -0.4648698225937763]}, {\"marker\": {\"color\": \"rgba(0, 255, 0, 1)\"}, \"name\": \"Start Buy\", \"type\": \"scatter\", \"x\": [37, 37], \"xaxis\": \"x\", \"y\": [0, 1], \"yaxis\": \"y2\"}, {\"marker\": {\"color\": \"rgba(255, 255, 0, 1)\"}, \"name\": \"Start Sell Reversal\", \"type\": \"scatter\", \"x\": [47, 47], \"xaxis\": \"x\", \"y\": [0, 1], \"yaxis\": \"y2\"}, {\"marker\": {\"color\": \"rgba(0, 255, 255, 1)\"}, \"name\": \"Start Buy Reversal\", \"type\": \"scatter\", \"x\": [68, 68], \"xaxis\": \"x\", \"y\": [0, 1], \"yaxis\": \"y2\"}, {\"marker\": {\"color\": \"rgba(0, 255, 0, 0.1)\"}, \"name\": \"Close Buy\", \"type\": \"scatter\", \"x\": [94, 94], \"xaxis\": \"x\", \"y\": [0, 1], \"yaxis\": \"y2\"}, {\"marker\": {\"color\": \"rgba(0, 255, 0, 1)\"}, \"name\": \"Start Buy\", \"type\": \"scatter\", \"x\": [98, 98], \"xaxis\": \"x\", \"y\": [0, 1], \"yaxis\": \"y2\"}, {\"marker\": {\"color\": \"rgba(0, 255, 0, 0.1)\"}, \"name\": \"Close Buy\", \"type\": \"scatter\", \"x\": [112, 112], \"xaxis\": \"x\", \"y\": [0, 1], \"yaxis\": \"y2\"}, {\"marker\": {\"color\": \"rgba(0, 255, 0, 1)\"}, \"name\": \"Start Buy\", \"type\": \"scatter\", \"x\": [138, 138], \"xaxis\": \"x\", \"y\": [0, 1], \"yaxis\": \"y2\"}, {\"marker\": {\"color\": \"rgba(0, 255, 0, 0.1)\"}, \"name\": \"Close Buy\", \"type\": \"scatter\", \"x\": [147, 147], \"xaxis\": \"x\", \"y\": [0, 1], \"yaxis\": \"y2\"}, {\"marker\": {\"color\": \"rgba(0, 255, 0, 1)\"}, \"name\": \"Start Buy\", \"type\": \"scatter\", \"x\": [158, 158], \"xaxis\": \"x\", \"y\": [0, 1], \"yaxis\": \"y2\"}, {\"marker\": {\"color\": \"rgba(255, 255, 0, 1)\"}, \"name\": \"Start Sell Reversal\", \"type\": \"scatter\", \"x\": [182, 182], \"xaxis\": \"x\", \"y\": [0, 1], \"yaxis\": \"y2\"}, {\"marker\": {\"color\": \"rgba(0, 255, 255, 1)\"}, \"name\": \"Start Buy Reversal\", \"type\": \"scatter\", \"x\": [199, 199], \"xaxis\": \"x\", \"y\": [0, 1], \"yaxis\": \"y2\"}, {\"marker\": {\"color\": \"rgba(0, 255, 0, 0.1)\"}, \"name\": \"Close Buy\", \"type\": \"scatter\", \"x\": [212, 212], \"xaxis\": \"x\", \"y\": [0, 1], \"yaxis\": \"y2\"}, {\"marker\": {\"color\": \"rgba(255, 0, 0, 1)\"}, \"name\": \"Start Sell\", \"type\": \"scatter\", \"x\": [220, 220], \"xaxis\": \"x\", \"y\": [0, 1], \"yaxis\": \"y2\"}, {\"marker\": {\"color\": \"rgba(0, 255, 255, 1)\"}, \"name\": \"Start Buy Reversal\", \"type\": \"scatter\", \"x\": [225, 225], \"xaxis\": \"x\", \"y\": [0, 1], \"yaxis\": \"y2\"}, {\"marker\": {\"color\": \"rgba(255, 255, 0, 1)\"}, \"name\": \"Start Sell Reversal\", \"type\": \"scatter\", \"x\": [228, 228], \"xaxis\": \"x\", \"y\": [0, 1], \"yaxis\": \"y2\"}, {\"marker\": {\"color\": \"rgba(255, 0, 0, 0.1)\"}, \"name\": \"Close Sell\", \"type\": \"scatter\", \"x\": [243, 243], \"xaxis\": \"x\", \"y\": [0, 1], \"yaxis\": \"y2\"}, {\"marker\": {\"color\": \"rgba(255, 0, 0, 1)\"}, \"name\": \"Start Sell\", \"type\": \"scatter\", \"x\": [248, 248], \"xaxis\": \"x\", \"y\": [0, 1], \"yaxis\": \"y2\"}],                        {\"template\": {\"data\": {\"bar\": [{\"error_x\": {\"color\": \"#2a3f5f\"}, \"error_y\": {\"color\": \"#2a3f5f\"}, \"marker\": {\"line\": {\"color\": \"#E5ECF6\", \"width\": 0.5}}, \"type\": \"bar\"}], \"barpolar\": [{\"marker\": {\"line\": {\"color\": \"#E5ECF6\", \"width\": 0.5}}, \"type\": \"barpolar\"}], \"carpet\": [{\"aaxis\": {\"endlinecolor\": \"#2a3f5f\", \"gridcolor\": \"white\", \"linecolor\": \"white\", \"minorgridcolor\": \"white\", \"startlinecolor\": \"#2a3f5f\"}, \"baxis\": {\"endlinecolor\": \"#2a3f5f\", \"gridcolor\": \"white\", \"linecolor\": \"white\", \"minorgridcolor\": \"white\", \"startlinecolor\": \"#2a3f5f\"}, \"type\": \"carpet\"}], \"choropleth\": [{\"colorbar\": {\"outlinewidth\": 0, \"ticks\": \"\"}, \"type\": \"choropleth\"}], \"contour\": [{\"colorbar\": {\"outlinewidth\": 0, \"ticks\": \"\"}, \"colorscale\": [[0.0, \"#0d0887\"], [0.1111111111111111, \"#46039f\"], [0.2222222222222222, \"#7201a8\"], [0.3333333333333333, \"#9c179e\"], [0.4444444444444444, \"#bd3786\"], [0.5555555555555556, \"#d8576b\"], [0.6666666666666666, \"#ed7953\"], [0.7777777777777778, \"#fb9f3a\"], [0.8888888888888888, \"#fdca26\"], [1.0, \"#f0f921\"]], \"type\": \"contour\"}], \"contourcarpet\": [{\"colorbar\": {\"outlinewidth\": 0, \"ticks\": \"\"}, \"type\": \"contourcarpet\"}], \"heatmap\": [{\"colorbar\": {\"outlinewidth\": 0, \"ticks\": \"\"}, \"colorscale\": [[0.0, \"#0d0887\"], [0.1111111111111111, \"#46039f\"], [0.2222222222222222, \"#7201a8\"], [0.3333333333333333, \"#9c179e\"], [0.4444444444444444, \"#bd3786\"], [0.5555555555555556, \"#d8576b\"], [0.6666666666666666, \"#ed7953\"], [0.7777777777777778, \"#fb9f3a\"], [0.8888888888888888, \"#fdca26\"], [1.0, \"#f0f921\"]], \"type\": \"heatmap\"}], \"heatmapgl\": [{\"colorbar\": {\"outlinewidth\": 0, \"ticks\": \"\"}, \"colorscale\": [[0.0, \"#0d0887\"], [0.1111111111111111, \"#46039f\"], [0.2222222222222222, \"#7201a8\"], [0.3333333333333333, \"#9c179e\"], [0.4444444444444444, \"#bd3786\"], [0.5555555555555556, \"#d8576b\"], [0.6666666666666666, \"#ed7953\"], [0.7777777777777778, \"#fb9f3a\"], [0.8888888888888888, \"#fdca26\"], [1.0, \"#f0f921\"]], \"type\": \"heatmapgl\"}], \"histogram\": [{\"marker\": {\"colorbar\": {\"outlinewidth\": 0, \"ticks\": \"\"}}, \"type\": \"histogram\"}], \"histogram2d\": [{\"colorbar\": {\"outlinewidth\": 0, \"ticks\": \"\"}, \"colorscale\": [[0.0, \"#0d0887\"], [0.1111111111111111, \"#46039f\"], [0.2222222222222222, \"#7201a8\"], [0.3333333333333333, \"#9c179e\"], [0.4444444444444444, \"#bd3786\"], [0.5555555555555556, \"#d8576b\"], [0.6666666666666666, \"#ed7953\"], [0.7777777777777778, \"#fb9f3a\"], [0.8888888888888888, \"#fdca26\"], [1.0, \"#f0f921\"]], \"type\": \"histogram2d\"}], \"histogram2dcontour\": [{\"colorbar\": {\"outlinewidth\": 0, \"ticks\": \"\"}, \"colorscale\": [[0.0, \"#0d0887\"], [0.1111111111111111, \"#46039f\"], [0.2222222222222222, \"#7201a8\"], [0.3333333333333333, \"#9c179e\"], [0.4444444444444444, \"#bd3786\"], [0.5555555555555556, \"#d8576b\"], [0.6666666666666666, \"#ed7953\"], [0.7777777777777778, \"#fb9f3a\"], [0.8888888888888888, \"#fdca26\"], [1.0, \"#f0f921\"]], \"type\": \"histogram2dcontour\"}], \"mesh3d\": [{\"colorbar\": {\"outlinewidth\": 0, \"ticks\": \"\"}, \"type\": \"mesh3d\"}], \"parcoords\": [{\"line\": {\"colorbar\": {\"outlinewidth\": 0, \"ticks\": \"\"}}, \"type\": \"parcoords\"}], \"pie\": [{\"automargin\": true, \"type\": \"pie\"}], \"scatter\": [{\"marker\": {\"colorbar\": {\"outlinewidth\": 0, \"ticks\": \"\"}}, \"type\": \"scatter\"}], \"scatter3d\": [{\"line\": {\"colorbar\": {\"outlinewidth\": 0, \"ticks\": \"\"}}, \"marker\": {\"colorbar\": {\"outlinewidth\": 0, \"ticks\": \"\"}}, \"type\": \"scatter3d\"}], \"scattercarpet\": [{\"marker\": {\"colorbar\": {\"outlinewidth\": 0, \"ticks\": \"\"}}, \"type\": \"scattercarpet\"}], \"scattergeo\": [{\"marker\": {\"colorbar\": {\"outlinewidth\": 0, \"ticks\": \"\"}}, \"type\": \"scattergeo\"}], \"scattergl\": [{\"marker\": {\"colorbar\": {\"outlinewidth\": 0, \"ticks\": \"\"}}, \"type\": \"scattergl\"}], \"scattermapbox\": [{\"marker\": {\"colorbar\": {\"outlinewidth\": 0, \"ticks\": \"\"}}, \"type\": \"scattermapbox\"}], \"scatterpolar\": [{\"marker\": {\"colorbar\": {\"outlinewidth\": 0, \"ticks\": \"\"}}, \"type\": \"scatterpolar\"}], \"scatterpolargl\": [{\"marker\": {\"colorbar\": {\"outlinewidth\": 0, \"ticks\": \"\"}}, \"type\": \"scatterpolargl\"}], \"scatterternary\": [{\"marker\": {\"colorbar\": {\"outlinewidth\": 0, \"ticks\": \"\"}}, \"type\": \"scatterternary\"}], \"surface\": [{\"colorbar\": {\"outlinewidth\": 0, \"ticks\": \"\"}, \"colorscale\": [[0.0, \"#0d0887\"], [0.1111111111111111, \"#46039f\"], [0.2222222222222222, \"#7201a8\"], [0.3333333333333333, \"#9c179e\"], [0.4444444444444444, \"#bd3786\"], [0.5555555555555556, \"#d8576b\"], [0.6666666666666666, \"#ed7953\"], [0.7777777777777778, \"#fb9f3a\"], [0.8888888888888888, \"#fdca26\"], [1.0, \"#f0f921\"]], \"type\": \"surface\"}], \"table\": [{\"cells\": {\"fill\": {\"color\": \"#EBF0F8\"}, \"line\": {\"color\": \"white\"}}, \"header\": {\"fill\": {\"color\": \"#C8D4E3\"}, \"line\": {\"color\": \"white\"}}, \"type\": \"table\"}]}, \"layout\": {\"annotationdefaults\": {\"arrowcolor\": \"#2a3f5f\", \"arrowhead\": 0, \"arrowwidth\": 1}, \"coloraxis\": {\"colorbar\": {\"outlinewidth\": 0, \"ticks\": \"\"}}, \"colorscale\": {\"diverging\": [[0, \"#8e0152\"], [0.1, \"#c51b7d\"], [0.2, \"#de77ae\"], [0.3, \"#f1b6da\"], [0.4, \"#fde0ef\"], [0.5, \"#f7f7f7\"], [0.6, \"#e6f5d0\"], [0.7, \"#b8e186\"], [0.8, \"#7fbc41\"], [0.9, \"#4d9221\"], [1, \"#276419\"]], \"sequential\": [[0.0, \"#0d0887\"], [0.1111111111111111, \"#46039f\"], [0.2222222222222222, \"#7201a8\"], [0.3333333333333333, \"#9c179e\"], [0.4444444444444444, \"#bd3786\"], [0.5555555555555556, \"#d8576b\"], [0.6666666666666666, \"#ed7953\"], [0.7777777777777778, \"#fb9f3a\"], [0.8888888888888888, \"#fdca26\"], [1.0, \"#f0f921\"]], \"sequentialminus\": [[0.0, \"#0d0887\"], [0.1111111111111111, \"#46039f\"], [0.2222222222222222, \"#7201a8\"], [0.3333333333333333, \"#9c179e\"], [0.4444444444444444, \"#bd3786\"], [0.5555555555555556, \"#d8576b\"], [0.6666666666666666, \"#ed7953\"], [0.7777777777777778, \"#fb9f3a\"], [0.8888888888888888, \"#fdca26\"], [1.0, \"#f0f921\"]]}, \"colorway\": [\"#636efa\", \"#EF553B\", \"#00cc96\", \"#ab63fa\", \"#FFA15A\", \"#19d3f3\", \"#FF6692\", \"#B6E880\", \"#FF97FF\", \"#FECB52\"], \"font\": {\"color\": \"#2a3f5f\"}, \"geo\": {\"bgcolor\": \"white\", \"lakecolor\": \"white\", \"landcolor\": \"#E5ECF6\", \"showlakes\": true, \"showland\": true, \"subunitcolor\": \"white\"}, \"hoverlabel\": {\"align\": \"left\"}, \"hovermode\": \"closest\", \"mapbox\": {\"style\": \"light\"}, \"paper_bgcolor\": \"white\", \"plot_bgcolor\": \"#E5ECF6\", \"polar\": {\"angularaxis\": {\"gridcolor\": \"white\", \"linecolor\": \"white\", \"ticks\": \"\"}, \"bgcolor\": \"#E5ECF6\", \"radialaxis\": {\"gridcolor\": \"white\", \"linecolor\": \"white\", \"ticks\": \"\"}}, \"scene\": {\"xaxis\": {\"backgroundcolor\": \"#E5ECF6\", \"gridcolor\": \"white\", \"gridwidth\": 2, \"linecolor\": \"white\", \"showbackground\": true, \"ticks\": \"\", \"zerolinecolor\": \"white\"}, \"yaxis\": {\"backgroundcolor\": \"#E5ECF6\", \"gridcolor\": \"white\", \"gridwidth\": 2, \"linecolor\": \"white\", \"showbackground\": true, \"ticks\": \"\", \"zerolinecolor\": \"white\"}, \"zaxis\": {\"backgroundcolor\": \"#E5ECF6\", \"gridcolor\": \"white\", \"gridwidth\": 2, \"linecolor\": \"white\", \"showbackground\": true, \"ticks\": \"\", \"zerolinecolor\": \"white\"}}, \"shapedefaults\": {\"line\": {\"color\": \"#2a3f5f\"}}, \"ternary\": {\"aaxis\": {\"gridcolor\": \"white\", \"linecolor\": \"white\", \"ticks\": \"\"}, \"baxis\": {\"gridcolor\": \"white\", \"linecolor\": \"white\", \"ticks\": \"\"}, \"bgcolor\": \"#E5ECF6\", \"caxis\": {\"gridcolor\": \"white\", \"linecolor\": \"white\", \"ticks\": \"\"}}, \"title\": {\"x\": 0.05}, \"xaxis\": {\"automargin\": true, \"gridcolor\": \"white\", \"linecolor\": \"white\", \"ticks\": \"\", \"title\": {\"standoff\": 15}, \"zerolinecolor\": \"white\", \"zerolinewidth\": 2}, \"yaxis\": {\"automargin\": true, \"gridcolor\": \"white\", \"linecolor\": \"white\", \"ticks\": \"\", \"title\": {\"standoff\": 15}, \"zerolinecolor\": \"white\", \"zerolinewidth\": 2}}}, \"title\": {\"text\": \"S3 Signals Backtested 2020-12-13 23:27:55.426504 MACD of NVDA\"}, \"xaxis\": {\"anchor\": \"y\", \"domain\": [0.0, 0.94], \"title\": {\"text\": \"Date\"}}, \"yaxis\": {\"anchor\": \"x\", \"domain\": [0.0, 1.0], \"title\": {\"text\": \"MACD\"}}, \"yaxis2\": {\"anchor\": \"x\", \"overlaying\": \"y\", \"side\": \"right\", \"title\": {\"text\": \"Reference\"}}},                        {\"responsive\": true}                    ).then(function(){\n",
       "                            \n",
       "var gd = document.getElementById('264ac725-59a6-4a24-b4f8-68cfbf547d73');\n",
       "var x = new MutationObserver(function (mutations, observer) {{\n",
       "        var display = window.getComputedStyle(gd).display;\n",
       "        if (!display || display === 'none') {{\n",
       "            console.log([gd, 'removed!']);\n",
       "            Plotly.purge(gd);\n",
       "            observer.disconnect();\n",
       "        }}\n",
       "}});\n",
       "\n",
       "// Listen for the removal of the full notebook cells\n",
       "var notebookContainer = gd.closest('#notebook-container');\n",
       "if (notebookContainer) {{\n",
       "    x.observe(notebookContainer, {childList: true});\n",
       "}}\n",
       "\n",
       "// Listen for the clearing of the current output cell\n",
       "var outputEl = gd.closest('.output');\n",
       "if (outputEl) {{\n",
       "    x.observe(outputEl, {childList: true});\n",
       "}}\n",
       "\n",
       "                        })                };                });            </script>        </div>"
      ]
     },
     "metadata": {},
     "output_type": "display_data"
    }
   ],
   "source": [
    "fig = make_subplots(specs=[[{\"secondary_y\": True}]])\n",
    "fig.add_trace(go.Scatter(x=ohlc_renko[signal_ticker].index, y=ohlc_renko[signal_ticker]['macd'], name='MACD'))\n",
    "fig.add_trace(go.Scatter(x=ohlc_renko[signal_ticker].index, y=ohlc_renko[signal_ticker]['macd-signal'], name='MACD Signal'))\n",
    "\n",
    "for i in range(len(ohlc_renko[signal_ticker])):\n",
    "    if (ohlc_renko[signal_ticker]['signal'][i] == 'Start Buy'):\n",
    "        fig.add_trace(go.Scatter(x=[ohlc_renko[signal_ticker].index[i], ohlc_renko[signal_ticker].index[i]], y=[0,1], name='Start Buy', marker_color='rgba(0, 255, 0, 1)'), secondary_y=True)\n",
    "    if (ohlc_renko[signal_ticker]['signal'][i] == 'Close Buy'):\n",
    "        fig.add_trace(go.Scatter(x=[ohlc_renko[signal_ticker].index[i], ohlc_renko[signal_ticker].index[i]], y=[0,1], name='Close Buy', marker_color='rgba(0, 255, 0, 0.1)'), secondary_y=True)\n",
    "    if (ohlc_renko[signal_ticker]['signal'][i] == 'Start Sell Reversal'):\n",
    "        fig.add_trace(go.Scatter(x=[ohlc_renko[signal_ticker].index[i], ohlc_renko[signal_ticker].index[i]], y=[0,1], name='Start Sell Reversal', marker_color='rgba(255, 255, 0, 1)'), secondary_y=True)\n",
    "    if (ohlc_renko[signal_ticker]['signal'][i] == 'Start Sell'):\n",
    "        fig.add_trace(go.Scatter(x=[ohlc_renko[signal_ticker].index[i], ohlc_renko[signal_ticker].index[i]], y=[0,1], name='Start Sell', marker_color='rgba(255, 0, 0, 1)'), secondary_y=True)\n",
    "    if (ohlc_renko[signal_ticker]['signal'][i] == 'Close Sell'):\n",
    "        fig.add_trace(go.Scatter(x=[ohlc_renko[signal_ticker].index[i], ohlc_renko[signal_ticker].index[i]], y=[0,1], name='Close Sell', marker_color='rgba(255, 0, 0, 0.1)'), secondary_y=True)\n",
    "    if (ohlc_renko[signal_ticker]['signal'][i] == 'Start Buy Reversal'):\n",
    "        fig.add_trace(go.Scatter(x=[ohlc_renko[signal_ticker].index[i], ohlc_renko[signal_ticker].index[i]], y=[0,1], name='Start Buy Reversal', marker_color='rgba(0, 255, 255, 1)'), secondary_y=True)\n",
    "\n",
    "# format figure\n",
    "fig.update_layout(title_text=f'S3 Signals Backtested {dt.datetime.today()} MACD of {signal_ticker}')\n",
    "fig.update_xaxes(title_text='Date')\n",
    "fig.update_yaxes(title_text='MACD')\n",
    "fig.update_yaxes(title_text='Reference', secondary_y=True)"
   ]
  },
  {
   "cell_type": "code",
   "execution_count": 17,
   "metadata": {},
   "outputs": [],
   "source": [
    "# calculating overall strategy's KPIs\n",
    "strategy = pd.DataFrame()\n",
    "for ticker in tickers:\n",
    "    strategy[ticker] = ohlc_renko[ticker]['return']\n",
    "strategy['return'] = strategy.mean(axis=1) # assume equal capital allocation\n",
    "strategy['cumulative-return'] = (1 + strategy['return']).cumprod()\n",
    "strategy_cagr = cagr(strategy)\n",
    "strategy_volatility = volatility(strategy)\n",
    "strategy_sharpe = sharpe(strategy, 0.01)\n",
    "strategy_max_dd = maximum_drawdown(strategy)\n",
    "strategy_calmar_ratio = calmar_ratio(strategy)"
   ]
  },
  {
   "cell_type": "code",
   "execution_count": 18,
   "metadata": {},
   "outputs": [
    {
     "data": {
      "text/html": [
       "<div>\n",
       "<style scoped>\n",
       "    .dataframe tbody tr th:only-of-type {\n",
       "        vertical-align: middle;\n",
       "    }\n",
       "\n",
       "    .dataframe tbody tr th {\n",
       "        vertical-align: top;\n",
       "    }\n",
       "\n",
       "    .dataframe thead th {\n",
       "        text-align: right;\n",
       "    }\n",
       "</style>\n",
       "<table border=\"1\" class=\"dataframe\">\n",
       "  <thead>\n",
       "    <tr style=\"text-align: right;\">\n",
       "      <th></th>\n",
       "      <th>TSLA</th>\n",
       "      <th>AAPL</th>\n",
       "      <th>AMZN</th>\n",
       "      <th>MSFT</th>\n",
       "      <th>QCOM</th>\n",
       "      <th>FB</th>\n",
       "      <th>AMD</th>\n",
       "      <th>NVDA</th>\n",
       "      <th>return</th>\n",
       "      <th>cumulative-return</th>\n",
       "    </tr>\n",
       "  </thead>\n",
       "  <tbody>\n",
       "    <tr>\n",
       "      <th>0</th>\n",
       "      <td>0.000000</td>\n",
       "      <td>0.000000</td>\n",
       "      <td>0.0</td>\n",
       "      <td>0.0</td>\n",
       "      <td>0.000000</td>\n",
       "      <td>0.0</td>\n",
       "      <td>0.000000</td>\n",
       "      <td>0.000000</td>\n",
       "      <td>0.000000</td>\n",
       "      <td>1.000000</td>\n",
       "    </tr>\n",
       "    <tr>\n",
       "      <th>1</th>\n",
       "      <td>0.000000</td>\n",
       "      <td>0.000000</td>\n",
       "      <td>0.0</td>\n",
       "      <td>0.0</td>\n",
       "      <td>0.000000</td>\n",
       "      <td>0.0</td>\n",
       "      <td>0.000000</td>\n",
       "      <td>0.000000</td>\n",
       "      <td>0.000000</td>\n",
       "      <td>1.000000</td>\n",
       "    </tr>\n",
       "    <tr>\n",
       "      <th>2</th>\n",
       "      <td>0.000000</td>\n",
       "      <td>0.000000</td>\n",
       "      <td>0.0</td>\n",
       "      <td>0.0</td>\n",
       "      <td>0.000000</td>\n",
       "      <td>0.0</td>\n",
       "      <td>0.000000</td>\n",
       "      <td>0.000000</td>\n",
       "      <td>0.000000</td>\n",
       "      <td>1.000000</td>\n",
       "    </tr>\n",
       "    <tr>\n",
       "      <th>3</th>\n",
       "      <td>0.000000</td>\n",
       "      <td>0.000000</td>\n",
       "      <td>0.0</td>\n",
       "      <td>0.0</td>\n",
       "      <td>0.000000</td>\n",
       "      <td>0.0</td>\n",
       "      <td>0.000000</td>\n",
       "      <td>0.000000</td>\n",
       "      <td>0.000000</td>\n",
       "      <td>1.000000</td>\n",
       "    </tr>\n",
       "    <tr>\n",
       "      <th>4</th>\n",
       "      <td>0.000000</td>\n",
       "      <td>0.000000</td>\n",
       "      <td>0.0</td>\n",
       "      <td>0.0</td>\n",
       "      <td>0.000000</td>\n",
       "      <td>0.0</td>\n",
       "      <td>0.000000</td>\n",
       "      <td>0.000000</td>\n",
       "      <td>0.000000</td>\n",
       "      <td>1.000000</td>\n",
       "    </tr>\n",
       "    <tr>\n",
       "      <th>...</th>\n",
       "      <td>...</td>\n",
       "      <td>...</td>\n",
       "      <td>...</td>\n",
       "      <td>...</td>\n",
       "      <td>...</td>\n",
       "      <td>...</td>\n",
       "      <td>...</td>\n",
       "      <td>...</td>\n",
       "      <td>...</td>\n",
       "      <td>...</td>\n",
       "    </tr>\n",
       "    <tr>\n",
       "      <th>246</th>\n",
       "      <td>0.071314</td>\n",
       "      <td>0.012270</td>\n",
       "      <td>0.0</td>\n",
       "      <td>0.0</td>\n",
       "      <td>0.002538</td>\n",
       "      <td>0.0</td>\n",
       "      <td>0.000319</td>\n",
       "      <td>0.000000</td>\n",
       "      <td>0.010805</td>\n",
       "      <td>1.275060</td>\n",
       "    </tr>\n",
       "    <tr>\n",
       "      <th>247</th>\n",
       "      <td>0.012653</td>\n",
       "      <td>0.005091</td>\n",
       "      <td>0.0</td>\n",
       "      <td>0.0</td>\n",
       "      <td>0.004936</td>\n",
       "      <td>0.0</td>\n",
       "      <td>-0.012225</td>\n",
       "      <td>0.000000</td>\n",
       "      <td>0.001307</td>\n",
       "      <td>1.276726</td>\n",
       "    </tr>\n",
       "    <tr>\n",
       "      <th>248</th>\n",
       "      <td>-0.069859</td>\n",
       "      <td>-0.020904</td>\n",
       "      <td>0.0</td>\n",
       "      <td>0.0</td>\n",
       "      <td>-0.017506</td>\n",
       "      <td>0.0</td>\n",
       "      <td>-0.033254</td>\n",
       "      <td>0.000000</td>\n",
       "      <td>-0.017690</td>\n",
       "      <td>1.254141</td>\n",
       "    </tr>\n",
       "    <tr>\n",
       "      <th>249</th>\n",
       "      <td>0.037371</td>\n",
       "      <td>0.011989</td>\n",
       "      <td>0.0</td>\n",
       "      <td>0.0</td>\n",
       "      <td>-0.001731</td>\n",
       "      <td>0.0</td>\n",
       "      <td>0.020372</td>\n",
       "      <td>-0.003199</td>\n",
       "      <td>0.008100</td>\n",
       "      <td>1.264299</td>\n",
       "    </tr>\n",
       "    <tr>\n",
       "      <th>250</th>\n",
       "      <td>-0.027238</td>\n",
       "      <td>-0.006735</td>\n",
       "      <td>0.0</td>\n",
       "      <td>0.0</td>\n",
       "      <td>-0.073644</td>\n",
       "      <td>0.0</td>\n",
       "      <td>-0.000109</td>\n",
       "      <td>-0.003151</td>\n",
       "      <td>-0.013860</td>\n",
       "      <td>1.246777</td>\n",
       "    </tr>\n",
       "  </tbody>\n",
       "</table>\n",
       "<p>251 rows × 10 columns</p>\n",
       "</div>"
      ],
      "text/plain": [
       "         TSLA      AAPL  AMZN  MSFT      QCOM   FB       AMD      NVDA  \\\n",
       "0    0.000000  0.000000   0.0   0.0  0.000000  0.0  0.000000  0.000000   \n",
       "1    0.000000  0.000000   0.0   0.0  0.000000  0.0  0.000000  0.000000   \n",
       "2    0.000000  0.000000   0.0   0.0  0.000000  0.0  0.000000  0.000000   \n",
       "3    0.000000  0.000000   0.0   0.0  0.000000  0.0  0.000000  0.000000   \n",
       "4    0.000000  0.000000   0.0   0.0  0.000000  0.0  0.000000  0.000000   \n",
       "..        ...       ...   ...   ...       ...  ...       ...       ...   \n",
       "246  0.071314  0.012270   0.0   0.0  0.002538  0.0  0.000319  0.000000   \n",
       "247  0.012653  0.005091   0.0   0.0  0.004936  0.0 -0.012225  0.000000   \n",
       "248 -0.069859 -0.020904   0.0   0.0 -0.017506  0.0 -0.033254  0.000000   \n",
       "249  0.037371  0.011989   0.0   0.0 -0.001731  0.0  0.020372 -0.003199   \n",
       "250 -0.027238 -0.006735   0.0   0.0 -0.073644  0.0 -0.000109 -0.003151   \n",
       "\n",
       "       return  cumulative-return  \n",
       "0    0.000000           1.000000  \n",
       "1    0.000000           1.000000  \n",
       "2    0.000000           1.000000  \n",
       "3    0.000000           1.000000  \n",
       "4    0.000000           1.000000  \n",
       "..        ...                ...  \n",
       "246  0.010805           1.275060  \n",
       "247  0.001307           1.276726  \n",
       "248 -0.017690           1.254141  \n",
       "249  0.008100           1.264299  \n",
       "250 -0.013860           1.246777  \n",
       "\n",
       "[251 rows x 10 columns]"
      ]
     },
     "execution_count": 18,
     "metadata": {},
     "output_type": "execute_result"
    }
   ],
   "source": [
    "strategy"
   ]
  },
  {
   "cell_type": "code",
   "execution_count": 19,
   "metadata": {},
   "outputs": [
    {
     "name": "stdout",
     "output_type": "stream",
     "text": [
      "Strategy CAGR: 0.24787285827226735\n",
      "Strategy Volatility: 0.3166289573464842\n",
      "Strategy Sharpe: 0.7512669095895901\n",
      "Strategy Maximum Drawdown: 0.19670437916800448\n",
      "Strategy Calmar Ratio: 1.2601288254012895\n"
     ]
    }
   ],
   "source": [
    "print(f'Strategy CAGR: {strategy_cagr}')\n",
    "print(f'Strategy Volatility: {strategy_volatility}')\n",
    "print(f'Strategy Sharpe: {strategy_sharpe}')\n",
    "print(f'Strategy Maximum Drawdown: {strategy_max_dd}')\n",
    "print(f'Strategy Calmar Ratio: {strategy_calmar_ratio}')"
   ]
  },
  {
   "cell_type": "code",
   "execution_count": 20,
   "metadata": {},
   "outputs": [
    {
     "name": "stdout",
     "output_type": "stream",
     "text": [
      "Calculating KPIs for TSLA\n",
      "Calculating KPIs for AAPL\n",
      "Calculating KPIs for AMZN\n",
      "Calculating KPIs for MSFT\n",
      "Calculating KPIs for QCOM\n",
      "Calculating KPIs for FB\n",
      "Calculating KPIs for AMD\n",
      "Calculating KPIs for NVDA\n"
     ]
    }
   ],
   "source": [
    "# KPIs for each stocks\n",
    "individual_cagr = {}\n",
    "individual_volatility = {}\n",
    "individual_sharpe = {}\n",
    "individual_max_dd = {}\n",
    "individual_calmar_ratio = {}\n",
    "\n",
    "for ticker in tickers:\n",
    "    print(f'Calculating KPIs for {ticker}')\n",
    "    individual_cagr[ticker] = cagr(ohlc_renko[ticker])\n",
    "    individual_volatility[ticker] = volatility(ohlc_renko[ticker])\n",
    "    individual_sharpe[ticker] = sharpe(ohlc_renko[ticker], 0.01)\n",
    "    individual_max_dd[ticker] = maximum_drawdown(ohlc_renko[ticker])\n",
    "    individual_calmar_ratio[ticker] = calmar_ratio(ohlc_renko[ticker])"
   ]
  },
  {
   "cell_type": "code",
   "execution_count": 21,
   "metadata": {},
   "outputs": [
    {
     "data": {
      "text/plain": [
       "{'TSLA': 0.11456422763721208,\n",
       " 'AAPL': 0.49077956503939246,\n",
       " 'AMZN': 0.2270373923085185,\n",
       " 'MSFT': 0.0641935913975975,\n",
       " 'QCOM': 0.0180566600694978,\n",
       " 'FB': 0.4009102442254113,\n",
       " 'AMD': 0.1473525141212404,\n",
       " 'NVDA': 0.17200802381394364}"
      ]
     },
     "execution_count": 21,
     "metadata": {},
     "output_type": "execute_result"
    }
   ],
   "source": [
    "individual_cagr"
   ]
  },
  {
   "cell_type": "code",
   "execution_count": 22,
   "metadata": {},
   "outputs": [
    {
     "data": {
      "application/vnd.plotly.v1+json": {
       "config": {
        "plotlyServerURL": "https://plot.ly"
       },
       "data": [
        {
         "name": "Cumulative Return",
         "type": "scatter",
         "x": [
          0,
          1,
          2,
          3,
          4,
          5,
          6,
          7,
          8,
          9,
          10,
          11,
          12,
          13,
          14,
          15,
          16,
          17,
          18,
          19,
          20,
          21,
          22,
          23,
          24,
          25,
          26,
          27,
          28,
          29,
          30,
          31,
          32,
          33,
          34,
          35,
          36,
          37,
          38,
          39,
          40,
          41,
          42,
          43,
          44,
          45,
          46,
          47,
          48,
          49,
          50,
          51,
          52,
          53,
          54,
          55,
          56,
          57,
          58,
          59,
          60,
          61,
          62,
          63,
          64,
          65,
          66,
          67,
          68,
          69,
          70,
          71,
          72,
          73,
          74,
          75,
          76,
          77,
          78,
          79,
          80,
          81,
          82,
          83,
          84,
          85,
          86,
          87,
          88,
          89,
          90,
          91,
          92,
          93,
          94,
          95,
          96,
          97,
          98,
          99,
          100,
          101,
          102,
          103,
          104,
          105,
          106,
          107,
          108,
          109,
          110,
          111,
          112,
          113,
          114,
          115,
          116,
          117,
          118,
          119,
          120,
          121,
          122,
          123,
          124,
          125,
          126,
          127,
          128,
          129,
          130,
          131,
          132,
          133,
          134,
          135,
          136,
          137,
          138,
          139,
          140,
          141,
          142,
          143,
          144,
          145,
          146,
          147,
          148,
          149,
          150,
          151,
          152,
          153,
          154,
          155,
          156,
          157,
          158,
          159,
          160,
          161,
          162,
          163,
          164,
          165,
          166,
          167,
          168,
          169,
          170,
          171,
          172,
          173,
          174,
          175,
          176,
          177,
          178,
          179,
          180,
          181,
          182,
          183,
          184,
          185,
          186,
          187,
          188,
          189,
          190,
          191,
          192,
          193,
          194,
          195,
          196,
          197,
          198,
          199,
          200,
          201,
          202,
          203,
          204,
          205,
          206,
          207,
          208,
          209,
          210,
          211,
          212,
          213,
          214,
          215,
          216,
          217,
          218,
          219,
          220,
          221,
          222,
          223,
          224,
          225,
          226,
          227,
          228,
          229,
          230,
          231,
          232,
          233,
          234,
          235,
          236,
          237,
          238,
          239,
          240,
          241,
          242,
          243,
          244,
          245,
          246,
          247,
          248,
          249,
          250
         ],
         "y": [
          1,
          1,
          1,
          1,
          1,
          1,
          1,
          1,
          1,
          1,
          1,
          1,
          1,
          1,
          1,
          1,
          1,
          1,
          1,
          1,
          1,
          1,
          1,
          1,
          1,
          1,
          1,
          1,
          1,
          1,
          1,
          1,
          1,
          1,
          1,
          1,
          1,
          1,
          1.006022163407614,
          1.011540620329843,
          1.0077179943869479,
          1.0180381129471627,
          1.0247720956645485,
          1.0418767380952634,
          1.0294633120491177,
          1.000996351805487,
          0.9622409130276873,
          0.9544289078812958,
          0.9506614445634762,
          0.9760701974587381,
          0.961349933002579,
          0.9402749664461182,
          0.9689208763404003,
          0.9296953401426421,
          0.9573100647883669,
          0.9712463570537365,
          1.0387646608579213,
          0.9850350378336472,
          1.019338762624338,
          1.1246876586238583,
          1.0242781087303297,
          1.1624962780380594,
          1.0982652867498104,
          1.1450534653438895,
          1.1164716847814105,
          1.1521896478630993,
          1.142899818713298,
          1.067866290264072,
          1.0772096191202007,
          1.0623776437486392,
          1.0508351187791842,
          1.0711725344793375,
          1.0670932883638609,
          1.0490936654302772,
          1.059264230611189,
          1.051208652802329,
          1.0804457374860503,
          1.0752234909587524,
          1.0827791293683424,
          1.0807433852203145,
          1.100079320997316,
          1.1390406437395564,
          1.136364347772706,
          1.1616247499375787,
          1.1580462504190026,
          1.1473009178378883,
          1.103301509985586,
          1.1451080076388571,
          1.1444476197022688,
          1.1634983925547349,
          1.1636025373960135,
          1.1437057433962479,
          1.1729622547518475,
          1.1846653155235793,
          1.1549150399581438,
          1.1626991221084744,
          1.1714672342545909,
          1.1777490406155426,
          1.1820224841328397,
          1.1953496265879595,
          1.2046418744021052,
          1.1885700943368618,
          1.1797696243800164,
          1.1901888942234367,
          1.1931267448538103,
          1.2028325230073507,
          1.205515467438084,
          1.2203561974135049,
          1.2121419180583626,
          1.2211979623779985,
          1.207707236620971,
          1.2017648877905749,
          1.1986783565606214,
          1.1984324573899379,
          1.1984324573899379,
          1.1984324573899379,
          1.1986643693812786,
          1.2021024594414527,
          1.206486000024533,
          1.2112887813504247,
          1.2133854935436987,
          1.227759771682017,
          1.1750416651139404,
          1.1750505571931995,
          1.190118709095158,
          1.200597331142796,
          1.2040440315527114,
          1.2052510698195043,
          1.2028967705558795,
          1.212741716455557,
          1.2213276581350971,
          1.2076605865519976,
          1.2126862892776271,
          1.2015986401434027,
          1.2025162118656012,
          1.210755523011191,
          1.2182169135186962,
          1.2320996918420106,
          1.2650598516822789,
          1.2629066372321003,
          1.2734214655809994,
          1.287863601487437,
          1.3041640084310293,
          1.2818206097507616,
          1.2917192535700737,
          1.2894353161701828,
          1.280783670713758,
          1.2815360136526048,
          1.2967094501904677,
          1.2893459040757633,
          1.2918091190368515,
          1.2837714695353728,
          1.3000629289705945,
          1.2990560351595104,
          1.2958540687802358,
          1.3161706581671022,
          1.3207328887915575,
          1.31667382491775,
          1.3275335624694475,
          1.3483222772566867,
          1.350543362323576,
          1.3703836768007172,
          1.3584658127399134,
          1.3487815430683043,
          1.327533699493149,
          1.367492473393756,
          1.366379311861942,
          1.3673639550276466,
          1.3759463654252673,
          1.3816843472879,
          1.3780339075332313,
          1.399358154652952,
          1.4184239993392271,
          1.4220996133839001,
          1.43013812699572,
          1.4641554342525227,
          1.458504710014508,
          1.4658898677310614,
          1.497950057055265,
          1.5084619335311116,
          1.513447507521282,
          1.4257199121313993,
          1.4136572802315432,
          1.4479275684969974,
          1.388969173909924,
          1.4183539737192097,
          1.433832640287052,
          1.3950076353307739,
          1.369415737720397,
          1.4025422400891132,
          1.4258218831165324,
          1.4390816376400077,
          1.4201559298255821,
          1.4084567135191022,
          1.4685564394011055,
          1.4532649378362947,
          1.4131060020453712,
          1.3907008684380666,
          1.3856751146105886,
          1.3748627562434919,
          1.3680540218836899,
          1.3634648846717778,
          1.379905966457391,
          1.3772750787226047,
          1.3853642087645661,
          1.3829207691649297,
          1.3771459457643442,
          1.3903603770371533,
          1.3910161673333674,
          1.3848022052366333,
          1.376395681156754,
          1.3693217335465129,
          1.3525876291040184,
          1.3555160526855925,
          1.353352689462663,
          1.3536546751891567,
          1.3538902844263627,
          1.3456679189919818,
          1.345360849135797,
          1.342657670141513,
          1.3483882545577628,
          1.3659244908883832,
          1.3673492097883944,
          1.3531470516907398,
          1.3092489272446792,
          1.287118901357898,
          1.2905285470358414,
          1.2522995124342928,
          1.2157457551509445,
          1.2243295193165658,
          1.2215757395558193,
          1.2228706883609375,
          1.2302149836960654,
          1.2280740479332575,
          1.2224658531769201,
          1.2325767955491804,
          1.229745549751116,
          1.233625001142254,
          1.244295157879198,
          1.2459806016338184,
          1.249722474625372,
          1.2530449887578075,
          1.2578641532572559,
          1.2536687334135752,
          1.257866121000238,
          1.2614301669858135,
          1.275060062512278,
          1.276726359645875,
          1.254140524343894,
          1.2642993589323746,
          1.2467767944777968
         ]
        }
       ],
       "layout": {
        "template": {
         "data": {
          "bar": [
           {
            "error_x": {
             "color": "#2a3f5f"
            },
            "error_y": {
             "color": "#2a3f5f"
            },
            "marker": {
             "line": {
              "color": "#E5ECF6",
              "width": 0.5
             }
            },
            "type": "bar"
           }
          ],
          "barpolar": [
           {
            "marker": {
             "line": {
              "color": "#E5ECF6",
              "width": 0.5
             }
            },
            "type": "barpolar"
           }
          ],
          "carpet": [
           {
            "aaxis": {
             "endlinecolor": "#2a3f5f",
             "gridcolor": "white",
             "linecolor": "white",
             "minorgridcolor": "white",
             "startlinecolor": "#2a3f5f"
            },
            "baxis": {
             "endlinecolor": "#2a3f5f",
             "gridcolor": "white",
             "linecolor": "white",
             "minorgridcolor": "white",
             "startlinecolor": "#2a3f5f"
            },
            "type": "carpet"
           }
          ],
          "choropleth": [
           {
            "colorbar": {
             "outlinewidth": 0,
             "ticks": ""
            },
            "type": "choropleth"
           }
          ],
          "contour": [
           {
            "colorbar": {
             "outlinewidth": 0,
             "ticks": ""
            },
            "colorscale": [
             [
              0,
              "#0d0887"
             ],
             [
              0.1111111111111111,
              "#46039f"
             ],
             [
              0.2222222222222222,
              "#7201a8"
             ],
             [
              0.3333333333333333,
              "#9c179e"
             ],
             [
              0.4444444444444444,
              "#bd3786"
             ],
             [
              0.5555555555555556,
              "#d8576b"
             ],
             [
              0.6666666666666666,
              "#ed7953"
             ],
             [
              0.7777777777777778,
              "#fb9f3a"
             ],
             [
              0.8888888888888888,
              "#fdca26"
             ],
             [
              1,
              "#f0f921"
             ]
            ],
            "type": "contour"
           }
          ],
          "contourcarpet": [
           {
            "colorbar": {
             "outlinewidth": 0,
             "ticks": ""
            },
            "type": "contourcarpet"
           }
          ],
          "heatmap": [
           {
            "colorbar": {
             "outlinewidth": 0,
             "ticks": ""
            },
            "colorscale": [
             [
              0,
              "#0d0887"
             ],
             [
              0.1111111111111111,
              "#46039f"
             ],
             [
              0.2222222222222222,
              "#7201a8"
             ],
             [
              0.3333333333333333,
              "#9c179e"
             ],
             [
              0.4444444444444444,
              "#bd3786"
             ],
             [
              0.5555555555555556,
              "#d8576b"
             ],
             [
              0.6666666666666666,
              "#ed7953"
             ],
             [
              0.7777777777777778,
              "#fb9f3a"
             ],
             [
              0.8888888888888888,
              "#fdca26"
             ],
             [
              1,
              "#f0f921"
             ]
            ],
            "type": "heatmap"
           }
          ],
          "heatmapgl": [
           {
            "colorbar": {
             "outlinewidth": 0,
             "ticks": ""
            },
            "colorscale": [
             [
              0,
              "#0d0887"
             ],
             [
              0.1111111111111111,
              "#46039f"
             ],
             [
              0.2222222222222222,
              "#7201a8"
             ],
             [
              0.3333333333333333,
              "#9c179e"
             ],
             [
              0.4444444444444444,
              "#bd3786"
             ],
             [
              0.5555555555555556,
              "#d8576b"
             ],
             [
              0.6666666666666666,
              "#ed7953"
             ],
             [
              0.7777777777777778,
              "#fb9f3a"
             ],
             [
              0.8888888888888888,
              "#fdca26"
             ],
             [
              1,
              "#f0f921"
             ]
            ],
            "type": "heatmapgl"
           }
          ],
          "histogram": [
           {
            "marker": {
             "colorbar": {
              "outlinewidth": 0,
              "ticks": ""
             }
            },
            "type": "histogram"
           }
          ],
          "histogram2d": [
           {
            "colorbar": {
             "outlinewidth": 0,
             "ticks": ""
            },
            "colorscale": [
             [
              0,
              "#0d0887"
             ],
             [
              0.1111111111111111,
              "#46039f"
             ],
             [
              0.2222222222222222,
              "#7201a8"
             ],
             [
              0.3333333333333333,
              "#9c179e"
             ],
             [
              0.4444444444444444,
              "#bd3786"
             ],
             [
              0.5555555555555556,
              "#d8576b"
             ],
             [
              0.6666666666666666,
              "#ed7953"
             ],
             [
              0.7777777777777778,
              "#fb9f3a"
             ],
             [
              0.8888888888888888,
              "#fdca26"
             ],
             [
              1,
              "#f0f921"
             ]
            ],
            "type": "histogram2d"
           }
          ],
          "histogram2dcontour": [
           {
            "colorbar": {
             "outlinewidth": 0,
             "ticks": ""
            },
            "colorscale": [
             [
              0,
              "#0d0887"
             ],
             [
              0.1111111111111111,
              "#46039f"
             ],
             [
              0.2222222222222222,
              "#7201a8"
             ],
             [
              0.3333333333333333,
              "#9c179e"
             ],
             [
              0.4444444444444444,
              "#bd3786"
             ],
             [
              0.5555555555555556,
              "#d8576b"
             ],
             [
              0.6666666666666666,
              "#ed7953"
             ],
             [
              0.7777777777777778,
              "#fb9f3a"
             ],
             [
              0.8888888888888888,
              "#fdca26"
             ],
             [
              1,
              "#f0f921"
             ]
            ],
            "type": "histogram2dcontour"
           }
          ],
          "mesh3d": [
           {
            "colorbar": {
             "outlinewidth": 0,
             "ticks": ""
            },
            "type": "mesh3d"
           }
          ],
          "parcoords": [
           {
            "line": {
             "colorbar": {
              "outlinewidth": 0,
              "ticks": ""
             }
            },
            "type": "parcoords"
           }
          ],
          "pie": [
           {
            "automargin": true,
            "type": "pie"
           }
          ],
          "scatter": [
           {
            "marker": {
             "colorbar": {
              "outlinewidth": 0,
              "ticks": ""
             }
            },
            "type": "scatter"
           }
          ],
          "scatter3d": [
           {
            "line": {
             "colorbar": {
              "outlinewidth": 0,
              "ticks": ""
             }
            },
            "marker": {
             "colorbar": {
              "outlinewidth": 0,
              "ticks": ""
             }
            },
            "type": "scatter3d"
           }
          ],
          "scattercarpet": [
           {
            "marker": {
             "colorbar": {
              "outlinewidth": 0,
              "ticks": ""
             }
            },
            "type": "scattercarpet"
           }
          ],
          "scattergeo": [
           {
            "marker": {
             "colorbar": {
              "outlinewidth": 0,
              "ticks": ""
             }
            },
            "type": "scattergeo"
           }
          ],
          "scattergl": [
           {
            "marker": {
             "colorbar": {
              "outlinewidth": 0,
              "ticks": ""
             }
            },
            "type": "scattergl"
           }
          ],
          "scattermapbox": [
           {
            "marker": {
             "colorbar": {
              "outlinewidth": 0,
              "ticks": ""
             }
            },
            "type": "scattermapbox"
           }
          ],
          "scatterpolar": [
           {
            "marker": {
             "colorbar": {
              "outlinewidth": 0,
              "ticks": ""
             }
            },
            "type": "scatterpolar"
           }
          ],
          "scatterpolargl": [
           {
            "marker": {
             "colorbar": {
              "outlinewidth": 0,
              "ticks": ""
             }
            },
            "type": "scatterpolargl"
           }
          ],
          "scatterternary": [
           {
            "marker": {
             "colorbar": {
              "outlinewidth": 0,
              "ticks": ""
             }
            },
            "type": "scatterternary"
           }
          ],
          "surface": [
           {
            "colorbar": {
             "outlinewidth": 0,
             "ticks": ""
            },
            "colorscale": [
             [
              0,
              "#0d0887"
             ],
             [
              0.1111111111111111,
              "#46039f"
             ],
             [
              0.2222222222222222,
              "#7201a8"
             ],
             [
              0.3333333333333333,
              "#9c179e"
             ],
             [
              0.4444444444444444,
              "#bd3786"
             ],
             [
              0.5555555555555556,
              "#d8576b"
             ],
             [
              0.6666666666666666,
              "#ed7953"
             ],
             [
              0.7777777777777778,
              "#fb9f3a"
             ],
             [
              0.8888888888888888,
              "#fdca26"
             ],
             [
              1,
              "#f0f921"
             ]
            ],
            "type": "surface"
           }
          ],
          "table": [
           {
            "cells": {
             "fill": {
              "color": "#EBF0F8"
             },
             "line": {
              "color": "white"
             }
            },
            "header": {
             "fill": {
              "color": "#C8D4E3"
             },
             "line": {
              "color": "white"
             }
            },
            "type": "table"
           }
          ]
         },
         "layout": {
          "annotationdefaults": {
           "arrowcolor": "#2a3f5f",
           "arrowhead": 0,
           "arrowwidth": 1
          },
          "coloraxis": {
           "colorbar": {
            "outlinewidth": 0,
            "ticks": ""
           }
          },
          "colorscale": {
           "diverging": [
            [
             0,
             "#8e0152"
            ],
            [
             0.1,
             "#c51b7d"
            ],
            [
             0.2,
             "#de77ae"
            ],
            [
             0.3,
             "#f1b6da"
            ],
            [
             0.4,
             "#fde0ef"
            ],
            [
             0.5,
             "#f7f7f7"
            ],
            [
             0.6,
             "#e6f5d0"
            ],
            [
             0.7,
             "#b8e186"
            ],
            [
             0.8,
             "#7fbc41"
            ],
            [
             0.9,
             "#4d9221"
            ],
            [
             1,
             "#276419"
            ]
           ],
           "sequential": [
            [
             0,
             "#0d0887"
            ],
            [
             0.1111111111111111,
             "#46039f"
            ],
            [
             0.2222222222222222,
             "#7201a8"
            ],
            [
             0.3333333333333333,
             "#9c179e"
            ],
            [
             0.4444444444444444,
             "#bd3786"
            ],
            [
             0.5555555555555556,
             "#d8576b"
            ],
            [
             0.6666666666666666,
             "#ed7953"
            ],
            [
             0.7777777777777778,
             "#fb9f3a"
            ],
            [
             0.8888888888888888,
             "#fdca26"
            ],
            [
             1,
             "#f0f921"
            ]
           ],
           "sequentialminus": [
            [
             0,
             "#0d0887"
            ],
            [
             0.1111111111111111,
             "#46039f"
            ],
            [
             0.2222222222222222,
             "#7201a8"
            ],
            [
             0.3333333333333333,
             "#9c179e"
            ],
            [
             0.4444444444444444,
             "#bd3786"
            ],
            [
             0.5555555555555556,
             "#d8576b"
            ],
            [
             0.6666666666666666,
             "#ed7953"
            ],
            [
             0.7777777777777778,
             "#fb9f3a"
            ],
            [
             0.8888888888888888,
             "#fdca26"
            ],
            [
             1,
             "#f0f921"
            ]
           ]
          },
          "colorway": [
           "#636efa",
           "#EF553B",
           "#00cc96",
           "#ab63fa",
           "#FFA15A",
           "#19d3f3",
           "#FF6692",
           "#B6E880",
           "#FF97FF",
           "#FECB52"
          ],
          "font": {
           "color": "#2a3f5f"
          },
          "geo": {
           "bgcolor": "white",
           "lakecolor": "white",
           "landcolor": "#E5ECF6",
           "showlakes": true,
           "showland": true,
           "subunitcolor": "white"
          },
          "hoverlabel": {
           "align": "left"
          },
          "hovermode": "closest",
          "mapbox": {
           "style": "light"
          },
          "paper_bgcolor": "white",
          "plot_bgcolor": "#E5ECF6",
          "polar": {
           "angularaxis": {
            "gridcolor": "white",
            "linecolor": "white",
            "ticks": ""
           },
           "bgcolor": "#E5ECF6",
           "radialaxis": {
            "gridcolor": "white",
            "linecolor": "white",
            "ticks": ""
           }
          },
          "scene": {
           "xaxis": {
            "backgroundcolor": "#E5ECF6",
            "gridcolor": "white",
            "gridwidth": 2,
            "linecolor": "white",
            "showbackground": true,
            "ticks": "",
            "zerolinecolor": "white"
           },
           "yaxis": {
            "backgroundcolor": "#E5ECF6",
            "gridcolor": "white",
            "gridwidth": 2,
            "linecolor": "white",
            "showbackground": true,
            "ticks": "",
            "zerolinecolor": "white"
           },
           "zaxis": {
            "backgroundcolor": "#E5ECF6",
            "gridcolor": "white",
            "gridwidth": 2,
            "linecolor": "white",
            "showbackground": true,
            "ticks": "",
            "zerolinecolor": "white"
           }
          },
          "shapedefaults": {
           "line": {
            "color": "#2a3f5f"
           }
          },
          "ternary": {
           "aaxis": {
            "gridcolor": "white",
            "linecolor": "white",
            "ticks": ""
           },
           "baxis": {
            "gridcolor": "white",
            "linecolor": "white",
            "ticks": ""
           },
           "bgcolor": "#E5ECF6",
           "caxis": {
            "gridcolor": "white",
            "linecolor": "white",
            "ticks": ""
           }
          },
          "title": {
           "x": 0.05
          },
          "xaxis": {
           "automargin": true,
           "gridcolor": "white",
           "linecolor": "white",
           "ticks": "",
           "title": {
            "standoff": 15
           },
           "zerolinecolor": "white",
           "zerolinewidth": 2
          },
          "yaxis": {
           "automargin": true,
           "gridcolor": "white",
           "linecolor": "white",
           "ticks": "",
           "title": {
            "standoff": 15
           },
           "zerolinecolor": "white",
           "zerolinewidth": 2
          }
         }
        },
        "title": {
         "text": "Cumulative Return of Portfolio of S3 - Renko MACD Backtested 2020-12-13 22:07:15.111751"
        },
        "xaxis": {
         "anchor": "y",
         "domain": [
          0,
          0.94
         ],
         "title": {
          "text": "Period"
         }
        },
        "yaxis": {
         "anchor": "x",
         "domain": [
          0,
          1
         ],
         "title": {
          "text": "Return"
         }
        },
        "yaxis2": {
         "anchor": "x",
         "overlaying": "y",
         "side": "right",
         "title": {
          "text": "Return"
         }
        }
       }
      },
      "text/html": [
       "<div>                            <div id=\"568e9a94-5d63-4508-9ec7-08ff7bcf56f7\" class=\"plotly-graph-div\" style=\"height:525px; width:100%;\"></div>            <script type=\"text/javascript\">                require([\"plotly\"], function(Plotly) {                    window.PLOTLYENV=window.PLOTLYENV || {};                                    if (document.getElementById(\"568e9a94-5d63-4508-9ec7-08ff7bcf56f7\")) {                    Plotly.newPlot(                        \"568e9a94-5d63-4508-9ec7-08ff7bcf56f7\",                        [{\"name\": \"Cumulative Return\", \"type\": \"scatter\", \"x\": [0, 1, 2, 3, 4, 5, 6, 7, 8, 9, 10, 11, 12, 13, 14, 15, 16, 17, 18, 19, 20, 21, 22, 23, 24, 25, 26, 27, 28, 29, 30, 31, 32, 33, 34, 35, 36, 37, 38, 39, 40, 41, 42, 43, 44, 45, 46, 47, 48, 49, 50, 51, 52, 53, 54, 55, 56, 57, 58, 59, 60, 61, 62, 63, 64, 65, 66, 67, 68, 69, 70, 71, 72, 73, 74, 75, 76, 77, 78, 79, 80, 81, 82, 83, 84, 85, 86, 87, 88, 89, 90, 91, 92, 93, 94, 95, 96, 97, 98, 99, 100, 101, 102, 103, 104, 105, 106, 107, 108, 109, 110, 111, 112, 113, 114, 115, 116, 117, 118, 119, 120, 121, 122, 123, 124, 125, 126, 127, 128, 129, 130, 131, 132, 133, 134, 135, 136, 137, 138, 139, 140, 141, 142, 143, 144, 145, 146, 147, 148, 149, 150, 151, 152, 153, 154, 155, 156, 157, 158, 159, 160, 161, 162, 163, 164, 165, 166, 167, 168, 169, 170, 171, 172, 173, 174, 175, 176, 177, 178, 179, 180, 181, 182, 183, 184, 185, 186, 187, 188, 189, 190, 191, 192, 193, 194, 195, 196, 197, 198, 199, 200, 201, 202, 203, 204, 205, 206, 207, 208, 209, 210, 211, 212, 213, 214, 215, 216, 217, 218, 219, 220, 221, 222, 223, 224, 225, 226, 227, 228, 229, 230, 231, 232, 233, 234, 235, 236, 237, 238, 239, 240, 241, 242, 243, 244, 245, 246, 247, 248, 249, 250], \"y\": [1.0, 1.0, 1.0, 1.0, 1.0, 1.0, 1.0, 1.0, 1.0, 1.0, 1.0, 1.0, 1.0, 1.0, 1.0, 1.0, 1.0, 1.0, 1.0, 1.0, 1.0, 1.0, 1.0, 1.0, 1.0, 1.0, 1.0, 1.0, 1.0, 1.0, 1.0, 1.0, 1.0, 1.0, 1.0, 1.0, 1.0, 1.0, 1.006022163407614, 1.011540620329843, 1.0077179943869479, 1.0180381129471627, 1.0247720956645485, 1.0418767380952634, 1.0294633120491177, 1.000996351805487, 0.9622409130276873, 0.9544289078812958, 0.9506614445634762, 0.9760701974587381, 0.961349933002579, 0.9402749664461182, 0.9689208763404003, 0.9296953401426421, 0.9573100647883669, 0.9712463570537365, 1.0387646608579213, 0.9850350378336472, 1.019338762624338, 1.1246876586238583, 1.0242781087303297, 1.1624962780380594, 1.0982652867498104, 1.1450534653438895, 1.1164716847814105, 1.1521896478630993, 1.142899818713298, 1.067866290264072, 1.0772096191202007, 1.0623776437486392, 1.0508351187791842, 1.0711725344793375, 1.0670932883638609, 1.0490936654302772, 1.059264230611189, 1.051208652802329, 1.0804457374860503, 1.0752234909587524, 1.0827791293683424, 1.0807433852203145, 1.100079320997316, 1.1390406437395564, 1.136364347772706, 1.1616247499375787, 1.1580462504190026, 1.1473009178378883, 1.103301509985586, 1.1451080076388571, 1.1444476197022688, 1.1634983925547349, 1.1636025373960135, 1.1437057433962479, 1.1729622547518475, 1.1846653155235793, 1.1549150399581438, 1.1626991221084744, 1.1714672342545909, 1.1777490406155426, 1.1820224841328397, 1.1953496265879595, 1.2046418744021052, 1.1885700943368618, 1.1797696243800164, 1.1901888942234367, 1.1931267448538103, 1.2028325230073507, 1.205515467438084, 1.2203561974135049, 1.2121419180583626, 1.2211979623779985, 1.207707236620971, 1.2017648877905749, 1.1986783565606214, 1.1984324573899379, 1.1984324573899379, 1.1984324573899379, 1.1986643693812786, 1.2021024594414527, 1.206486000024533, 1.2112887813504247, 1.2133854935436987, 1.227759771682017, 1.1750416651139404, 1.1750505571931995, 1.190118709095158, 1.200597331142796, 1.2040440315527114, 1.2052510698195043, 1.2028967705558795, 1.212741716455557, 1.2213276581350971, 1.2076605865519976, 1.2126862892776271, 1.2015986401434027, 1.2025162118656012, 1.210755523011191, 1.2182169135186962, 1.2320996918420106, 1.2650598516822789, 1.2629066372321003, 1.2734214655809994, 1.287863601487437, 1.3041640084310293, 1.2818206097507616, 1.2917192535700737, 1.2894353161701828, 1.280783670713758, 1.2815360136526048, 1.2967094501904677, 1.2893459040757633, 1.2918091190368515, 1.2837714695353728, 1.3000629289705945, 1.2990560351595104, 1.2958540687802358, 1.3161706581671022, 1.3207328887915575, 1.31667382491775, 1.3275335624694475, 1.3483222772566867, 1.350543362323576, 1.3703836768007172, 1.3584658127399134, 1.3487815430683043, 1.327533699493149, 1.367492473393756, 1.366379311861942, 1.3673639550276466, 1.3759463654252673, 1.3816843472879, 1.3780339075332313, 1.399358154652952, 1.4184239993392271, 1.4220996133839001, 1.43013812699572, 1.4641554342525227, 1.458504710014508, 1.4658898677310614, 1.497950057055265, 1.5084619335311116, 1.513447507521282, 1.4257199121313993, 1.4136572802315432, 1.4479275684969974, 1.388969173909924, 1.4183539737192097, 1.433832640287052, 1.3950076353307739, 1.369415737720397, 1.4025422400891132, 1.4258218831165324, 1.4390816376400077, 1.4201559298255821, 1.4084567135191022, 1.4685564394011055, 1.4532649378362947, 1.4131060020453712, 1.3907008684380666, 1.3856751146105886, 1.3748627562434919, 1.3680540218836899, 1.3634648846717778, 1.379905966457391, 1.3772750787226047, 1.3853642087645661, 1.3829207691649297, 1.3771459457643442, 1.3903603770371533, 1.3910161673333674, 1.3848022052366333, 1.376395681156754, 1.3693217335465129, 1.3525876291040184, 1.3555160526855925, 1.353352689462663, 1.3536546751891567, 1.3538902844263627, 1.3456679189919818, 1.345360849135797, 1.342657670141513, 1.3483882545577628, 1.3659244908883832, 1.3673492097883944, 1.3531470516907398, 1.3092489272446792, 1.287118901357898, 1.2905285470358414, 1.2522995124342928, 1.2157457551509445, 1.2243295193165658, 1.2215757395558193, 1.2228706883609375, 1.2302149836960654, 1.2280740479332575, 1.2224658531769201, 1.2325767955491804, 1.229745549751116, 1.233625001142254, 1.244295157879198, 1.2459806016338184, 1.249722474625372, 1.2530449887578075, 1.2578641532572559, 1.2536687334135752, 1.257866121000238, 1.2614301669858135, 1.275060062512278, 1.276726359645875, 1.254140524343894, 1.2642993589323746, 1.2467767944777968]}],                        {\"template\": {\"data\": {\"bar\": [{\"error_x\": {\"color\": \"#2a3f5f\"}, \"error_y\": {\"color\": \"#2a3f5f\"}, \"marker\": {\"line\": {\"color\": \"#E5ECF6\", \"width\": 0.5}}, \"type\": \"bar\"}], \"barpolar\": [{\"marker\": {\"line\": {\"color\": \"#E5ECF6\", \"width\": 0.5}}, \"type\": \"barpolar\"}], \"carpet\": [{\"aaxis\": {\"endlinecolor\": \"#2a3f5f\", \"gridcolor\": \"white\", \"linecolor\": \"white\", \"minorgridcolor\": \"white\", \"startlinecolor\": \"#2a3f5f\"}, \"baxis\": {\"endlinecolor\": \"#2a3f5f\", \"gridcolor\": \"white\", \"linecolor\": \"white\", \"minorgridcolor\": \"white\", \"startlinecolor\": \"#2a3f5f\"}, \"type\": \"carpet\"}], \"choropleth\": [{\"colorbar\": {\"outlinewidth\": 0, \"ticks\": \"\"}, \"type\": \"choropleth\"}], \"contour\": [{\"colorbar\": {\"outlinewidth\": 0, \"ticks\": \"\"}, \"colorscale\": [[0.0, \"#0d0887\"], [0.1111111111111111, \"#46039f\"], [0.2222222222222222, \"#7201a8\"], [0.3333333333333333, \"#9c179e\"], [0.4444444444444444, \"#bd3786\"], [0.5555555555555556, \"#d8576b\"], [0.6666666666666666, \"#ed7953\"], [0.7777777777777778, \"#fb9f3a\"], [0.8888888888888888, \"#fdca26\"], [1.0, \"#f0f921\"]], \"type\": \"contour\"}], \"contourcarpet\": [{\"colorbar\": {\"outlinewidth\": 0, \"ticks\": \"\"}, \"type\": \"contourcarpet\"}], \"heatmap\": [{\"colorbar\": {\"outlinewidth\": 0, \"ticks\": \"\"}, \"colorscale\": [[0.0, \"#0d0887\"], [0.1111111111111111, \"#46039f\"], [0.2222222222222222, \"#7201a8\"], [0.3333333333333333, \"#9c179e\"], [0.4444444444444444, \"#bd3786\"], [0.5555555555555556, \"#d8576b\"], [0.6666666666666666, \"#ed7953\"], [0.7777777777777778, \"#fb9f3a\"], [0.8888888888888888, \"#fdca26\"], [1.0, \"#f0f921\"]], \"type\": \"heatmap\"}], \"heatmapgl\": [{\"colorbar\": {\"outlinewidth\": 0, \"ticks\": \"\"}, \"colorscale\": [[0.0, \"#0d0887\"], [0.1111111111111111, \"#46039f\"], [0.2222222222222222, \"#7201a8\"], [0.3333333333333333, \"#9c179e\"], [0.4444444444444444, \"#bd3786\"], [0.5555555555555556, \"#d8576b\"], [0.6666666666666666, \"#ed7953\"], [0.7777777777777778, \"#fb9f3a\"], [0.8888888888888888, \"#fdca26\"], [1.0, \"#f0f921\"]], \"type\": \"heatmapgl\"}], \"histogram\": [{\"marker\": {\"colorbar\": {\"outlinewidth\": 0, \"ticks\": \"\"}}, \"type\": \"histogram\"}], \"histogram2d\": [{\"colorbar\": {\"outlinewidth\": 0, \"ticks\": \"\"}, \"colorscale\": [[0.0, \"#0d0887\"], [0.1111111111111111, \"#46039f\"], [0.2222222222222222, \"#7201a8\"], [0.3333333333333333, \"#9c179e\"], [0.4444444444444444, \"#bd3786\"], [0.5555555555555556, \"#d8576b\"], [0.6666666666666666, \"#ed7953\"], [0.7777777777777778, \"#fb9f3a\"], [0.8888888888888888, \"#fdca26\"], [1.0, \"#f0f921\"]], \"type\": \"histogram2d\"}], \"histogram2dcontour\": [{\"colorbar\": {\"outlinewidth\": 0, \"ticks\": \"\"}, \"colorscale\": [[0.0, \"#0d0887\"], [0.1111111111111111, \"#46039f\"], [0.2222222222222222, \"#7201a8\"], [0.3333333333333333, \"#9c179e\"], [0.4444444444444444, \"#bd3786\"], [0.5555555555555556, \"#d8576b\"], [0.6666666666666666, \"#ed7953\"], [0.7777777777777778, \"#fb9f3a\"], [0.8888888888888888, \"#fdca26\"], [1.0, \"#f0f921\"]], \"type\": \"histogram2dcontour\"}], \"mesh3d\": [{\"colorbar\": {\"outlinewidth\": 0, \"ticks\": \"\"}, \"type\": \"mesh3d\"}], \"parcoords\": [{\"line\": {\"colorbar\": {\"outlinewidth\": 0, \"ticks\": \"\"}}, \"type\": \"parcoords\"}], \"pie\": [{\"automargin\": true, \"type\": \"pie\"}], \"scatter\": [{\"marker\": {\"colorbar\": {\"outlinewidth\": 0, \"ticks\": \"\"}}, \"type\": \"scatter\"}], \"scatter3d\": [{\"line\": {\"colorbar\": {\"outlinewidth\": 0, \"ticks\": \"\"}}, \"marker\": {\"colorbar\": {\"outlinewidth\": 0, \"ticks\": \"\"}}, \"type\": \"scatter3d\"}], \"scattercarpet\": [{\"marker\": {\"colorbar\": {\"outlinewidth\": 0, \"ticks\": \"\"}}, \"type\": \"scattercarpet\"}], \"scattergeo\": [{\"marker\": {\"colorbar\": {\"outlinewidth\": 0, \"ticks\": \"\"}}, \"type\": \"scattergeo\"}], \"scattergl\": [{\"marker\": {\"colorbar\": {\"outlinewidth\": 0, \"ticks\": \"\"}}, \"type\": \"scattergl\"}], \"scattermapbox\": [{\"marker\": {\"colorbar\": {\"outlinewidth\": 0, \"ticks\": \"\"}}, \"type\": \"scattermapbox\"}], \"scatterpolar\": [{\"marker\": {\"colorbar\": {\"outlinewidth\": 0, \"ticks\": \"\"}}, \"type\": \"scatterpolar\"}], \"scatterpolargl\": [{\"marker\": {\"colorbar\": {\"outlinewidth\": 0, \"ticks\": \"\"}}, \"type\": \"scatterpolargl\"}], \"scatterternary\": [{\"marker\": {\"colorbar\": {\"outlinewidth\": 0, \"ticks\": \"\"}}, \"type\": \"scatterternary\"}], \"surface\": [{\"colorbar\": {\"outlinewidth\": 0, \"ticks\": \"\"}, \"colorscale\": [[0.0, \"#0d0887\"], [0.1111111111111111, \"#46039f\"], [0.2222222222222222, \"#7201a8\"], [0.3333333333333333, \"#9c179e\"], [0.4444444444444444, \"#bd3786\"], [0.5555555555555556, \"#d8576b\"], [0.6666666666666666, \"#ed7953\"], [0.7777777777777778, \"#fb9f3a\"], [0.8888888888888888, \"#fdca26\"], [1.0, \"#f0f921\"]], \"type\": \"surface\"}], \"table\": [{\"cells\": {\"fill\": {\"color\": \"#EBF0F8\"}, \"line\": {\"color\": \"white\"}}, \"header\": {\"fill\": {\"color\": \"#C8D4E3\"}, \"line\": {\"color\": \"white\"}}, \"type\": \"table\"}]}, \"layout\": {\"annotationdefaults\": {\"arrowcolor\": \"#2a3f5f\", \"arrowhead\": 0, \"arrowwidth\": 1}, \"coloraxis\": {\"colorbar\": {\"outlinewidth\": 0, \"ticks\": \"\"}}, \"colorscale\": {\"diverging\": [[0, \"#8e0152\"], [0.1, \"#c51b7d\"], [0.2, \"#de77ae\"], [0.3, \"#f1b6da\"], [0.4, \"#fde0ef\"], [0.5, \"#f7f7f7\"], [0.6, \"#e6f5d0\"], [0.7, \"#b8e186\"], [0.8, \"#7fbc41\"], [0.9, \"#4d9221\"], [1, \"#276419\"]], \"sequential\": [[0.0, \"#0d0887\"], [0.1111111111111111, \"#46039f\"], [0.2222222222222222, \"#7201a8\"], [0.3333333333333333, \"#9c179e\"], [0.4444444444444444, \"#bd3786\"], [0.5555555555555556, \"#d8576b\"], [0.6666666666666666, \"#ed7953\"], [0.7777777777777778, \"#fb9f3a\"], [0.8888888888888888, \"#fdca26\"], [1.0, \"#f0f921\"]], \"sequentialminus\": [[0.0, \"#0d0887\"], [0.1111111111111111, \"#46039f\"], [0.2222222222222222, \"#7201a8\"], [0.3333333333333333, \"#9c179e\"], [0.4444444444444444, \"#bd3786\"], [0.5555555555555556, \"#d8576b\"], [0.6666666666666666, \"#ed7953\"], [0.7777777777777778, \"#fb9f3a\"], [0.8888888888888888, \"#fdca26\"], [1.0, \"#f0f921\"]]}, \"colorway\": [\"#636efa\", \"#EF553B\", \"#00cc96\", \"#ab63fa\", \"#FFA15A\", \"#19d3f3\", \"#FF6692\", \"#B6E880\", \"#FF97FF\", \"#FECB52\"], \"font\": {\"color\": \"#2a3f5f\"}, \"geo\": {\"bgcolor\": \"white\", \"lakecolor\": \"white\", \"landcolor\": \"#E5ECF6\", \"showlakes\": true, \"showland\": true, \"subunitcolor\": \"white\"}, \"hoverlabel\": {\"align\": \"left\"}, \"hovermode\": \"closest\", \"mapbox\": {\"style\": \"light\"}, \"paper_bgcolor\": \"white\", \"plot_bgcolor\": \"#E5ECF6\", \"polar\": {\"angularaxis\": {\"gridcolor\": \"white\", \"linecolor\": \"white\", \"ticks\": \"\"}, \"bgcolor\": \"#E5ECF6\", \"radialaxis\": {\"gridcolor\": \"white\", \"linecolor\": \"white\", \"ticks\": \"\"}}, \"scene\": {\"xaxis\": {\"backgroundcolor\": \"#E5ECF6\", \"gridcolor\": \"white\", \"gridwidth\": 2, \"linecolor\": \"white\", \"showbackground\": true, \"ticks\": \"\", \"zerolinecolor\": \"white\"}, \"yaxis\": {\"backgroundcolor\": \"#E5ECF6\", \"gridcolor\": \"white\", \"gridwidth\": 2, \"linecolor\": \"white\", \"showbackground\": true, \"ticks\": \"\", \"zerolinecolor\": \"white\"}, \"zaxis\": {\"backgroundcolor\": \"#E5ECF6\", \"gridcolor\": \"white\", \"gridwidth\": 2, \"linecolor\": \"white\", \"showbackground\": true, \"ticks\": \"\", \"zerolinecolor\": \"white\"}}, \"shapedefaults\": {\"line\": {\"color\": \"#2a3f5f\"}}, \"ternary\": {\"aaxis\": {\"gridcolor\": \"white\", \"linecolor\": \"white\", \"ticks\": \"\"}, \"baxis\": {\"gridcolor\": \"white\", \"linecolor\": \"white\", \"ticks\": \"\"}, \"bgcolor\": \"#E5ECF6\", \"caxis\": {\"gridcolor\": \"white\", \"linecolor\": \"white\", \"ticks\": \"\"}}, \"title\": {\"x\": 0.05}, \"xaxis\": {\"automargin\": true, \"gridcolor\": \"white\", \"linecolor\": \"white\", \"ticks\": \"\", \"title\": {\"standoff\": 15}, \"zerolinecolor\": \"white\", \"zerolinewidth\": 2}, \"yaxis\": {\"automargin\": true, \"gridcolor\": \"white\", \"linecolor\": \"white\", \"ticks\": \"\", \"title\": {\"standoff\": 15}, \"zerolinecolor\": \"white\", \"zerolinewidth\": 2}}}, \"title\": {\"text\": \"Cumulative Return of Portfolio of S3 - Renko MACD Backtested 2020-12-13 22:07:15.111751\"}, \"xaxis\": {\"anchor\": \"y\", \"domain\": [0.0, 0.94], \"title\": {\"text\": \"Period\"}}, \"yaxis\": {\"anchor\": \"x\", \"domain\": [0.0, 1.0], \"title\": {\"text\": \"Return\"}}, \"yaxis2\": {\"anchor\": \"x\", \"overlaying\": \"y\", \"side\": \"right\", \"title\": {\"text\": \"Return\"}}},                        {\"responsive\": true}                    ).then(function(){\n",
       "                            \n",
       "var gd = document.getElementById('568e9a94-5d63-4508-9ec7-08ff7bcf56f7');\n",
       "var x = new MutationObserver(function (mutations, observer) {{\n",
       "        var display = window.getComputedStyle(gd).display;\n",
       "        if (!display || display === 'none') {{\n",
       "            console.log([gd, 'removed!']);\n",
       "            Plotly.purge(gd);\n",
       "            observer.disconnect();\n",
       "        }}\n",
       "}});\n",
       "\n",
       "// Listen for the removal of the full notebook cells\n",
       "var notebookContainer = gd.closest('#notebook-container');\n",
       "if (notebookContainer) {{\n",
       "    x.observe(notebookContainer, {childList: true});\n",
       "}}\n",
       "\n",
       "// Listen for the clearing of the current output cell\n",
       "var outputEl = gd.closest('.output');\n",
       "if (outputEl) {{\n",
       "    x.observe(outputEl, {childList: true});\n",
       "}}\n",
       "\n",
       "                        })                };                });            </script>        </div>"
      ]
     },
     "metadata": {},
     "output_type": "display_data"
    }
   ],
   "source": [
    "# create figure\n",
    "fig = make_subplots(specs=[[{\"secondary_y\": True}]])\n",
    "fig.add_trace(go.Scatter(x=strategy.index, y=strategy['cumulative-return'], name='Cumulative Return'))\n",
    "\n",
    "# format figure\n",
    "fig.update_layout(title_text=f'Cumulative Return of Portfolio of S3 - Renko MACD Backtested {dt.datetime.today()}')\n",
    "fig.update_xaxes(title_text='Period')\n",
    "fig.update_yaxes(title_text='Return')"
   ]
  },
  {
   "cell_type": "code",
   "execution_count": null,
   "metadata": {},
   "outputs": [],
   "source": []
  }
 ],
 "metadata": {
  "kernelspec": {
   "display_name": "Python 3",
   "language": "python",
   "name": "python3"
  },
  "language_info": {
   "codemirror_mode": {
    "name": "ipython",
    "version": 3
   },
   "file_extension": ".py",
   "mimetype": "text/x-python",
   "name": "python",
   "nbconvert_exporter": "python",
   "pygments_lexer": "ipython3",
   "version": "3.8.5"
  }
 },
 "nbformat": 4,
 "nbformat_minor": 4
}
